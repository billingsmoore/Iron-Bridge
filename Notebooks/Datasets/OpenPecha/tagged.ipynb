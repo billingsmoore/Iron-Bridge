{
 "cells": [
  {
   "cell_type": "code",
   "execution_count": 1,
   "metadata": {},
   "outputs": [],
   "source": [
    "from datasets import load_dataset\n",
    "\n",
    "ds = load_dataset('openpecha/tagged_cleaned_MT_v1.0.3', split='train')"
   ]
  },
  {
   "cell_type": "code",
   "execution_count": null,
   "metadata": {},
   "outputs": [],
   "source": [
    "ds['Tag'][:13]"
   ]
  },
  {
   "cell_type": "markdown",
   "metadata": {},
   "source": [
    "## add missing tags"
   ]
  },
  {
   "cell_type": "code",
   "execution_count": 3,
   "metadata": {},
   "outputs": [],
   "source": [
    "from transformers import BertTokenizer, BertForSequenceClassification\n",
    "import torch\n",
    "import json\n",
    "\n",
    "# Load the trained model and tokenizer\n",
    "model = BertForSequenceClassification.from_pretrained(\"/home/j/Desktop/MLotsawa/Notebooks/Models/BertTag/en-col-op-bert-classifier/checkpoint-308950\")\n",
    "tokenizer = BertTokenizer.from_pretrained(\"/home/j/Desktop/MLotsawa/Notebooks/Models/BertTag/en-col-op-bert-classifier/checkpoint-308950\")\n",
    "model.to('cuda:0')\n",
    "model.eval()\n",
    "\n",
    "# Load label mapping\n",
    "with open(\"/home/j/Desktop/MLotsawa/Notebooks/Models/BertTag/simple_op_label_mapping.json\", \"r\") as f:\n",
    "    label_mapping = json.load(f)"
   ]
  },
  {
   "cell_type": "code",
   "execution_count": null,
   "metadata": {},
   "outputs": [],
   "source": [
    "# Define the tag generation function\n",
    "def gen_tag(input_text):\n",
    "    # Tokenize input\n",
    "    encoded_inputs = tokenizer(\n",
    "        input_text,\n",
    "        padding=\"max_length\",\n",
    "        truncation=True,\n",
    "        max_length=128,\n",
    "        return_tensors=\"pt\"\n",
    "    )\n",
    "\n",
    "    # Move input tensors to GPU\n",
    "    encoded_inputs = {key: val.to('cuda:0') for key, val in encoded_inputs.items()}\n",
    "\n",
    "\n",
    "    # Get predictions\n",
    "    with torch.no_grad():\n",
    "        outputs = model(**encoded_inputs)\n",
    "        logits = outputs.logits\n",
    "        prediction = torch.argmax(logits, dim=1)\n",
    "\n",
    "    # Decode predictions\n",
    "    predicted_tag = list(label_mapping.keys())[int(prediction)]\n",
    "\n",
    "    return predicted_tag\n",
    "\n",
    "# Use the map function to modify the dataset\n",
    "def update_tag(example):\n",
    "    if example['Tag'] == '':  # Check if the tag is empty\n",
    "        example['Tag'] = gen_tag(example['Target'])\n",
    "    return example\n",
    "\n",
    "# Apply the update_tag function\n",
    "ds = ds.map(update_tag)"
   ]
  },
  {
   "cell_type": "code",
   "execution_count": null,
   "metadata": {},
   "outputs": [],
   "source": [
    "ds['Tag'][:13]"
   ]
  },
  {
   "cell_type": "code",
   "execution_count": null,
   "metadata": {},
   "outputs": [],
   "source": []
  },
  {
   "cell_type": "markdown",
   "metadata": {},
   "source": [
    "## add buddhist bool"
   ]
  },
  {
   "cell_type": "code",
   "execution_count": 17,
   "metadata": {},
   "outputs": [],
   "source": [
    "buddhist_labels = ['Mantras',\n",
    "                    'Dzogchen',\n",
    "                    'Astrology',\n",
    "                    'Monastery',\n",
    "                    'Mahamudra',\n",
    "                    'Mind',\n",
    "                    'Meditation',\n",
    "                    'Self, Logic, Aggregates',\n",
    "                    'Tantra',\n",
    "                    'Emptiness',\n",
    "                    'Dreams',\n",
    "                    'Education, Teaching',\n",
    "                    'Ethics, Enlightenment, Wisdom',\n",
    "                    'Prophecies, Rituals',\n",
    "                    'Lama',\n",
    "                    'Samsara, Nirvana',\n",
    "                    'Milarepa, Realization, Biography',\n",
    "                    'Kayas',\n",
    "                    'Intrinsic Existence, Conventional Existence',\n",
    "                    'Time, Causality, Perception',\n",
    "                    'Natural State',\n",
    "                    'Karma, Consequences',\n",
    "                    'Dharma',\n",
    "                    'Buddhist']"
   ]
  },
  {
   "cell_type": "code",
   "execution_count": null,
   "metadata": {},
   "outputs": [],
   "source": [
    "def bool_tag(example):\n",
    "    buddhist_bool = example['Tag'] in buddhist_labels\n",
    "    topic_tag = example['Tag']\n",
    "    example['Tag'] = {'Buddhist': buddhist_bool, 'Topic': topic_tag}\n",
    "    return example\n",
    "\n",
    "ds = ds.map(bool_tag)\n",
    "        "
   ]
  },
  {
   "cell_type": "code",
   "execution_count": null,
   "metadata": {},
   "outputs": [],
   "source": [
    "ds['Tag'][:13]"
   ]
  },
  {
   "cell_type": "code",
   "execution_count": null,
   "metadata": {},
   "outputs": [],
   "source": [
    "ds.save_to_disk('wip-ds')"
   ]
  },
  {
   "cell_type": "code",
   "execution_count": 1,
   "metadata": {},
   "outputs": [],
   "source": [
    "from datasets import load_from_disk\n",
    "\n",
    "ds = load_from_disk('wip-ds')"
   ]
  },
  {
   "cell_type": "code",
   "execution_count": 2,
   "metadata": {},
   "outputs": [
    {
     "data": {
      "text/plain": [
       "[{'Buddhist': True, 'Topic': 'Prophecies, Rituals'},\n",
       " {'Buddhist': True, 'Topic': 'Prophecies, Rituals'},\n",
       " {'Buddhist': True, 'Topic': 'Prophecies, Rituals'},\n",
       " {'Buddhist': True, 'Topic': 'Prophecies, Rituals'},\n",
       " {'Buddhist': True, 'Topic': 'Prophecies, Rituals'},\n",
       " {'Buddhist': True, 'Topic': 'Prophecies, Rituals'},\n",
       " {'Buddhist': True, 'Topic': 'Emptiness'},\n",
       " {'Buddhist': True, 'Topic': 'Intrinsic Existence, Conventional Existence'},\n",
       " {'Buddhist': True, 'Topic': 'Meditation'},\n",
       " {'Buddhist': True, 'Topic': 'Prophecies, Rituals'},\n",
       " {'Buddhist': True, 'Topic': 'Prophecies, Rituals'},\n",
       " {'Buddhist': False, 'Topic': 'History, Politics, Law'},\n",
       " {'Buddhist': False, 'Topic': 'History, Politics, Law'}]"
      ]
     },
     "execution_count": 2,
     "metadata": {},
     "output_type": "execute_result"
    }
   ],
   "source": [
    "ds['Tag'][:13]"
   ]
  },
  {
   "cell_type": "markdown",
   "metadata": {},
   "source": [
    "# multilabel for buddhist texts"
   ]
  },
  {
   "cell_type": "code",
   "execution_count": 4,
   "metadata": {},
   "outputs": [],
   "source": [
    "from transformers import BertTokenizer, BertForSequenceClassification\n",
    "import torch\n",
    "import json\n",
    "\n",
    "# Load the trained model and tokenizer\n",
    "model = BertForSequenceClassification.from_pretrained(\"/home/j/Desktop/MLotsawa/Notebooks/Models/BertTag/en-lh-bert-classifier/checkpoint-148538\")\n",
    "tokenizer = BertTokenizer.from_pretrained(\"/home/j/Desktop/MLotsawa/Notebooks/Models/BertTag/en-lh-bert-classifier/checkpoint-148538\")\n",
    "device = torch.device(\"cuda\" if torch.cuda.is_available() else \"cpu\")\n",
    "model.to(device)\n",
    "model.eval()\n",
    "\n",
    "# Load label mapping\n",
    "with open(\"/home/j/Desktop/MLotsawa/Notebooks/Models/BertTag/en_lh_label_mapping.json\", \"r\") as f:\n",
    "    label_mapping = json.load(f)\n",
    "\n",
    "def multilab(input_text):\n",
    "    # Tokenize input\n",
    "    encoded_input = tokenizer(\n",
    "        input_text, \n",
    "        padding=\"max_length\", \n",
    "        truncation=True, \n",
    "        max_length=128, \n",
    "        return_tensors=\"pt\"\n",
    "    )\n",
    "    encoded_input = {key: val.to(device) for key, val in encoded_input.items()}\n",
    "\n",
    "    # Get predictions\n",
    "    with torch.no_grad():\n",
    "        outputs = model(**encoded_input)\n",
    "        logits = outputs.logits\n",
    "        probabilities = torch.sigmoid(logits).cpu().numpy()\n",
    "        predictions = (probabilities > 0.5).astype(int)\n",
    "\n",
    "    # Decode predictions\n",
    "    predicted_tags = [label_mapping[i] for i, val in enumerate(predictions[0]) if val == 1]\n",
    "    return predicted_tags"
   ]
  },
  {
   "cell_type": "code",
   "execution_count": 5,
   "metadata": {},
   "outputs": [
    {
     "data": {
      "application/vnd.jupyter.widget-view+json": {
       "model_id": "59996f873eea4d7290626618c012334d",
       "version_major": 2,
       "version_minor": 0
      },
      "text/plain": [
       "Map:   0%|          | 0/1429192 [00:00<?, ? examples/s]"
      ]
     },
     "metadata": {},
     "output_type": "display_data"
    }
   ],
   "source": [
    "def multilab_example(example):\n",
    "    if example['Tag']['Buddhist']:\n",
    "        example['Tag']['LH labels'] = multilab(example['Target'])\n",
    "    return example\n",
    "\n",
    "ds = ds.map(multilab_example)"
   ]
  },
  {
   "cell_type": "code",
   "execution_count": 6,
   "metadata": {},
   "outputs": [
    {
     "data": {
      "text/plain": [
       "[{'Buddhist': True,\n",
       "  'LH labels': ['Akṣobhya', 'Longsal Dorje Nyingpo'],\n",
       "  'Topic': 'Prophecies, Rituals'},\n",
       " {'Buddhist': True,\n",
       "  'LH labels': ['Aspiration Prayers', 'Dzogchen'],\n",
       "  'Topic': 'Prophecies, Rituals'},\n",
       " {'Buddhist': True,\n",
       "  'LH labels': ['Tibetan Masters'],\n",
       "  'Topic': 'Prophecies, Rituals'},\n",
       " {'Buddhist': True,\n",
       "  'LH labels': ['Tibetan Masters'],\n",
       "  'Topic': 'Prophecies, Rituals'},\n",
       " {'Buddhist': True, 'LH labels': [], 'Topic': 'Prophecies, Rituals'},\n",
       " {'Buddhist': True,\n",
       "  'LH labels': ['Advice', 'Songs and Poems', 'Tsok'],\n",
       "  'Topic': 'Prophecies, Rituals'},\n",
       " {'Buddhist': True, 'LH labels': ['Longchen Nyingtik'], 'Topic': 'Emptiness'},\n",
       " {'Buddhist': True,\n",
       "  'LH labels': ['Dzogchen'],\n",
       "  'Topic': 'Intrinsic Existence, Conventional Existence'},\n",
       " {'Buddhist': True, 'LH labels': [], 'Topic': 'Meditation'},\n",
       " {'Buddhist': True,\n",
       "  'LH labels': ['Aspiration Prayers', 'Tibetan Masters'],\n",
       "  'Topic': 'Prophecies, Rituals'},\n",
       " {'Buddhist': True, 'LH labels': ['Praise'], 'Topic': 'Prophecies, Rituals'},\n",
       " {'Buddhist': False, 'LH labels': None, 'Topic': 'History, Politics, Law'},\n",
       " {'Buddhist': False, 'LH labels': None, 'Topic': 'History, Politics, Law'}]"
      ]
     },
     "execution_count": 6,
     "metadata": {},
     "output_type": "execute_result"
    }
   ],
   "source": [
    "ds['Tag'][:13]"
   ]
  },
  {
   "cell_type": "code",
   "execution_count": 8,
   "metadata": {},
   "outputs": [
    {
     "name": "stderr",
     "output_type": "stream",
     "text": [
      "Using the latest cached version of the dataset since openpecha/tagged_cleaned_MT_v1.0.3 couldn't be found on the Hugging Face Hub\n",
      "Found the latest cached dataset configuration 'default' at /home/j/.cache/huggingface/datasets/openpecha___tagged_cleaned_mt_v1.0.3/default/0.0.0/fac96d7b2c2af320e7e569f1b06f3ffeb0155a2c (last modified on Thu Jan 16 16:51:52 2025).\n"
     ]
    }
   ],
   "source": [
    "from datasets import DatasetDict, load_dataset\n",
    "\n",
    "ds_train = ds\n",
    "ds_test = load_dataset('openpecha/tagged_cleaned_MT_v1.0.3', split='test')\n",
    "ds = DatasetDict()"
   ]
  },
  {
   "cell_type": "code",
   "execution_count": 9,
   "metadata": {},
   "outputs": [
    {
     "data": {
      "text/plain": [
       "{'Source': 'ཐུབ་པས་རྟག་ཏུ་དེ་བཞིན་སྤྱད།།',\n",
       " 'Target': 'The aspirant should move in such a way at all times.',\n",
       " 'File_Name': 'TM2382',\n",
       " 'Machine Aligned': True,\n",
       " '__index_level_0__': 0,\n",
       " 'Tag': {'Buddhist': True,\n",
       "  'LH labels': ['Akṣobhya', 'Longsal Dorje Nyingpo'],\n",
       "  'Topic': 'Prophecies, Rituals'}}"
      ]
     },
     "execution_count": 9,
     "metadata": {},
     "output_type": "execute_result"
    }
   ],
   "source": [
    "ds['train'] = ds_train\n",
    "ds['test'] = ds_test\n",
    "\n",
    "ds['train'][0]"
   ]
  },
  {
   "cell_type": "code",
   "execution_count": 12,
   "metadata": {},
   "outputs": [
    {
     "data": {
      "text/plain": [
       "{'Source': 'ཚད་མེད་བཏང་སྙོམས་གསུམ་ལས།',\n",
       " 'Target': '3. Immeasureable equanimity ',\n",
       " 'File_Name': 'TM2203',\n",
       " 'Machine Aligned': True,\n",
       " '__index_level_0__': 0,\n",
       " 'Tag': ''}"
      ]
     },
     "execution_count": 12,
     "metadata": {},
     "output_type": "execute_result"
    }
   ],
   "source": [
    "ds['test'][0]"
   ]
  },
  {
   "cell_type": "code",
   "execution_count": 15,
   "metadata": {},
   "outputs": [
    {
     "data": {
      "application/vnd.jupyter.widget-view+json": {
       "model_id": "387dbd31a2754a4e8d28136f676d621a",
       "version_major": 2,
       "version_minor": 0
      },
      "text/plain": [
       "Map:   0%|          | 0/9066 [00:00<?, ? examples/s]"
      ]
     },
     "metadata": {},
     "output_type": "display_data"
    }
   ],
   "source": [
    "def no_tag(example):\n",
    "    example['Tag'] = ''\n",
    "    return example\n",
    "\n",
    "ds['test'] = ds['test'].map(no_tag)"
   ]
  },
  {
   "cell_type": "code",
   "execution_count": 16,
   "metadata": {},
   "outputs": [
    {
     "data": {
      "application/vnd.jupyter.widget-view+json": {
       "model_id": "bbd4d253d45b486ea98f4d8f0e61684a",
       "version_major": 2,
       "version_minor": 0
      },
      "text/plain": [
       "Saving the dataset (0/3 shards):   0%|          | 0/1429192 [00:00<?, ? examples/s]"
      ]
     },
     "metadata": {},
     "output_type": "display_data"
    },
    {
     "data": {
      "application/vnd.jupyter.widget-view+json": {
       "model_id": "301d0c63d4684062877485a0ed67ba38",
       "version_major": 2,
       "version_minor": 0
      },
      "text/plain": [
       "Saving the dataset (0/1 shards):   0%|          | 0/9066 [00:00<?, ? examples/s]"
      ]
     },
     "metadata": {},
     "output_type": "display_data"
    }
   ],
   "source": [
    "ds.save_to_disk('wip-ds')"
   ]
  },
  {
   "cell_type": "markdown",
   "metadata": {},
   "source": [
    "## tag test data"
   ]
  },
  {
   "cell_type": "code",
   "execution_count": 18,
   "metadata": {},
   "outputs": [],
   "source": [
    "from transformers import BertTokenizer, BertForSequenceClassification\n",
    "import torch\n",
    "import json\n",
    "\n",
    "# Load the trained model and tokenizer\n",
    "topic_model = BertForSequenceClassification.from_pretrained(\"/home/j/Desktop/MLotsawa/Notebooks/Models/BertTag/en-col-op-bert-classifier/checkpoint-308950\")\n",
    "topic_tokenizer = BertTokenizer.from_pretrained(\"/home/j/Desktop/MLotsawa/Notebooks/Models/BertTag/en-col-op-bert-classifier/checkpoint-308950\")\n",
    "topic_model.to('cuda:0')\n",
    "topic_model.eval()\n",
    "\n",
    "# Load label mapping\n",
    "with open(\"/home/j/Desktop/MLotsawa/Notebooks/Models/BertTag/simple_op_label_mapping.json\", \"r\") as f:\n",
    "    topic_label_mapping = json.load(f)\n",
    "\n",
    "# Define the tag generation function\n",
    "def gen_tag(input_text):\n",
    "    # Tokenize input\n",
    "    encoded_inputs = topic_tokenizer(\n",
    "        input_text,\n",
    "        padding=\"max_length\",\n",
    "        truncation=True,\n",
    "        max_length=128,\n",
    "        return_tensors=\"pt\"\n",
    "    )\n",
    "\n",
    "    # Move input tensors to GPU\n",
    "    encoded_inputs = {key: val.to('cuda:0') for key, val in encoded_inputs.items()}\n",
    "\n",
    "\n",
    "    # Get predictions\n",
    "    with torch.no_grad():\n",
    "        outputs = topic_model(**encoded_inputs)\n",
    "        logits = outputs.logits\n",
    "        prediction = torch.argmax(logits, dim=1)\n",
    "\n",
    "    # Decode predictions\n",
    "    predicted_tag = list(topic_label_mapping.keys())[int(prediction)]\n",
    "\n",
    "    return predicted_tag"
   ]
  },
  {
   "cell_type": "code",
   "execution_count": 19,
   "metadata": {},
   "outputs": [],
   "source": [
    "# Load the trained model and tokenizer\n",
    "lh_model = BertForSequenceClassification.from_pretrained(\"/home/j/Desktop/MLotsawa/Notebooks/Models/BertTag/en-lh-bert-classifier/checkpoint-148538\")\n",
    "lh_tokenizer = BertTokenizer.from_pretrained(\"/home/j/Desktop/MLotsawa/Notebooks/Models/BertTag/en-lh-bert-classifier/checkpoint-148538\")\n",
    "device = torch.device(\"cuda\" if torch.cuda.is_available() else \"cpu\")\n",
    "lh_model.to(device)\n",
    "lh_model.eval()\n",
    "\n",
    "# Load label mapping\n",
    "with open(\"/home/j/Desktop/MLotsawa/Notebooks/Models/BertTag/en_lh_label_mapping.json\", \"r\") as f:\n",
    "    lh_label_mapping = json.load(f)\n",
    "\n",
    "def multilab(input_text):\n",
    "    # Tokenize input\n",
    "    encoded_input = lh_tokenizer(\n",
    "        input_text, \n",
    "        padding=\"max_length\", \n",
    "        truncation=True, \n",
    "        max_length=128, \n",
    "        return_tensors=\"pt\"\n",
    "    )\n",
    "    encoded_input = {key: val.to(device) for key, val in encoded_input.items()}\n",
    "\n",
    "    # Get predictions\n",
    "    with torch.no_grad():\n",
    "        outputs = lh_model(**encoded_input)\n",
    "        logits = outputs.logits\n",
    "        probabilities = torch.sigmoid(logits).cpu().numpy()\n",
    "        predictions = (probabilities > 0.5).astype(int)\n",
    "\n",
    "    # Decode predictions\n",
    "    predicted_tags = [label_mapping[i] for i, val in enumerate(predictions[0]) if val == 1]\n",
    "    return predicted_tags"
   ]
  },
  {
   "cell_type": "code",
   "execution_count": 20,
   "metadata": {},
   "outputs": [],
   "source": [
    "def full_tag(example):\n",
    "    \n",
    "    # domain tag\n",
    "    if example['Tag'] == '':  # Check if the tag is empty\n",
    "        example['Tag'] = gen_tag(example['Target'])\n",
    "    \n",
    "    # bool tag\n",
    "    buddhist_bool = example['Tag'] in buddhist_labels\n",
    "    topic_tag = example['Tag']\n",
    "    example['Tag'] = {'Buddhist': buddhist_bool, 'Topic': topic_tag}\n",
    "\n",
    "    # multilab tag\n",
    "    if example['Tag']['Buddhist']:\n",
    "        example['Tag']['LH labels'] = multilab(example['Target'])\n",
    "\n",
    "    return example"
   ]
  },
  {
   "cell_type": "code",
   "execution_count": 21,
   "metadata": {},
   "outputs": [
    {
     "data": {
      "application/vnd.jupyter.widget-view+json": {
       "model_id": "d6d9bbd018d84ec48d387e89ae7f7b96",
       "version_major": 2,
       "version_minor": 0
      },
      "text/plain": [
       "Map:   0%|          | 0/9066 [00:00<?, ? examples/s]"
      ]
     },
     "metadata": {},
     "output_type": "display_data"
    }
   ],
   "source": [
    "ds['test'] = ds['test'].map(full_tag)"
   ]
  },
  {
   "cell_type": "code",
   "execution_count": 22,
   "metadata": {},
   "outputs": [
    {
     "data": {
      "application/vnd.jupyter.widget-view+json": {
       "model_id": "cd85a72f05114ceea16fd383f484ec15",
       "version_major": 2,
       "version_minor": 0
      },
      "text/plain": [
       "Uploading the dataset shards:   0%|          | 0/3 [00:00<?, ?it/s]"
      ]
     },
     "metadata": {},
     "output_type": "display_data"
    },
    {
     "data": {
      "application/vnd.jupyter.widget-view+json": {
       "model_id": "ff42fd2d5e504619acb84ba560a247ef",
       "version_major": 2,
       "version_minor": 0
      },
      "text/plain": [
       "Creating parquet from Arrow format:   0%|          | 0/477 [00:00<?, ?ba/s]"
      ]
     },
     "metadata": {},
     "output_type": "display_data"
    },
    {
     "data": {
      "application/vnd.jupyter.widget-view+json": {
       "model_id": "839bf5070cc64e6586550f7f798841e7",
       "version_major": 2,
       "version_minor": 0
      },
      "text/plain": [
       "Creating parquet from Arrow format:   0%|          | 0/477 [00:00<?, ?ba/s]"
      ]
     },
     "metadata": {},
     "output_type": "display_data"
    },
    {
     "data": {
      "application/vnd.jupyter.widget-view+json": {
       "model_id": "17dc30e9c57c450eb2ba6ae704bf0797",
       "version_major": 2,
       "version_minor": 0
      },
      "text/plain": [
       "Creating parquet from Arrow format:   0%|          | 0/477 [00:00<?, ?ba/s]"
      ]
     },
     "metadata": {},
     "output_type": "display_data"
    },
    {
     "data": {
      "application/vnd.jupyter.widget-view+json": {
       "model_id": "2aae8bd42ede4dce9dad247cec10f010",
       "version_major": 2,
       "version_minor": 0
      },
      "text/plain": [
       "Uploading the dataset shards:   0%|          | 0/1 [00:00<?, ?it/s]"
      ]
     },
     "metadata": {},
     "output_type": "display_data"
    },
    {
     "data": {
      "application/vnd.jupyter.widget-view+json": {
       "model_id": "5af5d3890e194b3ca7d6e5a803b0add7",
       "version_major": 2,
       "version_minor": 0
      },
      "text/plain": [
       "Creating parquet from Arrow format:   0%|          | 0/10 [00:00<?, ?ba/s]"
      ]
     },
     "metadata": {},
     "output_type": "display_data"
    },
    {
     "data": {
      "text/plain": [
       "CommitInfo(commit_url='https://huggingface.co/datasets/openpecha/tagged_cleaned_MT_v1.0.3/commit/f2a2e6444786ae3d5bee169d67dcb32100ea7cf7', commit_message='Upload dataset', commit_description='', oid='f2a2e6444786ae3d5bee169d67dcb32100ea7cf7', pr_url=None, repo_url=RepoUrl('https://huggingface.co/datasets/openpecha/tagged_cleaned_MT_v1.0.3', endpoint='https://huggingface.co', repo_type='dataset', repo_id='openpecha/tagged_cleaned_MT_v1.0.3'), pr_revision=None, pr_num=None)"
      ]
     },
     "execution_count": 22,
     "metadata": {},
     "output_type": "execute_result"
    }
   ],
   "source": [
    "ds.push_to_hub('openpecha/tagged_cleaned_MT_v1.0.3')"
   ]
  }
 ],
 "metadata": {
  "kernelspec": {
   "display_name": ".venv",
   "language": "python",
   "name": "python3"
  },
  "language_info": {
   "codemirror_mode": {
    "name": "ipython",
    "version": 3
   },
   "file_extension": ".py",
   "mimetype": "text/x-python",
   "name": "python",
   "nbconvert_exporter": "python",
   "pygments_lexer": "ipython3",
   "version": "3.12.3"
  }
 },
 "nbformat": 4,
 "nbformat_minor": 2
}
