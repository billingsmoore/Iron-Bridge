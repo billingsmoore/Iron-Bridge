{
 "cells": [
  {
   "cell_type": "code",
   "execution_count": 1,
   "metadata": {},
   "outputs": [
    {
     "name": "stdout",
     "output_type": "stream",
     "text": [
      "                          source                     target\n",
      "0                        མཉེན་ཆས               Run Software\n",
      "1  ཞབས་ཞུ་བ་དང་སྦྲེལ་མཐུད་བྱེད་པ          Connect to Server\n",
      "2                      ཡིག་ཆ(_F)                      Files\n",
      "3                 ཡིག་ཆ་འདྲི་ཞིབ  Access and organize files\n",
      "4           ཉར་ཡོད་པའི་འཚོལ་བཤེར               Saved search\n"
     ]
    }
   ],
   "source": [
    "import pandas as pd\n",
    "\n",
    "# Paths to the source and target files\n",
    "source_file_path = 'bo-en.txt/GNOME.bo-en.bo'\n",
    "target_file_path = 'bo-en.txt/GNOME.bo-en.en'\n",
    "\n",
    "# Read the files into lists\n",
    "with open(source_file_path, 'r', encoding='utf-8') as src_file:\n",
    "    source_sentences = src_file.readlines()\n",
    "\n",
    "with open(target_file_path, 'r', encoding='utf-8') as tgt_file:\n",
    "    target_sentences = tgt_file.readlines()\n",
    "\n",
    "# Strip any leading/trailing whitespace characters (like newlines)\n",
    "source_sentences = [sentence.strip() for sentence in source_sentences]\n",
    "target_sentences = [sentence.strip() for sentence in target_sentences]\n",
    "\n",
    "# Create a DataFrame\n",
    "df = pd.DataFrame({\n",
    "    'source': source_sentences,\n",
    "    'target': target_sentences\n",
    "})\n",
    "\n",
    "# Display the first few rows of the DataFrame\n",
    "print(df.head())"
   ]
  },
  {
   "cell_type": "code",
   "execution_count": 2,
   "metadata": {},
   "outputs": [
    {
     "data": {
      "text/plain": [
       "{'source': 'མཉེན་ཆས', 'target': 'Run Software'}"
      ]
     },
     "execution_count": 2,
     "metadata": {},
     "output_type": "execute_result"
    }
   ],
   "source": [
    "from datasets import Dataset\n",
    "\n",
    "ds = Dataset.from_pandas(df)\n",
    "ds[0]"
   ]
  },
  {
   "cell_type": "code",
   "execution_count": 4,
   "metadata": {},
   "outputs": [
    {
     "data": {
      "application/vnd.jupyter.widget-view+json": {
       "model_id": "6911a0682066426c8a0755285be8a3d8",
       "version_major": 2,
       "version_minor": 0
      },
      "text/plain": [
       "Uploading the dataset shards:   0%|          | 0/1 [00:00<?, ?it/s]"
      ]
     },
     "metadata": {},
     "output_type": "display_data"
    },
    {
     "data": {
      "application/vnd.jupyter.widget-view+json": {
       "model_id": "0c1cd8fe22c143f0aa4377a67f43d66f",
       "version_major": 2,
       "version_minor": 0
      },
      "text/plain": [
       "Creating parquet from Arrow format:   0%|          | 0/6 [00:00<?, ?ba/s]"
      ]
     },
     "metadata": {},
     "output_type": "display_data"
    },
    {
     "data": {
      "text/plain": [
       "CommitInfo(commit_url='https://huggingface.co/datasets/billingsmoore/GNOME-bo-en/commit/beab674910b2cbfe6ac37f5ee43fa0de40c51426', commit_message='Upload dataset', commit_description='', oid='beab674910b2cbfe6ac37f5ee43fa0de40c51426', pr_url=None, pr_revision=None, pr_num=None)"
      ]
     },
     "execution_count": 4,
     "metadata": {},
     "output_type": "execute_result"
    }
   ],
   "source": [
    "ds.push_to_hub('billingsmoore/GNOME-bo-en')"
   ]
  }
 ],
 "metadata": {
  "kernelspec": {
   "display_name": ".venv",
   "language": "python",
   "name": "python3"
  },
  "language_info": {
   "codemirror_mode": {
    "name": "ipython",
    "version": 3
   },
   "file_extension": ".py",
   "mimetype": "text/x-python",
   "name": "python",
   "nbconvert_exporter": "python",
   "pygments_lexer": "ipython3",
   "version": "3.12.3"
  }
 },
 "nbformat": 4,
 "nbformat_minor": 2
}
