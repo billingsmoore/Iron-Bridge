{
 "cells": [
  {
   "cell_type": "code",
   "execution_count": 1,
   "metadata": {},
   "outputs": [
    {
     "data": {
      "application/vnd.jupyter.widget-view+json": {
       "model_id": "9026ba327b3f44f2985f4d591bc180e6",
       "version_major": 2,
       "version_minor": 0
      },
      "text/plain": [
       "bo_noisy_0000.jsonl.gz:   0%|          | 0.00/42.7M [00:00<?, ?B/s]"
      ]
     },
     "metadata": {},
     "output_type": "display_data"
    },
    {
     "data": {
      "application/vnd.jupyter.widget-view+json": {
       "model_id": "5c8111f76bb44d69b2247b7ef298e031",
       "version_major": 2,
       "version_minor": 0
      },
      "text/plain": [
       "Generating clean split: 0 examples [00:00, ? examples/s]"
      ]
     },
     "metadata": {},
     "output_type": "display_data"
    },
    {
     "data": {
      "application/vnd.jupyter.widget-view+json": {
       "model_id": "38e81e6cf34f448a9d83b96c303697a2",
       "version_major": 2,
       "version_minor": 0
      },
      "text/plain": [
       "Generating noisy split: 0 examples [00:00, ? examples/s]"
      ]
     },
     "metadata": {},
     "output_type": "display_data"
    }
   ],
   "source": [
    "from datasets import load_dataset\n",
    "\n",
    "ds = load_dataset(\"allenai/madlad-400\", languages=[\"bo\"], split=\"clean\")"
   ]
  },
  {
   "cell_type": "code",
   "execution_count": 3,
   "metadata": {},
   "outputs": [
    {
     "data": {
      "text/plain": [
       "'བཀོད་པ 11 – Genesis 11 – The Life of Yeshu\\\\nOctober 28, 2021 October 25, 2021 Bro Brian.\\\\n11:1 དེའི་སྐབས་སུ་ས་གཞི་ཚང་མར་སྐད་གཅིག་རང་ཡོད་པས། མི་རྣམས་ཀྱི་སྐད་དེ་རང་བཤད་པར་བྱེད་དོ།\\\\n11:2 དེ་རྣམས་ཤར་ཕྱོགས་སུ་སོང་བ་ལས། བྷེེ་བྷི་ལོ་ནི་ཡ་ཞེས་པའི་ཡུལ་གྱི་ཐང་ཆེན་པོ་ཞིག་ཏུ་བསླེབས་པ་དང་། ཁོང་ཚོ་ས་གནས་དེར་བསྡད་དོ།\\\\n11:3 ཁོང་ཚོས་གཅིག་གིས་གཅིག་ལ་སྨྲས་པ། ད་ང་ཚོས་ས་སྦག་བཟོས་ནས་མེ་ལ་སྲེག་ཏེ་མཁྲེགས་པོ་བཟོས་དགོས། དེ་ནས་དེ་ཚོས་ཁང་པ་བཟོས་ཕྱིར་ས་སྦག་དང་དེ་ལ་བཟུང་ཕྱིར་བྲག་ཞུན་བེད་སྤྱོད་བྱེད་དོ།\\\\n11:4 ཁོང་ཚོས། ད་གྲོང་ཁྱེར་ཞིག་དང་དེའི་ནང་མཁར་མཐོ་པོ་ནམ་མཁའ་ལ་ཐུག་པ་ཞིག་བཟོ་དགོས། དེ་ལྟར་བཟོས་ན་ང་ཚོའི་མིང་སྐད་གྲགས་བྱུང་སྟེ་འཛམ་གླིང་ནང་ང་ཚོ་འཐོར་བར་མི་འགྱུར་ཞེས་སྨྲས་སོ།\\\\n11:6 གཙོ་བོ་དཀོན་མཆོག་གིས་གསུངས་པ། ད་མི་བརྒྱུད་ཐམས་ཅད་གཅིག་ཡིན་པས་སྐད་ཡང་གཅིག་ཡོད་པ་དང་། དེ་ཚོས་གང་འདྲ་བྱེད་ཡོང་ངམ། ཐོག་མར་ཁོ་ཚོས་རང་འདོད་བཞིན་ལས་ཀ་འདྲ་མི་འདྲ་བྱས་ཐུབ་པར་འགྱུར།\\\\n11:8 དེ་ལྟར་གཙོ་བོ་དཀོན་མཆོག་གིས་ས་གཞི་ཀུན་ལ་ཁོང་ཚོ་ཐམས་ཅད་ཐོར་བར་མཛད་པས། དེ་ཚོས་གྲོང་ཁྱེར་དེ་བརྩིགས་རྒྱུ་མཚམས་བཞག་གོ\\\\n11:9 གྲོང་ཁྱེར་དེའི་མིང་བྷ་བེལ་ཞེས་བཏགས་སོ། དེ་གང་ལ་ཞེ་ན། དེར་གཙོ་བོ་དཀོན་མཆོག་གིས་དེ་དག་གི་སྐད་གཅིག་དེ་འཛོལ་བར་གནང་བས་། དེ་ནས་འཛམ་གླིང་ཐམས་ཅད་ཀྱི་ནང་དེ་ཚོ་ཚང་མ་འཐོར་བར་མཛད་པ་ཡིན་ནོ༎\\\\nTherefore its name was called Babel, because there the Lord confused[a] the language of all the earth. And from there the Lord dispersed them over the face of all the earth.\\\\n11:10 ཤེམ་གྱི་རིགས་བརྒྱུད་ནི་དེ་ལྟར་ཡིན། ཆུ་ལོག་ཡོང་བའི་ལོ་གཉིས་ཀྱི་རྗེས་སུ་ཤེམ་ལོ་ ༡༠༠ ལོན་དུས་བུ་ཨར་པག་ཤད་བྱུང་ངོ།\\\\n11:11 དེ་རྗེས་ཁོང་ད་དུང་ལོ་ ༥༠༠ བཞུགས་པ་དང་། ཕྲུ་གུ་གཞན་ཡང་བྱུང་ངོ་།\\\\n11:13 དེ་རྗེས་ཁོང་ད་དུང་ལོ་ ༤༠༣ བཞུགས་པ་དང་། ཕྲུ་གུ་གཞན་ཡང་བྱུང་ངོ་།\\\\nAnd Arpachshad lived after he fathered Shelah 403 years and had other sons and daughters.\\\\n11:15 དེ་རྗེས་ཁོང་ད་དུང་ལོ་ ༤༠༣ བཞུགས་པ་དང་། ཕྲུ་གུ་གཞན་ཡང་བྱུང་ངོ་།\\\\nAnd Shelah lived after he fathered Eber 403 years and had other sons and daughters.\\\\nWhen Eber had lived 34 years, he fathered Peleg.\\\\n11:17 དེ་རྗེས་ཁོང་ད་དུང་ལོ་ ༤༣༠ བཞུགས་པ་དང་ཕྲུ་གུ་གཞན་ཡང་བྱུང་ངོ་།\\\\n11:19 དེ་རྗེས་ཁོང་ད་དུང་ལོ་ ༢༠༩ བཞུགས་པ་དང་། ཕྲུ་གུ་གཞན་ཡང་བྱུང་ངོ་།\\\\nAnd Peleg lived after he fathered Reu 209 years and had other sons and daughters.\\\\n11:21 དེ་རྗེས་ཁོང་ད་དུང་ལོ་ ༢༠༧ བཞུགས་པ་དང་། ཕྲུ་གུ་གཞན་ཡང་བྱུང་ངོ་།\\\\nAnd Reu lived after he fathered Serug 207 years and had other sons and daughters.\\\\nWhen Serug had lived 30 years, he fathered Nahor.\\\\n11:23 དེ་རྗེས་ཁོང་ད་དུང་ལོ་ ༢༠༠ བཞུགས་པ་དང་། ཕྲུ་གུ་གཞན་ཡང་བྱུང་ངོ་།\\\\nAnd Serug lived after he fathered Nahor 200 years and had other sons and daughters.\\\\n11:25 དེ་རྗེས་ཁོང་ད་དུང་ལོ་ ༡༡༩ བཞུགས་པ་དང་། ཕྲུ་གུ་གཞན་ཡང་བྱུང་ངོ་།\\\\n11:27 ཨབ་རམ་དང་ན་ཧོར་དང་ཧ་རན་གྱི་ཕ་ཏེ་རཱའི་རིགས་བརྒྱུད་ནི་འདི་ལྟར་ཡིན། ཧ་རན་ལོད་ཀྱི་ཕ་རུ་འགྱུར་རོ།\\\\n11:29 ཨབ་རམ་གྱིས་ས་ར་ཡི་མཉམ་དུ་ཆང་ས་བརྒྱབ་བོ། ན་ཧོར་གྱི་ཧ་རན་གྱི་བུ་མོ་མིལ་ཀཱ་དང་ཆང་ས་རྒྱབ་བོ། ཧ་རན་ནི་ཡིསི་ཀཱའི་ཕ་ཡིན་ནོ།\\\\n11:31 ཏེ་རཱས་རང་གི་བུ་ཨབ་རམ་དང་མནའ་མ་ས་ར་ཡི་དང་རང་གི་ཚ་བོ་ལོད་ (ཧ་རན་གྱི་བུ) དང་མཉམ་དུ་འཁྲིད་ནས། ཡུལ་ཀ་ནན་ཕྱོགས་སུ་འགྲོ་བའི་ཕྱིར་བྷེ་བྷི་ལོ་ནི་ཡའི་ཨུར་གྲོང་ཁྱེར་ནས་ཐོན་ཏེ། དེ་ཚོ་ཧ་རན་དུ་སོང་ནས་དེར་གནས་སོ།\\\\n11:32 ཏེ་རཱ་ལོ་ ༢༠༥ ལོན་ཏེ་ས་གནས་དེར་གྲོངས་སོ༎\\\\nBible Study – Exodus 12:1-13'"
      ]
     },
     "execution_count": 3,
     "metadata": {},
     "output_type": "execute_result"
    }
   ],
   "source": [
    "ds['text'][0]"
   ]
  }
 ],
 "metadata": {
  "kernelspec": {
   "display_name": ".venv",
   "language": "python",
   "name": "python3"
  },
  "language_info": {
   "codemirror_mode": {
    "name": "ipython",
    "version": 3
   },
   "file_extension": ".py",
   "mimetype": "text/x-python",
   "name": "python",
   "nbconvert_exporter": "python",
   "pygments_lexer": "ipython3",
   "version": "3.12.3"
  }
 },
 "nbformat": 4,
 "nbformat_minor": 2
}
