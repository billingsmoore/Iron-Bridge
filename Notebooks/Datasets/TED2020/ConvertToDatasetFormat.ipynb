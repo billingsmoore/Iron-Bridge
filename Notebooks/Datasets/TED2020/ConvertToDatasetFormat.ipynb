{
 "cells": [
  {
   "cell_type": "code",
   "execution_count": 2,
   "metadata": {},
   "outputs": [
    {
     "name": "stdout",
     "output_type": "stream",
     "text": [
      "                                              source  \\\n",
      "0  ངའི་བསམ་བློ་ཆེན་པོ་འདི་ནི། བསམ་བློ་ཧ་ཅང་ཆུང་ཆུ...   \n",
      "1  དེ་ལྟར་བྱེད་ཐུབ་པའི་ངའི་བསམ་བློ་ཆུང་ཆུང་དེ་ནི་...   \n",
      "2  (དགོད་སྒྲ།) (ཐལ་མོ་རྡེབ་སྒྲ།) ཁང་མིག་འདི་འི་ནང...   \n",
      "3  ཁང་མིག་འདིའི་ནང་ གཉིད་ཀྱིས་མ་འདང་བའི་བུད་མེད་ཀ...   \n",
      "4  ངས་ཐབས་ལམ་ཁག་པོ་ཞིག་ལ་བསྟེན་ནས་ གཉིད་ཀྱི་རིན་ཐ...   \n",
      "\n",
      "                                              target  \n",
      "0  My big idea is a very, very small idea that ca...  \n",
      "1     And my little idea that will do that is sleep.  \n",
      "2  (Laughter) (Applause) This is a room of type A...  \n",
      "3            This is a room of sleep-deprived women.  \n",
      "4     And I learned the hard way the value of sleep.  \n"
     ]
    }
   ],
   "source": [
    "import pandas as pd\n",
    "\n",
    "# Paths to the source and target files\n",
    "source_file_path = 'bo-en.txt/TED2020.bo-en.bo'\n",
    "target_file_path = 'bo-en.txt/TED2020.bo-en.en'\n",
    "\n",
    "# Read the files into lists\n",
    "with open(source_file_path, 'r', encoding='utf-8') as src_file:\n",
    "    source_sentences = src_file.readlines()\n",
    "\n",
    "with open(target_file_path, 'r', encoding='utf-8') as tgt_file:\n",
    "    target_sentences = tgt_file.readlines()\n",
    "\n",
    "# Strip any leading/trailing whitespace characters (like newlines)\n",
    "source_sentences = [sentence.strip() for sentence in source_sentences]\n",
    "target_sentences = [sentence.strip() for sentence in target_sentences]\n",
    "\n",
    "# Create a DataFrame\n",
    "df = pd.DataFrame({\n",
    "    'source': source_sentences,\n",
    "    'target': target_sentences\n",
    "})\n",
    "\n",
    "# Display the first few rows of the DataFrame\n",
    "print(df.head())"
   ]
  },
  {
   "cell_type": "code",
   "execution_count": 3,
   "metadata": {},
   "outputs": [
    {
     "data": {
      "text/plain": [
       "{'source': 'ངའི་བསམ་བློ་ཆེན་པོ་འདི་ནི། བསམ་བློ་ཧ་ཅང་ཆུང་ཆུང་ཞིག་ཡིན། བསམ་བློ་ཆུང་ཆུང་འདིས་ བསམ་བློ་ཆེན་པོ་ཐེར་འབུམ་མང་པོའི་སྒོ་འབྱེད་ཐུབ། བསམ་བློ་ཆེན་པོ་དེ་དག་ནི་ད་ལྟ་ང་ཚོའི་སེམས་སུ་བག་ལ་ཉལ་ནས་ཡོད།',\n",
       " 'target': 'My big idea is a very, very small idea that can unlock billions of big ideas that are at the moment dormant inside us.'}"
      ]
     },
     "execution_count": 3,
     "metadata": {},
     "output_type": "execute_result"
    }
   ],
   "source": [
    "from datasets import Dataset\n",
    "\n",
    "ds = Dataset.from_pandas(df)\n",
    "ds[0]"
   ]
  },
  {
   "cell_type": "code",
   "execution_count": 4,
   "metadata": {},
   "outputs": [
    {
     "data": {
      "application/vnd.jupyter.widget-view+json": {
       "model_id": "60d9aeb988644477ab3f8cc43ef24e23",
       "version_major": 2,
       "version_minor": 0
      },
      "text/plain": [
       "Uploading the dataset shards:   0%|          | 0/1 [00:00<?, ?it/s]"
      ]
     },
     "metadata": {},
     "output_type": "display_data"
    },
    {
     "data": {
      "application/vnd.jupyter.widget-view+json": {
       "model_id": "8dd83851ffcc4ac6a8fc4c14250b60e6",
       "version_major": 2,
       "version_minor": 0
      },
      "text/plain": [
       "Creating parquet from Arrow format:   0%|          | 0/1 [00:00<?, ?ba/s]"
      ]
     },
     "metadata": {},
     "output_type": "display_data"
    },
    {
     "data": {
      "text/plain": [
       "CommitInfo(commit_url='https://huggingface.co/datasets/billingsmoore/TED2020-bo-en/commit/b7a0708a34100b86de0277eae210a226dcf0b282', commit_message='Upload dataset', commit_description='', oid='b7a0708a34100b86de0277eae210a226dcf0b282', pr_url=None, pr_revision=None, pr_num=None)"
      ]
     },
     "execution_count": 4,
     "metadata": {},
     "output_type": "execute_result"
    }
   ],
   "source": [
    "ds.push_to_hub('billingsmoore/TED2020-bo-en')"
   ]
  }
 ],
 "metadata": {
  "kernelspec": {
   "display_name": ".venv",
   "language": "python",
   "name": "python3"
  },
  "language_info": {
   "codemirror_mode": {
    "name": "ipython",
    "version": 3
   },
   "file_extension": ".py",
   "mimetype": "text/x-python",
   "name": "python",
   "nbconvert_exporter": "python",
   "pygments_lexer": "ipython3",
   "version": "3.12.3"
  }
 },
 "nbformat": 4,
 "nbformat_minor": 2
}
