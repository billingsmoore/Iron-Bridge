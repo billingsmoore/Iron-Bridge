{
 "cells": [
  {
   "cell_type": "code",
   "execution_count": 1,
   "metadata": {},
   "outputs": [
    {
     "name": "stdout",
     "output_type": "stream",
     "text": [
      "                                              source  \\\n",
      "0                     ཞལ་ཆད་ དང་ ཁས་ལེན་ ཐོབ་ཅེས་ལ་།   \n",
      "1                7-8ཨབ་ར་ཧམ་ལོ་ ༡༧༥ ལོན་ནས་གྲོངས་སོ།   \n",
      "2  དུ་ང་ཚོ ས ་སྔོ ན ་བྱོ ན ་མཁས་པས་གསུངས་ པའི་དེབ...   \n",
      "3  ོ ་ཚོ་ཆོས་དད་མེད་མཁན་རེད། ཅེས་ སྦྲགས་འད་ི འདྲ་...   \n",
      "4  དེ་རྣམས་ཉམས་ལེན་གང་ཟག་རྣམས། ། ལམ་དེ་རྣམས་ལ་འགྲ...   \n",
      "\n",
      "                                              target  \n",
      "0                   That is your contract with God.\"  \n",
      "1  [ylt] And these the days of the years of the l...  \n",
      "2  Nothing is known of him, apart from what is in...  \n",
      "3                  Incredulous, \"How can it not be?\"  \n",
      "4  Not just themselves, but those who are (or mig...  \n"
     ]
    }
   ],
   "source": [
    "import pandas as pd\n",
    "\n",
    "# Paths to the source and target files\n",
    "source_file_path = 'bo-en.txt/NLLB.bo-en.bo'\n",
    "target_file_path = 'bo-en.txt/NLLB.bo-en.en'\n",
    "\n",
    "# Read the files into lists\n",
    "with open(source_file_path, 'r', encoding='utf-8') as src_file:\n",
    "    source_sentences = src_file.readlines()\n",
    "\n",
    "with open(target_file_path, 'r', encoding='utf-8') as tgt_file:\n",
    "    target_sentences = tgt_file.readlines()\n",
    "\n",
    "# Strip any leading/trailing whitespace characters (like newlines)\n",
    "source_sentences = [sentence.strip() for sentence in source_sentences]\n",
    "target_sentences = [sentence.strip() for sentence in target_sentences]\n",
    "\n",
    "# Create a DataFrame\n",
    "df = pd.DataFrame({\n",
    "    'source': source_sentences,\n",
    "    'target': target_sentences\n",
    "})\n",
    "\n",
    "# Display the first few rows of the DataFrame\n",
    "print(df.head())"
   ]
  },
  {
   "cell_type": "code",
   "execution_count": 2,
   "metadata": {},
   "outputs": [
    {
     "data": {
      "text/plain": [
       "{'source': 'ཞལ་ཆད་ དང་ ཁས་ལེན་ ཐོབ་ཅེས་ལ་།',\n",
       " 'target': 'That is your contract with God.\"'}"
      ]
     },
     "execution_count": 2,
     "metadata": {},
     "output_type": "execute_result"
    }
   ],
   "source": [
    "from datasets import Dataset\n",
    "\n",
    "ds = Dataset.from_pandas(df)\n",
    "ds[0]"
   ]
  },
  {
   "cell_type": "code",
   "execution_count": 3,
   "metadata": {},
   "outputs": [
    {
     "data": {
      "application/vnd.jupyter.widget-view+json": {
       "model_id": "c1b4337b8a3140498c7a4a054d24d2da",
       "version_major": 2,
       "version_minor": 0
      },
      "text/plain": [
       "Uploading the dataset shards:   0%|          | 0/1 [00:00<?, ?it/s]"
      ]
     },
     "metadata": {},
     "output_type": "display_data"
    },
    {
     "data": {
      "application/vnd.jupyter.widget-view+json": {
       "model_id": "98d877f8704b4b7e83f5b782880c032a",
       "version_major": 2,
       "version_minor": 0
      },
      "text/plain": [
       "Creating parquet from Arrow format:   0%|          | 0/715 [00:00<?, ?ba/s]"
      ]
     },
     "metadata": {},
     "output_type": "display_data"
    },
    {
     "data": {
      "text/plain": [
       "CommitInfo(commit_url='https://huggingface.co/datasets/billingsmoore/NLLB-bo-en/commit/51b12d95c61cf5ee75bec57c0ab8f42ff889d3da', commit_message='Upload dataset', commit_description='', oid='51b12d95c61cf5ee75bec57c0ab8f42ff889d3da', pr_url=None, pr_revision=None, pr_num=None)"
      ]
     },
     "execution_count": 3,
     "metadata": {},
     "output_type": "execute_result"
    }
   ],
   "source": [
    "ds.push_to_hub('billingsmoore/NLLB-bo-en')"
   ]
  }
 ],
 "metadata": {
  "kernelspec": {
   "display_name": ".venv",
   "language": "python",
   "name": "python3"
  },
  "language_info": {
   "codemirror_mode": {
    "name": "ipython",
    "version": 3
   },
   "file_extension": ".py",
   "mimetype": "text/x-python",
   "name": "python",
   "nbconvert_exporter": "python",
   "pygments_lexer": "ipython3",
   "version": "3.12.3"
  }
 },
 "nbformat": 4,
 "nbformat_minor": 2
}
