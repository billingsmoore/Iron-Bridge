{
 "cells": [
  {
   "cell_type": "code",
   "execution_count": 1,
   "metadata": {},
   "outputs": [
    {
     "name": "stdout",
     "output_type": "stream",
     "text": [
      "                                              source  \\\n",
      "0  མི་ཚང་མས་འདིའི་སྐོར་ལ་ང་ལ་རྟག་པར་སྐད་ཆ་འདྲི་ཀྱ...   \n",
      "1            བྱི་ལ་དོམ་ཆེན་རྒྱ་ནག་ལ་འབའ་ཞིག་ཡོད་རེད།   \n",
      "2                        འདི་མོ་རང་གི་རེད། མ་རེད་པས།   \n",
      "3  ཁྱེད་རང་ཨུ་སུའི་སྟོད་ཐུང་འདི་གྱོན་ཆས་རན་མིན་ལྟ...   \n",
      "4  འདི་ནས་ཕ་གིར་སྣུམ་འཁོར་ལ་འགྲོ་ན་ཆུ་ཚོད་གཅིག་སྒ...   \n",
      "\n",
      "                                      target  \n",
      "0              Everyone always asks me that.  \n",
      "1           Giant pandas live only in China.  \n",
      "2                     It is hers, is it not?  \n",
      "3                       Try on this sweater.  \n",
      "4  It is an hour's drive from here to there.  \n"
     ]
    }
   ],
   "source": [
    "import pandas as pd\n",
    "\n",
    "# Paths to the source and target files\n",
    "source_file_path = 'bo-en.txt/Tatoeba.bo-en.bo'\n",
    "target_file_path = 'bo-en.txt/Tatoeba.bo-en.en'\n",
    "\n",
    "# Read the files into lists\n",
    "with open(source_file_path, 'r', encoding='utf-8') as src_file:\n",
    "    source_sentences = src_file.readlines()\n",
    "\n",
    "with open(target_file_path, 'r', encoding='utf-8') as tgt_file:\n",
    "    target_sentences = tgt_file.readlines()\n",
    "\n",
    "# Strip any leading/trailing whitespace characters (like newlines)\n",
    "source_sentences = [sentence.strip() for sentence in source_sentences]\n",
    "target_sentences = [sentence.strip() for sentence in target_sentences]\n",
    "\n",
    "# Create a DataFrame\n",
    "df = pd.DataFrame({\n",
    "    'source': source_sentences,\n",
    "    'target': target_sentences\n",
    "})\n",
    "\n",
    "# Display the first few rows of the DataFrame\n",
    "print(df.head())"
   ]
  },
  {
   "cell_type": "code",
   "execution_count": 2,
   "metadata": {},
   "outputs": [
    {
     "data": {
      "text/plain": [
       "{'source': 'མི་ཚང་མས་འདིའི་སྐོར་ལ་ང་ལ་རྟག་པར་སྐད་ཆ་འདྲི་ཀྱི་འདུག།',\n",
       " 'target': 'Everyone always asks me that.'}"
      ]
     },
     "execution_count": 2,
     "metadata": {},
     "output_type": "execute_result"
    }
   ],
   "source": [
    "from datasets import Dataset\n",
    "\n",
    "ds = Dataset.from_pandas(df)\n",
    "ds[0]"
   ]
  },
  {
   "cell_type": "code",
   "execution_count": 3,
   "metadata": {},
   "outputs": [
    {
     "data": {
      "application/vnd.jupyter.widget-view+json": {
       "model_id": "25ef96c57691498db8286eed25ce63e9",
       "version_major": 2,
       "version_minor": 0
      },
      "text/plain": [
       "Uploading the dataset shards:   0%|          | 0/1 [00:00<?, ?it/s]"
      ]
     },
     "metadata": {},
     "output_type": "display_data"
    },
    {
     "data": {
      "application/vnd.jupyter.widget-view+json": {
       "model_id": "b23ebd9fe79e4b2aad065f6410186dcb",
       "version_major": 2,
       "version_minor": 0
      },
      "text/plain": [
       "Creating parquet from Arrow format:   0%|          | 0/1 [00:00<?, ?ba/s]"
      ]
     },
     "metadata": {},
     "output_type": "display_data"
    },
    {
     "data": {
      "text/plain": [
       "CommitInfo(commit_url='https://huggingface.co/datasets/billingsmoore/Tatoeba-bo-en/commit/537efc61c571d83c809111b5fe5d655b906e94ee', commit_message='Upload dataset', commit_description='', oid='537efc61c571d83c809111b5fe5d655b906e94ee', pr_url=None, pr_revision=None, pr_num=None)"
      ]
     },
     "execution_count": 3,
     "metadata": {},
     "output_type": "execute_result"
    }
   ],
   "source": [
    "ds.push_to_hub('billingsmoore/Tatoeba-bo-en')"
   ]
  }
 ],
 "metadata": {
  "kernelspec": {
   "display_name": ".venv",
   "language": "python",
   "name": "python3"
  },
  "language_info": {
   "codemirror_mode": {
    "name": "ipython",
    "version": 3
   },
   "file_extension": ".py",
   "mimetype": "text/x-python",
   "name": "python",
   "nbconvert_exporter": "python",
   "pygments_lexer": "ipython3",
   "version": "3.12.3"
  }
 },
 "nbformat": 4,
 "nbformat_minor": 2
}
