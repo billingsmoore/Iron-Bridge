{
 "cells": [
  {
   "cell_type": "markdown",
   "metadata": {},
   "source": [
    "# 'billingsmoore/tibetan-to-english-translation-dataset' Collection\n",
    "\n",
    "The purpose of this notebook is to document the process used to scrape the dataset ['billingsmoore/tagged-tibetan-to-english-translation-dataset'](https://huggingface.co/datasets/billingsmoore/tagged-tibetan-to-english-translation-dataset)\n",
    "\n",
    "## Scraping\n",
    "\n",
    "The code below was used to scrape the data from [Lotsawa House](www.lotsawahouse.org)"
   ]
  },
  {
   "cell_type": "code",
   "execution_count": 6,
   "metadata": {},
   "outputs": [
    {
     "name": "stdout",
     "output_type": "stream",
     "text": [
      "['Amitābha', 'Aspiration Prayers', 'Sukhāvatī Aspirations', 'Tibetan Masters', 'Dodrupchen Jigme Tenpe Nyima']\n",
      "['བཅོམ་ལྡན་འདས་འོད་དཔག་མེད་ལ་ཕྱག་འཚལ་ལོ།།,chomdendé öpakmé la chaktsal lo,Homage to the bhagavan Amitābha!,|Amitābha|Aspiration Prayers|Sukhāvatī Aspirations|Tibetan Masters|Dodrupchen Jigme Tenpe Nyima\\n', 'ཡང་ཡང་དྲན་ནོ་ཞིང་ཁམས་བདེ་བ་ཅན།།,yang yang dren no zhingkham dewachen,Again and again I reflect on the Sukhāvatī realm.,|Amitābha|Aspiration Prayers|Sukhāvatī Aspirations|Tibetan Masters|Dodrupchen Jigme Tenpe Nyima\\n', 'སྙིང་ནས་དྲན་ནོ་འདྲེན་པ་འོད་དཔག་མེད།།,nying né dren no drenpa öpakmé,With all my heart I recollect the guide Amitābha.,|Amitābha|Aspiration Prayers|Sukhāvatī Aspirations|Tibetan Masters|Dodrupchen Jigme Tenpe Nyima\\n', 'རྩེ་གཅིག་དྲན་ནོ་རྒྱལ་སྲས་རྒྱ་མཚོའི་འཁོར།།,tsechik dren no gyalsé gyatsö khor,Single-pointedly I recall the oceanic retinue of bodhisattvas.,|Amitābha|Aspiration Prayers|Sukhāvatī Aspirations|Tibetan Masters|Dodrupchen Jigme Tenpe Nyima\\n', 'བྱིན་གྱིས་རློབས་ཤིག་སྐྱབས་མེད་སྐྱོབ་པའི་ཚོགས།།,jingyi lob shik kyabmé kyobpé tsok,Grant your blessings assembled guardians of the refugeless,|Amitābha|Aspiration Prayers|Sukhāvatī Aspirations|Tibetan Masters|Dodrupchen Jigme Tenpe Nyima\\n', 'ཐུགས་རྗེའི་བདག་ཉིད་མགོན་པོ་ཁྱེད་རྣམས་ལ།།,tukjé daknyi gönpo khyé nam la,Before you all protectors and embodiments of compassion,|Amitābha|Aspiration Prayers|Sukhāvatī Aspirations|Tibetan Masters|Dodrupchen Jigme Tenpe Nyima\\n', 'གུས་པས་ཕྱག་འཚལ་མཆོད་སྤྲིན་རྒྱ་མཚོས་མཆོད།།,güpé chaktsal chötrin gyatsö chö,I prostrate in devotion and present oceans of offering-clouds;,|Amitābha|Aspiration Prayers|Sukhāvatī Aspirations|Tibetan Masters|Dodrupchen Jigme Tenpe Nyima\\n', 'སྡིག་ལྟུང་ཀུན་བཤགས་དགེ་ལ་རྗེས་ཡི་རང་།།,diktung kün shak gé la jé yi rang,I confess all my misdeeds and downfalls and rejoice in virtue;,|Amitābha|Aspiration Prayers|Sukhāvatī Aspirations|Tibetan Masters|Dodrupchen Jigme Tenpe Nyima\\n', 'ཆོས་འཁོར་བསྐོར་བཞིན་མྱ་ངན་མི་འདའ་གསོལ།།,chökhor kor zhin nya ngen mi da sol,And I implore you to turn the Dharma Wheel not pass into nirvāṇa.,|Amitābha|Aspiration Prayers|Sukhāvatī Aspirations|Tibetan Masters|Dodrupchen Jigme Tenpe Nyima\\n', 'བདག་གིས་མཁའ་མཉམ་འགྲོ་བའི་དོན་སླད་དུ།།,dak gi khanyam drowé dön ledu,So that I might accomplish complete and perfect awakening,|Amitābha|Aspiration Prayers|Sukhāvatī Aspirations|Tibetan Masters|Dodrupchen Jigme Tenpe Nyima\\n', 'ཡང་དག་རྫོགས་པའི་བྱང་ཆུབ་བསྒྲུབ་བྱའི་ཕྱིར།།,yangdak dzokpé changchub drubjé chir,For the sake of beings as infinite in number as space is vast,|Amitābha|Aspiration Prayers|Sukhāvatī Aspirations|Tibetan Masters|Dodrupchen Jigme Tenpe Nyima\\n', 'སངས་རྒྱས་ཞིང་ཁམས་ཡོངས་སུ་སྦྱོང་བ་ཡི།།,sangye zhingkham yongsu jongwa yi,May I fulfil an ocean of aspirations towards liberation,|Amitābha|Aspiration Prayers|Sukhāvatī Aspirations|Tibetan Masters|Dodrupchen Jigme Tenpe Nyima\\n', 'རྣམ་ཐར་སྨོན་ལམ་རྒྱ་མཚོ་རྫོགས་གྱུར་ཅིག།,namtar mönlam gyatso dzok gyur chik,With my perfected training in cultivating pure realms.,|Amitābha|Aspiration Prayers|Sukhāvatī Aspirations|Tibetan Masters|Dodrupchen Jigme Tenpe Nyima\\n', 'འདིས་མཚོན་དགེ་བས་བདག་སོགས་ཡིད་ཅན་ཀུན།།,di tsön gewé dak sok yichen kün,Through the virtue represented here may I and all who possess a mind,|Amitābha|Aspiration Prayers|Sukhāvatī Aspirations|Tibetan Masters|Dodrupchen Jigme Tenpe Nyima\\n', 'ཕྱི་མ་དག་པའི་ཞིང་ཁམས་བདེ་བ་ཅན།།,chima dakpé zhingkham dewachen,Take birth in our next lives in that pure realm of Sukhāvatī,|Amitābha|Aspiration Prayers|Sukhāvatī Aspirations|Tibetan Masters|Dodrupchen Jigme Tenpe Nyima\\n', 'རྨད་བྱུང་ངོ་མཚར་བཀོད་པས་རབ་མཛེས་པར།།,mejung ngotsar köpé rab dzepar,Which is so sublime and wondrous in its features and design,|Amitābha|Aspiration Prayers|Sukhāvatī Aspirations|Tibetan Masters|Dodrupchen Jigme Tenpe Nyima\\n', 'སྐྱེས་ནས་ཐེག་མཆོག་དགའ་སྟོན་མྱོང་བར་ཤོག།,kyé né tek chok gatön nyongwar shok,And there may we feast upon the teachings of the supreme vehicle.,|Amitābha|Aspiration Prayers|Sukhāvatī Aspirations|Tibetan Masters|Dodrupchen Jigme Tenpe Nyima\\n']\n"
     ]
    }
   ],
   "source": [
    "import requests\n",
    "from bs4 import BeautifulSoup\n",
    "\n",
    "# get html for title\n",
    "URL = 'https://www.lotsawahouse.org/tibetan-masters/dodrupchen-III/sukhavati-aspiration'\n",
    "page = requests.get(URL)\n",
    "\n",
    "soup = BeautifulSoup(page.content, \"html.parser\")\n",
    "\n",
    "# extract tags\n",
    "cats = soup.find('div', {'class': 'categories'})\n",
    "tags = cats.findAll('a', {'class': 'tag-circle'})\n",
    "tags = [tag.contents[0] for tag in tags]\n",
    "tag_str = ''\n",
    "for tag in tags:\n",
    "    tag_str += ('|' + tag)\n",
    "\n",
    "print(tags)\n",
    "\n",
    " # extract text from html\n",
    "maintext = soup.find('div', {'id': \"maintext\"})\n",
    "tib = maintext.findAll('p', {'class': 'TibetanVerse'})\n",
    "phon = maintext.findAll('p', {'class': 'EnglishPhonetics'})\n",
    "en = maintext.findAll('p', {'class': 'EnglishText'})\n",
    "\n",
    "if len(tib) == len(phon): # if pairs are valid, save them\n",
    "\n",
    "    # prep pairs from text\n",
    "    tib = [elt.contents[0].replace('\\xa0', '') for elt in tib]\n",
    "    phon = [elt.contents[0].replace(',', '') for elt in phon]\n",
    "    en = [elt.contents[0].replace(',', '') for elt in en]\n",
    "    pairs = [(tib_elt + ',' + phon_elt + ',' + en_elt + ',' + tag_str + '\\n') for tib_elt, phon_elt, en_elt in zip(tib, phon, en)]\n",
    "\n",
    "print(pairs)"
   ]
  },
  {
   "cell_type": "code",
   "execution_count": null,
   "metadata": {},
   "outputs": [],
   "source": [
    "import requests\n",
    "from bs4 import BeautifulSoup\n",
    "\n",
    "URL = \"https://www.lotsawahouse.org/topics/\"\n",
    "\n",
    "page = requests.get(URL)\n",
    "soup = BeautifulSoup(page.content, \"html.parser\")\n",
    "series = soup.findAll('a', {'class':'index-entry'})\n",
    "\n",
    "for serie in series:\n",
    "    URL = 'https://www.lotsawahouse.org/'+serie['href']\n",
    "    page = requests.get(URL)\n",
    "    soup = BeautifulSoup(page.content, \"html.parser\")\n",
    "\n",
    "    # get titles from html\n",
    "    titles = soup.findAll('a', {'class':'title'})\n",
    "\n",
    "    for title in titles:\n",
    "        try:\n",
    "            # get html for title\n",
    "            URL = 'https://www.lotsawahouse.org/' + title['href']\n",
    "            page = requests.get(URL)\n",
    "\n",
    "            soup = BeautifulSoup(page.content, \"html.parser\")\n",
    "\n",
    "            # extract tags\n",
    "            cats = soup.find('div', {'class': 'categories'})\n",
    "            tags = cats.findAll('a', {'class': 'tag-circle'})\n",
    "            tags = [tag.contents[0] for tag in tags]\n",
    "            tag_str = ''\n",
    "            for tag in tags:\n",
    "                tag_str += ('|' + tag)\n",
    "\n",
    "            print(tags)\n",
    "\n",
    "            # extract text from html\n",
    "            maintext = soup.find('div', {'id': \"maintext\"})\n",
    "            tib = maintext.findAll('p', {'class': 'TibetanVerse'})\n",
    "            phon = maintext.findAll('p', {'class': 'EnglishPhonetics'})\n",
    "            en = maintext.findAll('p', {'class': 'EnglishText'})\n",
    "\n",
    "            if len(tib) == len(phon): # if pairs are valid, save them\n",
    "\n",
    "                # prep \"pairs\" from text\n",
    "                tib = [elt.contents[0].replace('\\xa0', '') for elt in tib]\n",
    "                phon = [elt.contents[0].replace(',', '') for elt in phon]\n",
    "                en = [elt.contents[0].replace(',', '') for elt in en]\n",
    "                pairs = [(tib_elt + ',' + phon_elt + ',' + en_elt + ',' + tag_str + '\\n') for tib_elt, phon_elt, en_elt in zip(tib, phon, en)]\n",
    "\n",
    "            print(pairs)\n",
    "\n",
    "        except:\n",
    "            pass"
   ]
  }
 ],
 "metadata": {
  "kernelspec": {
   "display_name": ".venv",
   "language": "python",
   "name": "python3"
  },
  "language_info": {
   "codemirror_mode": {
    "name": "ipython",
    "version": 3
   },
   "file_extension": ".py",
   "mimetype": "text/x-python",
   "name": "python",
   "nbconvert_exporter": "python",
   "pygments_lexer": "ipython3",
   "version": "3.12.3"
  }
 },
 "nbformat": 4,
 "nbformat_minor": 2
}
