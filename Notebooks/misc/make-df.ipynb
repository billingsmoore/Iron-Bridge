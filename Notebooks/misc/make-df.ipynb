{
 "cells": [
  {
   "cell_type": "code",
   "execution_count": 2,
   "metadata": {},
   "outputs": [],
   "source": [
    "# CHANGE PATH\n",
    "\n",
    "with open('/home/j/Documents/Projects/MLotsawa/data/originals/all-pairs.txt') as f:\n",
    "    lines = f.read().split(\"\\n\")[:-1]\n",
    "text_pairs = []\n",
    "for line in lines:\n",
    "    try:\n",
    "        tib, eng = line.split(\",\")[:2]\n",
    "        eng = eng.lower()\n",
    "        text_pairs.append((tib, eng))\n",
    "    except:\n",
    "        pass"
   ]
  },
  {
   "cell_type": "code",
   "execution_count": 3,
   "metadata": {},
   "outputs": [
    {
     "data": {
      "text/plain": [
       "15234955"
      ]
     },
     "execution_count": 3,
     "metadata": {},
     "output_type": "execute_result"
    }
   ],
   "source": [
    "len(text_pairs)"
   ]
  },
  {
   "cell_type": "code",
   "execution_count": 5,
   "metadata": {},
   "outputs": [],
   "source": [
    "dat = [{'translation': {'bo': pair[0], 'phon': pair[1]}} for pair in text_pairs]"
   ]
  },
  {
   "cell_type": "code",
   "execution_count": 6,
   "metadata": {},
   "outputs": [],
   "source": [
    "import pandas as pd\n",
    "\n",
    "df = pd.DataFrame(dat)"
   ]
  },
  {
   "cell_type": "code",
   "execution_count": 7,
   "metadata": {},
   "outputs": [],
   "source": [
    "df = df.sample(frac=1)"
   ]
  },
  {
   "cell_type": "code",
   "execution_count": 9,
   "metadata": {},
   "outputs": [],
   "source": [
    "import pickle\n",
    "\n",
    "train_df.to_pickle('/home/j/Documents/Projects/MLotsawa/data/large-dfs/train.p')\n",
    "eval_df.to_pickle('/home/j/Documents/Projects/MLotsawa/data/large-dfs/eval.p')\n",
    "test_df.to_pickle('/home/j/Documents/Projects/MLotsawa/data/large-dfs/test.p')"
   ]
  },
  {
   "cell_type": "code",
   "execution_count": 36,
   "metadata": {},
   "outputs": [],
   "source": [
    "import pandas as pd\n",
    "from sklearn.model_selection import train_test_split\n",
    "\n",
    "df = pd.read_csv('/home/j/Documents/MLotsawa/Notebooks/Datasets/pairs.csv')\n",
    "\n",
    "train, test = train_test_split(df, test_size=0.1)\n",
    "\n",
    "train.to_csv('train.csv', index=False)\n",
    "test.to_csv('test.csv', index=False)"
   ]
  },
  {
   "cell_type": "code",
   "execution_count": 37,
   "metadata": {},
   "outputs": [
    {
     "data": {
      "text/html": [
       "<div>\n",
       "<style scoped>\n",
       "    .dataframe tbody tr th:only-of-type {\n",
       "        vertical-align: middle;\n",
       "    }\n",
       "\n",
       "    .dataframe tbody tr th {\n",
       "        vertical-align: top;\n",
       "    }\n",
       "\n",
       "    .dataframe thead th {\n",
       "        text-align: right;\n",
       "    }\n",
       "</style>\n",
       "<table border=\"1\" class=\"dataframe\">\n",
       "  <thead>\n",
       "    <tr style=\"text-align: right;\">\n",
       "      <th></th>\n",
       "      <th>tibetan</th>\n",
       "      <th>phonetic</th>\n",
       "      <th>spanish</th>\n",
       "    </tr>\n",
       "  </thead>\n",
       "  <tbody>\n",
       "    <tr>\n",
       "      <th>0</th>\n",
       "      <td>ༀ་འཇིག་རྟེན་མགོན་པོ་ལ་ཕྱག་འཚལ་ལོ།།</td>\n",
       "      <td>jikten gönpo la chaktsal lo</td>\n",
       "      <td>Oṃ. ¡Homenaje al señor del mundo!</td>\n",
       "    </tr>\n",
       "    <tr>\n",
       "      <th>1</th>\n",
       "      <td>འཇིག་རྟེན་བླ་མ་སྲིད་པ་གསུམ་གྱིས་བསྟོད་པ་པོ།།</td>\n",
       "      <td>jikten lama sipa sum gyi töpa po</td>\n",
       "      <td>Guru de todos los tres mundos te honran</td>\n",
       "    </tr>\n",
       "    <tr>\n",
       "      <th>2</th>\n",
       "      <td>ལྷ་ཡི་གཙོ་བོ་བདུད་དང་ཚངས་པས་བསྟོད་པ་པོ།།</td>\n",
       "      <td>lha yi tsowo dü dang tsangpe töpa po</td>\n",
       "      <td>los dioses más importantes Māra y Brahmā te al...</td>\n",
       "    </tr>\n",
       "    <tr>\n",
       "      <th>3</th>\n",
       "      <td>ཐུབ་པའི་རྒྱལ་མཆོག་བསྟོད་པས་གྲུབ་པར་མཛད་པ་པོ།།</td>\n",
       "      <td>tubpe gyal chok töpe drubpar dzepapo</td>\n",
       "      <td>cuando se te alaba produces la suma victoria d...</td>\n",
       "    </tr>\n",
       "    <tr>\n",
       "      <th>4</th>\n",
       "      <td>འཇིག་རྟེན་གསུམ་གྱི་མགོན་པོ་མཆོག་ལ་ཕྱག་འཚལ་ལོ།།</td>\n",
       "      <td>jikten sum gyi gönpo chok la chaktsal lo</td>\n",
       "      <td>supremo señor de los tres mundos ¡a ti te rind...</td>\n",
       "    </tr>\n",
       "  </tbody>\n",
       "</table>\n",
       "</div>"
      ],
      "text/plain": [
       "                                          tibetan  \\\n",
       "0              ༀ་འཇིག་རྟེན་མགོན་པོ་ལ་ཕྱག་འཚལ་ལོ།།   \n",
       "1    འཇིག་རྟེན་བླ་མ་སྲིད་པ་གསུམ་གྱིས་བསྟོད་པ་པོ།།   \n",
       "2        ལྷ་ཡི་གཙོ་བོ་བདུད་དང་ཚངས་པས་བསྟོད་པ་པོ།།   \n",
       "3   ཐུབ་པའི་རྒྱལ་མཆོག་བསྟོད་པས་གྲུབ་པར་མཛད་པ་པོ།།   \n",
       "4  འཇིག་རྟེན་གསུམ་གྱི་མགོན་པོ་མཆོག་ལ་ཕྱག་འཚལ་ལོ།།   \n",
       "\n",
       "                                   phonetic  \\\n",
       "0               jikten gönpo la chaktsal lo   \n",
       "1          jikten lama sipa sum gyi töpa po   \n",
       "2      lha yi tsowo dü dang tsangpe töpa po   \n",
       "3      tubpe gyal chok töpe drubpar dzepapo   \n",
       "4  jikten sum gyi gönpo chok la chaktsal lo   \n",
       "\n",
       "                                             spanish  \n",
       "0                  Oṃ. ¡Homenaje al señor del mundo!  \n",
       "1            Guru de todos los tres mundos te honran  \n",
       "2  los dioses más importantes Māra y Brahmā te al...  \n",
       "3  cuando se te alaba produces la suma victoria d...  \n",
       "4  supremo señor de los tres mundos ¡a ti te rind...  "
      ]
     },
     "execution_count": 37,
     "metadata": {},
     "output_type": "execute_result"
    }
   ],
   "source": [
    "df.head()"
   ]
  },
  {
   "cell_type": "code",
   "execution_count": 38,
   "metadata": {},
   "outputs": [
    {
     "data": {
      "text/plain": [
       "23882"
      ]
     },
     "execution_count": 38,
     "metadata": {},
     "output_type": "execute_result"
    }
   ],
   "source": [
    "len(df)"
   ]
  },
  {
   "cell_type": "code",
   "execution_count": 32,
   "metadata": {},
   "outputs": [],
   "source": []
  },
  {
   "cell_type": "code",
   "execution_count": 33,
   "metadata": {},
   "outputs": [],
   "source": []
  }
 ],
 "metadata": {
  "kernelspec": {
   "display_name": ".venv",
   "language": "python",
   "name": "python3"
  },
  "language_info": {
   "codemirror_mode": {
    "name": "ipython",
    "version": 3
   },
   "file_extension": ".py",
   "mimetype": "text/x-python",
   "name": "python",
   "nbconvert_exporter": "python",
   "pygments_lexer": "ipython3",
   "version": "3.12.3"
  }
 },
 "nbformat": 4,
 "nbformat_minor": 2
}
