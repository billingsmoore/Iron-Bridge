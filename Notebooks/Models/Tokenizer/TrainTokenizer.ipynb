{
 "cells": [
  {
   "cell_type": "code",
   "execution_count": 1,
   "metadata": {},
   "outputs": [],
   "source": [
    "import sentencepiece as spm\n",
    "\n",
    "# Define parameters\n",
    "input_file = \"corpus.txt\"  # Path to the Tibetan text corpus\n",
    "model_prefix = \"bo_en_sp\"  # Prefix for the output files\n",
    "vocab_size = 32000  # Adjust based on dataset size"
   ]
  },
  {
   "cell_type": "code",
   "execution_count": null,
   "metadata": {},
   "outputs": [],
   "source": [
    "# Train the tokenizer\n",
    "spm.SentencePieceTrainer.train(\n",
    "    input=input_file,\n",
    "    model_prefix=model_prefix,\n",
    "    vocab_size=vocab_size,\n",
    "    character_coverage=0.9995,  # High coverage for Tibetan\n",
    "    model_type=\"bpe\",  # Can also try 'unigram'\n",
    "    user_defined_symbols=[\n",
    "        \"།\", \"༎\", \"༄\", \"༅\", \"༆\", \"༇\", \"༈\", \"༉\", \"༊\", \"་\", \"༌\", \n",
    "        \"༑\", \"༒\", \"༓\", \"༔\", \"༕\", \"༖\", \"༗\", \"༴\", \"༺\", \"༻\", \"༼\", \"༽\", \n",
    "        \"༾\", \"༿\"\n",
    "    ]\n",
    ")"
   ]
  },
  {
   "cell_type": "code",
   "execution_count": null,
   "metadata": {},
   "outputs": [],
   "source": [
    "print(\"Tokenizer training complete. Files saved as:\", model_prefix + \".model\", model_prefix + \".vocab\")"
   ]
  },
  {
   "cell_type": "code",
   "execution_count": null,
   "metadata": {},
   "outputs": [],
   "source": [
    "from transformers import PreTrainedTokenizerFast\n",
    "\n",
    "tokenizer = PreTrainedTokenizerFast(tokenizer_file=\"bo_en_sp.model\")\n",
    "tokenizer.save_pretrained(\"bo_en_tokenizer\")\n"
   ]
  }
 ],
 "metadata": {
  "kernelspec": {
   "display_name": ".venv",
   "language": "python",
   "name": "python3"
  },
  "language_info": {
   "codemirror_mode": {
    "name": "ipython",
    "version": 3
   },
   "file_extension": ".py",
   "mimetype": "text/x-python",
   "name": "python",
   "nbconvert_exporter": "python",
   "pygments_lexer": "ipython3",
   "version": "3.12.3"
  }
 },
 "nbformat": 4,
 "nbformat_minor": 2
}
