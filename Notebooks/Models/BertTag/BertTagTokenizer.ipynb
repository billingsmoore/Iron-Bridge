{
 "cells": [
  {
   "cell_type": "code",
   "execution_count": 12,
   "metadata": {},
   "outputs": [],
   "source": [
    "from datasets import load_dataset\n",
    "\n",
    "ds = load_dataset('billingsmoore/tagged-tibetan-to-english-translation-dataset')"
   ]
  },
  {
   "cell_type": "code",
   "execution_count": null,
   "metadata": {},
   "outputs": [],
   "source": [
    "corpus = ds['train']['Tibetan']  # Your Tibetan Tibetan corpus"
   ]
  },
  {
   "cell_type": "code",
   "execution_count": 4,
   "metadata": {},
   "outputs": [
    {
     "data": {
      "text/plain": [
       "'བླ་མ་དང་ལྷག་པའི་ལྷ་ལ་ཕྱག་འཚལ་ལོ།།'"
      ]
     },
     "execution_count": 4,
     "metadata": {},
     "output_type": "execute_result"
    }
   ],
   "source": [
    "corpus[0]"
   ]
  },
  {
   "cell_type": "code",
   "execution_count": 13,
   "metadata": {},
   "outputs": [],
   "source": [
    "ds = ds['train'].train_test_split(.15)"
   ]
  },
  {
   "cell_type": "code",
   "execution_count": null,
   "metadata": {},
   "outputs": [],
   "source": [
    "from tokenizers import BertWordPieceTokenizer\n",
    "\n",
    "# Train a new tokenizer\n",
    "corpus = ds['train']['Tibetan']  # Your Tibetan text corpus\n",
    "tokenizer = BertWordPieceTokenizer(lowercase=False)\n",
    "\n",
    "# Train tokenizer\n",
    "tokenizer.train(corpus, vocab_size=30000, special_tokens=[\"[PAD]\", \"[UNK]\", \"[CLS]\", \"[SEP]\", \"[MASK]\"])\n",
    "\n",
    "# Save tokenizer\n",
    "tokenizer.save_model(\"./tibetan_tokenizer\")\n"
   ]
  },
  {
   "cell_type": "code",
   "execution_count": null,
   "metadata": {},
   "outputs": [],
   "source": [
    "from tokenizers import BertWordPieceTokenizer\n",
    "import tempfile\n",
    "\n",
    "# Define corpus as a list of strings\n",
    "corpus = corpus = ds['train']['Tibetan']  # Your Tibetan text corpus\n",
    "\n",
    "# Write the corpus to a temporary file\n",
    "with tempfile.NamedTemporaryFile(mode=\"w+\", delete=False) as temp_file:\n",
    "    temp_file_path = temp_file.name\n",
    "    for line in corpus:\n",
    "        temp_file.write(line + \"\\n\")\n",
    "\n",
    "# Train a new tokenizer\n",
    "tokenizer = BertWordPieceTokenizer(lowercase=False)\n",
    "\n",
    "# Train tokenizer using the temporary file\n",
    "tokenizer.train(files=[temp_file_path], vocab_size=30000, special_tokens=[\"[PAD]\", \"[UNK]\", \"[CLS]\", \"[SEP]\", \"[MASK]\"])\n",
    "\n",
    "# Save tokenizer\n",
    "tokenizer.save_model(\"tibetan_tokenizer\")\n",
    "\n",
    "# Optionally delete the temporary file if needed\n",
    "import os\n",
    "os.remove(temp_file_path)\n"
   ]
  }
 ],
 "metadata": {
  "kernelspec": {
   "display_name": ".venv",
   "language": "python",
   "name": "python3"
  },
  "language_info": {
   "codemirror_mode": {
    "name": "ipython",
    "version": 3
   },
   "file_extension": ".py",
   "mimetype": "text/x-python",
   "name": "python",
   "nbconvert_exporter": "python",
   "pygments_lexer": "ipython3",
   "version": "3.12.3"
  }
 },
 "nbformat": 4,
 "nbformat_minor": 2
}
