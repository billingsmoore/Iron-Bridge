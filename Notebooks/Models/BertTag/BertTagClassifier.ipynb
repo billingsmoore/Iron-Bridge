{
 "cells": [
  {
   "cell_type": "markdown",
   "metadata": {},
   "source": [
    "## Load Data and Tokenizer"
   ]
  },
  {
   "cell_type": "code",
   "execution_count": 1,
   "metadata": {},
   "outputs": [],
   "source": [
    "from transformers import BertTokenizer\n",
    "from datasets import load_dataset\n",
    "\n",
    "ds = load_dataset('billingsmoore/tagged-tibetan-to-english-translation-dataset')\n",
    "\n",
    "tokenizer = BertTokenizer.from_pretrained('bert-large-cased')"
   ]
  },
  {
   "cell_type": "markdown",
   "metadata": {},
   "source": [
    "## Preprocess Data"
   ]
  },
  {
   "cell_type": "markdown",
   "metadata": {},
   "source": [
    "### Use just first two tags"
   ]
  },
  {
   "cell_type": "code",
   "execution_count": 2,
   "metadata": {},
   "outputs": [],
   "source": [
    "def just_two_tags(examples):\n",
    "    tags = [tag[:2] for tag in examples['Tags']]\n",
    "    examples['Tags'] = tags\n",
    "    return examples\n",
    "\n",
    "ds = ds.map(just_two_tags, batched=True)"
   ]
  },
  {
   "cell_type": "code",
   "execution_count": 3,
   "metadata": {},
   "outputs": [],
   "source": [
    "from sklearn.preprocessing import MultiLabelBinarizer\n",
    "\n",
    "\n",
    "mlb = MultiLabelBinarizer()\n",
    "labels = mlb.fit(ds['train']['Tags'])  # Fit all unique Tags\n",
    "\n",
    "# Save label mappings\n",
    "import json\n",
    "with open(\"en_lh_label_mapping.json\", \"w\") as f:\n",
    "    json.dump(mlb.classes_.tolist(), f)\n"
   ]
  },
  {
   "cell_type": "code",
   "execution_count": 4,
   "metadata": {},
   "outputs": [
    {
     "data": {
      "application/vnd.jupyter.widget-view+json": {
       "model_id": "9fa4a8e1f95545ada5af82e3ac327ebf",
       "version_major": 2,
       "version_minor": 0
      },
      "text/plain": [
       "Map:   0%|          | 0/107525 [00:00<?, ? examples/s]"
      ]
     },
     "metadata": {},
     "output_type": "display_data"
    }
   ],
   "source": [
    "def preprocess(examples):\n",
    "    tokens = tokenizer(examples[\"English\"], padding=\"max_length\", truncation=True, max_length=128)\n",
    "    tokens[\"labels\"] =  mlb.transform(examples['Tags']).astype(float).tolist() # Convert labels to multi-hot\n",
    "    return tokens\n",
    "\n",
    "encoded_dataset = ds.map(preprocess, batched=True)\n"
   ]
  },
  {
   "cell_type": "code",
   "execution_count": 5,
   "metadata": {},
   "outputs": [],
   "source": [
    "encoded_dataset = encoded_dataset.remove_columns(['Tibetan', 'Phonetic', 'English', 'Tags'])"
   ]
  },
  {
   "cell_type": "code",
   "execution_count": 6,
   "metadata": {},
   "outputs": [],
   "source": [
    "encoded_dataset = encoded_dataset['train'].train_test_split(.15)"
   ]
  },
  {
   "cell_type": "code",
   "execution_count": 7,
   "metadata": {},
   "outputs": [
    {
     "data": {
      "text/plain": [
       "\"enc = tokenizer(ds['train'][0]['Tibetan'])\\ntokenizer.decode(enc.input_ids)\""
      ]
     },
     "execution_count": 7,
     "metadata": {},
     "output_type": "execute_result"
    }
   ],
   "source": [
    "\"\"\"enc = tokenizer(ds['train'][0]['Tibetan'])\n",
    "tokenizer.decode(enc.input_ids)\"\"\""
   ]
  },
  {
   "cell_type": "markdown",
   "metadata": {},
   "source": [
    "## Train Model"
   ]
  },
  {
   "cell_type": "code",
   "execution_count": 8,
   "metadata": {},
   "outputs": [
    {
     "name": "stderr",
     "output_type": "stream",
     "text": [
      "Some weights of BertForSequenceClassification were not initialized from the model checkpoint at bert-large-cased and are newly initialized: ['classifier.bias', 'classifier.weight']\n",
      "You should probably TRAIN this model on a down-stream task to be able to use it for predictions and inference.\n"
     ]
    }
   ],
   "source": [
    "from transformers import BertTokenizer, BertForSequenceClassification\n",
    "\n",
    "# Load tokenizer and model\n",
    "model = BertForSequenceClassification.from_pretrained(\"bert-large-cased\", num_labels=len(mlb.classes_))\n",
    "\n",
    "# Resize embeddings to match the new tokenizer\n",
    "model.resize_token_embeddings(len(tokenizer))\n",
    "\n",
    "# Move model to GPU\n",
    "model = model.to('cuda:0')"
   ]
  },
  {
   "cell_type": "code",
   "execution_count": 9,
   "metadata": {},
   "outputs": [],
   "source": [
    "import numpy as np\n",
    "from sklearn.metrics import accuracy_score, f1_score, precision_score, recall_score\n",
    "\n",
    "def compute_metrics(eval_pred):\n",
    "    predictions, references = eval_pred\n",
    "    \n",
    "    # Apply a threshold to convert logits to binary predictions\n",
    "    predictions = (predictions > 0.5).astype(int)\n",
    "    \n",
    "    # Compute metrics\n",
    "    accuracy = accuracy_score(references, predictions)\n",
    "    f1 = f1_score(references, predictions, average=\"micro\")\n",
    "    precision = precision_score(references, predictions, average=\"micro\")\n",
    "    recall = recall_score(references, predictions, average=\"micro\")\n",
    "\n",
    "    return {\n",
    "        \"accuracy\": accuracy,\n",
    "        \"f1\": f1,\n",
    "        \"precision_1\": precision,\n",
    "        \"recall\": recall,\n",
    "    }\n"
   ]
  },
  {
   "cell_type": "code",
   "execution_count": 10,
   "metadata": {},
   "outputs": [
    {
     "name": "stderr",
     "output_type": "stream",
     "text": [
      "/tmp/ipykernel_17507/1710218490.py:27: FutureWarning: `tokenizer` is deprecated and will be removed in version 5.0.0 for `Trainer.__init__`. Use `processing_class` instead.\n",
      "  trainer = Trainer(\n",
      "\u001b[34m\u001b[1mwandb\u001b[0m: \u001b[33mWARNING\u001b[0m The `run_name` is currently set to the same value as `TrainingArguments.output_dir`. If this was not intended, please specify a different run name by setting the `TrainingArguments.run_name` parameter.\n",
      "\u001b[34m\u001b[1mwandb\u001b[0m: Using wandb-core as the SDK backend.  Please refer to https://wandb.me/wandb-core for more information.\n",
      "\u001b[34m\u001b[1mwandb\u001b[0m: Currently logged in as: \u001b[33mbillingsmoore\u001b[0m. Use \u001b[1m`wandb login --relogin`\u001b[0m to force relogin\n"
     ]
    },
    {
     "data": {
      "text/html": [
       "Tracking run with wandb version 0.19.0"
      ],
      "text/plain": [
       "<IPython.core.display.HTML object>"
      ]
     },
     "metadata": {},
     "output_type": "display_data"
    },
    {
     "data": {
      "text/html": [
       "Run data is saved locally in <code>/home/j/Desktop/MLotsawa/Notebooks/Models/BertTag/wandb/run-20250105_225515-qs267w9w</code>"
      ],
      "text/plain": [
       "<IPython.core.display.HTML object>"
      ]
     },
     "metadata": {},
     "output_type": "display_data"
    },
    {
     "data": {
      "text/html": [
       "Syncing run <strong><a href='https://wandb.ai/billingsmoore/huggingface/runs/qs267w9w' target=\"_blank\">en-lh-lg-bert-classifier</a></strong> to <a href='https://wandb.ai/billingsmoore/huggingface' target=\"_blank\">Weights & Biases</a> (<a href='https://wandb.me/developer-guide' target=\"_blank\">docs</a>)<br/>"
      ],
      "text/plain": [
       "<IPython.core.display.HTML object>"
      ]
     },
     "metadata": {},
     "output_type": "display_data"
    },
    {
     "data": {
      "text/html": [
       " View project at <a href='https://wandb.ai/billingsmoore/huggingface' target=\"_blank\">https://wandb.ai/billingsmoore/huggingface</a>"
      ],
      "text/plain": [
       "<IPython.core.display.HTML object>"
      ]
     },
     "metadata": {},
     "output_type": "display_data"
    },
    {
     "data": {
      "text/html": [
       " View run at <a href='https://wandb.ai/billingsmoore/huggingface/runs/qs267w9w' target=\"_blank\">https://wandb.ai/billingsmoore/huggingface/runs/qs267w9w</a>"
      ],
      "text/plain": [
       "<IPython.core.display.HTML object>"
      ]
     },
     "metadata": {},
     "output_type": "display_data"
    },
    {
     "data": {
      "application/vnd.jupyter.widget-view+json": {
       "model_id": "35b0ee11a55c4c71b72bc5cbdf7f8c8d",
       "version_major": 2,
       "version_minor": 0
      },
      "text/plain": [
       "  0%|          | 0/571300 [00:00<?, ?it/s]"
      ]
     },
     "metadata": {},
     "output_type": "display_data"
    },
    {
     "name": "stdout",
     "output_type": "stream",
     "text": [
      "{'loss': 0.1355, 'grad_norm': 0.06919872015714645, 'learning_rate': 1.9982496061613864e-05, 'epoch': 0.09}\n",
      "{'loss': 0.0542, 'grad_norm': 0.06292929500341415, 'learning_rate': 1.996499212322773e-05, 'epoch': 0.18}\n",
      "{'loss': 0.0524, 'grad_norm': 0.07311862707138062, 'learning_rate': 1.994748818484159e-05, 'epoch': 0.26}\n",
      "{'loss': 0.0518, 'grad_norm': 0.06628433614969254, 'learning_rate': 1.9929984246455454e-05, 'epoch': 0.35}\n",
      "{'loss': 0.0506, 'grad_norm': 0.0655488520860672, 'learning_rate': 1.9912480308069317e-05, 'epoch': 0.44}\n",
      "{'loss': 0.0495, 'grad_norm': 0.0706687867641449, 'learning_rate': 1.9894976369683182e-05, 'epoch': 0.53}\n",
      "{'loss': 0.0482, 'grad_norm': 0.07596486061811447, 'learning_rate': 1.987747243129704e-05, 'epoch': 0.61}\n",
      "{'loss': 0.0474, 'grad_norm': 0.10036158561706543, 'learning_rate': 1.9859968492910907e-05, 'epoch': 0.7}\n",
      "{'loss': 0.0472, 'grad_norm': 0.11987017095088959, 'learning_rate': 1.984246455452477e-05, 'epoch': 0.79}\n",
      "{'loss': 0.045, 'grad_norm': 0.13586223125457764, 'learning_rate': 1.982496061613863e-05, 'epoch': 0.88}\n",
      "{'loss': 0.0439, 'grad_norm': 0.1743658035993576, 'learning_rate': 1.9807456677752497e-05, 'epoch': 0.96}\n"
     ]
    },
    {
     "data": {
      "application/vnd.jupyter.widget-view+json": {
       "model_id": "6fc9d3d03f824dafaee9fc793590a958",
       "version_major": 2,
       "version_minor": 0
      },
      "text/plain": [
       "  0%|          | 0/1009 [00:00<?, ?it/s]"
      ]
     },
     "metadata": {},
     "output_type": "display_data"
    },
    {
     "name": "stdout",
     "output_type": "stream",
     "text": [
      "{'eval_loss': 0.04201948642730713, 'eval_accuracy': 0.0883501767003534, 'eval_f1': 0.18714687299952684, 'eval_precision_1': 0.915826750204304, 'eval_recall': 0.10422220844441689, 'eval_runtime': 112.7539, 'eval_samples_per_second': 143.046, 'eval_steps_per_second': 8.949, 'epoch': 1.0}\n",
      "{'loss': 0.0425, 'grad_norm': 0.20416289567947388, 'learning_rate': 1.978995273936636e-05, 'epoch': 1.05}\n",
      "{'loss': 0.0411, 'grad_norm': 0.13094212114810944, 'learning_rate': 1.9772448800980222e-05, 'epoch': 1.14}\n",
      "{'loss': 0.0399, 'grad_norm': 0.16791507601737976, 'learning_rate': 1.9754944862594084e-05, 'epoch': 1.23}\n",
      "{'loss': 0.0384, 'grad_norm': 0.16840516030788422, 'learning_rate': 1.973744092420795e-05, 'epoch': 1.31}\n",
      "{'loss': 0.038, 'grad_norm': 0.1695626676082611, 'learning_rate': 1.9719936985821812e-05, 'epoch': 1.4}\n",
      "{'loss': 0.0372, 'grad_norm': 0.16167773306369781, 'learning_rate': 1.9702433047435675e-05, 'epoch': 1.49}\n",
      "{'loss': 0.0365, 'grad_norm': 0.20023199915885925, 'learning_rate': 1.9684929109049537e-05, 'epoch': 1.58}\n",
      "{'loss': 0.0361, 'grad_norm': 0.1656547486782074, 'learning_rate': 1.9667425170663403e-05, 'epoch': 1.66}\n",
      "{'loss': 0.0344, 'grad_norm': 0.19921961426734924, 'learning_rate': 1.9649921232277265e-05, 'epoch': 1.75}\n",
      "{'loss': 0.0341, 'grad_norm': 0.21362988650798798, 'learning_rate': 1.9632417293891127e-05, 'epoch': 1.84}\n",
      "{'loss': 0.0336, 'grad_norm': 0.21241454780101776, 'learning_rate': 1.961491335550499e-05, 'epoch': 1.93}\n"
     ]
    },
    {
     "data": {
      "application/vnd.jupyter.widget-view+json": {
       "model_id": "ffa46b0952114cbcbb3b5dec741863e9",
       "version_major": 2,
       "version_minor": 0
      },
      "text/plain": [
       "  0%|          | 0/1009 [00:00<?, ?it/s]"
      ]
     },
     "metadata": {},
     "output_type": "display_data"
    },
    {
     "name": "stdout",
     "output_type": "stream",
     "text": [
      "{'eval_loss': 0.03160368651151657, 'eval_accuracy': 0.19430838861677724, 'eval_f1': 0.4533149805001147, 'eval_precision_1': 0.8718672785033533, 'eval_recall': 0.30628061256122513, 'eval_runtime': 112.836, 'eval_samples_per_second': 142.942, 'eval_steps_per_second': 8.942, 'epoch': 2.0}\n",
      "{'loss': 0.0327, 'grad_norm': 0.27825242280960083, 'learning_rate': 1.9597409417118852e-05, 'epoch': 2.01}\n",
      "{'loss': 0.0294, 'grad_norm': 0.23852816224098206, 'learning_rate': 1.9579905478732717e-05, 'epoch': 2.1}\n",
      "{'loss': 0.029, 'grad_norm': 0.31421583890914917, 'learning_rate': 1.956240154034658e-05, 'epoch': 2.19}\n",
      "{'loss': 0.0311, 'grad_norm': 0.17516115307807922, 'learning_rate': 1.9544897601960442e-05, 'epoch': 2.28}\n",
      "{'loss': 0.0285, 'grad_norm': 0.25422823429107666, 'learning_rate': 1.9527393663574304e-05, 'epoch': 2.36}\n",
      "{'loss': 0.0276, 'grad_norm': 0.2110826075077057, 'learning_rate': 1.950988972518817e-05, 'epoch': 2.45}\n",
      "{'loss': 0.0276, 'grad_norm': 0.21295394003391266, 'learning_rate': 1.9492385786802032e-05, 'epoch': 2.54}\n",
      "{'loss': 0.027, 'grad_norm': 0.5870771408081055, 'learning_rate': 1.9474881848415895e-05, 'epoch': 2.63}\n",
      "{'loss': 0.0268, 'grad_norm': 0.22202835977077484, 'learning_rate': 1.9457377910029757e-05, 'epoch': 2.71}\n",
      "{'loss': 0.0263, 'grad_norm': 0.25700274109840393, 'learning_rate': 1.9439873971643623e-05, 'epoch': 2.8}\n",
      "{'loss': 0.0256, 'grad_norm': 0.19067883491516113, 'learning_rate': 1.9422370033257485e-05, 'epoch': 2.89}\n",
      "{'loss': 0.0248, 'grad_norm': 0.2815912365913391, 'learning_rate': 1.9404866094871347e-05, 'epoch': 2.98}\n"
     ]
    },
    {
     "data": {
      "application/vnd.jupyter.widget-view+json": {
       "model_id": "e436a5e73c414bda8a66af6f246c36d7",
       "version_major": 2,
       "version_minor": 0
      },
      "text/plain": [
       "  0%|          | 0/1009 [00:00<?, ?it/s]"
      ]
     },
     "metadata": {},
     "output_type": "display_data"
    },
    {
     "name": "stdout",
     "output_type": "stream",
     "text": [
      "{'eval_loss': 0.025138769298791885, 'eval_accuracy': 0.3063426126852254, 'eval_f1': 0.5989313537545377, 'eval_precision_1': 0.8752980448259419, 'eval_recall': 0.4552049104098208, 'eval_runtime': 112.5446, 'eval_samples_per_second': 143.312, 'eval_steps_per_second': 8.965, 'epoch': 3.0}\n",
      "{'loss': 0.0226, 'grad_norm': 0.2705877125263214, 'learning_rate': 1.938736215648521e-05, 'epoch': 3.06}\n",
      "{'loss': 0.0218, 'grad_norm': 0.27206090092658997, 'learning_rate': 1.9369858218099072e-05, 'epoch': 3.15}\n",
      "{'loss': 0.0213, 'grad_norm': 0.3895599842071533, 'learning_rate': 1.9352354279712938e-05, 'epoch': 3.24}\n",
      "{'loss': 0.0213, 'grad_norm': 0.28284987807273865, 'learning_rate': 1.93348503413268e-05, 'epoch': 3.33}\n",
      "{'loss': 0.0211, 'grad_norm': 0.22725263237953186, 'learning_rate': 1.9317346402940666e-05, 'epoch': 3.41}\n",
      "{'loss': 0.021, 'grad_norm': 0.285044401884079, 'learning_rate': 1.9299842464554525e-05, 'epoch': 3.5}\n",
      "{'loss': 0.021, 'grad_norm': 0.2570587396621704, 'learning_rate': 1.928233852616839e-05, 'epoch': 3.59}\n",
      "{'loss': 0.0206, 'grad_norm': 0.37152108550071716, 'learning_rate': 1.9264834587782253e-05, 'epoch': 3.68}\n",
      "{'loss': 0.0202, 'grad_norm': 0.24743835628032684, 'learning_rate': 1.9247330649396115e-05, 'epoch': 3.76}\n",
      "{'loss': 0.0199, 'grad_norm': 0.1951373964548111, 'learning_rate': 1.9229826711009977e-05, 'epoch': 3.85}\n",
      "{'loss': 0.0197, 'grad_norm': 0.19981886446475983, 'learning_rate': 1.9212322772623843e-05, 'epoch': 3.94}\n"
     ]
    },
    {
     "data": {
      "application/vnd.jupyter.widget-view+json": {
       "model_id": "7f557e252cd14fdbb4f30a6c2dcef56d",
       "version_major": 2,
       "version_minor": 0
      },
      "text/plain": [
       "  0%|          | 0/1009 [00:00<?, ?it/s]"
      ]
     },
     "metadata": {},
     "output_type": "display_data"
    },
    {
     "name": "stdout",
     "output_type": "stream",
     "text": [
      "{'eval_loss': 0.02075696736574173, 'eval_accuracy': 0.41279682559365116, 'eval_f1': 0.6905366037026596, 'eval_precision_1': 0.8769752231823172, 'eval_recall': 0.5694711389422779, 'eval_runtime': 112.7791, 'eval_samples_per_second': 143.014, 'eval_steps_per_second': 8.947, 'epoch': 4.0}\n",
      "{'loss': 0.0185, 'grad_norm': 0.194328173995018, 'learning_rate': 1.9194818834237705e-05, 'epoch': 4.03}\n",
      "{'loss': 0.0167, 'grad_norm': 0.3178427219390869, 'learning_rate': 1.9177314895851568e-05, 'epoch': 4.11}\n",
      "{'loss': 0.0164, 'grad_norm': 0.32872244715690613, 'learning_rate': 1.9159810957465433e-05, 'epoch': 4.2}\n",
      "{'loss': 0.0165, 'grad_norm': 0.24874894320964813, 'learning_rate': 1.9142307019079292e-05, 'epoch': 4.29}\n",
      "{'loss': 0.0168, 'grad_norm': 0.20611819624900818, 'learning_rate': 1.9124803080693158e-05, 'epoch': 4.38}\n",
      "{'loss': 0.0162, 'grad_norm': 0.18036417663097382, 'learning_rate': 1.910729914230702e-05, 'epoch': 4.46}\n",
      "{'loss': 0.0163, 'grad_norm': 0.3178583085536957, 'learning_rate': 1.9089795203920886e-05, 'epoch': 4.55}\n",
      "{'loss': 0.0159, 'grad_norm': 0.1408574879169464, 'learning_rate': 1.9072291265534745e-05, 'epoch': 4.64}\n",
      "{'loss': 0.0159, 'grad_norm': 0.23915798962116241, 'learning_rate': 1.905478732714861e-05, 'epoch': 4.73}\n",
      "{'loss': 0.016, 'grad_norm': 0.23230986297130585, 'learning_rate': 1.9037283388762473e-05, 'epoch': 4.81}\n",
      "{'loss': 0.0156, 'grad_norm': 0.2406340092420578, 'learning_rate': 1.9019779450376335e-05, 'epoch': 4.9}\n",
      "{'loss': 0.015, 'grad_norm': 0.4492496848106384, 'learning_rate': 1.90022755119902e-05, 'epoch': 4.99}\n"
     ]
    },
    {
     "data": {
      "application/vnd.jupyter.widget-view+json": {
       "model_id": "2f25e39eb196412e95bb982c0b9e871b",
       "version_major": 2,
       "version_minor": 0
      },
      "text/plain": [
       "  0%|          | 0/1009 [00:00<?, ?it/s]"
      ]
     },
     "metadata": {},
     "output_type": "display_data"
    },
    {
     "name": "stdout",
     "output_type": "stream",
     "text": [
      "{'eval_loss': 0.017427338287234306, 'eval_accuracy': 0.5041230082460165, 'eval_f1': 0.7473903217706352, 'eval_precision_1': 0.8867466802860061, 'eval_recall': 0.6458862917725835, 'eval_runtime': 112.3636, 'eval_samples_per_second': 143.543, 'eval_steps_per_second': 8.98, 'epoch': 5.0}\n",
      "{'loss': 0.0133, 'grad_norm': 0.2691614627838135, 'learning_rate': 1.8984771573604063e-05, 'epoch': 5.08}\n",
      "{'loss': 0.0127, 'grad_norm': 0.11879652738571167, 'learning_rate': 1.8967267635217926e-05, 'epoch': 5.16}\n",
      "{'loss': 0.0131, 'grad_norm': 0.17571920156478882, 'learning_rate': 1.8949763696831788e-05, 'epoch': 5.25}\n",
      "{'loss': 0.013, 'grad_norm': 0.22276969254016876, 'learning_rate': 1.8932259758445654e-05, 'epoch': 5.34}\n",
      "{'loss': 0.0129, 'grad_norm': 0.7894952297210693, 'learning_rate': 1.8914755820059513e-05, 'epoch': 5.43}\n",
      "{'loss': 0.0128, 'grad_norm': 0.34514617919921875, 'learning_rate': 1.8897251881673378e-05, 'epoch': 5.51}\n",
      "{'loss': 0.0129, 'grad_norm': 0.21411694586277008, 'learning_rate': 1.887974794328724e-05, 'epoch': 5.6}\n",
      "{'loss': 0.0127, 'grad_norm': 0.2599561810493469, 'learning_rate': 1.8862244004901106e-05, 'epoch': 5.69}\n",
      "{'loss': 0.0125, 'grad_norm': 0.12174316495656967, 'learning_rate': 1.884474006651497e-05, 'epoch': 5.78}\n",
      "{'loss': 0.0123, 'grad_norm': 0.13676801323890686, 'learning_rate': 1.882723612812883e-05, 'epoch': 5.86}\n",
      "{'loss': 0.0125, 'grad_norm': 0.25428199768066406, 'learning_rate': 1.8809732189742693e-05, 'epoch': 5.95}\n"
     ]
    },
    {
     "data": {
      "application/vnd.jupyter.widget-view+json": {
       "model_id": "c5efda5a0e914c20bf364b29b9014f5a",
       "version_major": 2,
       "version_minor": 0
      },
      "text/plain": [
       "  0%|          | 0/1009 [00:00<?, ?it/s]"
      ]
     },
     "metadata": {},
     "output_type": "display_data"
    },
    {
     "name": "stdout",
     "output_type": "stream",
     "text": [
      "{'eval_loss': 0.016099855303764343, 'eval_accuracy': 0.5570091140182281, 'eval_f1': 0.7750425490849754, 'eval_precision_1': 0.8929047907822923, 'eval_recall': 0.6846673693347387, 'eval_runtime': 112.7569, 'eval_samples_per_second': 143.042, 'eval_steps_per_second': 8.948, 'epoch': 6.0}\n",
      "{'loss': 0.0115, 'grad_norm': 0.35580867528915405, 'learning_rate': 1.8792228251356555e-05, 'epoch': 6.04}\n",
      "{'loss': 0.0103, 'grad_norm': 0.27472078800201416, 'learning_rate': 1.877472431297042e-05, 'epoch': 6.13}\n",
      "{'loss': 0.0107, 'grad_norm': 0.3970605432987213, 'learning_rate': 1.8757220374584283e-05, 'epoch': 6.21}\n",
      "{'loss': 0.0106, 'grad_norm': 0.2053329199552536, 'learning_rate': 1.8739716436198146e-05, 'epoch': 6.3}\n",
      "{'loss': 0.0105, 'grad_norm': 0.24324451386928558, 'learning_rate': 1.8722212497812008e-05, 'epoch': 6.39}\n",
      "{'loss': 0.0104, 'grad_norm': 0.26518112421035767, 'learning_rate': 1.8704708559425874e-05, 'epoch': 6.48}\n",
      "{'loss': 0.0101, 'grad_norm': 0.289683073759079, 'learning_rate': 1.8687204621039736e-05, 'epoch': 6.56}\n",
      "{'loss': 0.0104, 'grad_norm': 0.1710917353630066, 'learning_rate': 1.86697006826536e-05, 'epoch': 6.65}\n",
      "{'loss': 0.0104, 'grad_norm': 0.2500315308570862, 'learning_rate': 1.865219674426746e-05, 'epoch': 6.74}\n",
      "{'loss': 0.0103, 'grad_norm': 0.25750961899757385, 'learning_rate': 1.8634692805881326e-05, 'epoch': 6.83}\n",
      "{'loss': 0.0102, 'grad_norm': 0.17316754162311554, 'learning_rate': 1.861718886749519e-05, 'epoch': 6.91}\n"
     ]
    },
    {
     "data": {
      "application/vnd.jupyter.widget-view+json": {
       "model_id": "e73e1e0700aa4131882afd59017e6fbe",
       "version_major": 2,
       "version_minor": 0
      },
      "text/plain": [
       "  0%|          | 0/1009 [00:00<?, ?it/s]"
      ]
     },
     "metadata": {},
     "output_type": "display_data"
    },
    {
     "name": "stdout",
     "output_type": "stream",
     "text": [
      "{'eval_loss': 0.014534314163029194, 'eval_accuracy': 0.612003224006448, 'eval_f1': 0.8023419525428385, 'eval_precision_1': 0.8992072044334976, 'eval_recall': 0.7243164486328972, 'eval_runtime': 112.2723, 'eval_samples_per_second': 143.66, 'eval_steps_per_second': 8.987, 'epoch': 7.0}\n",
      "{'loss': 0.0105, 'grad_norm': 0.46232694387435913, 'learning_rate': 1.859968492910905e-05, 'epoch': 7.0}\n",
      "{'loss': 0.0084, 'grad_norm': 0.20556584000587463, 'learning_rate': 1.8582180990722913e-05, 'epoch': 7.09}\n",
      "{'loss': 0.0085, 'grad_norm': 0.4391337037086487, 'learning_rate': 1.8564677052336776e-05, 'epoch': 7.18}\n",
      "{'loss': 0.0087, 'grad_norm': 0.2782006561756134, 'learning_rate': 1.854717311395064e-05, 'epoch': 7.26}\n",
      "{'loss': 0.0087, 'grad_norm': 0.13461683690547943, 'learning_rate': 1.8529669175564504e-05, 'epoch': 7.35}\n",
      "{'loss': 0.0087, 'grad_norm': 0.2574334144592285, 'learning_rate': 1.8512165237178366e-05, 'epoch': 7.44}\n",
      "{'loss': 0.0088, 'grad_norm': 0.39042460918426514, 'learning_rate': 1.849466129879223e-05, 'epoch': 7.53}\n",
      "{'loss': 0.0085, 'grad_norm': 0.16088342666625977, 'learning_rate': 1.8477157360406094e-05, 'epoch': 7.61}\n",
      "{'loss': 0.0087, 'grad_norm': 0.236537367105484, 'learning_rate': 1.8459653422019956e-05, 'epoch': 7.7}\n",
      "{'loss': 0.0085, 'grad_norm': 0.21974441409111023, 'learning_rate': 1.844214948363382e-05, 'epoch': 7.79}\n",
      "{'loss': 0.0088, 'grad_norm': 0.3490894138813019, 'learning_rate': 1.842464554524768e-05, 'epoch': 7.88}\n",
      "{'loss': 0.0086, 'grad_norm': 0.18606974184513092, 'learning_rate': 1.8407141606861543e-05, 'epoch': 7.96}\n"
     ]
    },
    {
     "data": {
      "application/vnd.jupyter.widget-view+json": {
       "model_id": "5472e088caa44233814d69478f408d4e",
       "version_major": 2,
       "version_minor": 0
      },
      "text/plain": [
       "  0%|          | 0/1009 [00:00<?, ?it/s]"
      ]
     },
     "metadata": {},
     "output_type": "display_data"
    },
    {
     "name": "stdout",
     "output_type": "stream",
     "text": [
      "{'eval_loss': 0.013621049001812935, 'eval_accuracy': 0.6554653109306219, 'eval_f1': 0.8221167648995997, 'eval_precision_1': 0.9029864589130031, 'eval_recall': 0.7545415090830182, 'eval_runtime': 112.6342, 'eval_samples_per_second': 143.198, 'eval_steps_per_second': 8.958, 'epoch': 8.0}\n",
      "{'loss': 0.0078, 'grad_norm': 0.42857035994529724, 'learning_rate': 1.838963766847541e-05, 'epoch': 8.05}\n",
      "{'loss': 0.0072, 'grad_norm': 0.19721662998199463, 'learning_rate': 1.837213373008927e-05, 'epoch': 8.14}\n",
      "{'loss': 0.0073, 'grad_norm': 0.322400838136673, 'learning_rate': 1.8354629791703137e-05, 'epoch': 8.23}\n",
      "{'loss': 0.0072, 'grad_norm': 0.1977987140417099, 'learning_rate': 1.8337125853316996e-05, 'epoch': 8.31}\n",
      "{'loss': 0.0073, 'grad_norm': 0.202492818236351, 'learning_rate': 1.831962191493086e-05, 'epoch': 8.4}\n",
      "{'loss': 0.0073, 'grad_norm': 0.32967957854270935, 'learning_rate': 1.8302117976544724e-05, 'epoch': 8.49}\n",
      "{'loss': 0.0073, 'grad_norm': 2.301284074783325, 'learning_rate': 1.8284614038158586e-05, 'epoch': 8.58}\n",
      "{'loss': 0.0074, 'grad_norm': 0.18300923705101013, 'learning_rate': 1.826711009977245e-05, 'epoch': 8.66}\n",
      "{'loss': 0.0076, 'grad_norm': 0.6754774451255798, 'learning_rate': 1.8249606161386314e-05, 'epoch': 8.75}\n",
      "{'loss': 0.0076, 'grad_norm': 0.5858712196350098, 'learning_rate': 1.8232102223000177e-05, 'epoch': 8.84}\n",
      "{'loss': 0.0071, 'grad_norm': 0.14964617788791656, 'learning_rate': 1.821459828461404e-05, 'epoch': 8.93}\n"
     ]
    },
    {
     "data": {
      "application/vnd.jupyter.widget-view+json": {
       "model_id": "28e0252c736147a1966b5bef40f730f9",
       "version_major": 2,
       "version_minor": 0
      },
      "text/plain": [
       "  0%|          | 0/1009 [00:00<?, ?it/s]"
      ]
     },
     "metadata": {},
     "output_type": "display_data"
    },
    {
     "name": "stdout",
     "output_type": "stream",
     "text": [
      "{'eval_loss': 0.013210223987698555, 'eval_accuracy': 0.6863413726827454, 'eval_f1': 0.8322421165152325, 'eval_precision_1': 0.9022235098138626, 'eval_recall': 0.7723355446710893, 'eval_runtime': 112.4781, 'eval_samples_per_second': 143.397, 'eval_steps_per_second': 8.971, 'epoch': 9.0}\n",
      "{'loss': 0.007, 'grad_norm': 0.3003098666667938, 'learning_rate': 1.8197094346227905e-05, 'epoch': 9.01}\n",
      "{'loss': 0.0061, 'grad_norm': 0.1199743002653122, 'learning_rate': 1.8179590407841764e-05, 'epoch': 9.1}\n",
      "{'loss': 0.0063, 'grad_norm': 0.17040960490703583, 'learning_rate': 1.816208646945563e-05, 'epoch': 9.19}\n",
      "{'loss': 0.0063, 'grad_norm': 0.3128323256969452, 'learning_rate': 1.814458253106949e-05, 'epoch': 9.28}\n",
      "{'loss': 0.0065, 'grad_norm': 0.09931075572967529, 'learning_rate': 1.8127078592683357e-05, 'epoch': 9.36}\n",
      "{'loss': 0.0063, 'grad_norm': 0.1867365688085556, 'learning_rate': 1.8109574654297216e-05, 'epoch': 9.45}\n",
      "{'loss': 0.0063, 'grad_norm': 0.19756628572940826, 'learning_rate': 1.8092070715911082e-05, 'epoch': 9.54}\n",
      "{'loss': 0.0066, 'grad_norm': 0.2268839031457901, 'learning_rate': 1.8074566777524944e-05, 'epoch': 9.63}\n",
      "{'loss': 0.0062, 'grad_norm': 0.3201352655887604, 'learning_rate': 1.8057062839138807e-05, 'epoch': 9.71}\n",
      "{'loss': 0.0069, 'grad_norm': 0.34042659401893616, 'learning_rate': 1.8039558900752672e-05, 'epoch': 9.8}\n",
      "{'loss': 0.0066, 'grad_norm': 0.3681228756904602, 'learning_rate': 1.8022054962366535e-05, 'epoch': 9.89}\n",
      "{'loss': 0.0062, 'grad_norm': 0.3322528004646301, 'learning_rate': 1.8004551023980397e-05, 'epoch': 9.98}\n"
     ]
    },
    {
     "data": {
      "application/vnd.jupyter.widget-view+json": {
       "model_id": "019ea8388e9049218c302adf8bda77f3",
       "version_major": 2,
       "version_minor": 0
      },
      "text/plain": [
       "  0%|          | 0/1009 [00:00<?, ?it/s]"
      ]
     },
     "metadata": {},
     "output_type": "display_data"
    },
    {
     "name": "stdout",
     "output_type": "stream",
     "text": [
      "{'eval_loss': 0.012515860609710217, 'eval_accuracy': 0.7162254324508649, 'eval_f1': 0.8481602697609838, 'eval_precision_1': 0.908498583569405, 'eval_recall': 0.7953375906751814, 'eval_runtime': 112.607, 'eval_samples_per_second': 143.233, 'eval_steps_per_second': 8.96, 'epoch': 10.0}\n",
      "{'loss': 0.0056, 'grad_norm': 0.2813168466091156, 'learning_rate': 1.798704708559426e-05, 'epoch': 10.06}\n",
      "{'loss': 0.0053, 'grad_norm': 0.18704338371753693, 'learning_rate': 1.7969543147208125e-05, 'epoch': 10.15}\n",
      "{'loss': 0.0053, 'grad_norm': 0.3618831932544708, 'learning_rate': 1.7952039208821987e-05, 'epoch': 10.24}\n",
      "{'loss': 0.0057, 'grad_norm': 0.19652719795703888, 'learning_rate': 1.793453527043585e-05, 'epoch': 10.33}\n",
      "{'loss': 0.0058, 'grad_norm': 0.15256543457508087, 'learning_rate': 1.7917031332049712e-05, 'epoch': 10.41}\n",
      "{'loss': 0.0058, 'grad_norm': 0.39395377039909363, 'learning_rate': 1.7899527393663578e-05, 'epoch': 10.5}\n",
      "{'loss': 0.0057, 'grad_norm': 0.11713112145662308, 'learning_rate': 1.788202345527744e-05, 'epoch': 10.59}\n",
      "{'loss': 0.0058, 'grad_norm': 0.46388769149780273, 'learning_rate': 1.7864519516891302e-05, 'epoch': 10.68}\n",
      "{'loss': 0.0057, 'grad_norm': 0.21717354655265808, 'learning_rate': 1.7847015578505164e-05, 'epoch': 10.76}\n",
      "{'loss': 0.0056, 'grad_norm': 0.16204658150672913, 'learning_rate': 1.7829511640119027e-05, 'epoch': 10.85}\n",
      "{'loss': 0.0059, 'grad_norm': 0.25550705194473267, 'learning_rate': 1.7812007701732892e-05, 'epoch': 10.94}\n"
     ]
    },
    {
     "data": {
      "application/vnd.jupyter.widget-view+json": {
       "model_id": "3f68d2ca609e48f49208157a3595f7eb",
       "version_major": 2,
       "version_minor": 0
      },
      "text/plain": [
       "  0%|          | 0/1009 [00:00<?, ?it/s]"
      ]
     },
     "metadata": {},
     "output_type": "display_data"
    },
    {
     "name": "stdout",
     "output_type": "stream",
     "text": [
      "{'eval_loss': 0.012281239032745361, 'eval_accuracy': 0.7283154566309132, 'eval_f1': 0.8530143509136144, 'eval_precision_1': 0.9103569544575347, 'eval_recall': 0.8024676049352099, 'eval_runtime': 112.5951, 'eval_samples_per_second': 143.248, 'eval_steps_per_second': 8.961, 'epoch': 11.0}\n",
      "{'loss': 0.0055, 'grad_norm': 0.2359459400177002, 'learning_rate': 1.7794503763346755e-05, 'epoch': 11.03}\n",
      "{'loss': 0.0046, 'grad_norm': 0.1466279923915863, 'learning_rate': 1.7776999824960617e-05, 'epoch': 11.12}\n",
      "{'loss': 0.0048, 'grad_norm': 0.5298412442207336, 'learning_rate': 1.775949588657448e-05, 'epoch': 11.2}\n",
      "{'loss': 0.0051, 'grad_norm': 0.11904683709144592, 'learning_rate': 1.7741991948188345e-05, 'epoch': 11.29}\n",
      "{'loss': 0.0049, 'grad_norm': 0.08445987105369568, 'learning_rate': 1.7724488009802207e-05, 'epoch': 11.38}\n",
      "{'loss': 0.0052, 'grad_norm': 0.27659353613853455, 'learning_rate': 1.770698407141607e-05, 'epoch': 11.47}\n",
      "{'loss': 0.0054, 'grad_norm': 0.11452889442443848, 'learning_rate': 1.7689480133029932e-05, 'epoch': 11.55}\n",
      "{'loss': 0.0053, 'grad_norm': 0.12171656638383865, 'learning_rate': 1.7671976194643798e-05, 'epoch': 11.64}\n",
      "{'loss': 0.0052, 'grad_norm': 0.16878482699394226, 'learning_rate': 1.765447225625766e-05, 'epoch': 11.73}\n",
      "{'loss': 0.0052, 'grad_norm': 0.2439146786928177, 'learning_rate': 1.7636968317871522e-05, 'epoch': 11.82}\n",
      "{'loss': 0.005, 'grad_norm': 0.20111018419265747, 'learning_rate': 1.7619464379485385e-05, 'epoch': 11.9}\n",
      "{'loss': 0.005, 'grad_norm': 0.08794521540403366, 'learning_rate': 1.7601960441099247e-05, 'epoch': 11.99}\n"
     ]
    },
    {
     "data": {
      "application/vnd.jupyter.widget-view+json": {
       "model_id": "142a404e36044c7b9d97119f28167c90",
       "version_major": 2,
       "version_minor": 0
      },
      "text/plain": [
       "  0%|          | 0/1009 [00:00<?, ?it/s]"
      ]
     },
     "metadata": {},
     "output_type": "display_data"
    },
    {
     "name": "stdout",
     "output_type": "stream",
     "text": [
      "{'eval_loss': 0.012300258502364159, 'eval_accuracy': 0.7363134726269452, 'eval_f1': 0.8559358253608179, 'eval_precision_1': 0.9110792273236282, 'eval_recall': 0.8070866141732284, 'eval_runtime': 112.4875, 'eval_samples_per_second': 143.385, 'eval_steps_per_second': 8.97, 'epoch': 12.0}\n",
      "{'loss': 0.0045, 'grad_norm': 0.04768279567360878, 'learning_rate': 1.7584456502713113e-05, 'epoch': 12.08}\n",
      "{'loss': 0.0042, 'grad_norm': 0.3201231360435486, 'learning_rate': 1.7566952564326975e-05, 'epoch': 12.17}\n",
      "{'loss': 0.0044, 'grad_norm': 0.3760961890220642, 'learning_rate': 1.754944862594084e-05, 'epoch': 12.25}\n",
      "{'loss': 0.0046, 'grad_norm': 0.43150830268859863, 'learning_rate': 1.75319446875547e-05, 'epoch': 12.34}\n",
      "{'loss': 0.0048, 'grad_norm': 0.3589419722557068, 'learning_rate': 1.7514440749168565e-05, 'epoch': 12.43}\n",
      "{'loss': 0.0046, 'grad_norm': 0.1075017899274826, 'learning_rate': 1.7496936810782428e-05, 'epoch': 12.52}\n",
      "{'loss': 0.0048, 'grad_norm': 0.07792709767818451, 'learning_rate': 1.747943287239629e-05, 'epoch': 12.6}\n",
      "{'loss': 0.0047, 'grad_norm': 0.2069741189479828, 'learning_rate': 1.7461928934010152e-05, 'epoch': 12.69}\n",
      "{'loss': 0.005, 'grad_norm': 0.28171080350875854, 'learning_rate': 1.7444424995624018e-05, 'epoch': 12.78}\n",
      "{'loss': 0.0046, 'grad_norm': 0.11412105709314346, 'learning_rate': 1.742692105723788e-05, 'epoch': 12.87}\n",
      "{'loss': 0.0048, 'grad_norm': 0.04939139261841774, 'learning_rate': 1.7409417118851743e-05, 'epoch': 12.95}\n"
     ]
    },
    {
     "data": {
      "application/vnd.jupyter.widget-view+json": {
       "model_id": "04ee12a026f3421c9f4554f0420af969",
       "version_major": 2,
       "version_minor": 0
      },
      "text/plain": [
       "  0%|          | 0/1009 [00:00<?, ?it/s]"
      ]
     },
     "metadata": {},
     "output_type": "display_data"
    },
    {
     "name": "stdout",
     "output_type": "stream",
     "text": [
      "{'eval_loss': 0.012023263610899448, 'eval_accuracy': 0.7575795151590303, 'eval_f1': 0.8643234145464647, 'eval_precision_1': 0.9138878330280936, 'eval_recall': 0.8198586397172795, 'eval_runtime': 112.8973, 'eval_samples_per_second': 142.864, 'eval_steps_per_second': 8.937, 'epoch': 13.0}\n",
      "{'loss': 0.0045, 'grad_norm': 0.22377435863018036, 'learning_rate': 1.739191318046561e-05, 'epoch': 13.04}\n",
      "{'loss': 0.0039, 'grad_norm': 0.09689246863126755, 'learning_rate': 1.7374409242079467e-05, 'epoch': 13.13}\n",
      "{'loss': 0.004, 'grad_norm': 0.6155219674110413, 'learning_rate': 1.7356905303693333e-05, 'epoch': 13.22}\n",
      "{'loss': 0.0041, 'grad_norm': 0.19249451160430908, 'learning_rate': 1.7339401365307195e-05, 'epoch': 13.3}\n",
      "{'loss': 0.0042, 'grad_norm': 0.08826547861099243, 'learning_rate': 1.732189742692106e-05, 'epoch': 13.39}\n",
      "{'loss': 0.0044, 'grad_norm': 0.2834056317806244, 'learning_rate': 1.730439348853492e-05, 'epoch': 13.48}\n",
      "{'loss': 0.0045, 'grad_norm': 0.17663374543190002, 'learning_rate': 1.7286889550148786e-05, 'epoch': 13.57}\n",
      "{'loss': 0.0044, 'grad_norm': 0.1322883665561676, 'learning_rate': 1.7269385611762648e-05, 'epoch': 13.65}\n",
      "{'loss': 0.0044, 'grad_norm': 0.1814410537481308, 'learning_rate': 1.725188167337651e-05, 'epoch': 13.74}\n",
      "{'loss': 0.0044, 'grad_norm': 0.03328969329595566, 'learning_rate': 1.7234377734990376e-05, 'epoch': 13.83}\n",
      "{'loss': 0.0042, 'grad_norm': 0.051125943660736084, 'learning_rate': 1.7216873796604235e-05, 'epoch': 13.92}\n"
     ]
    },
    {
     "data": {
      "application/vnd.jupyter.widget-view+json": {
       "model_id": "8868d9bc44644f1ab664c8cb82841bca",
       "version_major": 2,
       "version_minor": 0
      },
      "text/plain": [
       "  0%|          | 0/1009 [00:00<?, ?it/s]"
      ]
     },
     "metadata": {},
     "output_type": "display_data"
    },
    {
     "name": "stdout",
     "output_type": "stream",
     "text": [
      "{'eval_loss': 0.01242041029036045, 'eval_accuracy': 0.7525575051150102, 'eval_f1': 0.8589186441233867, 'eval_precision_1': 0.9118066919675499, 'eval_recall': 0.8118296236592473, 'eval_runtime': 112.4533, 'eval_samples_per_second': 143.428, 'eval_steps_per_second': 8.973, 'epoch': 14.0}\n",
      "{'loss': 0.0043, 'grad_norm': 0.09326950460672379, 'learning_rate': 1.71993698582181e-05, 'epoch': 14.0}\n",
      "{'loss': 0.0037, 'grad_norm': 0.23660404980182648, 'learning_rate': 1.7181865919831963e-05, 'epoch': 14.09}\n",
      "{'loss': 0.0037, 'grad_norm': 0.38568469882011414, 'learning_rate': 1.716436198144583e-05, 'epoch': 14.18}\n",
      "{'loss': 0.004, 'grad_norm': 0.05990004912018776, 'learning_rate': 1.714685804305969e-05, 'epoch': 14.27}\n",
      "{'loss': 0.0039, 'grad_norm': 0.20772579312324524, 'learning_rate': 1.7129354104673553e-05, 'epoch': 14.35}\n",
      "{'loss': 0.0041, 'grad_norm': 0.1929357945919037, 'learning_rate': 1.7111850166287416e-05, 'epoch': 14.44}\n",
      "{'loss': 0.004, 'grad_norm': 0.05685802549123764, 'learning_rate': 1.7094346227901278e-05, 'epoch': 14.53}\n",
      "{'loss': 0.0039, 'grad_norm': 0.24542838335037231, 'learning_rate': 1.7076842289515144e-05, 'epoch': 14.62}\n",
      "{'loss': 0.004, 'grad_norm': 0.0793849304318428, 'learning_rate': 1.7059338351129006e-05, 'epoch': 14.7}\n",
      "{'loss': 0.0041, 'grad_norm': 0.07583940029144287, 'learning_rate': 1.7041834412742868e-05, 'epoch': 14.79}\n",
      "{'loss': 0.0041, 'grad_norm': 0.12466611713171005, 'learning_rate': 1.702433047435673e-05, 'epoch': 14.88}\n",
      "{'loss': 0.0042, 'grad_norm': 0.03241606056690216, 'learning_rate': 1.7006826535970596e-05, 'epoch': 14.97}\n"
     ]
    },
    {
     "data": {
      "application/vnd.jupyter.widget-view+json": {
       "model_id": "7d5b75d094004221a978bb6eada3836a",
       "version_major": 2,
       "version_minor": 0
      },
      "text/plain": [
       "  0%|          | 0/1009 [00:00<?, ?it/s]"
      ]
     },
     "metadata": {},
     "output_type": "display_data"
    },
    {
     "name": "stdout",
     "output_type": "stream",
     "text": [
      "{'eval_loss': 0.012408880516886711, 'eval_accuracy': 0.7676855353710708, 'eval_f1': 0.8653524239814078, 'eval_precision_1': 0.9094728931096915, 'eval_recall': 0.8253146506293012, 'eval_runtime': 112.7759, 'eval_samples_per_second': 143.018, 'eval_steps_per_second': 8.947, 'epoch': 15.0}\n",
      "{'loss': 0.0038, 'grad_norm': 0.07515055686235428, 'learning_rate': 1.698932259758446e-05, 'epoch': 15.05}\n",
      "{'loss': 0.0036, 'grad_norm': 0.12372808158397675, 'learning_rate': 1.697181865919832e-05, 'epoch': 15.14}\n",
      "{'loss': 0.0038, 'grad_norm': 0.12526224553585052, 'learning_rate': 1.6954314720812183e-05, 'epoch': 15.23}\n",
      "{'loss': 0.0036, 'grad_norm': 0.09534534066915512, 'learning_rate': 1.693681078242605e-05, 'epoch': 15.32}\n",
      "{'loss': 0.0037, 'grad_norm': 0.12991882860660553, 'learning_rate': 1.691930684403991e-05, 'epoch': 15.4}\n",
      "{'loss': 0.0039, 'grad_norm': 0.0604887530207634, 'learning_rate': 1.6901802905653773e-05, 'epoch': 15.49}\n",
      "{'loss': 0.0036, 'grad_norm': 0.2742388844490051, 'learning_rate': 1.6884298967267636e-05, 'epoch': 15.58}\n",
      "{'loss': 0.0039, 'grad_norm': 0.1032654419541359, 'learning_rate': 1.6866795028881498e-05, 'epoch': 15.67}\n",
      "{'loss': 0.0039, 'grad_norm': 0.19500179588794708, 'learning_rate': 1.6849291090495364e-05, 'epoch': 15.75}\n",
      "{'loss': 0.0038, 'grad_norm': 0.25019997358322144, 'learning_rate': 1.6831787152109226e-05, 'epoch': 15.84}\n",
      "{'loss': 0.0038, 'grad_norm': 0.2266438752412796, 'learning_rate': 1.681428321372309e-05, 'epoch': 15.93}\n"
     ]
    },
    {
     "data": {
      "application/vnd.jupyter.widget-view+json": {
       "model_id": "d51af9fc315443a1814e31fda528fb55",
       "version_major": 2,
       "version_minor": 0
      },
      "text/plain": [
       "  0%|          | 0/1009 [00:00<?, ?it/s]"
      ]
     },
     "metadata": {},
     "output_type": "display_data"
    },
    {
     "name": "stdout",
     "output_type": "stream",
     "text": [
      "{'eval_loss': 0.012159086763858795, 'eval_accuracy': 0.7774195548391096, 'eval_f1': 0.8710250775594622, 'eval_precision_1': 0.9096523793452582, 'eval_recall': 0.8355446710893422, 'eval_runtime': 112.376, 'eval_samples_per_second': 143.527, 'eval_steps_per_second': 8.979, 'epoch': 16.0}\n",
      "{'loss': 0.0038, 'grad_norm': 0.025794517248868942, 'learning_rate': 1.679677927533695e-05, 'epoch': 16.02}\n",
      "{'loss': 0.0032, 'grad_norm': 0.17027345299720764, 'learning_rate': 1.6779275336950816e-05, 'epoch': 16.1}\n",
      "{'loss': 0.0034, 'grad_norm': 0.29429617524147034, 'learning_rate': 1.676177139856468e-05, 'epoch': 16.19}\n",
      "{'loss': 0.0033, 'grad_norm': 0.18505752086639404, 'learning_rate': 1.674426746017854e-05, 'epoch': 16.28}\n",
      "{'loss': 0.0036, 'grad_norm': 0.5442038178443909, 'learning_rate': 1.6726763521792403e-05, 'epoch': 16.37}\n",
      "{'loss': 0.0036, 'grad_norm': 0.05492652580142021, 'learning_rate': 1.670925958340627e-05, 'epoch': 16.45}\n",
      "{'loss': 0.0035, 'grad_norm': 0.050366293638944626, 'learning_rate': 1.669175564502013e-05, 'epoch': 16.54}\n",
      "{'loss': 0.0037, 'grad_norm': 0.05949462950229645, 'learning_rate': 1.6674251706633994e-05, 'epoch': 16.63}\n",
      "{'loss': 0.0038, 'grad_norm': 0.1498231142759323, 'learning_rate': 1.6656747768247856e-05, 'epoch': 16.72}\n",
      "{'loss': 0.0038, 'grad_norm': 0.14490938186645508, 'learning_rate': 1.663924382986172e-05, 'epoch': 16.8}\n",
      "{'loss': 0.0038, 'grad_norm': 0.05917966738343239, 'learning_rate': 1.6621739891475584e-05, 'epoch': 16.89}\n",
      "{'loss': 0.0037, 'grad_norm': 0.07797073572874069, 'learning_rate': 1.6604235953089446e-05, 'epoch': 16.98}\n"
     ]
    },
    {
     "data": {
      "application/vnd.jupyter.widget-view+json": {
       "model_id": "e534877d03b545af98b8c33481497a00",
       "version_major": 2,
       "version_minor": 0
      },
      "text/plain": [
       "  0%|          | 0/1009 [00:00<?, ?it/s]"
      ]
     },
     "metadata": {},
     "output_type": "display_data"
    },
    {
     "name": "stdout",
     "output_type": "stream",
     "text": [
      "{'eval_loss': 0.012542661279439926, 'eval_accuracy': 0.7778535557071115, 'eval_f1': 0.8676126008851861, 'eval_precision_1': 0.9130762380984999, 'eval_recall': 0.8264616529233059, 'eval_runtime': 113.0078, 'eval_samples_per_second': 142.725, 'eval_steps_per_second': 8.929, 'epoch': 17.0}\n",
      "{'loss': 0.003, 'grad_norm': 0.08213008940219879, 'learning_rate': 1.6586732014703312e-05, 'epoch': 17.07}\n",
      "{'loss': 0.0031, 'grad_norm': 0.1905675083398819, 'learning_rate': 1.656922807631717e-05, 'epoch': 17.15}\n",
      "{'loss': 0.0033, 'grad_norm': 0.10864297300577164, 'learning_rate': 1.6551724137931037e-05, 'epoch': 17.24}\n",
      "{'loss': 0.0034, 'grad_norm': 0.1000591591000557, 'learning_rate': 1.65342201995449e-05, 'epoch': 17.33}\n",
      "{'loss': 0.0036, 'grad_norm': 0.07200787961483002, 'learning_rate': 1.651671626115876e-05, 'epoch': 17.42}\n",
      "{'loss': 0.0037, 'grad_norm': 0.09751130640506744, 'learning_rate': 1.6499212322772624e-05, 'epoch': 17.5}\n",
      "{'loss': 0.0032, 'grad_norm': 0.06270167231559753, 'learning_rate': 1.648170838438649e-05, 'epoch': 17.59}\n",
      "{'loss': 0.0036, 'grad_norm': 0.04034443572163582, 'learning_rate': 1.646420444600035e-05, 'epoch': 17.68}\n",
      "{'loss': 0.0034, 'grad_norm': 0.0988166406750679, 'learning_rate': 1.6446700507614214e-05, 'epoch': 17.77}\n",
      "{'loss': 0.0036, 'grad_norm': 0.050996314734220505, 'learning_rate': 1.642919656922808e-05, 'epoch': 17.85}\n",
      "{'loss': 0.0034, 'grad_norm': 0.09575706720352173, 'learning_rate': 1.641169263084194e-05, 'epoch': 17.94}\n"
     ]
    },
    {
     "data": {
      "application/vnd.jupyter.widget-view+json": {
       "model_id": "ea486df7e623431c9c697ae51d235061",
       "version_major": 2,
       "version_minor": 0
      },
      "text/plain": [
       "  0%|          | 0/1009 [00:00<?, ?it/s]"
      ]
     },
     "metadata": {},
     "output_type": "display_data"
    },
    {
     "name": "stdout",
     "output_type": "stream",
     "text": [
      "{'eval_loss': 0.012337646447122097, 'eval_accuracy': 0.7840535681071362, 'eval_f1': 0.8721084473777864, 'eval_precision_1': 0.9119079837618403, 'eval_recall': 0.8356376712753425, 'eval_runtime': 113.5503, 'eval_samples_per_second': 142.043, 'eval_steps_per_second': 8.886, 'epoch': 18.0}\n",
      "{'loss': 0.0034, 'grad_norm': 0.059207718819379807, 'learning_rate': 1.6394188692455804e-05, 'epoch': 18.03}\n",
      "{'loss': 0.0028, 'grad_norm': 0.07195138186216354, 'learning_rate': 1.6376684754069667e-05, 'epoch': 18.12}\n",
      "{'loss': 0.0031, 'grad_norm': 0.31195545196533203, 'learning_rate': 1.6359180815683532e-05, 'epoch': 18.2}\n",
      "{'loss': 0.0033, 'grad_norm': 0.08465807139873505, 'learning_rate': 1.634167687729739e-05, 'epoch': 18.29}\n",
      "{'loss': 0.0036, 'grad_norm': 0.12053372710943222, 'learning_rate': 1.6324172938911257e-05, 'epoch': 18.38}\n",
      "{'loss': 0.0035, 'grad_norm': 0.4177282154560089, 'learning_rate': 1.630666900052512e-05, 'epoch': 18.47}\n",
      "{'loss': 0.0034, 'grad_norm': 0.08894557505846024, 'learning_rate': 1.628916506213898e-05, 'epoch': 18.55}\n",
      "{'loss': 0.0034, 'grad_norm': 0.2164188176393509, 'learning_rate': 1.6271661123752847e-05, 'epoch': 18.64}\n",
      "{'loss': 0.0034, 'grad_norm': 0.07777681201696396, 'learning_rate': 1.625415718536671e-05, 'epoch': 18.73}\n",
      "{'loss': 0.0032, 'grad_norm': 0.269793301820755, 'learning_rate': 1.6236653246980572e-05, 'epoch': 18.82}\n",
      "{'loss': 0.0033, 'grad_norm': 0.044140566140413284, 'learning_rate': 1.6219149308594434e-05, 'epoch': 18.9}\n",
      "{'loss': 0.0034, 'grad_norm': 0.12609584629535675, 'learning_rate': 1.62016453702083e-05, 'epoch': 18.99}\n"
     ]
    },
    {
     "data": {
      "application/vnd.jupyter.widget-view+json": {
       "model_id": "2b88eedcc855405a83747b732a4b1ca1",
       "version_major": 2,
       "version_minor": 0
      },
      "text/plain": [
       "  0%|          | 0/1009 [00:00<?, ?it/s]"
      ]
     },
     "metadata": {},
     "output_type": "display_data"
    },
    {
     "name": "stdout",
     "output_type": "stream",
     "text": [
      "{'eval_loss': 0.01274662185460329, 'eval_accuracy': 0.784239568479137, 'eval_f1': 0.8685562845415468, 'eval_precision_1': 0.907169862273832, 'eval_recall': 0.8330956661913324, 'eval_runtime': 113.3949, 'eval_samples_per_second': 142.237, 'eval_steps_per_second': 8.898, 'epoch': 19.0}\n",
      "{'loss': 0.0029, 'grad_norm': 0.08018404990434647, 'learning_rate': 1.6184141431822162e-05, 'epoch': 19.08}\n",
      "{'loss': 0.003, 'grad_norm': 0.08708932250738144, 'learning_rate': 1.6166637493436024e-05, 'epoch': 19.17}\n",
      "{'loss': 0.0032, 'grad_norm': 0.05443791300058365, 'learning_rate': 1.6149133555049887e-05, 'epoch': 19.25}\n",
      "{'loss': 0.003, 'grad_norm': 0.03450365737080574, 'learning_rate': 1.6131629616663753e-05, 'epoch': 19.34}\n",
      "{'loss': 0.0032, 'grad_norm': 0.18414118885993958, 'learning_rate': 1.6114125678277615e-05, 'epoch': 19.43}\n",
      "{'loss': 0.0031, 'grad_norm': 0.044097475707530975, 'learning_rate': 1.6096621739891477e-05, 'epoch': 19.52}\n",
      "{'loss': 0.0033, 'grad_norm': 0.09567022323608398, 'learning_rate': 1.607911780150534e-05, 'epoch': 19.6}\n",
      "{'loss': 0.0033, 'grad_norm': 0.13279251754283905, 'learning_rate': 1.6061613863119202e-05, 'epoch': 19.69}\n",
      "{'loss': 0.0032, 'grad_norm': 0.42598262429237366, 'learning_rate': 1.6044109924733067e-05, 'epoch': 19.78}\n",
      "{'loss': 0.0032, 'grad_norm': 0.04443296045064926, 'learning_rate': 1.602660598634693e-05, 'epoch': 19.87}\n",
      "{'loss': 0.0035, 'grad_norm': 0.15234293043613434, 'learning_rate': 1.6009102047960792e-05, 'epoch': 19.95}\n"
     ]
    },
    {
     "data": {
      "application/vnd.jupyter.widget-view+json": {
       "model_id": "861abede335b47a8a95bbd20ad38aead",
       "version_major": 2,
       "version_minor": 0
      },
      "text/plain": [
       "  0%|          | 0/1009 [00:00<?, ?it/s]"
      ]
     },
     "metadata": {},
     "output_type": "display_data"
    },
    {
     "name": "stdout",
     "output_type": "stream",
     "text": [
      "{'eval_loss': 0.012371249496936798, 'eval_accuracy': 0.7867195734391469, 'eval_f1': 0.872744294153727, 'eval_precision_1': 0.9103919719827587, 'eval_recall': 0.8380866761733523, 'eval_runtime': 113.5648, 'eval_samples_per_second': 142.025, 'eval_steps_per_second': 8.885, 'epoch': 20.0}\n",
      "{'loss': 0.0031, 'grad_norm': 0.035520296543836594, 'learning_rate': 1.5991598109574654e-05, 'epoch': 20.04}\n",
      "{'loss': 0.003, 'grad_norm': 0.3665737807750702, 'learning_rate': 1.597409417118852e-05, 'epoch': 20.13}\n",
      "{'loss': 0.003, 'grad_norm': 0.025458533316850662, 'learning_rate': 1.5956590232802382e-05, 'epoch': 20.22}\n",
      "{'loss': 0.0031, 'grad_norm': 0.01922805793583393, 'learning_rate': 1.5939086294416245e-05, 'epoch': 20.3}\n",
      "{'loss': 0.0031, 'grad_norm': 0.18952970206737518, 'learning_rate': 1.5921582356030107e-05, 'epoch': 20.39}\n",
      "{'loss': 0.0032, 'grad_norm': 0.03059622459113598, 'learning_rate': 1.5904078417643973e-05, 'epoch': 20.48}\n",
      "{'loss': 0.0032, 'grad_norm': 0.08143120259046555, 'learning_rate': 1.5886574479257835e-05, 'epoch': 20.57}\n",
      "{'loss': 0.0032, 'grad_norm': 0.03277577832341194, 'learning_rate': 1.5869070540871697e-05, 'epoch': 20.65}\n",
      "{'loss': 0.003, 'grad_norm': 0.16113878786563873, 'learning_rate': 1.585156660248556e-05, 'epoch': 20.74}\n",
      "{'loss': 0.0031, 'grad_norm': 0.29606178402900696, 'learning_rate': 1.5834062664099422e-05, 'epoch': 20.83}\n",
      "{'loss': 0.0032, 'grad_norm': 0.04199853539466858, 'learning_rate': 1.5816558725713288e-05, 'epoch': 20.92}\n"
     ]
    },
    {
     "data": {
      "application/vnd.jupyter.widget-view+json": {
       "model_id": "4b7cad15a2484e2982daf596a7a6be1d",
       "version_major": 2,
       "version_minor": 0
      },
      "text/plain": [
       "  0%|          | 0/1009 [00:00<?, ?it/s]"
      ]
     },
     "metadata": {},
     "output_type": "display_data"
    },
    {
     "name": "stdout",
     "output_type": "stream",
     "text": [
      "{'eval_loss': 0.012958060018718243, 'eval_accuracy': 0.7870915741831483, 'eval_f1': 0.8692397056925262, 'eval_precision_1': 0.9063867016622922, 'eval_recall': 0.8350176700353401, 'eval_runtime': 113.7188, 'eval_samples_per_second': 141.832, 'eval_steps_per_second': 8.873, 'epoch': 21.0}\n",
      "{'loss': 0.0031, 'grad_norm': 0.05561451241374016, 'learning_rate': 1.579905478732715e-05, 'epoch': 21.0}\n",
      "{'loss': 0.0026, 'grad_norm': 0.16680364310741425, 'learning_rate': 1.5781550848941016e-05, 'epoch': 21.09}\n",
      "{'loss': 0.0029, 'grad_norm': 0.10206746309995651, 'learning_rate': 1.5764046910554875e-05, 'epoch': 21.18}\n",
      "{'loss': 0.0027, 'grad_norm': 0.1462629735469818, 'learning_rate': 1.574654297216874e-05, 'epoch': 21.27}\n",
      "{'loss': 0.0031, 'grad_norm': 0.1820955127477646, 'learning_rate': 1.5729039033782603e-05, 'epoch': 21.35}\n",
      "{'loss': 0.0031, 'grad_norm': 0.32860615849494934, 'learning_rate': 1.5711535095396465e-05, 'epoch': 21.44}\n",
      "{'loss': 0.0029, 'grad_norm': 0.07196151465177536, 'learning_rate': 1.5694031157010327e-05, 'epoch': 21.53}\n",
      "{'loss': 0.003, 'grad_norm': 0.19943290948867798, 'learning_rate': 1.567652721862419e-05, 'epoch': 21.62}\n",
      "{'loss': 0.0031, 'grad_norm': 0.06013898923993111, 'learning_rate': 1.5659023280238055e-05, 'epoch': 21.7}\n",
      "{'loss': 0.003, 'grad_norm': 0.4709005355834961, 'learning_rate': 1.5641519341851918e-05, 'epoch': 21.79}\n",
      "{'loss': 0.0032, 'grad_norm': 0.6227200031280518, 'learning_rate': 1.5624015403465783e-05, 'epoch': 21.88}\n",
      "{'loss': 0.0032, 'grad_norm': 0.32529914379119873, 'learning_rate': 1.5606511465079642e-05, 'epoch': 21.97}\n"
     ]
    },
    {
     "data": {
      "application/vnd.jupyter.widget-view+json": {
       "model_id": "64ec4591142a4c3d8f8d63e5906cdf06",
       "version_major": 2,
       "version_minor": 0
      },
      "text/plain": [
       "  0%|          | 0/1009 [00:00<?, ?it/s]"
      ]
     },
     "metadata": {},
     "output_type": "display_data"
    },
    {
     "name": "stdout",
     "output_type": "stream",
     "text": [
      "{'eval_loss': 0.012736617587506771, 'eval_accuracy': 0.7874635749271498, 'eval_f1': 0.8719093851132687, 'eval_precision_1': 0.9119897095660415, 'eval_recall': 0.8352036704073408, 'eval_runtime': 113.8574, 'eval_samples_per_second': 141.66, 'eval_steps_per_second': 8.862, 'epoch': 22.0}\n",
      "{'loss': 0.0026, 'grad_norm': 0.07129199057817459, 'learning_rate': 1.5589007526693508e-05, 'epoch': 22.05}\n",
      "{'loss': 0.0028, 'grad_norm': 0.030295355245471, 'learning_rate': 1.557150358830737e-05, 'epoch': 22.14}\n",
      "{'loss': 0.0029, 'grad_norm': 0.1133953183889389, 'learning_rate': 1.5553999649921233e-05, 'epoch': 22.23}\n",
      "{'loss': 0.0028, 'grad_norm': 0.3489568829536438, 'learning_rate': 1.5536495711535095e-05, 'epoch': 22.32}\n",
      "{'loss': 0.0028, 'grad_norm': 0.15032409131526947, 'learning_rate': 1.551899177314896e-05, 'epoch': 22.41}\n",
      "{'loss': 0.0029, 'grad_norm': 0.24968084692955017, 'learning_rate': 1.5501487834762823e-05, 'epoch': 22.49}\n",
      "{'loss': 0.0029, 'grad_norm': 0.03027733974158764, 'learning_rate': 1.5483983896376685e-05, 'epoch': 22.58}\n",
      "{'loss': 0.003, 'grad_norm': 0.11048564314842224, 'learning_rate': 1.546647995799055e-05, 'epoch': 22.67}\n",
      "{'loss': 0.003, 'grad_norm': 0.03418648615479469, 'learning_rate': 1.544897601960441e-05, 'epoch': 22.76}\n",
      "{'loss': 0.0028, 'grad_norm': 0.10048718005418777, 'learning_rate': 1.5431472081218276e-05, 'epoch': 22.84}\n",
      "{'loss': 0.0032, 'grad_norm': 0.0503869503736496, 'learning_rate': 1.5413968142832138e-05, 'epoch': 22.93}\n"
     ]
    },
    {
     "data": {
      "application/vnd.jupyter.widget-view+json": {
       "model_id": "065b34406dbf44c98435cee6898d1938",
       "version_major": 2,
       "version_minor": 0
      },
      "text/plain": [
       "  0%|          | 0/1009 [00:00<?, ?it/s]"
      ]
     },
     "metadata": {},
     "output_type": "display_data"
    },
    {
     "name": "stdout",
     "output_type": "stream",
     "text": [
      "{'eval_loss': 0.012513984926044941, 'eval_accuracy': 0.7862235724471449, 'eval_f1': 0.8738566331495297, 'eval_precision_1': 0.916298211006054, 'eval_recall': 0.8351726703453407, 'eval_runtime': 113.9494, 'eval_samples_per_second': 141.545, 'eval_steps_per_second': 8.855, 'epoch': 23.0}\n",
      "{'loss': 0.0031, 'grad_norm': 0.053791116923093796, 'learning_rate': 1.5396464204446004e-05, 'epoch': 23.02}\n",
      "{'loss': 0.0028, 'grad_norm': 0.06200553849339485, 'learning_rate': 1.5378960266059866e-05, 'epoch': 23.11}\n",
      "{'loss': 0.0027, 'grad_norm': 0.06717050820589066, 'learning_rate': 1.5361456327673728e-05, 'epoch': 23.19}\n",
      "{'loss': 0.0027, 'grad_norm': 0.03196967393159866, 'learning_rate': 1.534395238928759e-05, 'epoch': 23.28}\n",
      "{'loss': 0.0028, 'grad_norm': 0.054560039192438126, 'learning_rate': 1.5326448450901453e-05, 'epoch': 23.37}\n",
      "{'loss': 0.0032, 'grad_norm': 0.4048727750778198, 'learning_rate': 1.530894451251532e-05, 'epoch': 23.46}\n",
      "{'loss': 0.0028, 'grad_norm': 0.13920627534389496, 'learning_rate': 1.529144057412918e-05, 'epoch': 23.54}\n",
      "{'loss': 0.003, 'grad_norm': 0.07222142815589905, 'learning_rate': 1.5273936635743043e-05, 'epoch': 23.63}\n",
      "{'loss': 0.0029, 'grad_norm': 0.396411657333374, 'learning_rate': 1.5256432697356907e-05, 'epoch': 23.72}\n",
      "{'loss': 0.0029, 'grad_norm': 0.0861470177769661, 'learning_rate': 1.523892875897077e-05, 'epoch': 23.81}\n",
      "{'loss': 0.0028, 'grad_norm': 0.004793647211045027, 'learning_rate': 1.5221424820584633e-05, 'epoch': 23.89}\n",
      "{'loss': 0.003, 'grad_norm': 0.4936341345310211, 'learning_rate': 1.5203920882198496e-05, 'epoch': 23.98}\n"
     ]
    },
    {
     "data": {
      "application/vnd.jupyter.widget-view+json": {
       "model_id": "72b4d43c9a0047338097c7706a15a780",
       "version_major": 2,
       "version_minor": 0
      },
      "text/plain": [
       "  0%|          | 0/1009 [00:00<?, ?it/s]"
      ]
     },
     "metadata": {},
     "output_type": "display_data"
    },
    {
     "name": "stdout",
     "output_type": "stream",
     "text": [
      "{'eval_loss': 0.013048234395682812, 'eval_accuracy': 0.7921755843511687, 'eval_f1': 0.8720482897384306, 'eval_precision_1': 0.9069541634579972, 'eval_recall': 0.839729679459359, 'eval_runtime': 113.4697, 'eval_samples_per_second': 142.144, 'eval_steps_per_second': 8.892, 'epoch': 24.0}\n",
      "{'loss': 0.0025, 'grad_norm': 0.020054319873452187, 'learning_rate': 1.5186416943812358e-05, 'epoch': 24.07}\n",
      "{'loss': 0.0027, 'grad_norm': 0.05007627233862877, 'learning_rate': 1.5168913005426222e-05, 'epoch': 24.16}\n",
      "{'loss': 0.0025, 'grad_norm': 0.03048541396856308, 'learning_rate': 1.5151409067040086e-05, 'epoch': 24.24}\n",
      "{'loss': 0.0028, 'grad_norm': 0.12620504200458527, 'learning_rate': 1.5133905128653947e-05, 'epoch': 24.33}\n",
      "{'loss': 0.0029, 'grad_norm': 0.10131364315748215, 'learning_rate': 1.511640119026781e-05, 'epoch': 24.42}\n",
      "{'loss': 0.0027, 'grad_norm': 1.1029716730117798, 'learning_rate': 1.5098897251881675e-05, 'epoch': 24.51}\n",
      "{'loss': 0.0026, 'grad_norm': 0.437293142080307, 'learning_rate': 1.5081393313495539e-05, 'epoch': 24.59}\n",
      "{'loss': 0.0029, 'grad_norm': 0.08947951346635818, 'learning_rate': 1.5063889375109401e-05, 'epoch': 24.68}\n",
      "{'loss': 0.003, 'grad_norm': 0.12787117063999176, 'learning_rate': 1.5046385436723263e-05, 'epoch': 24.77}\n",
      "{'loss': 0.0027, 'grad_norm': 0.22146789729595184, 'learning_rate': 1.5028881498337127e-05, 'epoch': 24.86}\n",
      "{'loss': 0.0027, 'grad_norm': 0.05493695288896561, 'learning_rate': 1.501137755995099e-05, 'epoch': 24.94}\n"
     ]
    },
    {
     "data": {
      "application/vnd.jupyter.widget-view+json": {
       "model_id": "8f678940ac0345d7a5c3c03603d93ace",
       "version_major": 2,
       "version_minor": 0
      },
      "text/plain": [
       "  0%|          | 0/1009 [00:00<?, ?it/s]"
      ]
     },
     "metadata": {},
     "output_type": "display_data"
    },
    {
     "name": "stdout",
     "output_type": "stream",
     "text": [
      "{'eval_loss': 0.012843534350395203, 'eval_accuracy': 0.7952135904271809, 'eval_f1': 0.871871678423036, 'eval_precision_1': 0.9072596862850248, 'eval_recall': 0.8391406782813565, 'eval_runtime': 113.3802, 'eval_samples_per_second': 142.256, 'eval_steps_per_second': 8.899, 'epoch': 25.0}\n",
      "{'loss': 0.0027, 'grad_norm': 0.09436175227165222, 'learning_rate': 1.4993873621564854e-05, 'epoch': 25.03}\n",
      "{'loss': 0.0024, 'grad_norm': 0.028055889531970024, 'learning_rate': 1.4976369683178718e-05, 'epoch': 25.12}\n",
      "{'loss': 0.0026, 'grad_norm': 0.012291422113776207, 'learning_rate': 1.4958865744792578e-05, 'epoch': 25.21}\n",
      "{'loss': 0.0029, 'grad_norm': 0.19876140356063843, 'learning_rate': 1.4941361806406442e-05, 'epoch': 25.29}\n",
      "{'loss': 0.0028, 'grad_norm': 0.04795808345079422, 'learning_rate': 1.4923857868020306e-05, 'epoch': 25.38}\n",
      "{'loss': 0.0028, 'grad_norm': 0.030622493475675583, 'learning_rate': 1.490635392963417e-05, 'epoch': 25.47}\n",
      "{'loss': 0.0027, 'grad_norm': 0.13271339237689972, 'learning_rate': 1.4888849991248031e-05, 'epoch': 25.56}\n",
      "{'loss': 0.0028, 'grad_norm': 0.07757938653230667, 'learning_rate': 1.4871346052861895e-05, 'epoch': 25.64}\n",
      "{'loss': 0.0028, 'grad_norm': 0.05531582981348038, 'learning_rate': 1.4853842114475759e-05, 'epoch': 25.73}\n",
      "{'loss': 0.0028, 'grad_norm': 0.027229363098740578, 'learning_rate': 1.4836338176089621e-05, 'epoch': 25.82}\n",
      "{'loss': 0.0028, 'grad_norm': 0.26025134325027466, 'learning_rate': 1.4818834237703485e-05, 'epoch': 25.91}\n",
      "{'loss': 0.0027, 'grad_norm': 0.2482776641845703, 'learning_rate': 1.4801330299317348e-05, 'epoch': 25.99}\n"
     ]
    },
    {
     "data": {
      "application/vnd.jupyter.widget-view+json": {
       "model_id": "ac9dba9063ff4d25a510ab96260f7105",
       "version_major": 2,
       "version_minor": 0
      },
      "text/plain": [
       "  0%|          | 0/1009 [00:00<?, ?it/s]"
      ]
     },
     "metadata": {},
     "output_type": "display_data"
    },
    {
     "name": "stdout",
     "output_type": "stream",
     "text": [
      "{'eval_loss': 0.012929117307066917, 'eval_accuracy': 0.7975695951391902, 'eval_f1': 0.8742945596439743, 'eval_precision_1': 0.9109879032258065, 'eval_recall': 0.8404426808853618, 'eval_runtime': 113.4414, 'eval_samples_per_second': 142.179, 'eval_steps_per_second': 8.894, 'epoch': 26.0}\n",
      "{'loss': 0.0024, 'grad_norm': 0.04990154877305031, 'learning_rate': 1.478382636093121e-05, 'epoch': 26.08}\n",
      "{'loss': 0.0026, 'grad_norm': 0.27397915720939636, 'learning_rate': 1.4766322422545074e-05, 'epoch': 26.17}\n",
      "{'loss': 0.0026, 'grad_norm': 0.01916823908686638, 'learning_rate': 1.4748818484158938e-05, 'epoch': 26.26}\n",
      "{'loss': 0.0027, 'grad_norm': 0.1451733410358429, 'learning_rate': 1.4731314545772799e-05, 'epoch': 26.34}\n",
      "{'loss': 0.0026, 'grad_norm': 0.1396797001361847, 'learning_rate': 1.4713810607386663e-05, 'epoch': 26.43}\n"
     ]
    },
    {
     "ename": "KeyboardInterrupt",
     "evalue": "",
     "output_type": "error",
     "traceback": [
      "\u001b[0;31m---------------------------------------------------------------------------\u001b[0m",
      "\u001b[0;31mKeyboardInterrupt\u001b[0m                         Traceback (most recent call last)",
      "Cell \u001b[0;32mIn[10], line 38\u001b[0m\n\u001b[1;32m     27\u001b[0m trainer \u001b[38;5;241m=\u001b[39m Trainer(\n\u001b[1;32m     28\u001b[0m     model\u001b[38;5;241m=\u001b[39mmodel,\n\u001b[1;32m     29\u001b[0m     args\u001b[38;5;241m=\u001b[39mtraining_args,\n\u001b[0;32m   (...)\u001b[0m\n\u001b[1;32m     34\u001b[0m     callbacks\u001b[38;5;241m=\u001b[39m[early_stopping]  \u001b[38;5;66;03m# Add the early stopping callback\u001b[39;00m\n\u001b[1;32m     35\u001b[0m )\n\u001b[1;32m     37\u001b[0m \u001b[38;5;66;03m# Start training\u001b[39;00m\n\u001b[0;32m---> 38\u001b[0m \u001b[43mtrainer\u001b[49m\u001b[38;5;241;43m.\u001b[39;49m\u001b[43mtrain\u001b[49m\u001b[43m(\u001b[49m\u001b[43m)\u001b[49m\n",
      "File \u001b[0;32m~/Desktop/MLotsawa/.venv/lib/python3.12/site-packages/transformers/trainer.py:2164\u001b[0m, in \u001b[0;36mTrainer.train\u001b[0;34m(self, resume_from_checkpoint, trial, ignore_keys_for_eval, **kwargs)\u001b[0m\n\u001b[1;32m   2162\u001b[0m         hf_hub_utils\u001b[38;5;241m.\u001b[39menable_progress_bars()\n\u001b[1;32m   2163\u001b[0m \u001b[38;5;28;01melse\u001b[39;00m:\n\u001b[0;32m-> 2164\u001b[0m     \u001b[38;5;28;01mreturn\u001b[39;00m \u001b[43minner_training_loop\u001b[49m\u001b[43m(\u001b[49m\n\u001b[1;32m   2165\u001b[0m \u001b[43m        \u001b[49m\u001b[43margs\u001b[49m\u001b[38;5;241;43m=\u001b[39;49m\u001b[43margs\u001b[49m\u001b[43m,\u001b[49m\n\u001b[1;32m   2166\u001b[0m \u001b[43m        \u001b[49m\u001b[43mresume_from_checkpoint\u001b[49m\u001b[38;5;241;43m=\u001b[39;49m\u001b[43mresume_from_checkpoint\u001b[49m\u001b[43m,\u001b[49m\n\u001b[1;32m   2167\u001b[0m \u001b[43m        \u001b[49m\u001b[43mtrial\u001b[49m\u001b[38;5;241;43m=\u001b[39;49m\u001b[43mtrial\u001b[49m\u001b[43m,\u001b[49m\n\u001b[1;32m   2168\u001b[0m \u001b[43m        \u001b[49m\u001b[43mignore_keys_for_eval\u001b[49m\u001b[38;5;241;43m=\u001b[39;49m\u001b[43mignore_keys_for_eval\u001b[49m\u001b[43m,\u001b[49m\n\u001b[1;32m   2169\u001b[0m \u001b[43m    \u001b[49m\u001b[43m)\u001b[49m\n",
      "File \u001b[0;32m~/Desktop/MLotsawa/.venv/lib/python3.12/site-packages/transformers/trainer.py:2522\u001b[0m, in \u001b[0;36mTrainer._inner_training_loop\u001b[0;34m(self, batch_size, args, resume_from_checkpoint, trial, ignore_keys_for_eval)\u001b[0m\n\u001b[1;32m   2516\u001b[0m context \u001b[38;5;241m=\u001b[39m (\n\u001b[1;32m   2517\u001b[0m     functools\u001b[38;5;241m.\u001b[39mpartial(\u001b[38;5;28mself\u001b[39m\u001b[38;5;241m.\u001b[39maccelerator\u001b[38;5;241m.\u001b[39mno_sync, model\u001b[38;5;241m=\u001b[39mmodel)\n\u001b[1;32m   2518\u001b[0m     \u001b[38;5;28;01mif\u001b[39;00m i \u001b[38;5;241m!=\u001b[39m \u001b[38;5;28mlen\u001b[39m(batch_samples) \u001b[38;5;241m-\u001b[39m \u001b[38;5;241m1\u001b[39m\n\u001b[1;32m   2519\u001b[0m     \u001b[38;5;28;01melse\u001b[39;00m contextlib\u001b[38;5;241m.\u001b[39mnullcontext\n\u001b[1;32m   2520\u001b[0m )\n\u001b[1;32m   2521\u001b[0m \u001b[38;5;28;01mwith\u001b[39;00m context():\n\u001b[0;32m-> 2522\u001b[0m     tr_loss_step \u001b[38;5;241m=\u001b[39m \u001b[38;5;28;43mself\u001b[39;49m\u001b[38;5;241;43m.\u001b[39;49m\u001b[43mtraining_step\u001b[49m\u001b[43m(\u001b[49m\u001b[43mmodel\u001b[49m\u001b[43m,\u001b[49m\u001b[43m \u001b[49m\u001b[43minputs\u001b[49m\u001b[43m,\u001b[49m\u001b[43m \u001b[49m\u001b[43mnum_items_in_batch\u001b[49m\u001b[43m)\u001b[49m\n\u001b[1;32m   2524\u001b[0m \u001b[38;5;28;01mif\u001b[39;00m (\n\u001b[1;32m   2525\u001b[0m     args\u001b[38;5;241m.\u001b[39mlogging_nan_inf_filter\n\u001b[1;32m   2526\u001b[0m     \u001b[38;5;129;01mand\u001b[39;00m \u001b[38;5;129;01mnot\u001b[39;00m is_torch_xla_available()\n\u001b[1;32m   2527\u001b[0m     \u001b[38;5;129;01mand\u001b[39;00m (torch\u001b[38;5;241m.\u001b[39misnan(tr_loss_step) \u001b[38;5;129;01mor\u001b[39;00m torch\u001b[38;5;241m.\u001b[39misinf(tr_loss_step))\n\u001b[1;32m   2528\u001b[0m ):\n\u001b[1;32m   2529\u001b[0m     \u001b[38;5;66;03m# if loss is nan or inf simply add the average of previous logged losses\u001b[39;00m\n\u001b[1;32m   2530\u001b[0m     tr_loss \u001b[38;5;241m=\u001b[39m tr_loss \u001b[38;5;241m+\u001b[39m tr_loss \u001b[38;5;241m/\u001b[39m (\u001b[38;5;241m1\u001b[39m \u001b[38;5;241m+\u001b[39m \u001b[38;5;28mself\u001b[39m\u001b[38;5;241m.\u001b[39mstate\u001b[38;5;241m.\u001b[39mglobal_step \u001b[38;5;241m-\u001b[39m \u001b[38;5;28mself\u001b[39m\u001b[38;5;241m.\u001b[39m_globalstep_last_logged)\n",
      "File \u001b[0;32m~/Desktop/MLotsawa/.venv/lib/python3.12/site-packages/transformers/trainer.py:3688\u001b[0m, in \u001b[0;36mTrainer.training_step\u001b[0;34m(***failed resolving arguments***)\u001b[0m\n\u001b[1;32m   3686\u001b[0m         scaled_loss\u001b[38;5;241m.\u001b[39mbackward()\n\u001b[1;32m   3687\u001b[0m \u001b[38;5;28;01melse\u001b[39;00m:\n\u001b[0;32m-> 3688\u001b[0m     \u001b[38;5;28;43mself\u001b[39;49m\u001b[38;5;241;43m.\u001b[39;49m\u001b[43maccelerator\u001b[49m\u001b[38;5;241;43m.\u001b[39;49m\u001b[43mbackward\u001b[49m\u001b[43m(\u001b[49m\u001b[43mloss\u001b[49m\u001b[43m,\u001b[49m\u001b[43m \u001b[49m\u001b[38;5;241;43m*\u001b[39;49m\u001b[38;5;241;43m*\u001b[39;49m\u001b[43mkwargs\u001b[49m\u001b[43m)\u001b[49m\n\u001b[1;32m   3689\u001b[0m     \u001b[38;5;66;03m# Finally we need to normalize the loss for reporting\u001b[39;00m\n\u001b[1;32m   3690\u001b[0m     \u001b[38;5;28;01mif\u001b[39;00m num_items_in_batch \u001b[38;5;129;01mis\u001b[39;00m \u001b[38;5;28;01mNone\u001b[39;00m:\n",
      "File \u001b[0;32m~/Desktop/MLotsawa/.venv/lib/python3.12/site-packages/accelerate/accelerator.py:2248\u001b[0m, in \u001b[0;36mAccelerator.backward\u001b[0;34m(self, loss, **kwargs)\u001b[0m\n\u001b[1;32m   2246\u001b[0m     \u001b[38;5;28mself\u001b[39m\u001b[38;5;241m.\u001b[39mlomo_backward(loss, learning_rate)\n\u001b[1;32m   2247\u001b[0m \u001b[38;5;28;01melse\u001b[39;00m:\n\u001b[0;32m-> 2248\u001b[0m     \u001b[43mloss\u001b[49m\u001b[38;5;241;43m.\u001b[39;49m\u001b[43mbackward\u001b[49m\u001b[43m(\u001b[49m\u001b[38;5;241;43m*\u001b[39;49m\u001b[38;5;241;43m*\u001b[39;49m\u001b[43mkwargs\u001b[49m\u001b[43m)\u001b[49m\n",
      "File \u001b[0;32m~/Desktop/MLotsawa/.venv/lib/python3.12/site-packages/torch/_tensor.py:581\u001b[0m, in \u001b[0;36mTensor.backward\u001b[0;34m(self, gradient, retain_graph, create_graph, inputs)\u001b[0m\n\u001b[1;32m    571\u001b[0m \u001b[38;5;28;01mif\u001b[39;00m has_torch_function_unary(\u001b[38;5;28mself\u001b[39m):\n\u001b[1;32m    572\u001b[0m     \u001b[38;5;28;01mreturn\u001b[39;00m handle_torch_function(\n\u001b[1;32m    573\u001b[0m         Tensor\u001b[38;5;241m.\u001b[39mbackward,\n\u001b[1;32m    574\u001b[0m         (\u001b[38;5;28mself\u001b[39m,),\n\u001b[0;32m   (...)\u001b[0m\n\u001b[1;32m    579\u001b[0m         inputs\u001b[38;5;241m=\u001b[39minputs,\n\u001b[1;32m    580\u001b[0m     )\n\u001b[0;32m--> 581\u001b[0m \u001b[43mtorch\u001b[49m\u001b[38;5;241;43m.\u001b[39;49m\u001b[43mautograd\u001b[49m\u001b[38;5;241;43m.\u001b[39;49m\u001b[43mbackward\u001b[49m\u001b[43m(\u001b[49m\n\u001b[1;32m    582\u001b[0m \u001b[43m    \u001b[49m\u001b[38;5;28;43mself\u001b[39;49m\u001b[43m,\u001b[49m\u001b[43m \u001b[49m\u001b[43mgradient\u001b[49m\u001b[43m,\u001b[49m\u001b[43m \u001b[49m\u001b[43mretain_graph\u001b[49m\u001b[43m,\u001b[49m\u001b[43m \u001b[49m\u001b[43mcreate_graph\u001b[49m\u001b[43m,\u001b[49m\u001b[43m \u001b[49m\u001b[43minputs\u001b[49m\u001b[38;5;241;43m=\u001b[39;49m\u001b[43minputs\u001b[49m\n\u001b[1;32m    583\u001b[0m \u001b[43m\u001b[49m\u001b[43m)\u001b[49m\n",
      "File \u001b[0;32m~/Desktop/MLotsawa/.venv/lib/python3.12/site-packages/torch/autograd/__init__.py:347\u001b[0m, in \u001b[0;36mbackward\u001b[0;34m(tensors, grad_tensors, retain_graph, create_graph, grad_variables, inputs)\u001b[0m\n\u001b[1;32m    342\u001b[0m     retain_graph \u001b[38;5;241m=\u001b[39m create_graph\n\u001b[1;32m    344\u001b[0m \u001b[38;5;66;03m# The reason we repeat the same comment below is that\u001b[39;00m\n\u001b[1;32m    345\u001b[0m \u001b[38;5;66;03m# some Python versions print out the first line of a multi-line function\u001b[39;00m\n\u001b[1;32m    346\u001b[0m \u001b[38;5;66;03m# calls in the traceback and some print out the last line\u001b[39;00m\n\u001b[0;32m--> 347\u001b[0m \u001b[43m_engine_run_backward\u001b[49m\u001b[43m(\u001b[49m\n\u001b[1;32m    348\u001b[0m \u001b[43m    \u001b[49m\u001b[43mtensors\u001b[49m\u001b[43m,\u001b[49m\n\u001b[1;32m    349\u001b[0m \u001b[43m    \u001b[49m\u001b[43mgrad_tensors_\u001b[49m\u001b[43m,\u001b[49m\n\u001b[1;32m    350\u001b[0m \u001b[43m    \u001b[49m\u001b[43mretain_graph\u001b[49m\u001b[43m,\u001b[49m\n\u001b[1;32m    351\u001b[0m \u001b[43m    \u001b[49m\u001b[43mcreate_graph\u001b[49m\u001b[43m,\u001b[49m\n\u001b[1;32m    352\u001b[0m \u001b[43m    \u001b[49m\u001b[43minputs\u001b[49m\u001b[43m,\u001b[49m\n\u001b[1;32m    353\u001b[0m \u001b[43m    \u001b[49m\u001b[43mallow_unreachable\u001b[49m\u001b[38;5;241;43m=\u001b[39;49m\u001b[38;5;28;43;01mTrue\u001b[39;49;00m\u001b[43m,\u001b[49m\n\u001b[1;32m    354\u001b[0m \u001b[43m    \u001b[49m\u001b[43maccumulate_grad\u001b[49m\u001b[38;5;241;43m=\u001b[39;49m\u001b[38;5;28;43;01mTrue\u001b[39;49;00m\u001b[43m,\u001b[49m\n\u001b[1;32m    355\u001b[0m \u001b[43m\u001b[49m\u001b[43m)\u001b[49m\n",
      "File \u001b[0;32m~/Desktop/MLotsawa/.venv/lib/python3.12/site-packages/torch/autograd/graph.py:825\u001b[0m, in \u001b[0;36m_engine_run_backward\u001b[0;34m(t_outputs, *args, **kwargs)\u001b[0m\n\u001b[1;32m    823\u001b[0m     unregister_hooks \u001b[38;5;241m=\u001b[39m _register_logging_hooks_on_whole_graph(t_outputs)\n\u001b[1;32m    824\u001b[0m \u001b[38;5;28;01mtry\u001b[39;00m:\n\u001b[0;32m--> 825\u001b[0m     \u001b[38;5;28;01mreturn\u001b[39;00m \u001b[43mVariable\u001b[49m\u001b[38;5;241;43m.\u001b[39;49m\u001b[43m_execution_engine\u001b[49m\u001b[38;5;241;43m.\u001b[39;49m\u001b[43mrun_backward\u001b[49m\u001b[43m(\u001b[49m\u001b[43m  \u001b[49m\u001b[38;5;66;43;03m# Calls into the C++ engine to run the backward pass\u001b[39;49;00m\n\u001b[1;32m    826\u001b[0m \u001b[43m        \u001b[49m\u001b[43mt_outputs\u001b[49m\u001b[43m,\u001b[49m\u001b[43m \u001b[49m\u001b[38;5;241;43m*\u001b[39;49m\u001b[43margs\u001b[49m\u001b[43m,\u001b[49m\u001b[43m \u001b[49m\u001b[38;5;241;43m*\u001b[39;49m\u001b[38;5;241;43m*\u001b[39;49m\u001b[43mkwargs\u001b[49m\n\u001b[1;32m    827\u001b[0m \u001b[43m    \u001b[49m\u001b[43m)\u001b[49m  \u001b[38;5;66;03m# Calls into the C++ engine to run the backward pass\u001b[39;00m\n\u001b[1;32m    828\u001b[0m \u001b[38;5;28;01mfinally\u001b[39;00m:\n\u001b[1;32m    829\u001b[0m     \u001b[38;5;28;01mif\u001b[39;00m attach_logging_hooks:\n",
      "\u001b[0;31mKeyboardInterrupt\u001b[0m: "
     ]
    }
   ],
   "source": [
    "from transformers import TrainingArguments, Trainer\n",
    "\n",
    "from transformers import EarlyStoppingCallback\n",
    "\n",
    "# Define training arguments\n",
    "training_args = TrainingArguments(\n",
    "    output_dir=\"en-lh-lg-bert-classifier\",\n",
    "    learning_rate=2e-5,\n",
    "    per_device_train_batch_size=16,\n",
    "    per_device_eval_batch_size=16,\n",
    "    num_train_epochs=100,  # Set a maximum number of epochs\n",
    "    weight_decay=0.01,\n",
    "    eval_strategy=\"epoch\",  # Evaluate at the end of every epoch\n",
    "    save_strategy=\"epoch\",  # Save the model at the end of every epoch\n",
    "    load_best_model_at_end=True,  # Load the best model after training\n",
    "    metric_for_best_model=\"accuracy\",  # Metric to monitor\n",
    "    greater_is_better=True,  # Higher accuracy is better\n",
    "    logging_dir=\"./logs\"\n",
    ")\n",
    "\n",
    "# Add the EarlyStoppingCallback\n",
    "early_stopping = EarlyStoppingCallback(\n",
    "    early_stopping_patience=3  # Stop training if the metric does not improve for 3 evaluation steps\n",
    ")\n",
    "\n",
    "# Initialize the Trainer\n",
    "trainer = Trainer(\n",
    "    model=model,\n",
    "    args=training_args,\n",
    "    train_dataset=encoded_dataset[\"train\"],\n",
    "    eval_dataset=encoded_dataset[\"test\"],\n",
    "    tokenizer=tokenizer,\n",
    "    compute_metrics=compute_metrics,\n",
    "    callbacks=[early_stopping]  # Add the early stopping callback\n",
    ")\n",
    "\n",
    "# Start training\n",
    "trainer.train()"
   ]
  },
  {
   "cell_type": "markdown",
   "metadata": {},
   "source": [
    "## Test Outputs"
   ]
  },
  {
   "cell_type": "code",
   "execution_count": null,
   "metadata": {},
   "outputs": [],
   "source": [
    "from transformers import BertTokenizer, BertForSequenceClassification\n",
    "import torch\n",
    "import json\n",
    "\n",
    "# Load the trained model and tokenizer\n",
    "model = BertForSequenceClassification.from_pretrained(\"/home/j/Desktop/MLotsawa/Notebooks/Models/BertTag/bert-classifier/checkpoint-34275\")\n",
    "tokenizer = BertTokenizer.from_pretrained(\"./tibetan_tokenizer\")\n",
    "device = torch.device(\"cuda\" if torch.cuda.is_available() else \"cpu\")\n",
    "model.to(device)\n",
    "model.eval()\n",
    "\n",
    "# Load label mapping\n",
    "with open(\"label_mapping.json\", \"r\") as f:\n",
    "    label_mapping = json.load(f)\n",
    "\n",
    "# Example input text\n",
    "input_text = \"བླ་མ་དང་ལྷག་པའི་ལྷ་ལ་ཕྱག་འཚལ་ལོ།།\"\n",
    "\n",
    "# Tokenize input\n",
    "encoded_input = tokenizer(\n",
    "    input_text, \n",
    "    padding=\"max_length\", \n",
    "    truncation=True, \n",
    "    max_length=128, \n",
    "    return_tensors=\"pt\"\n",
    ")\n",
    "encoded_input = {key: val.to(device) for key, val in encoded_input.items()}\n",
    "\n",
    "# Get predictions\n",
    "with torch.no_grad():\n",
    "    outputs = model(**encoded_input)\n",
    "    logits = outputs.logits\n",
    "    probabilities = torch.sigmoid(logits).cpu().numpy()\n",
    "    predictions = (probabilities > 0.5).astype(int)\n",
    "\n",
    "# Decode predictions\n",
    "predicted_tags = [label_mapping[i] for i, val in enumerate(predictions[0]) if val == 1]\n",
    "\n",
    "print(\"Predicted Tags:\", predicted_tags)\n"
   ]
  },
  {
   "cell_type": "code",
   "execution_count": null,
   "metadata": {},
   "outputs": [],
   "source": []
  }
 ],
 "metadata": {
  "kernelspec": {
   "display_name": ".venv",
   "language": "python",
   "name": "python3"
  },
  "language_info": {
   "codemirror_mode": {
    "name": "ipython",
    "version": 3
   },
   "file_extension": ".py",
   "mimetype": "text/x-python",
   "name": "python",
   "nbconvert_exporter": "python",
   "pygments_lexer": "ipython3",
   "version": "3.10.12"
  }
 },
 "nbformat": 4,
 "nbformat_minor": 2
}
