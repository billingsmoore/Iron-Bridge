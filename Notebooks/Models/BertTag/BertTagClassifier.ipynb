{
 "cells": [
  {
   "cell_type": "markdown",
   "metadata": {},
   "source": [
    "## Load Data and Tokenizer"
   ]
  },
  {
   "cell_type": "code",
   "execution_count": 1,
   "metadata": {},
   "outputs": [],
   "source": [
    "from transformers import BertTokenizer\n",
    "from datasets import load_dataset\n",
    "\n",
    "ds = load_dataset('billingsmoore/tagged-tibetan-to-english-translation-dataset')\n",
    "\n",
    "tokenizer = BertTokenizer.from_pretrained('tibetan_tokenizer')"
   ]
  },
  {
   "cell_type": "markdown",
   "metadata": {},
   "source": [
    "## Preprocess Data"
   ]
  },
  {
   "cell_type": "markdown",
   "metadata": {},
   "source": [
    "### Use just first two tags"
   ]
  },
  {
   "cell_type": "code",
   "execution_count": 2,
   "metadata": {},
   "outputs": [],
   "source": [
    "def just_two_tags(examples):\n",
    "    tags = [tag[:2] for tag in examples['Tags']]\n",
    "    examples['Tags'] = tags\n",
    "    return examples\n",
    "\n",
    "ds = ds.map(just_two_tags, batched=True)"
   ]
  },
  {
   "cell_type": "code",
   "execution_count": 3,
   "metadata": {},
   "outputs": [],
   "source": [
    "from sklearn.preprocessing import MultiLabelBinarizer\n",
    "\n",
    "\n",
    "mlb = MultiLabelBinarizer()\n",
    "labels = mlb.fit(ds['train']['Tags'])  # Fit all unique Tags\n",
    "\n",
    "# Save label mappings\n",
    "import json\n",
    "with open(\"label_mapping.json\", \"w\") as f:\n",
    "    json.dump(mlb.classes_.tolist(), f)\n"
   ]
  },
  {
   "cell_type": "code",
   "execution_count": 4,
   "metadata": {},
   "outputs": [],
   "source": [
    "def preprocess(examples):\n",
    "    tokens = tokenizer(examples[\"Tibetan\"], padding=\"max_length\", truncation=True, max_length=128)\n",
    "    tokens[\"labels\"] =  mlb.transform(examples['Tags']).astype(float).tolist() # Convert labels to multi-hot\n",
    "    return tokens\n",
    "\n",
    "encoded_dataset = ds.map(preprocess, batched=True)\n"
   ]
  },
  {
   "cell_type": "code",
   "execution_count": 5,
   "metadata": {},
   "outputs": [],
   "source": [
    "encoded_dataset = encoded_dataset.remove_columns(['Tibetan', 'Phonetic', 'English', 'Tags'])"
   ]
  },
  {
   "cell_type": "code",
   "execution_count": 6,
   "metadata": {},
   "outputs": [],
   "source": [
    "encoded_dataset = encoded_dataset['train'].train_test_split(.15)"
   ]
  },
  {
   "cell_type": "code",
   "execution_count": 7,
   "metadata": {},
   "outputs": [
    {
     "data": {
      "text/plain": [
       "'[CLS] བ ་ མ ་ དང ་ ལག ་ པའ ་ ལ ་ ལ ་ ཕག ་ འཚལ ་ ལ ། ། [SEP]'"
      ]
     },
     "execution_count": 7,
     "metadata": {},
     "output_type": "execute_result"
    }
   ],
   "source": [
    "enc = tokenizer(ds['train'][0]['Tibetan'])\n",
    "tokenizer.decode(enc.input_ids)"
   ]
  },
  {
   "cell_type": "code",
   "execution_count": 8,
   "metadata": {},
   "outputs": [
    {
     "data": {
      "text/plain": [
       "{'Tibetan': 'བླ་མ་དང་ལྷག་པའི་ལྷ་ལ་ཕྱག་འཚལ་ལོ།།',\n",
       " 'Phonetic': 'lama dang lhakpé lha la chaktsal lo',\n",
       " 'English': 'Homage to the guru and supreme deity.',\n",
       " 'Tags': ['Abhidharma', 'Praise']}"
      ]
     },
     "execution_count": 8,
     "metadata": {},
     "output_type": "execute_result"
    }
   ],
   "source": [
    "ds['train'][0]"
   ]
  },
  {
   "cell_type": "markdown",
   "metadata": {},
   "source": [
    "## Train Model"
   ]
  },
  {
   "cell_type": "code",
   "execution_count": 9,
   "metadata": {},
   "outputs": [
    {
     "name": "stderr",
     "output_type": "stream",
     "text": [
      "Some weights of BertForSequenceClassification were not initialized from the model checkpoint at bert-base-uncased and are newly initialized: ['classifier.bias', 'classifier.weight']\n",
      "You should probably TRAIN this model on a down-stream task to be able to use it for predictions and inference.\n"
     ]
    }
   ],
   "source": [
    "from transformers import BertTokenizer, BertForSequenceClassification\n",
    "\n",
    "# Load tokenizer and model\n",
    "model = BertForSequenceClassification.from_pretrained(\"bert-base-uncased\", num_labels=len(mlb.classes_))\n",
    "\n",
    "# Resize embeddings to match the new tokenizer\n",
    "model.resize_token_embeddings(len(tokenizer))\n",
    "\n",
    "# Move model to GPU\n",
    "model = model.to('cuda:0')"
   ]
  },
  {
   "cell_type": "code",
   "execution_count": 10,
   "metadata": {},
   "outputs": [],
   "source": [
    "import numpy as np\n",
    "from sklearn.metrics import accuracy_score, f1_score, precision_score, recall_score\n",
    "\n",
    "def compute_metrics(eval_pred):\n",
    "    predictions, references = eval_pred\n",
    "    \n",
    "    # Apply a threshold to convert logits to binary predictions\n",
    "    predictions = (predictions > 0.5).astype(int)\n",
    "    \n",
    "    # Compute metrics\n",
    "    accuracy = accuracy_score(references, predictions)\n",
    "    f1 = f1_score(references, predictions, average=\"micro\")\n",
    "    precision = precision_score(references, predictions, average=\"micro\")\n",
    "    recall = recall_score(references, predictions, average=\"micro\")\n",
    "\n",
    "    return {\n",
    "        \"accuracy\": accuracy,\n",
    "        \"f1\": f1,\n",
    "        \"precision_1\": precision,\n",
    "        \"recall\": recall,\n",
    "    }\n"
   ]
  },
  {
   "cell_type": "code",
   "execution_count": 11,
   "metadata": {},
   "outputs": [
    {
     "name": "stderr",
     "output_type": "stream",
     "text": [
      "/tmp/ipykernel_9135/3546473095.py:27: FutureWarning: `tokenizer` is deprecated and will be removed in version 5.0.0 for `Trainer.__init__`. Use `processing_class` instead.\n",
      "  trainer = Trainer(\n",
      "\u001b[34m\u001b[1mwandb\u001b[0m: \u001b[33mWARNING\u001b[0m The `run_name` is currently set to the same value as `TrainingArguments.output_dir`. If this was not intended, please specify a different run name by setting the `TrainingArguments.run_name` parameter.\n",
      "\u001b[34m\u001b[1mwandb\u001b[0m: Using wandb-core as the SDK backend.  Please refer to https://wandb.me/wandb-core for more information.\n",
      "\u001b[34m\u001b[1mwandb\u001b[0m: Currently logged in as: \u001b[33mbillingsmoore\u001b[0m. Use \u001b[1m`wandb login --relogin`\u001b[0m to force relogin\n"
     ]
    },
    {
     "data": {
      "text/html": [
       "Tracking run with wandb version 0.19.0"
      ],
      "text/plain": [
       "<IPython.core.display.HTML object>"
      ]
     },
     "metadata": {},
     "output_type": "display_data"
    },
    {
     "data": {
      "text/html": [
       "Run data is saved locally in <code>/home/j/Desktop/MLotsawa/Notebooks/Models/BertTag/wandb/run-20241229_152035-ku8fsgr4</code>"
      ],
      "text/plain": [
       "<IPython.core.display.HTML object>"
      ]
     },
     "metadata": {},
     "output_type": "display_data"
    },
    {
     "data": {
      "text/html": [
       "Syncing run <strong><a href='https://wandb.ai/billingsmoore/huggingface/runs/ku8fsgr4' target=\"_blank\">bert-classifier</a></strong> to <a href='https://wandb.ai/billingsmoore/huggingface' target=\"_blank\">Weights & Biases</a> (<a href='https://wandb.me/developer-guide' target=\"_blank\">docs</a>)<br/>"
      ],
      "text/plain": [
       "<IPython.core.display.HTML object>"
      ]
     },
     "metadata": {},
     "output_type": "display_data"
    },
    {
     "data": {
      "text/html": [
       " View project at <a href='https://wandb.ai/billingsmoore/huggingface' target=\"_blank\">https://wandb.ai/billingsmoore/huggingface</a>"
      ],
      "text/plain": [
       "<IPython.core.display.HTML object>"
      ]
     },
     "metadata": {},
     "output_type": "display_data"
    },
    {
     "data": {
      "text/html": [
       " View run at <a href='https://wandb.ai/billingsmoore/huggingface/runs/ku8fsgr4' target=\"_blank\">https://wandb.ai/billingsmoore/huggingface/runs/ku8fsgr4</a>"
      ],
      "text/plain": [
       "<IPython.core.display.HTML object>"
      ]
     },
     "metadata": {},
     "output_type": "display_data"
    },
    {
     "data": {
      "application/vnd.jupyter.widget-view+json": {
       "model_id": "19283e8532d749259c0252f2b84d25eb",
       "version_major": 2,
       "version_minor": 0
      },
      "text/plain": [
       "  0%|          | 0/571300 [00:00<?, ?it/s]"
      ]
     },
     "metadata": {},
     "output_type": "display_data"
    },
    {
     "name": "stdout",
     "output_type": "stream",
     "text": [
      "{'loss': 0.1586, 'grad_norm': 0.06657019257545471, 'learning_rate': 1.9982496061613864e-05, 'epoch': 0.09}\n",
      "{'loss': 0.0555, 'grad_norm': 0.06579519808292389, 'learning_rate': 1.996499212322773e-05, 'epoch': 0.18}\n",
      "{'loss': 0.0526, 'grad_norm': 0.0541217103600502, 'learning_rate': 1.994748818484159e-05, 'epoch': 0.26}\n",
      "{'loss': 0.0522, 'grad_norm': 0.05693612992763519, 'learning_rate': 1.9929984246455454e-05, 'epoch': 0.35}\n",
      "{'loss': 0.0519, 'grad_norm': 0.06708614528179169, 'learning_rate': 1.9912480308069317e-05, 'epoch': 0.44}\n",
      "{'loss': 0.0516, 'grad_norm': 0.0570235550403595, 'learning_rate': 1.9894976369683182e-05, 'epoch': 0.53}\n",
      "{'loss': 0.0517, 'grad_norm': 0.05111713334918022, 'learning_rate': 1.987747243129704e-05, 'epoch': 0.61}\n",
      "{'loss': 0.0515, 'grad_norm': 0.054363153874874115, 'learning_rate': 1.9859968492910907e-05, 'epoch': 0.7}\n",
      "{'loss': 0.0516, 'grad_norm': 0.048229996114969254, 'learning_rate': 1.984246455452477e-05, 'epoch': 0.79}\n",
      "{'loss': 0.0515, 'grad_norm': 0.049247704446315765, 'learning_rate': 1.982496061613863e-05, 'epoch': 0.88}\n",
      "{'loss': 0.0511, 'grad_norm': 0.054298993200063705, 'learning_rate': 1.9807456677752497e-05, 'epoch': 0.96}\n"
     ]
    },
    {
     "data": {
      "application/vnd.jupyter.widget-view+json": {
       "model_id": "d04d4be80f4847bba8928dc96233c91a",
       "version_major": 2,
       "version_minor": 0
      },
      "text/plain": [
       "  0%|          | 0/1009 [00:00<?, ?it/s]"
      ]
     },
     "metadata": {},
     "output_type": "display_data"
    },
    {
     "name": "stderr",
     "output_type": "stream",
     "text": [
      "/home/j/Desktop/MLotsawa/.venv/lib/python3.12/site-packages/sklearn/metrics/_classification.py:1565: UndefinedMetricWarning: Precision is ill-defined and being set to 0.0 due to no predicted samples. Use `zero_division` parameter to control this behavior.\n",
      "  _warn_prf(average, modifier, f\"{metric.capitalize()} is\", len(result))\n"
     ]
    },
    {
     "name": "stdout",
     "output_type": "stream",
     "text": [
      "{'eval_loss': 0.05055883154273033, 'eval_accuracy': 0.0, 'eval_f1': 0.0, 'eval_precision_1': 0.0, 'eval_recall': 0.0, 'eval_runtime': 40.2433, 'eval_samples_per_second': 400.787, 'eval_steps_per_second': 25.072, 'epoch': 1.0}\n",
      "{'loss': 0.0506, 'grad_norm': 0.048681192100048065, 'learning_rate': 1.978995273936636e-05, 'epoch': 1.05}\n",
      "{'loss': 0.0504, 'grad_norm': 0.04225074127316475, 'learning_rate': 1.9772448800980222e-05, 'epoch': 1.14}\n",
      "{'loss': 0.05, 'grad_norm': 0.0530262254178524, 'learning_rate': 1.9754944862594084e-05, 'epoch': 1.23}\n",
      "{'loss': 0.05, 'grad_norm': 0.053983863443136215, 'learning_rate': 1.973744092420795e-05, 'epoch': 1.31}\n",
      "{'loss': 0.0496, 'grad_norm': 0.2139396369457245, 'learning_rate': 1.9719936985821812e-05, 'epoch': 1.4}\n",
      "{'loss': 0.0494, 'grad_norm': 0.14534181356430054, 'learning_rate': 1.9702433047435675e-05, 'epoch': 1.49}\n",
      "{'loss': 0.0484, 'grad_norm': 0.08702977001667023, 'learning_rate': 1.9684929109049537e-05, 'epoch': 1.58}\n",
      "{'loss': 0.048, 'grad_norm': 0.061657700687646866, 'learning_rate': 1.9667425170663403e-05, 'epoch': 1.66}\n",
      "{'loss': 0.0473, 'grad_norm': 0.06262139230966568, 'learning_rate': 1.9649921232277265e-05, 'epoch': 1.75}\n",
      "{'loss': 0.0473, 'grad_norm': 0.1893477588891983, 'learning_rate': 1.9632417293891127e-05, 'epoch': 1.84}\n",
      "{'loss': 0.0467, 'grad_norm': 0.09557385742664337, 'learning_rate': 1.961491335550499e-05, 'epoch': 1.93}\n"
     ]
    },
    {
     "data": {
      "application/vnd.jupyter.widget-view+json": {
       "model_id": "46d6b07f5b764070babf28a5655d37d9",
       "version_major": 2,
       "version_minor": 0
      },
      "text/plain": [
       "  0%|          | 0/1009 [00:00<?, ?it/s]"
      ]
     },
     "metadata": {},
     "output_type": "display_data"
    },
    {
     "name": "stdout",
     "output_type": "stream",
     "text": [
      "{'eval_loss': 0.04634253308176994, 'eval_accuracy': 0.05363010726021452, 'eval_f1': 0.1068166661834208, 'eval_precision_1': 0.8256387270282385, 'eval_recall': 0.05710211420422841, 'eval_runtime': 40.0776, 'eval_samples_per_second': 402.444, 'eval_steps_per_second': 25.176, 'epoch': 2.0}\n",
      "{'loss': 0.0468, 'grad_norm': 0.15287017822265625, 'learning_rate': 1.9597409417118852e-05, 'epoch': 2.01}\n",
      "{'loss': 0.0467, 'grad_norm': 0.0966062918305397, 'learning_rate': 1.9579905478732717e-05, 'epoch': 2.1}\n",
      "{'loss': 0.0461, 'grad_norm': 0.09703671187162399, 'learning_rate': 1.956240154034658e-05, 'epoch': 2.19}\n",
      "{'loss': 0.0464, 'grad_norm': 0.06067479029297829, 'learning_rate': 1.9544897601960442e-05, 'epoch': 2.28}\n",
      "{'loss': 0.046, 'grad_norm': 0.1493440568447113, 'learning_rate': 1.9527393663574304e-05, 'epoch': 2.36}\n",
      "{'loss': 0.0458, 'grad_norm': 0.07012952119112015, 'learning_rate': 1.950988972518817e-05, 'epoch': 2.45}\n",
      "{'loss': 0.046, 'grad_norm': 0.06337795406579971, 'learning_rate': 1.9492385786802032e-05, 'epoch': 2.54}\n",
      "{'loss': 0.0457, 'grad_norm': 0.24647469818592072, 'learning_rate': 1.9474881848415895e-05, 'epoch': 2.63}\n",
      "{'loss': 0.0453, 'grad_norm': 0.06966591626405716, 'learning_rate': 1.9457377910029757e-05, 'epoch': 2.71}\n",
      "{'loss': 0.0455, 'grad_norm': 0.07423808425664902, 'learning_rate': 1.9439873971643623e-05, 'epoch': 2.8}\n",
      "{'loss': 0.0453, 'grad_norm': 0.2690027952194214, 'learning_rate': 1.9422370033257485e-05, 'epoch': 2.89}\n",
      "{'loss': 0.0451, 'grad_norm': 0.19833987951278687, 'learning_rate': 1.9404866094871347e-05, 'epoch': 2.98}\n"
     ]
    },
    {
     "data": {
      "application/vnd.jupyter.widget-view+json": {
       "model_id": "d8590e725f1940d98b3520e59485da70",
       "version_major": 2,
       "version_minor": 0
      },
      "text/plain": [
       "  0%|          | 0/1009 [00:00<?, ?it/s]"
      ]
     },
     "metadata": {},
     "output_type": "display_data"
    },
    {
     "name": "stdout",
     "output_type": "stream",
     "text": [
      "{'eval_loss': 0.04455872252583504, 'eval_accuracy': 0.051398102796205596, 'eval_f1': 0.10220088972137673, 'eval_precision_1': 0.9141361256544502, 'eval_recall': 0.054126108252216504, 'eval_runtime': 40.0529, 'eval_samples_per_second': 402.692, 'eval_steps_per_second': 25.192, 'epoch': 3.0}\n",
      "{'loss': 0.0449, 'grad_norm': 0.08660844713449478, 'learning_rate': 1.938736215648521e-05, 'epoch': 3.06}\n",
      "{'loss': 0.045, 'grad_norm': 0.10336534678936005, 'learning_rate': 1.9369858218099072e-05, 'epoch': 3.15}\n",
      "{'loss': 0.0441, 'grad_norm': 0.09430891275405884, 'learning_rate': 1.9352354279712938e-05, 'epoch': 3.24}\n",
      "{'loss': 0.0444, 'grad_norm': 0.07690390944480896, 'learning_rate': 1.93348503413268e-05, 'epoch': 3.33}\n",
      "{'loss': 0.0444, 'grad_norm': 0.2542254626750946, 'learning_rate': 1.9317346402940666e-05, 'epoch': 3.41}\n",
      "{'loss': 0.0443, 'grad_norm': 0.13074104487895966, 'learning_rate': 1.9299842464554525e-05, 'epoch': 3.5}\n",
      "{'loss': 0.044, 'grad_norm': 0.1089024543762207, 'learning_rate': 1.928233852616839e-05, 'epoch': 3.59}\n",
      "{'loss': 0.0436, 'grad_norm': 0.10619036853313446, 'learning_rate': 1.9264834587782253e-05, 'epoch': 3.68}\n",
      "{'loss': 0.0442, 'grad_norm': 0.0892811045050621, 'learning_rate': 1.9247330649396115e-05, 'epoch': 3.76}\n",
      "{'loss': 0.0435, 'grad_norm': 0.19969642162322998, 'learning_rate': 1.9229826711009977e-05, 'epoch': 3.85}\n",
      "{'loss': 0.0438, 'grad_norm': 0.18300554156303406, 'learning_rate': 1.9212322772623843e-05, 'epoch': 3.94}\n"
     ]
    },
    {
     "data": {
      "application/vnd.jupyter.widget-view+json": {
       "model_id": "1ec89dc057794ce2b83d204f7bafa4d5",
       "version_major": 2,
       "version_minor": 0
      },
      "text/plain": [
       "  0%|          | 0/1009 [00:00<?, ?it/s]"
      ]
     },
     "metadata": {},
     "output_type": "display_data"
    },
    {
     "name": "stdout",
     "output_type": "stream",
     "text": [
      "{'eval_loss': 0.04313644766807556, 'eval_accuracy': 0.07898815797631595, 'eval_f1': 0.15872484158222372, 'eval_precision_1': 0.7974754558204769, 'eval_recall': 0.08813317626635253, 'eval_runtime': 40.442, 'eval_samples_per_second': 398.818, 'eval_steps_per_second': 24.949, 'epoch': 4.0}\n",
      "{'loss': 0.0432, 'grad_norm': 0.11714501678943634, 'learning_rate': 1.9194818834237705e-05, 'epoch': 4.03}\n",
      "{'loss': 0.0426, 'grad_norm': 0.32087159156799316, 'learning_rate': 1.9177314895851568e-05, 'epoch': 4.11}\n",
      "{'loss': 0.0425, 'grad_norm': 0.11864697188138962, 'learning_rate': 1.9159810957465433e-05, 'epoch': 4.2}\n",
      "{'loss': 0.0427, 'grad_norm': 0.08705300837755203, 'learning_rate': 1.9142307019079292e-05, 'epoch': 4.29}\n",
      "{'loss': 0.0427, 'grad_norm': 0.1479588747024536, 'learning_rate': 1.9124803080693158e-05, 'epoch': 4.38}\n",
      "{'loss': 0.0423, 'grad_norm': 0.1372266262769699, 'learning_rate': 1.910729914230702e-05, 'epoch': 4.46}\n",
      "{'loss': 0.0421, 'grad_norm': 0.18194247782230377, 'learning_rate': 1.9089795203920886e-05, 'epoch': 4.55}\n",
      "{'loss': 0.042, 'grad_norm': 0.1493651121854782, 'learning_rate': 1.9072291265534745e-05, 'epoch': 4.64}\n",
      "{'loss': 0.0417, 'grad_norm': 0.1391652524471283, 'learning_rate': 1.905478732714861e-05, 'epoch': 4.73}\n",
      "{'loss': 0.0416, 'grad_norm': 0.16690662503242493, 'learning_rate': 1.9037283388762473e-05, 'epoch': 4.81}\n",
      "{'loss': 0.0411, 'grad_norm': 0.16916368901729584, 'learning_rate': 1.9019779450376335e-05, 'epoch': 4.9}\n",
      "{'loss': 0.0412, 'grad_norm': 0.16501906514167786, 'learning_rate': 1.90022755119902e-05, 'epoch': 4.99}\n"
     ]
    },
    {
     "data": {
      "application/vnd.jupyter.widget-view+json": {
       "model_id": "2e678df2e3414c039bde04ca0230cc79",
       "version_major": 2,
       "version_minor": 0
      },
      "text/plain": [
       "  0%|          | 0/1009 [00:00<?, ?it/s]"
      ]
     },
     "metadata": {},
     "output_type": "display_data"
    },
    {
     "name": "stdout",
     "output_type": "stream",
     "text": [
      "{'eval_loss': 0.04065314680337906, 'eval_accuracy': 0.09169818339636679, 'eval_f1': 0.19557002179130004, 'eval_precision_1': 0.8873591989987485, 'eval_recall': 0.10989521979043958, 'eval_runtime': 40.2367, 'eval_samples_per_second': 400.853, 'eval_steps_per_second': 25.077, 'epoch': 5.0}\n",
      "{'loss': 0.0409, 'grad_norm': 0.16224032640457153, 'learning_rate': 1.8984771573604063e-05, 'epoch': 5.08}\n",
      "{'loss': 0.0401, 'grad_norm': 0.1613471955060959, 'learning_rate': 1.8967267635217926e-05, 'epoch': 5.16}\n",
      "{'loss': 0.0403, 'grad_norm': 0.19605810940265656, 'learning_rate': 1.8949763696831788e-05, 'epoch': 5.25}\n",
      "{'loss': 0.0404, 'grad_norm': 0.1435757577419281, 'learning_rate': 1.8932259758445654e-05, 'epoch': 5.34}\n",
      "{'loss': 0.0398, 'grad_norm': 0.18259510397911072, 'learning_rate': 1.8914755820059513e-05, 'epoch': 5.43}\n",
      "{'loss': 0.0397, 'grad_norm': 0.16827939450740814, 'learning_rate': 1.8897251881673378e-05, 'epoch': 5.51}\n",
      "{'loss': 0.0402, 'grad_norm': 0.2680555284023285, 'learning_rate': 1.887974794328724e-05, 'epoch': 5.6}\n",
      "{'loss': 0.0394, 'grad_norm': 0.20691870152950287, 'learning_rate': 1.8862244004901106e-05, 'epoch': 5.69}\n",
      "{'loss': 0.0395, 'grad_norm': 0.21286442875862122, 'learning_rate': 1.884474006651497e-05, 'epoch': 5.78}\n",
      "{'loss': 0.0394, 'grad_norm': 0.14727768301963806, 'learning_rate': 1.882723612812883e-05, 'epoch': 5.86}\n",
      "{'loss': 0.039, 'grad_norm': 0.5165296792984009, 'learning_rate': 1.8809732189742693e-05, 'epoch': 5.95}\n"
     ]
    },
    {
     "data": {
      "application/vnd.jupyter.widget-view+json": {
       "model_id": "a763129dbb9a480b837cc4968b066eb4",
       "version_major": 2,
       "version_minor": 0
      },
      "text/plain": [
       "  0%|          | 0/1009 [00:00<?, ?it/s]"
      ]
     },
     "metadata": {},
     "output_type": "display_data"
    },
    {
     "name": "stdout",
     "output_type": "stream",
     "text": [
      "{'eval_loss': 0.03857192024588585, 'eval_accuracy': 0.12158224316448633, 'eval_f1': 0.2523369449755683, 'eval_precision_1': 0.8801407928862541, 'eval_recall': 0.14728129456258912, 'eval_runtime': 40.0084, 'eval_samples_per_second': 403.14, 'eval_steps_per_second': 25.22, 'epoch': 6.0}\n",
      "{'loss': 0.0386, 'grad_norm': 0.3159990906715393, 'learning_rate': 1.8792228251356555e-05, 'epoch': 6.04}\n",
      "{'loss': 0.0388, 'grad_norm': 0.3067430555820465, 'learning_rate': 1.877472431297042e-05, 'epoch': 6.13}\n",
      "{'loss': 0.0379, 'grad_norm': 0.26573503017425537, 'learning_rate': 1.8757220374584283e-05, 'epoch': 6.21}\n",
      "{'loss': 0.038, 'grad_norm': 0.31002724170684814, 'learning_rate': 1.8739716436198146e-05, 'epoch': 6.3}\n",
      "{'loss': 0.038, 'grad_norm': 0.31609198451042175, 'learning_rate': 1.8722212497812008e-05, 'epoch': 6.39}\n",
      "{'loss': 0.0376, 'grad_norm': 0.2510935068130493, 'learning_rate': 1.8704708559425874e-05, 'epoch': 6.48}\n",
      "{'loss': 0.0374, 'grad_norm': 0.3474331200122833, 'learning_rate': 1.8687204621039736e-05, 'epoch': 6.56}\n",
      "{'loss': 0.0373, 'grad_norm': 0.3054077625274658, 'learning_rate': 1.86697006826536e-05, 'epoch': 6.65}\n",
      "{'loss': 0.0375, 'grad_norm': 0.47676965594291687, 'learning_rate': 1.865219674426746e-05, 'epoch': 6.74}\n",
      "{'loss': 0.0369, 'grad_norm': 0.31157633662223816, 'learning_rate': 1.8634692805881326e-05, 'epoch': 6.83}\n",
      "{'loss': 0.0369, 'grad_norm': 0.226312056183815, 'learning_rate': 1.861718886749519e-05, 'epoch': 6.91}\n"
     ]
    },
    {
     "data": {
      "application/vnd.jupyter.widget-view+json": {
       "model_id": "e9e7fd55eee84b328909bdf0f7f4ea10",
       "version_major": 2,
       "version_minor": 0
      },
      "text/plain": [
       "  0%|          | 0/1009 [00:00<?, ?it/s]"
      ]
     },
     "metadata": {},
     "output_type": "display_data"
    },
    {
     "name": "stdout",
     "output_type": "stream",
     "text": [
      "{'eval_loss': 0.036481089890003204, 'eval_accuracy': 0.13522227044454088, 'eval_f1': 0.3086029186651699, 'eval_precision_1': 0.8717209570481407, 'eval_recall': 0.18748837497674994, 'eval_runtime': 39.943, 'eval_samples_per_second': 403.8, 'eval_steps_per_second': 25.261, 'epoch': 7.0}\n",
      "{'loss': 0.0367, 'grad_norm': 0.32110902667045593, 'learning_rate': 1.859968492910905e-05, 'epoch': 7.0}\n",
      "{'loss': 0.0362, 'grad_norm': 0.28899163007736206, 'learning_rate': 1.8582180990722913e-05, 'epoch': 7.09}\n",
      "{'loss': 0.0355, 'grad_norm': 0.4137756824493408, 'learning_rate': 1.8564677052336776e-05, 'epoch': 7.18}\n",
      "{'loss': 0.0358, 'grad_norm': 0.24472381174564362, 'learning_rate': 1.854717311395064e-05, 'epoch': 7.26}\n",
      "{'loss': 0.0357, 'grad_norm': 0.2519192695617676, 'learning_rate': 1.8529669175564504e-05, 'epoch': 7.35}\n",
      "{'loss': 0.0353, 'grad_norm': 0.3090006411075592, 'learning_rate': 1.8512165237178366e-05, 'epoch': 7.44}\n",
      "{'loss': 0.0353, 'grad_norm': 0.33585426211357117, 'learning_rate': 1.849466129879223e-05, 'epoch': 7.53}\n",
      "{'loss': 0.0352, 'grad_norm': 0.30857354402542114, 'learning_rate': 1.8477157360406094e-05, 'epoch': 7.61}\n",
      "{'loss': 0.035, 'grad_norm': 0.1944805532693863, 'learning_rate': 1.8459653422019956e-05, 'epoch': 7.7}\n",
      "{'loss': 0.0347, 'grad_norm': 0.27785027027130127, 'learning_rate': 1.844214948363382e-05, 'epoch': 7.79}\n",
      "{'loss': 0.0346, 'grad_norm': 0.3657190203666687, 'learning_rate': 1.842464554524768e-05, 'epoch': 7.88}\n",
      "{'loss': 0.0344, 'grad_norm': 0.4901736378669739, 'learning_rate': 1.8407141606861543e-05, 'epoch': 7.96}\n"
     ]
    },
    {
     "data": {
      "application/vnd.jupyter.widget-view+json": {
       "model_id": "483fa40ef4424b49a68a606ac3a3cc7f",
       "version_major": 2,
       "version_minor": 0
      },
      "text/plain": [
       "  0%|          | 0/1009 [00:00<?, ?it/s]"
      ]
     },
     "metadata": {},
     "output_type": "display_data"
    },
    {
     "name": "stdout",
     "output_type": "stream",
     "text": [
      "{'eval_loss': 0.03444034233689308, 'eval_accuracy': 0.1638043276086552, 'eval_f1': 0.37490067660301946, 'eval_precision_1': 0.839534131349078, 'eval_recall': 0.24133548267096533, 'eval_runtime': 39.9309, 'eval_samples_per_second': 403.923, 'eval_steps_per_second': 25.269, 'epoch': 8.0}\n",
      "{'loss': 0.0338, 'grad_norm': 0.28514766693115234, 'learning_rate': 1.838963766847541e-05, 'epoch': 8.05}\n",
      "{'loss': 0.0333, 'grad_norm': 0.3477918803691864, 'learning_rate': 1.837213373008927e-05, 'epoch': 8.14}\n",
      "{'loss': 0.0335, 'grad_norm': 0.1898246556520462, 'learning_rate': 1.8354629791703137e-05, 'epoch': 8.23}\n",
      "{'loss': 0.0332, 'grad_norm': 0.5058656930923462, 'learning_rate': 1.8337125853316996e-05, 'epoch': 8.31}\n",
      "{'loss': 0.0331, 'grad_norm': 0.2787958085536957, 'learning_rate': 1.831962191493086e-05, 'epoch': 8.4}\n",
      "{'loss': 0.0327, 'grad_norm': 0.20034998655319214, 'learning_rate': 1.8302117976544724e-05, 'epoch': 8.49}\n",
      "{'loss': 0.0328, 'grad_norm': 0.25510236620903015, 'learning_rate': 1.8284614038158586e-05, 'epoch': 8.58}\n",
      "{'loss': 0.0324, 'grad_norm': 0.3165392279624939, 'learning_rate': 1.826711009977245e-05, 'epoch': 8.66}\n",
      "{'loss': 0.0328, 'grad_norm': 0.3214413523674011, 'learning_rate': 1.8249606161386314e-05, 'epoch': 8.75}\n",
      "{'loss': 0.0327, 'grad_norm': 0.23888903856277466, 'learning_rate': 1.8232102223000177e-05, 'epoch': 8.84}\n",
      "{'loss': 0.0325, 'grad_norm': 0.2972206175327301, 'learning_rate': 1.821459828461404e-05, 'epoch': 8.93}\n"
     ]
    },
    {
     "data": {
      "application/vnd.jupyter.widget-view+json": {
       "model_id": "40336e3fb3e34a4b932faf64943697bb",
       "version_major": 2,
       "version_minor": 0
      },
      "text/plain": [
       "  0%|          | 0/1009 [00:00<?, ?it/s]"
      ]
     },
     "metadata": {},
     "output_type": "display_data"
    },
    {
     "name": "stdout",
     "output_type": "stream",
     "text": [
      "{'eval_loss': 0.03236151859164238, 'eval_accuracy': 0.20497240994481988, 'eval_f1': 0.4326688458174117, 'eval_precision_1': 0.8403075822603719, 'eval_recall': 0.29133858267716534, 'eval_runtime': 39.8707, 'eval_samples_per_second': 404.533, 'eval_steps_per_second': 25.307, 'epoch': 9.0}\n",
      "{'loss': 0.0317, 'grad_norm': 0.2591475248336792, 'learning_rate': 1.8197094346227905e-05, 'epoch': 9.01}\n",
      "{'loss': 0.0311, 'grad_norm': 0.22669780254364014, 'learning_rate': 1.8179590407841764e-05, 'epoch': 9.1}\n",
      "{'loss': 0.0308, 'grad_norm': 0.2788051664829254, 'learning_rate': 1.816208646945563e-05, 'epoch': 9.19}\n",
      "{'loss': 0.031, 'grad_norm': 0.609571099281311, 'learning_rate': 1.814458253106949e-05, 'epoch': 9.28}\n",
      "{'loss': 0.0307, 'grad_norm': 0.6225036978721619, 'learning_rate': 1.8127078592683357e-05, 'epoch': 9.36}\n",
      "{'loss': 0.0311, 'grad_norm': 0.3888065814971924, 'learning_rate': 1.8109574654297216e-05, 'epoch': 9.45}\n",
      "{'loss': 0.0308, 'grad_norm': 0.35021093487739563, 'learning_rate': 1.8092070715911082e-05, 'epoch': 9.54}\n",
      "{'loss': 0.0302, 'grad_norm': 0.5347209572792053, 'learning_rate': 1.8074566777524944e-05, 'epoch': 9.63}\n",
      "{'loss': 0.0304, 'grad_norm': 0.30010363459587097, 'learning_rate': 1.8057062839138807e-05, 'epoch': 9.71}\n",
      "{'loss': 0.0301, 'grad_norm': 0.37186989188194275, 'learning_rate': 1.8039558900752672e-05, 'epoch': 9.8}\n",
      "{'loss': 0.03, 'grad_norm': 0.2797340750694275, 'learning_rate': 1.8022054962366535e-05, 'epoch': 9.89}\n",
      "{'loss': 0.0301, 'grad_norm': 0.44225090742111206, 'learning_rate': 1.8004551023980397e-05, 'epoch': 9.98}\n"
     ]
    },
    {
     "data": {
      "application/vnd.jupyter.widget-view+json": {
       "model_id": "5fdbb9b6123347958748b4a212f75a01",
       "version_major": 2,
       "version_minor": 0
      },
      "text/plain": [
       "  0%|          | 0/1009 [00:00<?, ?it/s]"
      ]
     },
     "metadata": {},
     "output_type": "display_data"
    },
    {
     "name": "stdout",
     "output_type": "stream",
     "text": [
      "{'eval_loss': 0.03060835972428322, 'eval_accuracy': 0.23330646661293322, 'eval_f1': 0.47096339546373234, 'eval_precision_1': 0.8544654498044328, 'eval_recall': 0.3250666501333003, 'eval_runtime': 40.0394, 'eval_samples_per_second': 402.829, 'eval_steps_per_second': 25.2, 'epoch': 10.0}\n",
      "{'loss': 0.0288, 'grad_norm': 0.8402302861213684, 'learning_rate': 1.798704708559426e-05, 'epoch': 10.06}\n",
      "{'loss': 0.0286, 'grad_norm': 0.4662802517414093, 'learning_rate': 1.7969543147208125e-05, 'epoch': 10.15}\n",
      "{'loss': 0.0285, 'grad_norm': 0.3380548059940338, 'learning_rate': 1.7952039208821987e-05, 'epoch': 10.24}\n",
      "{'loss': 0.0288, 'grad_norm': 0.46222132444381714, 'learning_rate': 1.793453527043585e-05, 'epoch': 10.33}\n",
      "{'loss': 0.029, 'grad_norm': 0.5364705920219421, 'learning_rate': 1.7917031332049712e-05, 'epoch': 10.41}\n",
      "{'loss': 0.0287, 'grad_norm': 0.45529064536094666, 'learning_rate': 1.7899527393663578e-05, 'epoch': 10.5}\n",
      "{'loss': 0.0283, 'grad_norm': 0.3129678964614868, 'learning_rate': 1.788202345527744e-05, 'epoch': 10.59}\n",
      "{'loss': 0.0279, 'grad_norm': 0.32268309593200684, 'learning_rate': 1.7864519516891302e-05, 'epoch': 10.68}\n",
      "{'loss': 0.0281, 'grad_norm': 0.40365612506866455, 'learning_rate': 1.7847015578505164e-05, 'epoch': 10.76}\n",
      "{'loss': 0.0281, 'grad_norm': 0.5902220010757446, 'learning_rate': 1.7829511640119027e-05, 'epoch': 10.85}\n",
      "{'loss': 0.0276, 'grad_norm': 0.587054967880249, 'learning_rate': 1.7812007701732892e-05, 'epoch': 10.94}\n"
     ]
    },
    {
     "data": {
      "application/vnd.jupyter.widget-view+json": {
       "model_id": "5f05b5d881024ba4a53e1563a1ba170c",
       "version_major": 2,
       "version_minor": 0
      },
      "text/plain": [
       "  0%|          | 0/1009 [00:00<?, ?it/s]"
      ]
     },
     "metadata": {},
     "output_type": "display_data"
    },
    {
     "name": "stdout",
     "output_type": "stream",
     "text": [
      "{'eval_loss': 0.02873058430850506, 'eval_accuracy': 0.28203856407712813, 'eval_f1': 0.5333389494966514, 'eval_precision_1': 0.831713084603258, 'eval_recall': 0.3925227850455701, 'eval_runtime': 39.9076, 'eval_samples_per_second': 404.158, 'eval_steps_per_second': 25.283, 'epoch': 11.0}\n",
      "{'loss': 0.0271, 'grad_norm': 0.5309699177742004, 'learning_rate': 1.7794503763346755e-05, 'epoch': 11.03}\n",
      "{'loss': 0.0265, 'grad_norm': 0.5001007914543152, 'learning_rate': 1.7776999824960617e-05, 'epoch': 11.12}\n",
      "{'loss': 0.0265, 'grad_norm': 0.3864486515522003, 'learning_rate': 1.775949588657448e-05, 'epoch': 11.2}\n",
      "{'loss': 0.0268, 'grad_norm': 0.7550168037414551, 'learning_rate': 1.7741991948188345e-05, 'epoch': 11.29}\n",
      "{'loss': 0.0263, 'grad_norm': 0.3290826380252838, 'learning_rate': 1.7724488009802207e-05, 'epoch': 11.38}\n",
      "{'loss': 0.0263, 'grad_norm': 0.37709158658981323, 'learning_rate': 1.770698407141607e-05, 'epoch': 11.47}\n",
      "{'loss': 0.0264, 'grad_norm': 0.42516395449638367, 'learning_rate': 1.7689480133029932e-05, 'epoch': 11.55}\n",
      "{'loss': 0.0264, 'grad_norm': 0.5287785530090332, 'learning_rate': 1.7671976194643798e-05, 'epoch': 11.64}\n",
      "{'loss': 0.0261, 'grad_norm': 0.4108951687812805, 'learning_rate': 1.765447225625766e-05, 'epoch': 11.73}\n",
      "{'loss': 0.0262, 'grad_norm': 0.4394848346710205, 'learning_rate': 1.7636968317871522e-05, 'epoch': 11.82}\n",
      "{'loss': 0.0258, 'grad_norm': 0.57621830701828, 'learning_rate': 1.7619464379485385e-05, 'epoch': 11.9}\n",
      "{'loss': 0.0252, 'grad_norm': 0.5779433846473694, 'learning_rate': 1.7601960441099247e-05, 'epoch': 11.99}\n"
     ]
    },
    {
     "data": {
      "application/vnd.jupyter.widget-view+json": {
       "model_id": "f01ce71aae8d4ffaa3b8d34c8f435b46",
       "version_major": 2,
       "version_minor": 0
      },
      "text/plain": [
       "  0%|          | 0/1009 [00:00<?, ?it/s]"
      ]
     },
     "metadata": {},
     "output_type": "display_data"
    },
    {
     "name": "stdout",
     "output_type": "stream",
     "text": [
      "{'eval_loss': 0.02675861306488514, 'eval_accuracy': 0.29741459482918964, 'eval_f1': 0.5595050854566426, 'eval_precision_1': 0.8647177027289816, 'eval_recall': 0.4135408270816542, 'eval_runtime': 40.0878, 'eval_samples_per_second': 402.342, 'eval_steps_per_second': 25.17, 'epoch': 12.0}\n",
      "{'loss': 0.0243, 'grad_norm': 0.5632449388504028, 'learning_rate': 1.7584456502713113e-05, 'epoch': 12.08}\n",
      "{'loss': 0.0244, 'grad_norm': 0.3727603256702423, 'learning_rate': 1.7566952564326975e-05, 'epoch': 12.17}\n",
      "{'loss': 0.0246, 'grad_norm': 0.54230135679245, 'learning_rate': 1.754944862594084e-05, 'epoch': 12.25}\n",
      "{'loss': 0.0244, 'grad_norm': 0.5587814450263977, 'learning_rate': 1.75319446875547e-05, 'epoch': 12.34}\n",
      "{'loss': 0.0242, 'grad_norm': 0.46581748127937317, 'learning_rate': 1.7514440749168565e-05, 'epoch': 12.43}\n",
      "{'loss': 0.0244, 'grad_norm': 0.29937005043029785, 'learning_rate': 1.7496936810782428e-05, 'epoch': 12.52}\n",
      "{'loss': 0.0243, 'grad_norm': 0.5393856763839722, 'learning_rate': 1.747943287239629e-05, 'epoch': 12.6}\n",
      "{'loss': 0.0242, 'grad_norm': 0.3397090435028076, 'learning_rate': 1.7461928934010152e-05, 'epoch': 12.69}\n",
      "{'loss': 0.024, 'grad_norm': 0.5637709498405457, 'learning_rate': 1.7444424995624018e-05, 'epoch': 12.78}\n",
      "{'loss': 0.0241, 'grad_norm': 0.32589465379714966, 'learning_rate': 1.742692105723788e-05, 'epoch': 12.87}\n",
      "{'loss': 0.0241, 'grad_norm': 0.23425768315792084, 'learning_rate': 1.7409417118851743e-05, 'epoch': 12.95}\n"
     ]
    },
    {
     "data": {
      "application/vnd.jupyter.widget-view+json": {
       "model_id": "25da8f1a043549aa9cef89a29856e45a",
       "version_major": 2,
       "version_minor": 0
      },
      "text/plain": [
       "  0%|          | 0/1009 [00:00<?, ?it/s]"
      ]
     },
     "metadata": {},
     "output_type": "display_data"
    },
    {
     "name": "stdout",
     "output_type": "stream",
     "text": [
      "{'eval_loss': 0.025102252140641212, 'eval_accuracy': 0.3317626635253271, 'eval_f1': 0.59345433873391, 'eval_precision_1': 0.8599082136973405, 'eval_recall': 0.45306590613181225, 'eval_runtime': 39.9698, 'eval_samples_per_second': 403.53, 'eval_steps_per_second': 25.244, 'epoch': 13.0}\n",
      "{'loss': 0.0231, 'grad_norm': 0.786164402961731, 'learning_rate': 1.739191318046561e-05, 'epoch': 13.04}\n",
      "{'loss': 0.0227, 'grad_norm': 0.44392699003219604, 'learning_rate': 1.7374409242079467e-05, 'epoch': 13.13}\n",
      "{'loss': 0.0227, 'grad_norm': 0.3270159065723419, 'learning_rate': 1.7356905303693333e-05, 'epoch': 13.22}\n",
      "{'loss': 0.0227, 'grad_norm': 0.5640963315963745, 'learning_rate': 1.7339401365307195e-05, 'epoch': 13.3}\n",
      "{'loss': 0.0226, 'grad_norm': 0.5049123764038086, 'learning_rate': 1.732189742692106e-05, 'epoch': 13.39}\n",
      "{'loss': 0.0224, 'grad_norm': 0.5599268674850464, 'learning_rate': 1.730439348853492e-05, 'epoch': 13.48}\n",
      "{'loss': 0.0223, 'grad_norm': 0.6371780037879944, 'learning_rate': 1.7286889550148786e-05, 'epoch': 13.57}\n",
      "{'loss': 0.0222, 'grad_norm': 0.37606462836265564, 'learning_rate': 1.7269385611762648e-05, 'epoch': 13.65}\n",
      "{'loss': 0.0224, 'grad_norm': 0.5436931848526001, 'learning_rate': 1.725188167337651e-05, 'epoch': 13.74}\n",
      "{'loss': 0.0222, 'grad_norm': 0.37204819917678833, 'learning_rate': 1.7234377734990376e-05, 'epoch': 13.83}\n",
      "{'loss': 0.022, 'grad_norm': 0.6373223066329956, 'learning_rate': 1.7216873796604235e-05, 'epoch': 13.92}\n"
     ]
    },
    {
     "data": {
      "application/vnd.jupyter.widget-view+json": {
       "model_id": "d1fa6a7032b54743a62b886954d22c28",
       "version_major": 2,
       "version_minor": 0
      },
      "text/plain": [
       "  0%|          | 0/1009 [00:00<?, ?it/s]"
      ]
     },
     "metadata": {},
     "output_type": "display_data"
    },
    {
     "name": "stdout",
     "output_type": "stream",
     "text": [
      "{'eval_loss': 0.023793093860149384, 'eval_accuracy': 0.3547027094054188, 'eval_f1': 0.623077075765696, 'eval_precision_1': 0.8661221786877104, 'eval_recall': 0.4865459730919462, 'eval_runtime': 40.0836, 'eval_samples_per_second': 402.384, 'eval_steps_per_second': 25.172, 'epoch': 14.0}\n",
      "{'loss': 0.0224, 'grad_norm': 0.6093880534172058, 'learning_rate': 1.71993698582181e-05, 'epoch': 14.0}\n",
      "{'loss': 0.0206, 'grad_norm': 1.3255499601364136, 'learning_rate': 1.7181865919831963e-05, 'epoch': 14.09}\n",
      "{'loss': 0.0207, 'grad_norm': 0.39217042922973633, 'learning_rate': 1.716436198144583e-05, 'epoch': 14.18}\n",
      "{'loss': 0.0207, 'grad_norm': 0.5615333914756775, 'learning_rate': 1.714685804305969e-05, 'epoch': 14.27}\n",
      "{'loss': 0.021, 'grad_norm': 0.3812873065471649, 'learning_rate': 1.7129354104673553e-05, 'epoch': 14.35}\n",
      "{'loss': 0.0208, 'grad_norm': 0.4928354322910309, 'learning_rate': 1.7111850166287416e-05, 'epoch': 14.44}\n",
      "{'loss': 0.0208, 'grad_norm': 0.4507003128528595, 'learning_rate': 1.7094346227901278e-05, 'epoch': 14.53}\n",
      "{'loss': 0.0206, 'grad_norm': 0.4639142155647278, 'learning_rate': 1.7076842289515144e-05, 'epoch': 14.62}\n",
      "{'loss': 0.021, 'grad_norm': 0.5675802230834961, 'learning_rate': 1.7059338351129006e-05, 'epoch': 14.7}\n",
      "{'loss': 0.0208, 'grad_norm': 0.5077435374259949, 'learning_rate': 1.7041834412742868e-05, 'epoch': 14.79}\n",
      "{'loss': 0.0205, 'grad_norm': 0.6793131828308105, 'learning_rate': 1.702433047435673e-05, 'epoch': 14.88}\n",
      "{'loss': 0.0203, 'grad_norm': 0.37997013330459595, 'learning_rate': 1.7006826535970596e-05, 'epoch': 14.97}\n"
     ]
    },
    {
     "data": {
      "application/vnd.jupyter.widget-view+json": {
       "model_id": "866f81eed8d64530a94e9b501117dcc1",
       "version_major": 2,
       "version_minor": 0
      },
      "text/plain": [
       "  0%|          | 0/1009 [00:00<?, ?it/s]"
      ]
     },
     "metadata": {},
     "output_type": "display_data"
    },
    {
     "name": "stdout",
     "output_type": "stream",
     "text": [
      "{'eval_loss': 0.022656457498669624, 'eval_accuracy': 0.394010788021576, 'eval_f1': 0.6539488598159569, 'eval_precision_1': 0.8598130841121495, 'eval_recall': 0.5276210552421104, 'eval_runtime': 40.0618, 'eval_samples_per_second': 402.603, 'eval_steps_per_second': 25.186, 'epoch': 15.0}\n",
      "{'loss': 0.0196, 'grad_norm': 0.37327104806900024, 'learning_rate': 1.698932259758446e-05, 'epoch': 15.05}\n",
      "{'loss': 0.0194, 'grad_norm': 0.2653864920139313, 'learning_rate': 1.697181865919832e-05, 'epoch': 15.14}\n",
      "{'loss': 0.0192, 'grad_norm': 0.25217050313949585, 'learning_rate': 1.6954314720812183e-05, 'epoch': 15.23}\n",
      "{'loss': 0.0191, 'grad_norm': 0.23397937417030334, 'learning_rate': 1.693681078242605e-05, 'epoch': 15.32}\n",
      "{'loss': 0.0189, 'grad_norm': 0.46339306235313416, 'learning_rate': 1.691930684403991e-05, 'epoch': 15.4}\n",
      "{'loss': 0.0194, 'grad_norm': 0.6321467161178589, 'learning_rate': 1.6901802905653773e-05, 'epoch': 15.49}\n",
      "{'loss': 0.0193, 'grad_norm': 0.539546549320221, 'learning_rate': 1.6884298967267636e-05, 'epoch': 15.58}\n",
      "{'loss': 0.0191, 'grad_norm': 0.4839645028114319, 'learning_rate': 1.6866795028881498e-05, 'epoch': 15.67}\n",
      "{'loss': 0.0192, 'grad_norm': 0.5149425864219666, 'learning_rate': 1.6849291090495364e-05, 'epoch': 15.75}\n",
      "{'loss': 0.0187, 'grad_norm': 0.9690884947776794, 'learning_rate': 1.6831787152109226e-05, 'epoch': 15.84}\n",
      "{'loss': 0.0191, 'grad_norm': 0.4634125530719757, 'learning_rate': 1.681428321372309e-05, 'epoch': 15.93}\n"
     ]
    },
    {
     "data": {
      "application/vnd.jupyter.widget-view+json": {
       "model_id": "6d1d150d074c4d1a80d3f24b1b38bf38",
       "version_major": 2,
       "version_minor": 0
      },
      "text/plain": [
       "  0%|          | 0/1009 [00:00<?, ?it/s]"
      ]
     },
     "metadata": {},
     "output_type": "display_data"
    },
    {
     "name": "stdout",
     "output_type": "stream",
     "text": [
      "{'eval_loss': 0.021526096388697624, 'eval_accuracy': 0.4250108500217, 'eval_f1': 0.675445040972026, 'eval_precision_1': 0.8608056849282182, 'eval_recall': 0.5557691115382231, 'eval_runtime': 40.1541, 'eval_samples_per_second': 401.677, 'eval_steps_per_second': 25.128, 'epoch': 16.0}\n",
      "{'loss': 0.0186, 'grad_norm': 0.3711234927177429, 'learning_rate': 1.679677927533695e-05, 'epoch': 16.02}\n",
      "{'loss': 0.0175, 'grad_norm': 0.36450910568237305, 'learning_rate': 1.6779275336950816e-05, 'epoch': 16.1}\n",
      "{'loss': 0.0176, 'grad_norm': 0.37666773796081543, 'learning_rate': 1.676177139856468e-05, 'epoch': 16.19}\n",
      "{'loss': 0.0176, 'grad_norm': 0.6738249659538269, 'learning_rate': 1.674426746017854e-05, 'epoch': 16.28}\n",
      "{'loss': 0.0182, 'grad_norm': 0.34816932678222656, 'learning_rate': 1.6726763521792403e-05, 'epoch': 16.37}\n",
      "{'loss': 0.0176, 'grad_norm': 0.4609517455101013, 'learning_rate': 1.670925958340627e-05, 'epoch': 16.45}\n",
      "{'loss': 0.018, 'grad_norm': 0.6505247354507446, 'learning_rate': 1.669175564502013e-05, 'epoch': 16.54}\n",
      "{'loss': 0.0179, 'grad_norm': 0.3557110130786896, 'learning_rate': 1.6674251706633994e-05, 'epoch': 16.63}\n",
      "{'loss': 0.0177, 'grad_norm': 0.32829219102859497, 'learning_rate': 1.6656747768247856e-05, 'epoch': 16.72}\n",
      "{'loss': 0.0179, 'grad_norm': 0.5685334205627441, 'learning_rate': 1.663924382986172e-05, 'epoch': 16.8}\n",
      "{'loss': 0.0177, 'grad_norm': 1.0529752969741821, 'learning_rate': 1.6621739891475584e-05, 'epoch': 16.89}\n",
      "{'loss': 0.0176, 'grad_norm': 0.2652672827243805, 'learning_rate': 1.6604235953089446e-05, 'epoch': 16.98}\n"
     ]
    },
    {
     "data": {
      "application/vnd.jupyter.widget-view+json": {
       "model_id": "88d94da3bb1547ec8535fd46f83e3a6f",
       "version_major": 2,
       "version_minor": 0
      },
      "text/plain": [
       "  0%|          | 0/1009 [00:00<?, ?it/s]"
      ]
     },
     "metadata": {},
     "output_type": "display_data"
    },
    {
     "name": "stdout",
     "output_type": "stream",
     "text": [
      "{'eval_loss': 0.0206122025847435, 'eval_accuracy': 0.4543989087978176, 'eval_f1': 0.696998245127921, 'eval_precision_1': 0.8623668693148056, 'eval_recall': 0.5848471696943394, 'eval_runtime': 40.0157, 'eval_samples_per_second': 403.067, 'eval_steps_per_second': 25.215, 'epoch': 17.0}\n",
      "{'loss': 0.0166, 'grad_norm': 0.7527020573616028, 'learning_rate': 1.6586732014703312e-05, 'epoch': 17.07}\n",
      "{'loss': 0.0166, 'grad_norm': 0.3269568085670471, 'learning_rate': 1.656922807631717e-05, 'epoch': 17.15}\n",
      "{'loss': 0.0161, 'grad_norm': 0.38415077328681946, 'learning_rate': 1.6551724137931037e-05, 'epoch': 17.24}\n",
      "{'loss': 0.0166, 'grad_norm': 0.2558392584323883, 'learning_rate': 1.65342201995449e-05, 'epoch': 17.33}\n",
      "{'loss': 0.0165, 'grad_norm': 0.43544864654541016, 'learning_rate': 1.651671626115876e-05, 'epoch': 17.42}\n",
      "{'loss': 0.0163, 'grad_norm': 0.4646012783050537, 'learning_rate': 1.6499212322772624e-05, 'epoch': 17.5}\n",
      "{'loss': 0.0166, 'grad_norm': 0.44255316257476807, 'learning_rate': 1.648170838438649e-05, 'epoch': 17.59}\n",
      "{'loss': 0.016, 'grad_norm': 0.6940830945968628, 'learning_rate': 1.646420444600035e-05, 'epoch': 17.68}\n",
      "{'loss': 0.0165, 'grad_norm': 0.3944060504436493, 'learning_rate': 1.6446700507614214e-05, 'epoch': 17.77}\n",
      "{'loss': 0.0162, 'grad_norm': 0.769530713558197, 'learning_rate': 1.642919656922808e-05, 'epoch': 17.85}\n",
      "{'loss': 0.0164, 'grad_norm': 0.2501785159111023, 'learning_rate': 1.641169263084194e-05, 'epoch': 17.94}\n"
     ]
    },
    {
     "data": {
      "application/vnd.jupyter.widget-view+json": {
       "model_id": "34dae5144a504b2bb5f997487d5b44b0",
       "version_major": 2,
       "version_minor": 0
      },
      "text/plain": [
       "  0%|          | 0/1009 [00:00<?, ?it/s]"
      ]
     },
     "metadata": {},
     "output_type": "display_data"
    },
    {
     "name": "stdout",
     "output_type": "stream",
     "text": [
      "{'eval_loss': 0.019723104313015938, 'eval_accuracy': 0.47696695393390787, 'eval_f1': 0.714306537424386, 'eval_precision_1': 0.8663484486873508, 'eval_recall': 0.6076632153264306, 'eval_runtime': 39.9136, 'eval_samples_per_second': 404.098, 'eval_steps_per_second': 25.28, 'epoch': 18.0}\n",
      "{'loss': 0.0156, 'grad_norm': 1.1020652055740356, 'learning_rate': 1.6394188692455804e-05, 'epoch': 18.03}\n",
      "{'loss': 0.0151, 'grad_norm': 0.32700321078300476, 'learning_rate': 1.6376684754069667e-05, 'epoch': 18.12}\n",
      "{'loss': 0.0152, 'grad_norm': 0.4732944667339325, 'learning_rate': 1.6359180815683532e-05, 'epoch': 18.2}\n",
      "{'loss': 0.0156, 'grad_norm': 0.6586824655532837, 'learning_rate': 1.634167687729739e-05, 'epoch': 18.29}\n",
      "{'loss': 0.015, 'grad_norm': 0.4974569082260132, 'learning_rate': 1.6324172938911257e-05, 'epoch': 18.38}\n",
      "{'loss': 0.0152, 'grad_norm': 0.5177997350692749, 'learning_rate': 1.630666900052512e-05, 'epoch': 18.47}\n",
      "{'loss': 0.0151, 'grad_norm': 0.8022500872612, 'learning_rate': 1.628916506213898e-05, 'epoch': 18.55}\n",
      "{'loss': 0.0152, 'grad_norm': 0.520300030708313, 'learning_rate': 1.6271661123752847e-05, 'epoch': 18.64}\n",
      "{'loss': 0.0154, 'grad_norm': 0.5466721057891846, 'learning_rate': 1.625415718536671e-05, 'epoch': 18.73}\n",
      "{'loss': 0.0151, 'grad_norm': 0.5872374176979065, 'learning_rate': 1.6236653246980572e-05, 'epoch': 18.82}\n",
      "{'loss': 0.0156, 'grad_norm': 0.38743436336517334, 'learning_rate': 1.6219149308594434e-05, 'epoch': 18.9}\n",
      "{'loss': 0.0146, 'grad_norm': 0.4615044891834259, 'learning_rate': 1.62016453702083e-05, 'epoch': 18.99}\n"
     ]
    },
    {
     "data": {
      "application/vnd.jupyter.widget-view+json": {
       "model_id": "7a3ae32af4df4c4189c0d575a9e6a8d4",
       "version_major": 2,
       "version_minor": 0
      },
      "text/plain": [
       "  0%|          | 0/1009 [00:00<?, ?it/s]"
      ]
     },
     "metadata": {},
     "output_type": "display_data"
    },
    {
     "name": "stdout",
     "output_type": "stream",
     "text": [
      "{'eval_loss': 0.018915487453341484, 'eval_accuracy': 0.495504991009982, 'eval_f1': 0.728150095430156, 'eval_precision_1': 0.8685567010309279, 'eval_recall': 0.6268212536425073, 'eval_runtime': 39.9915, 'eval_samples_per_second': 403.311, 'eval_steps_per_second': 25.23, 'epoch': 19.0}\n",
      "{'loss': 0.0136, 'grad_norm': 0.5671690702438354, 'learning_rate': 1.6184141431822162e-05, 'epoch': 19.08}\n",
      "{'loss': 0.0138, 'grad_norm': 0.46082350611686707, 'learning_rate': 1.6166637493436024e-05, 'epoch': 19.17}\n",
      "{'loss': 0.0137, 'grad_norm': 0.48139142990112305, 'learning_rate': 1.6149133555049887e-05, 'epoch': 19.25}\n",
      "{'loss': 0.0142, 'grad_norm': 0.4510304033756256, 'learning_rate': 1.6131629616663753e-05, 'epoch': 19.34}\n",
      "{'loss': 0.0142, 'grad_norm': 0.5211141705513, 'learning_rate': 1.6114125678277615e-05, 'epoch': 19.43}\n",
      "{'loss': 0.0142, 'grad_norm': 0.336719810962677, 'learning_rate': 1.6096621739891477e-05, 'epoch': 19.52}\n",
      "{'loss': 0.0138, 'grad_norm': 0.651703953742981, 'learning_rate': 1.607911780150534e-05, 'epoch': 19.6}\n",
      "{'loss': 0.0139, 'grad_norm': 0.7222127914428711, 'learning_rate': 1.6061613863119202e-05, 'epoch': 19.69}\n",
      "{'loss': 0.0142, 'grad_norm': 0.3210582733154297, 'learning_rate': 1.6044109924733067e-05, 'epoch': 19.78}\n",
      "{'loss': 0.0142, 'grad_norm': 0.5275164842605591, 'learning_rate': 1.602660598634693e-05, 'epoch': 19.87}\n",
      "{'loss': 0.0144, 'grad_norm': 0.3338240087032318, 'learning_rate': 1.6009102047960792e-05, 'epoch': 19.95}\n"
     ]
    },
    {
     "data": {
      "application/vnd.jupyter.widget-view+json": {
       "model_id": "265c1925753448cbb8d516db05a9f343",
       "version_major": 2,
       "version_minor": 0
      },
      "text/plain": [
       "  0%|          | 0/1009 [00:00<?, ?it/s]"
      ]
     },
     "metadata": {},
     "output_type": "display_data"
    },
    {
     "name": "stdout",
     "output_type": "stream",
     "text": [
      "{'eval_loss': 0.017832765355706215, 'eval_accuracy': 0.5178250356500713, 'eval_f1': 0.7434910977901047, 'eval_precision_1': 0.8792906420620477, 'eval_recall': 0.6440262880525761, 'eval_runtime': 39.9894, 'eval_samples_per_second': 403.332, 'eval_steps_per_second': 25.232, 'epoch': 20.0}\n",
      "{'loss': 0.0134, 'grad_norm': 0.43431761860847473, 'learning_rate': 1.5991598109574654e-05, 'epoch': 20.04}\n",
      "{'loss': 0.013, 'grad_norm': 0.4084432125091553, 'learning_rate': 1.597409417118852e-05, 'epoch': 20.13}\n",
      "{'loss': 0.013, 'grad_norm': 0.37673354148864746, 'learning_rate': 1.5956590232802382e-05, 'epoch': 20.22}\n",
      "{'loss': 0.0132, 'grad_norm': 0.6322736740112305, 'learning_rate': 1.5939086294416245e-05, 'epoch': 20.3}\n",
      "{'loss': 0.0128, 'grad_norm': 0.3550415337085724, 'learning_rate': 1.5921582356030107e-05, 'epoch': 20.39}\n",
      "{'loss': 0.0131, 'grad_norm': 0.46923038363456726, 'learning_rate': 1.5904078417643973e-05, 'epoch': 20.48}\n",
      "{'loss': 0.013, 'grad_norm': 0.4004756510257721, 'learning_rate': 1.5886574479257835e-05, 'epoch': 20.57}\n",
      "{'loss': 0.0131, 'grad_norm': 0.3841386139392853, 'learning_rate': 1.5869070540871697e-05, 'epoch': 20.65}\n",
      "{'loss': 0.013, 'grad_norm': 0.6121745705604553, 'learning_rate': 1.585156660248556e-05, 'epoch': 20.74}\n",
      "{'loss': 0.0129, 'grad_norm': 0.2836041748523712, 'learning_rate': 1.5834062664099422e-05, 'epoch': 20.83}\n",
      "{'loss': 0.0132, 'grad_norm': 0.30620911717414856, 'learning_rate': 1.5816558725713288e-05, 'epoch': 20.92}\n"
     ]
    },
    {
     "data": {
      "application/vnd.jupyter.widget-view+json": {
       "model_id": "979a5f0c3a59440dbcb8584919e5c7d2",
       "version_major": 2,
       "version_minor": 0
      },
      "text/plain": [
       "  0%|          | 0/1009 [00:00<?, ?it/s]"
      ]
     },
     "metadata": {},
     "output_type": "display_data"
    },
    {
     "name": "stdout",
     "output_type": "stream",
     "text": [
      "{'eval_loss': 0.017032738775014877, 'eval_accuracy': 0.5421290842581685, 'eval_f1': 0.7567212649287501, 'eval_precision_1': 0.884945834889802, 'eval_recall': 0.6609523219046438, 'eval_runtime': 39.9663, 'eval_samples_per_second': 403.565, 'eval_steps_per_second': 25.246, 'epoch': 21.0}\n",
      "{'loss': 0.0128, 'grad_norm': 0.44057223200798035, 'learning_rate': 1.579905478732715e-05, 'epoch': 21.0}\n",
      "{'loss': 0.0119, 'grad_norm': 0.30650773644447327, 'learning_rate': 1.5781550848941016e-05, 'epoch': 21.09}\n",
      "{'loss': 0.0117, 'grad_norm': 0.23099571466445923, 'learning_rate': 1.5764046910554875e-05, 'epoch': 21.18}\n",
      "{'loss': 0.0121, 'grad_norm': 0.34959885478019714, 'learning_rate': 1.574654297216874e-05, 'epoch': 21.27}\n",
      "{'loss': 0.0125, 'grad_norm': 0.8765839338302612, 'learning_rate': 1.5729039033782603e-05, 'epoch': 21.35}\n",
      "{'loss': 0.0117, 'grad_norm': 0.31480899453163147, 'learning_rate': 1.5711535095396465e-05, 'epoch': 21.44}\n",
      "{'loss': 0.0121, 'grad_norm': 0.3053290843963623, 'learning_rate': 1.5694031157010327e-05, 'epoch': 21.53}\n",
      "{'loss': 0.012, 'grad_norm': 0.5301061868667603, 'learning_rate': 1.567652721862419e-05, 'epoch': 21.62}\n",
      "{'loss': 0.0122, 'grad_norm': 0.46341171860694885, 'learning_rate': 1.5659023280238055e-05, 'epoch': 21.7}\n",
      "{'loss': 0.0122, 'grad_norm': 0.4355553388595581, 'learning_rate': 1.5641519341851918e-05, 'epoch': 21.79}\n",
      "{'loss': 0.0122, 'grad_norm': 0.4056267738342285, 'learning_rate': 1.5624015403465783e-05, 'epoch': 21.88}\n",
      "{'loss': 0.0119, 'grad_norm': 0.21390649676322937, 'learning_rate': 1.5606511465079642e-05, 'epoch': 21.97}\n"
     ]
    },
    {
     "data": {
      "application/vnd.jupyter.widget-view+json": {
       "model_id": "0a84100afffe4f0c8b0f9919de6abfd4",
       "version_major": 2,
       "version_minor": 0
      },
      "text/plain": [
       "  0%|          | 0/1009 [00:00<?, ?it/s]"
      ]
     },
     "metadata": {},
     "output_type": "display_data"
    },
    {
     "name": "stdout",
     "output_type": "stream",
     "text": [
      "{'eval_loss': 0.01681213639676571, 'eval_accuracy': 0.5693471386942774, 'eval_f1': 0.7704789595556871, 'eval_precision_1': 0.8787878787878788, 'eval_recall': 0.6859383718767438, 'eval_runtime': 40.0066, 'eval_samples_per_second': 403.158, 'eval_steps_per_second': 25.221, 'epoch': 22.0}\n",
      "{'loss': 0.0113, 'grad_norm': 0.3512958884239197, 'learning_rate': 1.5589007526693508e-05, 'epoch': 22.05}\n",
      "{'loss': 0.0109, 'grad_norm': 0.6519533395767212, 'learning_rate': 1.557150358830737e-05, 'epoch': 22.14}\n",
      "{'loss': 0.0112, 'grad_norm': 0.2994210422039032, 'learning_rate': 1.5553999649921233e-05, 'epoch': 22.23}\n",
      "{'loss': 0.0114, 'grad_norm': 0.5141429901123047, 'learning_rate': 1.5536495711535095e-05, 'epoch': 22.32}\n",
      "{'loss': 0.0108, 'grad_norm': 0.4228489100933075, 'learning_rate': 1.551899177314896e-05, 'epoch': 22.41}\n",
      "{'loss': 0.0112, 'grad_norm': 0.8493528962135315, 'learning_rate': 1.5501487834762823e-05, 'epoch': 22.49}\n",
      "{'loss': 0.0112, 'grad_norm': 0.32973700761795044, 'learning_rate': 1.5483983896376685e-05, 'epoch': 22.58}\n",
      "{'loss': 0.0111, 'grad_norm': 0.22596313059329987, 'learning_rate': 1.546647995799055e-05, 'epoch': 22.67}\n",
      "{'loss': 0.0113, 'grad_norm': 0.4301057755947113, 'learning_rate': 1.544897601960441e-05, 'epoch': 22.76}\n",
      "{'loss': 0.0111, 'grad_norm': 0.3251432776451111, 'learning_rate': 1.5431472081218276e-05, 'epoch': 22.84}\n",
      "{'loss': 0.0115, 'grad_norm': 0.3009217381477356, 'learning_rate': 1.5413968142832138e-05, 'epoch': 22.93}\n"
     ]
    },
    {
     "data": {
      "application/vnd.jupyter.widget-view+json": {
       "model_id": "87353631d5244143a37f0a3b2aa0b304",
       "version_major": 2,
       "version_minor": 0
      },
      "text/plain": [
       "  0%|          | 0/1009 [00:00<?, ?it/s]"
      ]
     },
     "metadata": {},
     "output_type": "display_data"
    },
    {
     "name": "stdout",
     "output_type": "stream",
     "text": [
      "{'eval_loss': 0.016110597178339958, 'eval_accuracy': 0.5895591791183582, 'eval_f1': 0.7791443942775096, 'eval_precision_1': 0.8814435007240988, 'eval_recall': 0.6981213962427925, 'eval_runtime': 40.1954, 'eval_samples_per_second': 401.265, 'eval_steps_per_second': 25.102, 'epoch': 23.0}\n",
      "{'loss': 0.0113, 'grad_norm': 0.3960302472114563, 'learning_rate': 1.5396464204446004e-05, 'epoch': 23.02}\n",
      "{'loss': 0.0102, 'grad_norm': 0.45575353503227234, 'learning_rate': 1.5378960266059866e-05, 'epoch': 23.11}\n",
      "{'loss': 0.0101, 'grad_norm': 0.666905403137207, 'learning_rate': 1.5361456327673728e-05, 'epoch': 23.19}\n",
      "{'loss': 0.0105, 'grad_norm': 0.4618634879589081, 'learning_rate': 1.534395238928759e-05, 'epoch': 23.28}\n",
      "{'loss': 0.0102, 'grad_norm': 0.2218555212020874, 'learning_rate': 1.5326448450901453e-05, 'epoch': 23.37}\n",
      "{'loss': 0.0105, 'grad_norm': 0.23376810550689697, 'learning_rate': 1.530894451251532e-05, 'epoch': 23.46}\n",
      "{'loss': 0.0109, 'grad_norm': 0.19805067777633667, 'learning_rate': 1.529144057412918e-05, 'epoch': 23.54}\n",
      "{'loss': 0.0108, 'grad_norm': 0.6538307666778564, 'learning_rate': 1.5273936635743043e-05, 'epoch': 23.63}\n",
      "{'loss': 0.0102, 'grad_norm': 0.7645808458328247, 'learning_rate': 1.5256432697356907e-05, 'epoch': 23.72}\n",
      "{'loss': 0.0104, 'grad_norm': 0.3003518879413605, 'learning_rate': 1.523892875897077e-05, 'epoch': 23.81}\n",
      "{'loss': 0.0101, 'grad_norm': 0.5945886373519897, 'learning_rate': 1.5221424820584633e-05, 'epoch': 23.89}\n",
      "{'loss': 0.0103, 'grad_norm': 0.3581141531467438, 'learning_rate': 1.5203920882198496e-05, 'epoch': 23.98}\n"
     ]
    },
    {
     "data": {
      "application/vnd.jupyter.widget-view+json": {
       "model_id": "4f08b650a7474cc587bd2527ff5a9850",
       "version_major": 2,
       "version_minor": 0
      },
      "text/plain": [
       "  0%|          | 0/1009 [00:00<?, ?it/s]"
      ]
     },
     "metadata": {},
     "output_type": "display_data"
    },
    {
     "name": "stdout",
     "output_type": "stream",
     "text": [
      "{'eval_loss': 0.015726709738373756, 'eval_accuracy': 0.6043772087544175, 'eval_f1': 0.7891042034980519, 'eval_precision_1': 0.884013383071184, 'eval_recall': 0.7125984251968503, 'eval_runtime': 40.194, 'eval_samples_per_second': 401.278, 'eval_steps_per_second': 25.103, 'epoch': 24.0}\n",
      "{'loss': 0.0098, 'grad_norm': 0.18009205162525177, 'learning_rate': 1.5186416943812358e-05, 'epoch': 24.07}\n",
      "{'loss': 0.0094, 'grad_norm': 0.4124247133731842, 'learning_rate': 1.5168913005426222e-05, 'epoch': 24.16}\n",
      "{'loss': 0.0096, 'grad_norm': 0.3072352111339569, 'learning_rate': 1.5151409067040086e-05, 'epoch': 24.24}\n",
      "{'loss': 0.0097, 'grad_norm': 0.24232611060142517, 'learning_rate': 1.5133905128653947e-05, 'epoch': 24.33}\n",
      "{'loss': 0.0095, 'grad_norm': 0.3388764560222626, 'learning_rate': 1.511640119026781e-05, 'epoch': 24.42}\n",
      "{'loss': 0.0097, 'grad_norm': 0.2183600515127182, 'learning_rate': 1.5098897251881675e-05, 'epoch': 24.51}\n",
      "{'loss': 0.0093, 'grad_norm': 0.35863375663757324, 'learning_rate': 1.5081393313495539e-05, 'epoch': 24.59}\n",
      "{'loss': 0.0097, 'grad_norm': 0.3525042235851288, 'learning_rate': 1.5063889375109401e-05, 'epoch': 24.68}\n",
      "{'loss': 0.0095, 'grad_norm': 0.4468686580657959, 'learning_rate': 1.5046385436723263e-05, 'epoch': 24.77}\n",
      "{'loss': 0.0098, 'grad_norm': 0.2616274356842041, 'learning_rate': 1.5028881498337127e-05, 'epoch': 24.86}\n",
      "{'loss': 0.0099, 'grad_norm': 0.30501261353492737, 'learning_rate': 1.501137755995099e-05, 'epoch': 24.94}\n"
     ]
    },
    {
     "data": {
      "application/vnd.jupyter.widget-view+json": {
       "model_id": "3843b2d3214d4aef8e94e0cda439958a",
       "version_major": 2,
       "version_minor": 0
      },
      "text/plain": [
       "  0%|          | 0/1009 [00:00<?, ?it/s]"
      ]
     },
     "metadata": {},
     "output_type": "display_data"
    },
    {
     "name": "stdout",
     "output_type": "stream",
     "text": [
      "{'eval_loss': 0.015111688524484634, 'eval_accuracy': 0.6219852439704879, 'eval_f1': 0.8000818777292577, 'eval_precision_1': 0.8894788743078207, 'eval_recall': 0.7270134540269081, 'eval_runtime': 40.0854, 'eval_samples_per_second': 402.366, 'eval_steps_per_second': 25.171, 'epoch': 25.0}\n",
      "{'loss': 0.0095, 'grad_norm': 0.2738175690174103, 'learning_rate': 1.4993873621564854e-05, 'epoch': 25.03}\n",
      "{'loss': 0.0085, 'grad_norm': 0.4034229815006256, 'learning_rate': 1.4976369683178718e-05, 'epoch': 25.12}\n",
      "{'loss': 0.0088, 'grad_norm': 0.5125371217727661, 'learning_rate': 1.4958865744792578e-05, 'epoch': 25.21}\n",
      "{'loss': 0.0092, 'grad_norm': 0.34635260701179504, 'learning_rate': 1.4941361806406442e-05, 'epoch': 25.29}\n",
      "{'loss': 0.0089, 'grad_norm': 0.40314793586730957, 'learning_rate': 1.4923857868020306e-05, 'epoch': 25.38}\n",
      "{'loss': 0.0088, 'grad_norm': 0.5243902206420898, 'learning_rate': 1.490635392963417e-05, 'epoch': 25.47}\n",
      "{'loss': 0.009, 'grad_norm': 0.4887036085128784, 'learning_rate': 1.4888849991248031e-05, 'epoch': 25.56}\n",
      "{'loss': 0.0089, 'grad_norm': 0.49705788493156433, 'learning_rate': 1.4871346052861895e-05, 'epoch': 25.64}\n",
      "{'loss': 0.0091, 'grad_norm': 0.36097970604896545, 'learning_rate': 1.4853842114475759e-05, 'epoch': 25.73}\n",
      "{'loss': 0.0091, 'grad_norm': 0.38085228204727173, 'learning_rate': 1.4836338176089621e-05, 'epoch': 25.82}\n",
      "{'loss': 0.0092, 'grad_norm': 0.39057955145835876, 'learning_rate': 1.4818834237703485e-05, 'epoch': 25.91}\n",
      "{'loss': 0.0092, 'grad_norm': 0.20692019164562225, 'learning_rate': 1.4801330299317348e-05, 'epoch': 25.99}\n"
     ]
    },
    {
     "data": {
      "application/vnd.jupyter.widget-view+json": {
       "model_id": "9a2e1c536d9842cda3a68d60e50fe083",
       "version_major": 2,
       "version_minor": 0
      },
      "text/plain": [
       "  0%|          | 0/1009 [00:00<?, ?it/s]"
      ]
     },
     "metadata": {},
     "output_type": "display_data"
    },
    {
     "name": "stdout",
     "output_type": "stream",
     "text": [
      "{'eval_loss': 0.015182815492153168, 'eval_accuracy': 0.6407712815425631, 'eval_f1': 0.805718722571062, 'eval_precision_1': 0.8844215519158082, 'eval_recall': 0.7398784797569595, 'eval_runtime': 40.0778, 'eval_samples_per_second': 402.442, 'eval_steps_per_second': 25.176, 'epoch': 26.0}\n",
      "{'loss': 0.0083, 'grad_norm': 0.3147730827331543, 'learning_rate': 1.478382636093121e-05, 'epoch': 26.08}\n",
      "{'loss': 0.0082, 'grad_norm': 0.555785596370697, 'learning_rate': 1.4766322422545074e-05, 'epoch': 26.17}\n",
      "{'loss': 0.0082, 'grad_norm': 0.350954532623291, 'learning_rate': 1.4748818484158938e-05, 'epoch': 26.26}\n",
      "{'loss': 0.0082, 'grad_norm': 0.4208489656448364, 'learning_rate': 1.4731314545772799e-05, 'epoch': 26.34}\n",
      "{'loss': 0.0083, 'grad_norm': 0.23982276022434235, 'learning_rate': 1.4713810607386663e-05, 'epoch': 26.43}\n",
      "{'loss': 0.0084, 'grad_norm': 0.7102488279342651, 'learning_rate': 1.4696306669000527e-05, 'epoch': 26.52}\n",
      "{'loss': 0.0085, 'grad_norm': 0.18051111698150635, 'learning_rate': 1.467880273061439e-05, 'epoch': 26.61}\n",
      "{'loss': 0.0088, 'grad_norm': 0.2104574590921402, 'learning_rate': 1.4661298792228253e-05, 'epoch': 26.69}\n",
      "{'loss': 0.0083, 'grad_norm': 0.12526346743106842, 'learning_rate': 1.4643794853842115e-05, 'epoch': 26.78}\n",
      "{'loss': 0.0085, 'grad_norm': 0.31615930795669556, 'learning_rate': 1.462629091545598e-05, 'epoch': 26.87}\n",
      "{'loss': 0.0082, 'grad_norm': 0.3206850290298462, 'learning_rate': 1.4608786977069842e-05, 'epoch': 26.96}\n"
     ]
    },
    {
     "data": {
      "application/vnd.jupyter.widget-view+json": {
       "model_id": "f418a2f59eb74ce08b043180d5d11fa2",
       "version_major": 2,
       "version_minor": 0
      },
      "text/plain": [
       "  0%|          | 0/1009 [00:00<?, ?it/s]"
      ]
     },
     "metadata": {},
     "output_type": "display_data"
    },
    {
     "name": "stdout",
     "output_type": "stream",
     "text": [
      "{'eval_loss': 0.014692414551973343, 'eval_accuracy': 0.6548453096906194, 'eval_f1': 0.8138075667630693, 'eval_precision_1': 0.8954185120398973, 'eval_recall': 0.7458304916609834, 'eval_runtime': 40.1356, 'eval_samples_per_second': 401.863, 'eval_steps_per_second': 25.14, 'epoch': 27.0}\n",
      "{'loss': 0.0082, 'grad_norm': 1.2069952487945557, 'learning_rate': 1.4591283038683706e-05, 'epoch': 27.04}\n",
      "{'loss': 0.0074, 'grad_norm': 0.2888842523097992, 'learning_rate': 1.4573779100297568e-05, 'epoch': 27.13}\n",
      "{'loss': 0.0076, 'grad_norm': 0.4537661075592041, 'learning_rate': 1.455627516191143e-05, 'epoch': 27.22}\n",
      "{'loss': 0.008, 'grad_norm': 0.17015302181243896, 'learning_rate': 1.4538771223525294e-05, 'epoch': 27.31}\n",
      "{'loss': 0.0076, 'grad_norm': 0.4554646611213684, 'learning_rate': 1.4521267285139158e-05, 'epoch': 27.39}\n",
      "{'loss': 0.008, 'grad_norm': 0.19741781055927277, 'learning_rate': 1.4503763346753022e-05, 'epoch': 27.48}\n",
      "{'loss': 0.0078, 'grad_norm': 0.24183699488639832, 'learning_rate': 1.4486259408366883e-05, 'epoch': 27.57}\n",
      "{'loss': 0.0081, 'grad_norm': 0.3768655061721802, 'learning_rate': 1.4468755469980747e-05, 'epoch': 27.66}\n",
      "{'loss': 0.0081, 'grad_norm': 0.551764965057373, 'learning_rate': 1.445125153159461e-05, 'epoch': 27.74}\n",
      "{'loss': 0.0077, 'grad_norm': 0.7339283227920532, 'learning_rate': 1.4433747593208473e-05, 'epoch': 27.83}\n",
      "{'loss': 0.0081, 'grad_norm': 0.2501109540462494, 'learning_rate': 1.4416243654822337e-05, 'epoch': 27.92}\n"
     ]
    },
    {
     "data": {
      "application/vnd.jupyter.widget-view+json": {
       "model_id": "0b38c7f53b2b46998d6b73d244d15c8d",
       "version_major": 2,
       "version_minor": 0
      },
      "text/plain": [
       "  0%|          | 0/1009 [00:00<?, ?it/s]"
      ]
     },
     "metadata": {},
     "output_type": "display_data"
    },
    {
     "name": "stdout",
     "output_type": "stream",
     "text": [
      "{'eval_loss': 0.01438866276293993, 'eval_accuracy': 0.6752433504867009, 'eval_f1': 0.818687393212503, 'eval_precision_1': 0.8905612244897959, 'eval_recall': 0.7575485150970301, 'eval_runtime': 40.0595, 'eval_samples_per_second': 402.626, 'eval_steps_per_second': 25.188, 'epoch': 28.0}\n",
      "{'loss': 0.0081, 'grad_norm': 0.44629374146461487, 'learning_rate': 1.4398739716436198e-05, 'epoch': 28.01}\n",
      "{'loss': 0.0071, 'grad_norm': 0.6275150775909424, 'learning_rate': 1.4381235778050062e-05, 'epoch': 28.09}\n",
      "{'loss': 0.0073, 'grad_norm': 0.45620298385620117, 'learning_rate': 1.4363731839663926e-05, 'epoch': 28.18}\n",
      "{'loss': 0.0073, 'grad_norm': 0.14996328949928284, 'learning_rate': 1.434622790127779e-05, 'epoch': 28.27}\n",
      "{'loss': 0.0075, 'grad_norm': 0.4120556712150574, 'learning_rate': 1.432872396289165e-05, 'epoch': 28.36}\n",
      "{'loss': 0.0075, 'grad_norm': 0.4313376247882843, 'learning_rate': 1.4311220024505514e-05, 'epoch': 28.44}\n",
      "{'loss': 0.0075, 'grad_norm': 0.6018165946006775, 'learning_rate': 1.4293716086119378e-05, 'epoch': 28.53}\n",
      "{'loss': 0.0074, 'grad_norm': 0.2033725082874298, 'learning_rate': 1.427621214773324e-05, 'epoch': 28.62}\n",
      "{'loss': 0.0076, 'grad_norm': 0.43670350313186646, 'learning_rate': 1.4258708209347105e-05, 'epoch': 28.71}\n",
      "{'loss': 0.0072, 'grad_norm': 0.381267786026001, 'learning_rate': 1.4241204270960967e-05, 'epoch': 28.79}\n",
      "{'loss': 0.0071, 'grad_norm': 0.13215498626232147, 'learning_rate': 1.422370033257483e-05, 'epoch': 28.88}\n",
      "{'loss': 0.0075, 'grad_norm': 0.23253780603408813, 'learning_rate': 1.4206196394188693e-05, 'epoch': 28.97}\n"
     ]
    },
    {
     "data": {
      "application/vnd.jupyter.widget-view+json": {
       "model_id": "3488df07c51f4792acf2c8f369c5e4e4",
       "version_major": 2,
       "version_minor": 0
      },
      "text/plain": [
       "  0%|          | 0/1009 [00:00<?, ?it/s]"
      ]
     },
     "metadata": {},
     "output_type": "display_data"
    },
    {
     "name": "stdout",
     "output_type": "stream",
     "text": [
      "{'eval_loss': 0.014028962701559067, 'eval_accuracy': 0.6878913757827516, 'eval_f1': 0.8266604490040637, 'eval_precision_1': 0.8931836176491759, 'eval_recall': 0.7693595387190775, 'eval_runtime': 40.1672, 'eval_samples_per_second': 401.547, 'eval_steps_per_second': 25.12, 'epoch': 29.0}\n",
      "{'loss': 0.007, 'grad_norm': 0.4187922477722168, 'learning_rate': 1.4188692455802557e-05, 'epoch': 29.06}\n",
      "{'loss': 0.0065, 'grad_norm': 0.3964548110961914, 'learning_rate': 1.4171188517416418e-05, 'epoch': 29.14}\n",
      "{'loss': 0.0069, 'grad_norm': 0.06022810935974121, 'learning_rate': 1.4153684579030282e-05, 'epoch': 29.23}\n",
      "{'loss': 0.0069, 'grad_norm': 0.6650534272193909, 'learning_rate': 1.4136180640644146e-05, 'epoch': 29.32}\n",
      "{'loss': 0.0071, 'grad_norm': 0.5677489638328552, 'learning_rate': 1.411867670225801e-05, 'epoch': 29.41}\n",
      "{'loss': 0.0067, 'grad_norm': 0.5725829005241394, 'learning_rate': 1.4101172763871872e-05, 'epoch': 29.49}\n",
      "{'loss': 0.0068, 'grad_norm': 0.5570876002311707, 'learning_rate': 1.4083668825485735e-05, 'epoch': 29.58}\n",
      "{'loss': 0.0069, 'grad_norm': 0.4180181324481964, 'learning_rate': 1.4066164887099599e-05, 'epoch': 29.67}\n",
      "{'loss': 0.0073, 'grad_norm': 0.27334392070770264, 'learning_rate': 1.4048660948713461e-05, 'epoch': 29.76}\n",
      "{'loss': 0.0074, 'grad_norm': 0.23261570930480957, 'learning_rate': 1.4031157010327325e-05, 'epoch': 29.84}\n",
      "{'loss': 0.0068, 'grad_norm': 1.2729614973068237, 'learning_rate': 1.4013653071941189e-05, 'epoch': 29.93}\n"
     ]
    },
    {
     "data": {
      "application/vnd.jupyter.widget-view+json": {
       "model_id": "a45240ab805849769e16b1a4577344e0",
       "version_major": 2,
       "version_minor": 0
      },
      "text/plain": [
       "  0%|          | 0/1009 [00:00<?, ?it/s]"
      ]
     },
     "metadata": {},
     "output_type": "display_data"
    },
    {
     "name": "stdout",
     "output_type": "stream",
     "text": [
      "{'eval_loss': 0.014293638989329338, 'eval_accuracy': 0.6984313968627938, 'eval_f1': 0.8289100704517198, 'eval_precision_1': 0.8907970214130474, 'eval_recall': 0.7750635501271003, 'eval_runtime': 40.0463, 'eval_samples_per_second': 402.759, 'eval_steps_per_second': 25.196, 'epoch': 30.0}\n",
      "{'loss': 0.0067, 'grad_norm': 0.2761797606945038, 'learning_rate': 1.399614913355505e-05, 'epoch': 30.02}\n",
      "{'loss': 0.0063, 'grad_norm': 0.5428466796875, 'learning_rate': 1.3978645195168914e-05, 'epoch': 30.11}\n",
      "{'loss': 0.0063, 'grad_norm': 0.15372247993946075, 'learning_rate': 1.3961141256782778e-05, 'epoch': 30.19}\n",
      "{'loss': 0.0065, 'grad_norm': 0.312845915555954, 'learning_rate': 1.3943637318396642e-05, 'epoch': 30.28}\n",
      "{'loss': 0.0066, 'grad_norm': 0.36218908429145813, 'learning_rate': 1.3926133380010502e-05, 'epoch': 30.37}\n",
      "{'loss': 0.0064, 'grad_norm': 0.15754231810569763, 'learning_rate': 1.3908629441624366e-05, 'epoch': 30.46}\n",
      "{'loss': 0.0066, 'grad_norm': 0.2439102679491043, 'learning_rate': 1.389112550323823e-05, 'epoch': 30.54}\n",
      "{'loss': 0.0068, 'grad_norm': 0.4332258403301239, 'learning_rate': 1.3873621564852093e-05, 'epoch': 30.63}\n",
      "{'loss': 0.0066, 'grad_norm': 1.0591399669647217, 'learning_rate': 1.3856117626465957e-05, 'epoch': 30.72}\n",
      "{'loss': 0.0068, 'grad_norm': 0.46332088112831116, 'learning_rate': 1.3838613688079819e-05, 'epoch': 30.81}\n",
      "{'loss': 0.007, 'grad_norm': 0.671353280544281, 'learning_rate': 1.3821109749693681e-05, 'epoch': 30.89}\n",
      "{'loss': 0.0065, 'grad_norm': 1.0503830909729004, 'learning_rate': 1.3803605811307545e-05, 'epoch': 30.98}\n"
     ]
    },
    {
     "data": {
      "application/vnd.jupyter.widget-view+json": {
       "model_id": "017ad2f993fd4ad4b42fb01feb21bdcd",
       "version_major": 2,
       "version_minor": 0
      },
      "text/plain": [
       "  0%|          | 0/1009 [00:00<?, ?it/s]"
      ]
     },
     "metadata": {},
     "output_type": "display_data"
    },
    {
     "name": "stdout",
     "output_type": "stream",
     "text": [
      "{'eval_loss': 0.013930306769907475, 'eval_accuracy': 0.705251410502821, 'eval_f1': 0.8324987564251368, 'eval_precision_1': 0.8949094538713818, 'eval_recall': 0.7782255564511129, 'eval_runtime': 40.2339, 'eval_samples_per_second': 400.881, 'eval_steps_per_second': 25.078, 'epoch': 31.0}\n",
      "{'loss': 0.006, 'grad_norm': 0.36950168013572693, 'learning_rate': 1.378610187292141e-05, 'epoch': 31.07}\n",
      "{'loss': 0.006, 'grad_norm': 0.1309751719236374, 'learning_rate': 1.376859793453527e-05, 'epoch': 31.16}\n",
      "{'loss': 0.0062, 'grad_norm': 0.36561939120292664, 'learning_rate': 1.3751093996149134e-05, 'epoch': 31.24}\n",
      "{'loss': 0.0062, 'grad_norm': 0.3577694296836853, 'learning_rate': 1.3733590057762998e-05, 'epoch': 31.33}\n",
      "{'loss': 0.006, 'grad_norm': 0.9678152799606323, 'learning_rate': 1.3716086119376862e-05, 'epoch': 31.42}\n",
      "{'loss': 0.0065, 'grad_norm': 0.2390802949666977, 'learning_rate': 1.3698582180990724e-05, 'epoch': 31.51}\n",
      "{'loss': 0.0064, 'grad_norm': 0.251815527677536, 'learning_rate': 1.3681078242604587e-05, 'epoch': 31.59}\n",
      "{'loss': 0.0064, 'grad_norm': 0.35463792085647583, 'learning_rate': 1.366357430421845e-05, 'epoch': 31.68}\n",
      "{'loss': 0.0066, 'grad_norm': 0.37472033500671387, 'learning_rate': 1.3646070365832313e-05, 'epoch': 31.77}\n",
      "{'loss': 0.0063, 'grad_norm': 0.25779634714126587, 'learning_rate': 1.3628566427446177e-05, 'epoch': 31.86}\n",
      "{'loss': 0.0064, 'grad_norm': 0.14760200679302216, 'learning_rate': 1.3611062489060041e-05, 'epoch': 31.94}\n"
     ]
    },
    {
     "data": {
      "application/vnd.jupyter.widget-view+json": {
       "model_id": "412c85544a2f4dc5a199e9b3659d3448",
       "version_major": 2,
       "version_minor": 0
      },
      "text/plain": [
       "  0%|          | 0/1009 [00:00<?, ?it/s]"
      ]
     },
     "metadata": {},
     "output_type": "display_data"
    },
    {
     "name": "stdout",
     "output_type": "stream",
     "text": [
      "{'eval_loss': 0.014089885167777538, 'eval_accuracy': 0.7108934217868436, 'eval_f1': 0.8341748472859106, 'eval_precision_1': 0.8950584390209244, 'eval_recall': 0.7810465620931242, 'eval_runtime': 40.2619, 'eval_samples_per_second': 400.602, 'eval_steps_per_second': 25.061, 'epoch': 32.0}\n",
      "{'loss': 0.006, 'grad_norm': 0.24881237745285034, 'learning_rate': 1.3593558550673901e-05, 'epoch': 32.03}\n",
      "{'loss': 0.0055, 'grad_norm': 0.20530402660369873, 'learning_rate': 1.3576054612287765e-05, 'epoch': 32.12}\n",
      "{'loss': 0.0058, 'grad_norm': 0.2226240634918213, 'learning_rate': 1.355855067390163e-05, 'epoch': 32.21}\n",
      "{'loss': 0.0056, 'grad_norm': 0.6278448104858398, 'learning_rate': 1.3541046735515494e-05, 'epoch': 32.29}\n",
      "{'loss': 0.006, 'grad_norm': 0.6227023005485535, 'learning_rate': 1.3523542797129354e-05, 'epoch': 32.38}\n",
      "{'loss': 0.0062, 'grad_norm': 0.19740653038024902, 'learning_rate': 1.3506038858743218e-05, 'epoch': 32.47}\n",
      "{'loss': 0.0059, 'grad_norm': 0.15342991054058075, 'learning_rate': 1.3488534920357082e-05, 'epoch': 32.56}\n",
      "{'loss': 0.006, 'grad_norm': 0.30998748540878296, 'learning_rate': 1.3471030981970944e-05, 'epoch': 32.64}\n",
      "{'loss': 0.0059, 'grad_norm': 0.32442787289619446, 'learning_rate': 1.3453527043584808e-05, 'epoch': 32.73}\n",
      "{'loss': 0.0059, 'grad_norm': 0.19781827926635742, 'learning_rate': 1.343602310519867e-05, 'epoch': 32.82}\n",
      "{'loss': 0.006, 'grad_norm': 1.1094201803207397, 'learning_rate': 1.3418519166812533e-05, 'epoch': 32.91}\n",
      "{'loss': 0.0062, 'grad_norm': 0.5420041680335999, 'learning_rate': 1.3401015228426397e-05, 'epoch': 32.99}\n"
     ]
    },
    {
     "data": {
      "application/vnd.jupyter.widget-view+json": {
       "model_id": "4febe3c868c94b7bb4152e5932b8e665",
       "version_major": 2,
       "version_minor": 0
      },
      "text/plain": [
       "  0%|          | 0/1009 [00:00<?, ?it/s]"
      ]
     },
     "metadata": {},
     "output_type": "display_data"
    },
    {
     "name": "stdout",
     "output_type": "stream",
     "text": [
      "{'eval_loss': 0.01391899399459362, 'eval_accuracy': 0.7179614359228719, 'eval_f1': 0.8376113581144736, 'eval_precision_1': 0.8971145335457603, 'eval_recall': 0.7855105710211421, 'eval_runtime': 40.1622, 'eval_samples_per_second': 401.596, 'eval_steps_per_second': 25.123, 'epoch': 33.0}\n",
      "{'loss': 0.0054, 'grad_norm': 0.47292327880859375, 'learning_rate': 1.3383511290040261e-05, 'epoch': 33.08}\n",
      "{'loss': 0.0053, 'grad_norm': 0.25051283836364746, 'learning_rate': 1.3366007351654122e-05, 'epoch': 33.17}\n",
      "{'loss': 0.0057, 'grad_norm': 1.0154417753219604, 'learning_rate': 1.3348503413267986e-05, 'epoch': 33.26}\n",
      "{'loss': 0.0055, 'grad_norm': 0.2178240269422531, 'learning_rate': 1.333099947488185e-05, 'epoch': 33.35}\n",
      "{'loss': 0.0056, 'grad_norm': 0.16878817975521088, 'learning_rate': 1.3313495536495714e-05, 'epoch': 33.43}\n",
      "{'loss': 0.0058, 'grad_norm': 0.06477387249469757, 'learning_rate': 1.3295991598109576e-05, 'epoch': 33.52}\n",
      "{'loss': 0.0054, 'grad_norm': 0.27852529287338257, 'learning_rate': 1.3278487659723438e-05, 'epoch': 33.61}\n",
      "{'loss': 0.0061, 'grad_norm': 0.11627169698476791, 'learning_rate': 1.3260983721337302e-05, 'epoch': 33.7}\n",
      "{'loss': 0.0056, 'grad_norm': 0.495639830827713, 'learning_rate': 1.3243479782951165e-05, 'epoch': 33.78}\n",
      "{'loss': 0.0056, 'grad_norm': 0.23860891163349152, 'learning_rate': 1.3225975844565029e-05, 'epoch': 33.87}\n",
      "{'loss': 0.0056, 'grad_norm': 0.23493275046348572, 'learning_rate': 1.3208471906178893e-05, 'epoch': 33.96}\n"
     ]
    },
    {
     "data": {
      "application/vnd.jupyter.widget-view+json": {
       "model_id": "e85add033db84c509e91ac9e01820446",
       "version_major": 2,
       "version_minor": 0
      },
      "text/plain": [
       "  0%|          | 0/1009 [00:00<?, ?it/s]"
      ]
     },
     "metadata": {},
     "output_type": "display_data"
    },
    {
     "name": "stdout",
     "output_type": "stream",
     "text": [
      "{'eval_loss': 0.01343468390405178, 'eval_accuracy': 0.7309194618389236, 'eval_f1': 0.8431546155107394, 'eval_precision_1': 0.8948907141862732, 'eval_recall': 0.7970735941471883, 'eval_runtime': 40.1508, 'eval_samples_per_second': 401.711, 'eval_steps_per_second': 25.13, 'epoch': 34.0}\n",
      "{'loss': 0.0055, 'grad_norm': 0.1564510315656662, 'learning_rate': 1.3190967967792753e-05, 'epoch': 34.05}\n",
      "{'loss': 0.0052, 'grad_norm': 0.14176882803440094, 'learning_rate': 1.3173464029406617e-05, 'epoch': 34.13}\n",
      "{'loss': 0.0052, 'grad_norm': 0.36492013931274414, 'learning_rate': 1.3155960091020481e-05, 'epoch': 34.22}\n",
      "{'loss': 0.0053, 'grad_norm': 0.3674570620059967, 'learning_rate': 1.3138456152634345e-05, 'epoch': 34.31}\n",
      "{'loss': 0.0054, 'grad_norm': 0.4785017967224121, 'learning_rate': 1.3120952214248206e-05, 'epoch': 34.4}\n",
      "{'loss': 0.0055, 'grad_norm': 0.30706989765167236, 'learning_rate': 1.310344827586207e-05, 'epoch': 34.48}\n",
      "{'loss': 0.0053, 'grad_norm': 0.06882581859827042, 'learning_rate': 1.3085944337475934e-05, 'epoch': 34.57}\n",
      "{'loss': 0.0051, 'grad_norm': 0.019171103835105896, 'learning_rate': 1.3068440399089796e-05, 'epoch': 34.66}\n",
      "{'loss': 0.0054, 'grad_norm': 0.1333456188440323, 'learning_rate': 1.305093646070366e-05, 'epoch': 34.75}\n",
      "{'loss': 0.0055, 'grad_norm': 0.34956052899360657, 'learning_rate': 1.3033432522317521e-05, 'epoch': 34.83}\n",
      "{'loss': 0.0056, 'grad_norm': 0.5269174575805664, 'learning_rate': 1.3015928583931385e-05, 'epoch': 34.92}\n"
     ]
    },
    {
     "data": {
      "application/vnd.jupyter.widget-view+json": {
       "model_id": "832ea941b4e14b4ea28a42892cfc7809",
       "version_major": 2,
       "version_minor": 0
      },
      "text/plain": [
       "  0%|          | 0/1009 [00:00<?, ?it/s]"
      ]
     },
     "metadata": {},
     "output_type": "display_data"
    },
    {
     "name": "stdout",
     "output_type": "stream",
     "text": [
      "{'eval_loss': 0.013782420195639133, 'eval_accuracy': 0.7369334738669477, 'eval_f1': 0.843637912114909, 'eval_precision_1': 0.8943018854821349, 'eval_recall': 0.7984065968131936, 'eval_runtime': 40.0716, 'eval_samples_per_second': 402.505, 'eval_steps_per_second': 25.18, 'epoch': 35.0}\n",
      "{'loss': 0.0056, 'grad_norm': 0.48335909843444824, 'learning_rate': 1.2998424645545249e-05, 'epoch': 35.01}\n",
      "{'loss': 0.0051, 'grad_norm': 0.21536946296691895, 'learning_rate': 1.2980920707159113e-05, 'epoch': 35.1}\n",
      "{'loss': 0.005, 'grad_norm': 0.4983856678009033, 'learning_rate': 1.2963416768772974e-05, 'epoch': 35.18}\n",
      "{'loss': 0.0049, 'grad_norm': 0.1497238725423813, 'learning_rate': 1.2945912830386838e-05, 'epoch': 35.27}\n",
      "{'loss': 0.005, 'grad_norm': 0.3281732201576233, 'learning_rate': 1.2928408892000702e-05, 'epoch': 35.36}\n",
      "{'loss': 0.0053, 'grad_norm': 0.3274773061275482, 'learning_rate': 1.2910904953614566e-05, 'epoch': 35.45}\n",
      "{'loss': 0.0052, 'grad_norm': 0.12872961163520813, 'learning_rate': 1.2893401015228428e-05, 'epoch': 35.53}\n",
      "{'loss': 0.0054, 'grad_norm': 0.4197516441345215, 'learning_rate': 1.287589707684229e-05, 'epoch': 35.62}\n",
      "{'loss': 0.0052, 'grad_norm': 0.2577851712703705, 'learning_rate': 1.2858393138456153e-05, 'epoch': 35.71}\n",
      "{'loss': 0.0052, 'grad_norm': 0.36946454644203186, 'learning_rate': 1.2840889200070017e-05, 'epoch': 35.8}\n",
      "{'loss': 0.0052, 'grad_norm': 0.26083946228027344, 'learning_rate': 1.282338526168388e-05, 'epoch': 35.88}\n",
      "{'loss': 0.0052, 'grad_norm': 0.18874792754650116, 'learning_rate': 1.2805881323297745e-05, 'epoch': 35.97}\n"
     ]
    },
    {
     "data": {
      "application/vnd.jupyter.widget-view+json": {
       "model_id": "3e78f2098c8044e08615bc50b9ac2b94",
       "version_major": 2,
       "version_minor": 0
      },
      "text/plain": [
       "  0%|          | 0/1009 [00:00<?, ?it/s]"
      ]
     },
     "metadata": {},
     "output_type": "display_data"
    },
    {
     "name": "stdout",
     "output_type": "stream",
     "text": [
      "{'eval_loss': 0.013690296560525894, 'eval_accuracy': 0.7418314836629674, 'eval_f1': 0.8465256500581653, 'eval_precision_1': 0.897758470894874, 'eval_recall': 0.8008246016492033, 'eval_runtime': 40.2256, 'eval_samples_per_second': 400.963, 'eval_steps_per_second': 25.084, 'epoch': 36.0}\n",
      "{'loss': 0.0047, 'grad_norm': 0.2838677763938904, 'learning_rate': 1.2788377384911605e-05, 'epoch': 36.06}\n",
      "{'loss': 0.0048, 'grad_norm': 0.0901000052690506, 'learning_rate': 1.277087344652547e-05, 'epoch': 36.15}\n",
      "{'loss': 0.0046, 'grad_norm': 0.24996282160282135, 'learning_rate': 1.2753369508139333e-05, 'epoch': 36.23}\n",
      "{'loss': 0.0049, 'grad_norm': 0.7339895963668823, 'learning_rate': 1.2735865569753196e-05, 'epoch': 36.32}\n",
      "{'loss': 0.0049, 'grad_norm': 0.027808157727122307, 'learning_rate': 1.2718361631367058e-05, 'epoch': 36.41}\n",
      "{'loss': 0.005, 'grad_norm': 0.11755041033029556, 'learning_rate': 1.2700857692980922e-05, 'epoch': 36.5}\n",
      "{'loss': 0.0049, 'grad_norm': 0.40108543634414673, 'learning_rate': 1.2683353754594784e-05, 'epoch': 36.58}\n",
      "{'loss': 0.0052, 'grad_norm': 0.15021063387393951, 'learning_rate': 1.2665849816208648e-05, 'epoch': 36.67}\n",
      "{'loss': 0.0051, 'grad_norm': 0.0965658500790596, 'learning_rate': 1.2648345877822512e-05, 'epoch': 36.76}\n",
      "{'loss': 0.005, 'grad_norm': 0.14118553698062897, 'learning_rate': 1.2630841939436373e-05, 'epoch': 36.85}\n",
      "{'loss': 0.005, 'grad_norm': 0.9266129732131958, 'learning_rate': 1.2613338001050237e-05, 'epoch': 36.93}\n"
     ]
    },
    {
     "data": {
      "application/vnd.jupyter.widget-view+json": {
       "model_id": "571da727f9d84d3d82e01dfc44d37a66",
       "version_major": 2,
       "version_minor": 0
      },
      "text/plain": [
       "  0%|          | 0/1009 [00:00<?, ?it/s]"
      ]
     },
     "metadata": {},
     "output_type": "display_data"
    },
    {
     "name": "stdout",
     "output_type": "stream",
     "text": [
      "{'eval_loss': 0.013815631158649921, 'eval_accuracy': 0.7428234856469713, 'eval_f1': 0.846959409472767, 'eval_precision_1': 0.9016416395393608, 'eval_recall': 0.7985305970611941, 'eval_runtime': 40.1755, 'eval_samples_per_second': 401.464, 'eval_steps_per_second': 25.115, 'epoch': 37.0}\n",
      "{'loss': 0.005, 'grad_norm': 0.1646035760641098, 'learning_rate': 1.25958340626641e-05, 'epoch': 37.02}\n",
      "{'loss': 0.0046, 'grad_norm': 0.2571295201778412, 'learning_rate': 1.2578330124277965e-05, 'epoch': 37.11}\n",
      "{'loss': 0.0047, 'grad_norm': 0.11336588114500046, 'learning_rate': 1.2560826185891825e-05, 'epoch': 37.2}\n",
      "{'loss': 0.0046, 'grad_norm': 0.3841153681278229, 'learning_rate': 1.254332224750569e-05, 'epoch': 37.28}\n",
      "{'loss': 0.0047, 'grad_norm': 0.10296372324228287, 'learning_rate': 1.2525818309119553e-05, 'epoch': 37.37}\n",
      "{'loss': 0.0047, 'grad_norm': 0.2725949287414551, 'learning_rate': 1.2508314370733416e-05, 'epoch': 37.46}\n",
      "{'loss': 0.0048, 'grad_norm': 0.3650917410850525, 'learning_rate': 1.249081043234728e-05, 'epoch': 37.55}\n",
      "{'loss': 0.0048, 'grad_norm': 0.18511377274990082, 'learning_rate': 1.2473306493961142e-05, 'epoch': 37.63}\n",
      "{'loss': 0.0047, 'grad_norm': 0.3122633695602417, 'learning_rate': 1.2455802555575004e-05, 'epoch': 37.72}\n",
      "{'loss': 0.0048, 'grad_norm': 0.2449212521314621, 'learning_rate': 1.2438298617188868e-05, 'epoch': 37.81}\n",
      "{'loss': 0.0048, 'grad_norm': 0.556847333908081, 'learning_rate': 1.2420794678802732e-05, 'epoch': 37.9}\n",
      "{'loss': 0.0049, 'grad_norm': 0.16180916130542755, 'learning_rate': 1.2403290740416593e-05, 'epoch': 37.98}\n"
     ]
    },
    {
     "data": {
      "application/vnd.jupyter.widget-view+json": {
       "model_id": "eb6e5bcb52744f79b7a6e898333509dd",
       "version_major": 2,
       "version_minor": 0
      },
      "text/plain": [
       "  0%|          | 0/1009 [00:00<?, ?it/s]"
      ]
     },
     "metadata": {},
     "output_type": "display_data"
    },
    {
     "name": "stdout",
     "output_type": "stream",
     "text": [
      "{'eval_loss': 0.013640027493238449, 'eval_accuracy': 0.7490854981709963, 'eval_f1': 0.850103140041256, 'eval_precision_1': 0.9007424368581738, 'eval_recall': 0.8048546097092194, 'eval_runtime': 40.3062, 'eval_samples_per_second': 400.162, 'eval_steps_per_second': 25.033, 'epoch': 38.0}\n",
      "{'loss': 0.0046, 'grad_norm': 0.18303321301937103, 'learning_rate': 1.2385786802030457e-05, 'epoch': 38.07}\n",
      "{'loss': 0.0044, 'grad_norm': 0.1497429758310318, 'learning_rate': 1.2368282863644321e-05, 'epoch': 38.16}\n",
      "{'loss': 0.0043, 'grad_norm': 0.43655553460121155, 'learning_rate': 1.2350778925258185e-05, 'epoch': 38.25}\n",
      "{'loss': 0.0044, 'grad_norm': 0.12496143579483032, 'learning_rate': 1.2333274986872047e-05, 'epoch': 38.33}\n",
      "{'loss': 0.0049, 'grad_norm': 0.32252275943756104, 'learning_rate': 1.231577104848591e-05, 'epoch': 38.42}\n",
      "{'loss': 0.0046, 'grad_norm': 0.17555227875709534, 'learning_rate': 1.2298267110099774e-05, 'epoch': 38.51}\n",
      "{'loss': 0.0046, 'grad_norm': 0.3356007933616638, 'learning_rate': 1.2280763171713636e-05, 'epoch': 38.6}\n",
      "{'loss': 0.0048, 'grad_norm': 0.23083864152431488, 'learning_rate': 1.22632592333275e-05, 'epoch': 38.68}\n",
      "{'loss': 0.0047, 'grad_norm': 0.3034727871417999, 'learning_rate': 1.2245755294941364e-05, 'epoch': 38.77}\n",
      "{'loss': 0.0047, 'grad_norm': 0.4450950026512146, 'learning_rate': 1.2228251356555225e-05, 'epoch': 38.86}\n",
      "{'loss': 0.0047, 'grad_norm': 0.17667841911315918, 'learning_rate': 1.2210747418169089e-05, 'epoch': 38.95}\n"
     ]
    },
    {
     "data": {
      "application/vnd.jupyter.widget-view+json": {
       "model_id": "25e9e221ea1c4fb5b20868167d344323",
       "version_major": 2,
       "version_minor": 0
      },
      "text/plain": [
       "  0%|          | 0/1009 [00:00<?, ?it/s]"
      ]
     },
     "metadata": {},
     "output_type": "display_data"
    },
    {
     "name": "stdout",
     "output_type": "stream",
     "text": [
      "{'eval_loss': 0.013988392427563667, 'eval_accuracy': 0.7539215078430157, 'eval_f1': 0.8490224534055147, 'eval_precision_1': 0.8955932436616326, 'eval_recall': 0.8070556141112282, 'eval_runtime': 40.0529, 'eval_samples_per_second': 402.692, 'eval_steps_per_second': 25.192, 'epoch': 39.0}\n",
      "{'loss': 0.0045, 'grad_norm': 0.2628023326396942, 'learning_rate': 1.2193243479782953e-05, 'epoch': 39.03}\n",
      "{'loss': 0.0042, 'grad_norm': 0.03967685624957085, 'learning_rate': 1.2175739541396817e-05, 'epoch': 39.12}\n",
      "{'loss': 0.0042, 'grad_norm': 0.6303163170814514, 'learning_rate': 1.2158235603010677e-05, 'epoch': 39.21}\n",
      "{'loss': 0.0045, 'grad_norm': 0.2170306146144867, 'learning_rate': 1.2140731664624541e-05, 'epoch': 39.3}\n",
      "{'loss': 0.0045, 'grad_norm': 0.0571117028594017, 'learning_rate': 1.2123227726238405e-05, 'epoch': 39.38}\n",
      "{'loss': 0.0044, 'grad_norm': 0.29009419679641724, 'learning_rate': 1.2105723787852268e-05, 'epoch': 39.47}\n",
      "{'loss': 0.0046, 'grad_norm': 0.7803731560707092, 'learning_rate': 1.2088219849466132e-05, 'epoch': 39.56}\n",
      "{'loss': 0.0045, 'grad_norm': 0.43447813391685486, 'learning_rate': 1.2070715911079994e-05, 'epoch': 39.65}\n",
      "{'loss': 0.0046, 'grad_norm': 0.1292652040719986, 'learning_rate': 1.2053211972693856e-05, 'epoch': 39.73}\n",
      "{'loss': 0.0044, 'grad_norm': 1.1445021629333496, 'learning_rate': 1.203570803430772e-05, 'epoch': 39.82}\n",
      "{'loss': 0.0045, 'grad_norm': 0.2979879081249237, 'learning_rate': 1.2018204095921584e-05, 'epoch': 39.91}\n",
      "{'loss': 0.0047, 'grad_norm': 0.22108356654644012, 'learning_rate': 1.2000700157535445e-05, 'epoch': 40.0}\n"
     ]
    },
    {
     "data": {
      "application/vnd.jupyter.widget-view+json": {
       "model_id": "5c0a9ce7554f41c99df530be10ac4aa7",
       "version_major": 2,
       "version_minor": 0
      },
      "text/plain": [
       "  0%|          | 0/1009 [00:00<?, ?it/s]"
      ]
     },
     "metadata": {},
     "output_type": "display_data"
    },
    {
     "name": "stdout",
     "output_type": "stream",
     "text": [
      "{'eval_loss': 0.0140338484197855, 'eval_accuracy': 0.7536115072230144, 'eval_f1': 0.8498646400730617, 'eval_precision_1': 0.8966276668960771, 'eval_recall': 0.8077376154752309, 'eval_runtime': 40.0654, 'eval_samples_per_second': 402.567, 'eval_steps_per_second': 25.184, 'epoch': 40.0}\n",
      "{'loss': 0.0041, 'grad_norm': 0.06704460829496384, 'learning_rate': 1.1983196219149309e-05, 'epoch': 40.08}\n",
      "{'loss': 0.0043, 'grad_norm': 0.13657470047473907, 'learning_rate': 1.1965692280763173e-05, 'epoch': 40.17}\n",
      "{'loss': 0.004, 'grad_norm': 0.20096683502197266, 'learning_rate': 1.1948188342377037e-05, 'epoch': 40.26}\n",
      "{'loss': 0.0041, 'grad_norm': 0.053506262600421906, 'learning_rate': 1.19306844039909e-05, 'epoch': 40.35}\n",
      "{'loss': 0.0045, 'grad_norm': 0.16554002463817596, 'learning_rate': 1.1913180465604762e-05, 'epoch': 40.43}\n",
      "{'loss': 0.0045, 'grad_norm': 0.09361979365348816, 'learning_rate': 1.1895676527218626e-05, 'epoch': 40.52}\n",
      "{'loss': 0.0043, 'grad_norm': 0.3071986734867096, 'learning_rate': 1.1878172588832488e-05, 'epoch': 40.61}\n",
      "{'loss': 0.004, 'grad_norm': 0.01987140066921711, 'learning_rate': 1.1860668650446352e-05, 'epoch': 40.7}\n",
      "{'loss': 0.0046, 'grad_norm': 0.19220367074012756, 'learning_rate': 1.1843164712060216e-05, 'epoch': 40.78}\n",
      "{'loss': 0.0044, 'grad_norm': 0.4166511297225952, 'learning_rate': 1.1825660773674076e-05, 'epoch': 40.87}\n",
      "{'loss': 0.0043, 'grad_norm': 0.9014644622802734, 'learning_rate': 1.180815683528794e-05, 'epoch': 40.96}\n"
     ]
    },
    {
     "data": {
      "application/vnd.jupyter.widget-view+json": {
       "model_id": "77c99af793ab4abca39a9b9f2e6b45cb",
       "version_major": 2,
       "version_minor": 0
      },
      "text/plain": [
       "  0%|          | 0/1009 [00:00<?, ?it/s]"
      ]
     },
     "metadata": {},
     "output_type": "display_data"
    },
    {
     "name": "stdout",
     "output_type": "stream",
     "text": [
      "{'eval_loss': 0.014088280498981476, 'eval_accuracy': 0.7572075144150289, 'eval_f1': 0.8514301492682769, 'eval_precision_1': 0.8942645603739465, 'eval_recall': 0.81251162502325, 'eval_runtime': 40.0203, 'eval_samples_per_second': 403.02, 'eval_steps_per_second': 25.212, 'epoch': 41.0}\n",
      "{'loss': 0.0045, 'grad_norm': 0.12962408363819122, 'learning_rate': 1.1790652896901804e-05, 'epoch': 41.05}\n",
      "{'loss': 0.0041, 'grad_norm': 0.20949162542819977, 'learning_rate': 1.1773148958515668e-05, 'epoch': 41.13}\n",
      "{'loss': 0.0042, 'grad_norm': 0.22756953537464142, 'learning_rate': 1.1755645020129529e-05, 'epoch': 41.22}\n",
      "{'loss': 0.0041, 'grad_norm': 0.051337264478206635, 'learning_rate': 1.1738141081743393e-05, 'epoch': 41.31}\n",
      "{'loss': 0.004, 'grad_norm': 0.3235204517841339, 'learning_rate': 1.1720637143357257e-05, 'epoch': 41.4}\n",
      "{'loss': 0.0041, 'grad_norm': 0.3698206841945648, 'learning_rate': 1.170313320497112e-05, 'epoch': 41.48}\n",
      "{'loss': 0.0043, 'grad_norm': 0.11314024776220322, 'learning_rate': 1.1685629266584983e-05, 'epoch': 41.57}\n",
      "{'loss': 0.0041, 'grad_norm': 0.11912386119365692, 'learning_rate': 1.1668125328198844e-05, 'epoch': 41.66}\n",
      "{'loss': 0.0045, 'grad_norm': 0.386605829000473, 'learning_rate': 1.1650621389812708e-05, 'epoch': 41.75}\n",
      "{'loss': 0.004, 'grad_norm': 0.07593220472335815, 'learning_rate': 1.1633117451426572e-05, 'epoch': 41.83}\n",
      "{'loss': 0.0042, 'grad_norm': 0.5097895860671997, 'learning_rate': 1.1615613513040436e-05, 'epoch': 41.92}\n"
     ]
    },
    {
     "data": {
      "application/vnd.jupyter.widget-view+json": {
       "model_id": "e3d945acb4e048fd9ab5a0b046974868",
       "version_major": 2,
       "version_minor": 0
      },
      "text/plain": [
       "  0%|          | 0/1009 [00:00<?, ?it/s]"
      ]
     },
     "metadata": {},
     "output_type": "display_data"
    },
    {
     "name": "stdout",
     "output_type": "stream",
     "text": [
      "{'eval_loss': 0.013972001150250435, 'eval_accuracy': 0.758013516027032, 'eval_f1': 0.8511844634885464, 'eval_precision_1': 0.8970467032967033, 'eval_recall': 0.8097836195672391, 'eval_runtime': 39.9479, 'eval_samples_per_second': 403.751, 'eval_steps_per_second': 25.258, 'epoch': 42.0}\n",
      "{'loss': 0.0043, 'grad_norm': 1.1000299453735352, 'learning_rate': 1.1598109574654297e-05, 'epoch': 42.01}\n",
      "{'loss': 0.0039, 'grad_norm': 0.22412128746509552, 'learning_rate': 1.158060563626816e-05, 'epoch': 42.1}\n",
      "{'loss': 0.0038, 'grad_norm': 0.14652962982654572, 'learning_rate': 1.1563101697882025e-05, 'epoch': 42.18}\n",
      "{'loss': 0.0038, 'grad_norm': 0.06745512038469315, 'learning_rate': 1.1545597759495889e-05, 'epoch': 42.27}\n",
      "{'loss': 0.004, 'grad_norm': 0.32516732811927795, 'learning_rate': 1.1528093821109751e-05, 'epoch': 42.36}\n",
      "{'loss': 0.0042, 'grad_norm': 0.10553308576345444, 'learning_rate': 1.1510589882723613e-05, 'epoch': 42.45}\n",
      "{'loss': 0.0041, 'grad_norm': 0.07629158347845078, 'learning_rate': 1.1493085944337476e-05, 'epoch': 42.53}\n",
      "{'loss': 0.0041, 'grad_norm': 0.08132368326187134, 'learning_rate': 1.147558200595134e-05, 'epoch': 42.62}\n",
      "{'loss': 0.0042, 'grad_norm': 0.22730597853660583, 'learning_rate': 1.1458078067565204e-05, 'epoch': 42.71}\n",
      "{'loss': 0.0043, 'grad_norm': 0.22754883766174316, 'learning_rate': 1.1440574129179068e-05, 'epoch': 42.8}\n",
      "{'loss': 0.0042, 'grad_norm': 0.22180584073066711, 'learning_rate': 1.1423070190792928e-05, 'epoch': 42.88}\n",
      "{'loss': 0.0041, 'grad_norm': 0.235460564494133, 'learning_rate': 1.1405566252406792e-05, 'epoch': 42.97}\n"
     ]
    },
    {
     "data": {
      "application/vnd.jupyter.widget-view+json": {
       "model_id": "2ed92eb3e4544334b8a8248bc6487624",
       "version_major": 2,
       "version_minor": 0
      },
      "text/plain": [
       "  0%|          | 0/1009 [00:00<?, ?it/s]"
      ]
     },
     "metadata": {},
     "output_type": "display_data"
    },
    {
     "name": "stdout",
     "output_type": "stream",
     "text": [
      "{'eval_loss': 0.014064098708331585, 'eval_accuracy': 0.7640275280550561, 'eval_f1': 0.8536410923276984, 'eval_precision_1': 0.8973412617045998, 'eval_recall': 0.813999627999256, 'eval_runtime': 40.2406, 'eval_samples_per_second': 400.814, 'eval_steps_per_second': 25.074, 'epoch': 43.0}\n",
      "{'loss': 0.0038, 'grad_norm': 0.14849305152893066, 'learning_rate': 1.1388062314020656e-05, 'epoch': 43.06}\n",
      "{'loss': 0.0037, 'grad_norm': 0.17045283317565918, 'learning_rate': 1.1370558375634519e-05, 'epoch': 43.15}\n",
      "{'loss': 0.0037, 'grad_norm': 0.34576526284217834, 'learning_rate': 1.1353054437248381e-05, 'epoch': 43.23}\n",
      "{'loss': 0.0039, 'grad_norm': 0.11048150807619095, 'learning_rate': 1.1335550498862245e-05, 'epoch': 43.32}\n",
      "{'loss': 0.004, 'grad_norm': 0.036001745611429214, 'learning_rate': 1.1318046560476107e-05, 'epoch': 43.41}\n",
      "{'loss': 0.0041, 'grad_norm': 0.5244663953781128, 'learning_rate': 1.1300542622089971e-05, 'epoch': 43.5}\n",
      "{'loss': 0.0041, 'grad_norm': 0.3488143980503082, 'learning_rate': 1.1283038683703835e-05, 'epoch': 43.58}\n",
      "{'loss': 0.004, 'grad_norm': 0.06509695202112198, 'learning_rate': 1.1265534745317696e-05, 'epoch': 43.67}\n",
      "{'loss': 0.004, 'grad_norm': 0.1655515879392624, 'learning_rate': 1.124803080693156e-05, 'epoch': 43.76}\n",
      "{'loss': 0.0042, 'grad_norm': 0.15627332031726837, 'learning_rate': 1.1230526868545424e-05, 'epoch': 43.85}\n",
      "{'loss': 0.0041, 'grad_norm': 0.2005000114440918, 'learning_rate': 1.1213022930159288e-05, 'epoch': 43.93}\n"
     ]
    },
    {
     "data": {
      "application/vnd.jupyter.widget-view+json": {
       "model_id": "74e63cdd6cb34b50bde29804ada48741",
       "version_major": 2,
       "version_minor": 0
      },
      "text/plain": [
       "  0%|          | 0/1009 [00:00<?, ?it/s]"
      ]
     },
     "metadata": {},
     "output_type": "display_data"
    },
    {
     "name": "stdout",
     "output_type": "stream",
     "text": [
      "{'eval_loss': 0.013750358484685421, 'eval_accuracy': 0.7657015314030629, 'eval_f1': 0.8566220746671874, 'eval_precision_1': 0.9016719199671098, 'eval_recall': 0.8158596317192635, 'eval_runtime': 40.0915, 'eval_samples_per_second': 402.304, 'eval_steps_per_second': 25.167, 'epoch': 44.0}\n",
      "{'loss': 0.0039, 'grad_norm': 0.06552322953939438, 'learning_rate': 1.1195518991773149e-05, 'epoch': 44.02}\n",
      "{'loss': 0.0035, 'grad_norm': 0.14054937660694122, 'learning_rate': 1.1178015053387013e-05, 'epoch': 44.11}\n",
      "{'loss': 0.0037, 'grad_norm': 0.0683925449848175, 'learning_rate': 1.1160511115000877e-05, 'epoch': 44.2}\n",
      "{'loss': 0.0038, 'grad_norm': 0.1599508374929428, 'learning_rate': 1.1143007176614739e-05, 'epoch': 44.28}\n",
      "{'loss': 0.0037, 'grad_norm': 0.12838895618915558, 'learning_rate': 1.1125503238228603e-05, 'epoch': 44.37}\n",
      "{'loss': 0.0039, 'grad_norm': 0.36960989236831665, 'learning_rate': 1.1107999299842465e-05, 'epoch': 44.46}\n",
      "{'loss': 0.0039, 'grad_norm': 0.13163810968399048, 'learning_rate': 1.1090495361456328e-05, 'epoch': 44.55}\n",
      "{'loss': 0.004, 'grad_norm': 0.3397390842437744, 'learning_rate': 1.1072991423070192e-05, 'epoch': 44.64}\n",
      "{'loss': 0.0037, 'grad_norm': 0.004007556475698948, 'learning_rate': 1.1055487484684056e-05, 'epoch': 44.72}\n",
      "{'loss': 0.004, 'grad_norm': 0.3219304084777832, 'learning_rate': 1.103798354629792e-05, 'epoch': 44.81}\n",
      "{'loss': 0.004, 'grad_norm': 0.6302129626274109, 'learning_rate': 1.102047960791178e-05, 'epoch': 44.9}\n",
      "{'loss': 0.004, 'grad_norm': 0.11459861695766449, 'learning_rate': 1.1002975669525644e-05, 'epoch': 44.99}\n"
     ]
    },
    {
     "data": {
      "application/vnd.jupyter.widget-view+json": {
       "model_id": "d03c2a1380a443f488489cde6862a616",
       "version_major": 2,
       "version_minor": 0
      },
      "text/plain": [
       "  0%|          | 0/1009 [00:00<?, ?it/s]"
      ]
     },
     "metadata": {},
     "output_type": "display_data"
    },
    {
     "name": "stdout",
     "output_type": "stream",
     "text": [
      "{'eval_loss': 0.01388411782681942, 'eval_accuracy': 0.767747535495071, 'eval_f1': 0.8575236052199633, 'eval_precision_1': 0.9012126387702818, 'eval_recall': 0.8178746357492716, 'eval_runtime': 40.3008, 'eval_samples_per_second': 400.215, 'eval_steps_per_second': 25.037, 'epoch': 45.0}\n",
      "{'loss': 0.0036, 'grad_norm': 0.10022368282079697, 'learning_rate': 1.0985471731139508e-05, 'epoch': 45.07}\n",
      "{'loss': 0.0036, 'grad_norm': 0.15404342114925385, 'learning_rate': 1.096796779275337e-05, 'epoch': 45.16}\n",
      "{'loss': 0.0037, 'grad_norm': 0.5439798831939697, 'learning_rate': 1.0950463854367233e-05, 'epoch': 45.25}\n",
      "{'loss': 0.0037, 'grad_norm': 0.414844810962677, 'learning_rate': 1.0932959915981097e-05, 'epoch': 45.34}\n",
      "{'loss': 0.0039, 'grad_norm': 0.44651126861572266, 'learning_rate': 1.0915455977594959e-05, 'epoch': 45.42}\n",
      "{'loss': 0.0038, 'grad_norm': 0.28239545226097107, 'learning_rate': 1.0897952039208823e-05, 'epoch': 45.51}\n",
      "{'loss': 0.0037, 'grad_norm': 0.31652092933654785, 'learning_rate': 1.0880448100822687e-05, 'epoch': 45.6}\n",
      "{'loss': 0.0039, 'grad_norm': 0.1751517653465271, 'learning_rate': 1.0862944162436548e-05, 'epoch': 45.69}\n",
      "{'loss': 0.004, 'grad_norm': 0.13921013474464417, 'learning_rate': 1.0845440224050412e-05, 'epoch': 45.77}\n",
      "{'loss': 0.0037, 'grad_norm': 0.1486659198999405, 'learning_rate': 1.0827936285664276e-05, 'epoch': 45.86}\n",
      "{'loss': 0.0038, 'grad_norm': 0.042692724615335464, 'learning_rate': 1.081043234727814e-05, 'epoch': 45.95}\n"
     ]
    },
    {
     "data": {
      "application/vnd.jupyter.widget-view+json": {
       "model_id": "51dc029687b143fa91c09e51c8b0ece7",
       "version_major": 2,
       "version_minor": 0
      },
      "text/plain": [
       "  0%|          | 0/1009 [00:00<?, ?it/s]"
      ]
     },
     "metadata": {},
     "output_type": "display_data"
    },
    {
     "name": "stdout",
     "output_type": "stream",
     "text": [
      "{'eval_loss': 0.014216024428606033, 'eval_accuracy': 0.7688015376030752, 'eval_f1': 0.8548870839615453, 'eval_precision_1': 0.8960407816482583, 'eval_recall': 0.8173476346952694, 'eval_runtime': 40.1004, 'eval_samples_per_second': 402.215, 'eval_steps_per_second': 25.162, 'epoch': 46.0}\n",
      "{'loss': 0.0037, 'grad_norm': 0.12671411037445068, 'learning_rate': 1.0792928408892e-05, 'epoch': 46.04}\n",
      "{'loss': 0.0036, 'grad_norm': 1.0252798795700073, 'learning_rate': 1.0775424470505864e-05, 'epoch': 46.12}\n",
      "{'loss': 0.0037, 'grad_norm': 0.340760201215744, 'learning_rate': 1.0757920532119728e-05, 'epoch': 46.21}\n",
      "{'loss': 0.0035, 'grad_norm': 0.0739973708987236, 'learning_rate': 1.074041659373359e-05, 'epoch': 46.3}\n",
      "{'loss': 0.0038, 'grad_norm': 0.297688364982605, 'learning_rate': 1.0722912655347455e-05, 'epoch': 46.39}\n",
      "{'loss': 0.0036, 'grad_norm': 0.07341129332780838, 'learning_rate': 1.0705408716961317e-05, 'epoch': 46.47}\n",
      "{'loss': 0.004, 'grad_norm': 0.772711992263794, 'learning_rate': 1.068790477857518e-05, 'epoch': 46.56}\n",
      "{'loss': 0.0037, 'grad_norm': 0.20054195821285248, 'learning_rate': 1.0670400840189043e-05, 'epoch': 46.65}\n",
      "{'loss': 0.0036, 'grad_norm': 0.4189399480819702, 'learning_rate': 1.0652896901802907e-05, 'epoch': 46.74}\n",
      "{'loss': 0.0036, 'grad_norm': 0.055869802832603455, 'learning_rate': 1.0635392963416771e-05, 'epoch': 46.82}\n",
      "{'loss': 0.0038, 'grad_norm': 0.11040668934583664, 'learning_rate': 1.0617889025030632e-05, 'epoch': 46.91}\n",
      "{'loss': 0.0038, 'grad_norm': 0.14494645595550537, 'learning_rate': 1.0600385086644496e-05, 'epoch': 47.0}\n"
     ]
    },
    {
     "data": {
      "application/vnd.jupyter.widget-view+json": {
       "model_id": "c85672b2b05f401e894edfa0fde83367",
       "version_major": 2,
       "version_minor": 0
      },
      "text/plain": [
       "  0%|          | 0/1009 [00:00<?, ?it/s]"
      ]
     },
     "metadata": {},
     "output_type": "display_data"
    },
    {
     "name": "stdout",
     "output_type": "stream",
     "text": [
      "{'eval_loss': 0.014134732075035572, 'eval_accuracy': 0.767003534007068, 'eval_f1': 0.8557643886352929, 'eval_precision_1': 0.8989454284836695, 'eval_recall': 0.8165416330832662, 'eval_runtime': 40.1237, 'eval_samples_per_second': 401.982, 'eval_steps_per_second': 25.147, 'epoch': 47.0}\n",
      "{'loss': 0.0035, 'grad_norm': 0.015315007418394089, 'learning_rate': 1.058288114825836e-05, 'epoch': 47.09}\n",
      "{'loss': 0.0036, 'grad_norm': 0.07064381241798401, 'learning_rate': 1.0565377209872222e-05, 'epoch': 47.17}\n",
      "{'loss': 0.0034, 'grad_norm': 0.5602666139602661, 'learning_rate': 1.0547873271486085e-05, 'epoch': 47.26}\n",
      "{'loss': 0.0036, 'grad_norm': 0.20111429691314697, 'learning_rate': 1.0530369333099949e-05, 'epoch': 47.35}\n",
      "{'loss': 0.0034, 'grad_norm': 0.3807985186576843, 'learning_rate': 1.0512865394713811e-05, 'epoch': 47.44}\n",
      "{'loss': 0.0037, 'grad_norm': 0.33500948548316956, 'learning_rate': 1.0495361456327675e-05, 'epoch': 47.52}\n",
      "{'loss': 0.0035, 'grad_norm': 0.05552535876631737, 'learning_rate': 1.0477857517941539e-05, 'epoch': 47.61}\n",
      "{'loss': 0.0036, 'grad_norm': 0.22898650169372559, 'learning_rate': 1.04603535795554e-05, 'epoch': 47.7}\n",
      "{'loss': 0.0039, 'grad_norm': 0.13842704892158508, 'learning_rate': 1.0442849641169264e-05, 'epoch': 47.79}\n",
      "{'loss': 0.0035, 'grad_norm': 0.08596821129322052, 'learning_rate': 1.0425345702783128e-05, 'epoch': 47.87}\n",
      "{'loss': 0.0037, 'grad_norm': 0.09252162277698517, 'learning_rate': 1.0407841764396992e-05, 'epoch': 47.96}\n"
     ]
    },
    {
     "data": {
      "application/vnd.jupyter.widget-view+json": {
       "model_id": "1f4e53e0547248d7876ec41b550e426c",
       "version_major": 2,
       "version_minor": 0
      },
      "text/plain": [
       "  0%|          | 0/1009 [00:00<?, ?it/s]"
      ]
     },
     "metadata": {},
     "output_type": "display_data"
    },
    {
     "name": "stdout",
     "output_type": "stream",
     "text": [
      "{'eval_loss': 0.014233659952878952, 'eval_accuracy': 0.7656395312790626, 'eval_f1': 0.8548736227072246, 'eval_precision_1': 0.899880075381189, 'eval_recall': 0.8141546283092567, 'eval_runtime': 40.0329, 'eval_samples_per_second': 402.894, 'eval_steps_per_second': 25.204, 'epoch': 48.0}\n",
      "{'loss': 0.0036, 'grad_norm': 0.13058805465698242, 'learning_rate': 1.0390337826010852e-05, 'epoch': 48.05}\n",
      "{'loss': 0.0035, 'grad_norm': 0.19395993649959564, 'learning_rate': 1.0372833887624716e-05, 'epoch': 48.14}\n",
      "{'loss': 0.0034, 'grad_norm': 0.09157435595989227, 'learning_rate': 1.035532994923858e-05, 'epoch': 48.22}\n",
      "{'loss': 0.0034, 'grad_norm': 0.025417551398277283, 'learning_rate': 1.0337826010852443e-05, 'epoch': 48.31}\n",
      "{'loss': 0.0034, 'grad_norm': 0.4553525745868683, 'learning_rate': 1.0320322072466307e-05, 'epoch': 48.4}\n",
      "{'loss': 0.0034, 'grad_norm': 0.5003842711448669, 'learning_rate': 1.0302818134080169e-05, 'epoch': 48.49}\n",
      "{'loss': 0.0035, 'grad_norm': 0.09364085644483566, 'learning_rate': 1.0285314195694031e-05, 'epoch': 48.57}\n",
      "{'loss': 0.0038, 'grad_norm': 0.290283203125, 'learning_rate': 1.0267810257307895e-05, 'epoch': 48.66}\n",
      "{'loss': 0.0036, 'grad_norm': 0.1617109626531601, 'learning_rate': 1.025030631892176e-05, 'epoch': 48.75}\n",
      "{'loss': 0.0037, 'grad_norm': 0.06629011034965515, 'learning_rate': 1.023280238053562e-05, 'epoch': 48.84}\n",
      "{'loss': 0.0035, 'grad_norm': 0.11647935211658478, 'learning_rate': 1.0215298442149484e-05, 'epoch': 48.92}\n"
     ]
    },
    {
     "data": {
      "application/vnd.jupyter.widget-view+json": {
       "model_id": "79470ad6bc8b4148b20a6b8933acccf8",
       "version_major": 2,
       "version_minor": 0
      },
      "text/plain": [
       "  0%|          | 0/1009 [00:00<?, ?it/s]"
      ]
     },
     "metadata": {},
     "output_type": "display_data"
    },
    {
     "name": "stdout",
     "output_type": "stream",
     "text": [
      "{'eval_loss': 0.014179429039359093, 'eval_accuracy': 0.7691735383470767, 'eval_f1': 0.8565247096333409, 'eval_precision_1': 0.9011158269441402, 'eval_recall': 0.8161386322772646, 'eval_runtime': 40.0037, 'eval_samples_per_second': 403.188, 'eval_steps_per_second': 25.223, 'epoch': 49.0}\n",
      "{'loss': 0.0036, 'grad_norm': 0.20290234684944153, 'learning_rate': 1.0197794503763348e-05, 'epoch': 49.01}\n",
      "{'loss': 0.0032, 'grad_norm': 0.1578168123960495, 'learning_rate': 1.0180290565377212e-05, 'epoch': 49.1}\n",
      "{'loss': 0.0034, 'grad_norm': 0.08265580236911774, 'learning_rate': 1.0162786626991074e-05, 'epoch': 49.19}\n",
      "{'loss': 0.0034, 'grad_norm': 0.08964233100414276, 'learning_rate': 1.0145282688604937e-05, 'epoch': 49.27}\n",
      "{'loss': 0.0035, 'grad_norm': 0.08024994283914566, 'learning_rate': 1.0127778750218799e-05, 'epoch': 49.36}\n",
      "{'loss': 0.0035, 'grad_norm': 1.3267207145690918, 'learning_rate': 1.0110274811832663e-05, 'epoch': 49.45}\n",
      "{'loss': 0.0035, 'grad_norm': 0.10225451737642288, 'learning_rate': 1.0092770873446527e-05, 'epoch': 49.54}\n",
      "{'loss': 0.0035, 'grad_norm': 0.20917557179927826, 'learning_rate': 1.007526693506039e-05, 'epoch': 49.62}\n",
      "{'loss': 0.0037, 'grad_norm': 0.034413572400808334, 'learning_rate': 1.0057762996674251e-05, 'epoch': 49.71}\n",
      "{'loss': 0.0033, 'grad_norm': 0.38373884558677673, 'learning_rate': 1.0040259058288115e-05, 'epoch': 49.8}\n",
      "{'loss': 0.0036, 'grad_norm': 0.035229265689849854, 'learning_rate': 1.002275511990198e-05, 'epoch': 49.89}\n",
      "{'loss': 0.0034, 'grad_norm': 0.13436733186244965, 'learning_rate': 1.0005251181515842e-05, 'epoch': 49.97}\n"
     ]
    },
    {
     "data": {
      "application/vnd.jupyter.widget-view+json": {
       "model_id": "26ddb46dba614c608513f0429f15704b",
       "version_major": 2,
       "version_minor": 0
      },
      "text/plain": [
       "  0%|          | 0/1009 [00:00<?, ?it/s]"
      ]
     },
     "metadata": {},
     "output_type": "display_data"
    },
    {
     "name": "stdout",
     "output_type": "stream",
     "text": [
      "{'eval_loss': 0.014750145375728607, 'eval_accuracy': 0.7693595387190775, 'eval_f1': 0.8536557582464077, 'eval_precision_1': 0.8984688110163396, 'eval_recall': 0.8131006262012525, 'eval_runtime': 40.0071, 'eval_samples_per_second': 403.153, 'eval_steps_per_second': 25.221, 'epoch': 50.0}\n",
      "{'loss': 0.0034, 'grad_norm': 0.07507941871881485, 'learning_rate': 9.987747243129706e-06, 'epoch': 50.06}\n",
      "{'loss': 0.0032, 'grad_norm': 0.19683738052845, 'learning_rate': 9.970243304743568e-06, 'epoch': 50.15}\n",
      "{'loss': 0.0032, 'grad_norm': 0.0672985091805458, 'learning_rate': 9.95273936635743e-06, 'epoch': 50.24}\n",
      "{'loss': 0.0032, 'grad_norm': 0.21262413263320923, 'learning_rate': 9.935235427971294e-06, 'epoch': 50.32}\n",
      "{'loss': 0.0034, 'grad_norm': 0.3406096398830414, 'learning_rate': 9.917731489585157e-06, 'epoch': 50.41}\n",
      "{'loss': 0.0034, 'grad_norm': 0.11720714718103409, 'learning_rate': 9.90022755119902e-06, 'epoch': 50.5}\n",
      "{'loss': 0.0033, 'grad_norm': 0.06961672008037567, 'learning_rate': 9.882723612812883e-06, 'epoch': 50.59}\n",
      "{'loss': 0.0036, 'grad_norm': 0.06948570907115936, 'learning_rate': 9.865219674426747e-06, 'epoch': 50.67}\n",
      "{'loss': 0.0034, 'grad_norm': 0.25218817591667175, 'learning_rate': 9.84771573604061e-06, 'epoch': 50.76}\n",
      "{'loss': 0.0033, 'grad_norm': 0.0611276738345623, 'learning_rate': 9.830211797654473e-06, 'epoch': 50.85}\n",
      "{'loss': 0.0034, 'grad_norm': 0.3682290315628052, 'learning_rate': 9.812707859268337e-06, 'epoch': 50.94}\n"
     ]
    },
    {
     "data": {
      "application/vnd.jupyter.widget-view+json": {
       "model_id": "6f9104f5dfd445fc93e96d62717c490a",
       "version_major": 2,
       "version_minor": 0
      },
      "text/plain": [
       "  0%|          | 0/1009 [00:00<?, ?it/s]"
      ]
     },
     "metadata": {},
     "output_type": "display_data"
    },
    {
     "name": "stdout",
     "output_type": "stream",
     "text": [
      "{'eval_loss': 0.014391845092177391, 'eval_accuracy': 0.7694835389670779, 'eval_f1': 0.8565117827619249, 'eval_precision_1': 0.8995053726761044, 'eval_recall': 0.8174406348812697, 'eval_runtime': 39.896, 'eval_samples_per_second': 404.276, 'eval_steps_per_second': 25.291, 'epoch': 51.0}\n",
      "{'loss': 0.0036, 'grad_norm': 0.06931164115667343, 'learning_rate': 9.7952039208822e-06, 'epoch': 51.02}\n",
      "{'loss': 0.0031, 'grad_norm': 0.050825104117393494, 'learning_rate': 9.777699982496062e-06, 'epoch': 51.11}\n",
      "{'loss': 0.0032, 'grad_norm': 0.049970611929893494, 'learning_rate': 9.760196044109926e-06, 'epoch': 51.2}\n",
      "{'loss': 0.0034, 'grad_norm': 0.04195016995072365, 'learning_rate': 9.742692105723788e-06, 'epoch': 51.29}\n",
      "{'loss': 0.0034, 'grad_norm': 1.5335358381271362, 'learning_rate': 9.72518816733765e-06, 'epoch': 51.37}\n",
      "{'loss': 0.0034, 'grad_norm': 0.2427739053964615, 'learning_rate': 9.707684228951515e-06, 'epoch': 51.46}\n",
      "{'loss': 0.0034, 'grad_norm': 0.13680024445056915, 'learning_rate': 9.690180290565377e-06, 'epoch': 51.55}\n",
      "{'loss': 0.0033, 'grad_norm': 0.030772697180509567, 'learning_rate': 9.672676352179241e-06, 'epoch': 51.64}\n",
      "{'loss': 0.0033, 'grad_norm': 0.09507493674755096, 'learning_rate': 9.655172413793105e-06, 'epoch': 51.72}\n",
      "{'loss': 0.0033, 'grad_norm': 0.3382123112678528, 'learning_rate': 9.637668475406967e-06, 'epoch': 51.81}\n",
      "{'loss': 0.0035, 'grad_norm': 0.2508377730846405, 'learning_rate': 9.620164537020831e-06, 'epoch': 51.9}\n",
      "{'loss': 0.0034, 'grad_norm': 0.41195905208587646, 'learning_rate': 9.602660598634694e-06, 'epoch': 51.99}\n"
     ]
    },
    {
     "data": {
      "application/vnd.jupyter.widget-view+json": {
       "model_id": "6dfcc645ef20419e99f4770eec3442c9",
       "version_major": 2,
       "version_minor": 0
      },
      "text/plain": [
       "  0%|          | 0/1009 [00:00<?, ?it/s]"
      ]
     },
     "metadata": {},
     "output_type": "display_data"
    },
    {
     "name": "stdout",
     "output_type": "stream",
     "text": [
      "{'eval_loss': 0.014639426954090595, 'eval_accuracy': 0.775745551491103, 'eval_f1': 0.8574201374848363, 'eval_precision_1': 0.8964385970845875, 'eval_recall': 0.8216566433132866, 'eval_runtime': 40.0349, 'eval_samples_per_second': 402.873, 'eval_steps_per_second': 25.203, 'epoch': 52.0}\n",
      "{'loss': 0.0031, 'grad_norm': 0.029957111924886703, 'learning_rate': 9.585156660248558e-06, 'epoch': 52.07}\n",
      "{'loss': 0.003, 'grad_norm': 0.07489196211099625, 'learning_rate': 9.56765272186242e-06, 'epoch': 52.16}\n",
      "{'loss': 0.0033, 'grad_norm': 0.530509352684021, 'learning_rate': 9.550148783476282e-06, 'epoch': 52.25}\n",
      "{'loss': 0.0032, 'grad_norm': 0.022272232919931412, 'learning_rate': 9.532644845090146e-06, 'epoch': 52.34}\n",
      "{'loss': 0.0031, 'grad_norm': 0.08259742707014084, 'learning_rate': 9.515140906704009e-06, 'epoch': 52.42}\n",
      "{'loss': 0.0032, 'grad_norm': 0.1107010766863823, 'learning_rate': 9.497636968317873e-06, 'epoch': 52.51}\n",
      "{'loss': 0.0035, 'grad_norm': 0.06113993376493454, 'learning_rate': 9.480133029931735e-06, 'epoch': 52.6}\n",
      "{'loss': 0.0034, 'grad_norm': 0.19748911261558533, 'learning_rate': 9.462629091545599e-06, 'epoch': 52.69}\n",
      "{'loss': 0.0033, 'grad_norm': 0.06996471434831619, 'learning_rate': 9.445125153159461e-06, 'epoch': 52.77}\n",
      "{'loss': 0.0034, 'grad_norm': 0.31878817081451416, 'learning_rate': 9.427621214773325e-06, 'epoch': 52.86}\n",
      "{'loss': 0.0034, 'grad_norm': 0.03391939774155617, 'learning_rate': 9.41011727638719e-06, 'epoch': 52.95}\n"
     ]
    },
    {
     "data": {
      "application/vnd.jupyter.widget-view+json": {
       "model_id": "53e6bb7b8413477da591f3426eec602b",
       "version_major": 2,
       "version_minor": 0
      },
      "text/plain": [
       "  0%|          | 0/1009 [00:00<?, ?it/s]"
      ]
     },
     "metadata": {},
     "output_type": "display_data"
    },
    {
     "name": "stdout",
     "output_type": "stream",
     "text": [
      "{'eval_loss': 0.014270194806158543, 'eval_accuracy': 0.7759315518631037, 'eval_f1': 0.8585637686089647, 'eval_precision_1': 0.8991280154717878, 'eval_recall': 0.821501643003286, 'eval_runtime': 39.9765, 'eval_samples_per_second': 403.462, 'eval_steps_per_second': 25.24, 'epoch': 53.0}\n",
      "{'loss': 0.0031, 'grad_norm': 0.04434647411108017, 'learning_rate': 9.392613338001052e-06, 'epoch': 53.04}\n",
      "{'loss': 0.003, 'grad_norm': 0.05383562296628952, 'learning_rate': 9.375109399614914e-06, 'epoch': 53.12}\n",
      "{'loss': 0.0032, 'grad_norm': 0.03548626974225044, 'learning_rate': 9.357605461228776e-06, 'epoch': 53.21}\n",
      "{'loss': 0.0028, 'grad_norm': 0.10344108194112778, 'learning_rate': 9.34010152284264e-06, 'epoch': 53.3}\n",
      "{'loss': 0.0033, 'grad_norm': 0.09676837921142578, 'learning_rate': 9.322597584456503e-06, 'epoch': 53.39}\n",
      "{'loss': 0.0032, 'grad_norm': 0.22136034071445465, 'learning_rate': 9.305093646070367e-06, 'epoch': 53.47}\n",
      "{'loss': 0.0032, 'grad_norm': 0.08096284419298172, 'learning_rate': 9.287589707684229e-06, 'epoch': 53.56}\n",
      "{'loss': 0.0033, 'grad_norm': 0.04249560087919235, 'learning_rate': 9.270085769298093e-06, 'epoch': 53.65}\n",
      "{'loss': 0.0035, 'grad_norm': 0.1171327605843544, 'learning_rate': 9.252581830911957e-06, 'epoch': 53.74}\n",
      "{'loss': 0.0032, 'grad_norm': 1.558508276939392, 'learning_rate': 9.23507789252582e-06, 'epoch': 53.82}\n",
      "{'loss': 0.0032, 'grad_norm': 0.07057514041662216, 'learning_rate': 9.217573954139683e-06, 'epoch': 53.91}\n",
      "{'loss': 0.0035, 'grad_norm': 0.15559612214565277, 'learning_rate': 9.200070015753545e-06, 'epoch': 54.0}\n"
     ]
    },
    {
     "data": {
      "application/vnd.jupyter.widget-view+json": {
       "model_id": "d251b389e0fd49cf8725f1763cc5246d",
       "version_major": 2,
       "version_minor": 0
      },
      "text/plain": [
       "  0%|          | 0/1009 [00:00<?, ?it/s]"
      ]
     },
     "metadata": {},
     "output_type": "display_data"
    },
    {
     "name": "stdout",
     "output_type": "stream",
     "text": [
      "{'eval_loss': 0.014489918947219849, 'eval_accuracy': 0.7732035464070928, 'eval_f1': 0.8567764140528605, 'eval_precision_1': 0.8994137296339219, 'eval_recall': 0.817998635997272, 'eval_runtime': 40.2152, 'eval_samples_per_second': 401.067, 'eval_steps_per_second': 25.09, 'epoch': 54.0}\n",
      "{'loss': 0.003, 'grad_norm': 0.0652565062046051, 'learning_rate': 9.182566077367408e-06, 'epoch': 54.09}\n",
      "{'loss': 0.0032, 'grad_norm': 0.22517110407352448, 'learning_rate': 9.165062138981272e-06, 'epoch': 54.17}\n",
      "{'loss': 0.0031, 'grad_norm': 0.11782388389110565, 'learning_rate': 9.147558200595134e-06, 'epoch': 54.26}\n",
      "{'loss': 0.0031, 'grad_norm': 0.745867133140564, 'learning_rate': 9.130054262208998e-06, 'epoch': 54.35}\n",
      "{'loss': 0.0031, 'grad_norm': 0.08118545264005661, 'learning_rate': 9.11255032382286e-06, 'epoch': 54.44}\n",
      "{'loss': 0.0032, 'grad_norm': 0.1454887092113495, 'learning_rate': 9.095046385436724e-06, 'epoch': 54.52}\n",
      "{'loss': 0.0032, 'grad_norm': 0.05161270126700401, 'learning_rate': 9.077542447050587e-06, 'epoch': 54.61}\n",
      "{'loss': 0.0032, 'grad_norm': 0.09742434322834015, 'learning_rate': 9.06003850866445e-06, 'epoch': 54.7}\n",
      "{'loss': 0.0031, 'grad_norm': 0.1447063535451889, 'learning_rate': 9.042534570278313e-06, 'epoch': 54.79}\n",
      "{'loss': 0.0031, 'grad_norm': 0.035162221640348434, 'learning_rate': 9.025030631892177e-06, 'epoch': 54.87}\n",
      "{'loss': 0.003, 'grad_norm': 0.07078193128108978, 'learning_rate': 9.00752669350604e-06, 'epoch': 54.96}\n"
     ]
    },
    {
     "data": {
      "application/vnd.jupyter.widget-view+json": {
       "model_id": "0f2b0adb41e2456e87bf3655c867512f",
       "version_major": 2,
       "version_minor": 0
      },
      "text/plain": [
       "  0%|          | 0/1009 [00:00<?, ?it/s]"
      ]
     },
     "metadata": {},
     "output_type": "display_data"
    },
    {
     "name": "stdout",
     "output_type": "stream",
     "text": [
      "{'eval_loss': 0.014431683346629143, 'eval_accuracy': 0.7761795523591047, 'eval_f1': 0.8589591813567293, 'eval_precision_1': 0.9006291447032817, 'eval_recall': 0.8209746419492839, 'eval_runtime': 40.0682, 'eval_samples_per_second': 402.539, 'eval_steps_per_second': 25.182, 'epoch': 55.0}\n",
      "{'loss': 0.0032, 'grad_norm': 1.1825436353683472, 'learning_rate': 8.990022755119903e-06, 'epoch': 55.05}\n",
      "{'loss': 0.0028, 'grad_norm': 0.06571368128061295, 'learning_rate': 8.972518816733766e-06, 'epoch': 55.14}\n",
      "{'loss': 0.003, 'grad_norm': 0.16459843516349792, 'learning_rate': 8.955014878347628e-06, 'epoch': 55.22}\n",
      "{'loss': 0.0031, 'grad_norm': 0.19201861321926117, 'learning_rate': 8.937510939961492e-06, 'epoch': 55.31}\n",
      "{'loss': 0.0032, 'grad_norm': 0.18720081448554993, 'learning_rate': 8.920007001575354e-06, 'epoch': 55.4}\n",
      "{'loss': 0.0032, 'grad_norm': 0.06475222110748291, 'learning_rate': 8.902503063189218e-06, 'epoch': 55.49}\n",
      "{'loss': 0.0029, 'grad_norm': 0.18401861190795898, 'learning_rate': 8.88499912480308e-06, 'epoch': 55.58}\n",
      "{'loss': 0.0031, 'grad_norm': 0.06656813621520996, 'learning_rate': 8.867495186416945e-06, 'epoch': 55.66}\n",
      "{'loss': 0.0031, 'grad_norm': 0.0486454963684082, 'learning_rate': 8.849991248030809e-06, 'epoch': 55.75}\n",
      "{'loss': 0.0031, 'grad_norm': 0.01654544472694397, 'learning_rate': 8.832487309644671e-06, 'epoch': 55.84}\n",
      "{'loss': 0.0033, 'grad_norm': 0.10257706791162491, 'learning_rate': 8.814983371258535e-06, 'epoch': 55.93}\n"
     ]
    },
    {
     "data": {
      "application/vnd.jupyter.widget-view+json": {
       "model_id": "dd55d88fe8584b559256158c9faf1ef3",
       "version_major": 2,
       "version_minor": 0
      },
      "text/plain": [
       "  0%|          | 0/1009 [00:00<?, ?it/s]"
      ]
     },
     "metadata": {},
     "output_type": "display_data"
    },
    {
     "name": "stdout",
     "output_type": "stream",
     "text": [
      "{'eval_loss': 0.014473369345068932, 'eval_accuracy': 0.7771095542191084, 'eval_f1': 0.8583951995083055, 'eval_precision_1': 0.8974263586864621, 'eval_recall': 0.8226176452352905, 'eval_runtime': 40.0908, 'eval_samples_per_second': 402.312, 'eval_steps_per_second': 25.168, 'epoch': 56.0}\n",
      "{'loss': 0.0032, 'grad_norm': 0.05007682368159294, 'learning_rate': 8.797479432872397e-06, 'epoch': 56.01}\n",
      "{'loss': 0.0029, 'grad_norm': 0.44898203015327454, 'learning_rate': 8.77997549448626e-06, 'epoch': 56.1}\n",
      "{'loss': 0.003, 'grad_norm': 0.16730082035064697, 'learning_rate': 8.762471556100122e-06, 'epoch': 56.19}\n",
      "{'loss': 0.003, 'grad_norm': 0.1459662914276123, 'learning_rate': 8.744967617713986e-06, 'epoch': 56.28}\n",
      "{'loss': 0.0029, 'grad_norm': 0.3209545314311981, 'learning_rate': 8.72746367932785e-06, 'epoch': 56.36}\n",
      "{'loss': 0.0029, 'grad_norm': 0.3064553439617157, 'learning_rate': 8.709959740941712e-06, 'epoch': 56.45}\n",
      "{'loss': 0.0031, 'grad_norm': 0.062224697321653366, 'learning_rate': 8.692455802555576e-06, 'epoch': 56.54}\n",
      "{'loss': 0.0031, 'grad_norm': 0.1228734701871872, 'learning_rate': 8.674951864169439e-06, 'epoch': 56.63}\n",
      "{'loss': 0.0031, 'grad_norm': 0.031784605234861374, 'learning_rate': 8.657447925783303e-06, 'epoch': 56.71}\n",
      "{'loss': 0.0032, 'grad_norm': 0.4212295711040497, 'learning_rate': 8.639943987397165e-06, 'epoch': 56.8}\n",
      "{'loss': 0.0032, 'grad_norm': 0.07351204752922058, 'learning_rate': 8.622440049011029e-06, 'epoch': 56.89}\n",
      "{'loss': 0.0032, 'grad_norm': 0.10090487450361252, 'learning_rate': 8.604936110624891e-06, 'epoch': 56.98}\n"
     ]
    },
    {
     "data": {
      "application/vnd.jupyter.widget-view+json": {
       "model_id": "07e155debcb5437cbf51744fb834dfc8",
       "version_major": 2,
       "version_minor": 0
      },
      "text/plain": [
       "  0%|          | 0/1009 [00:00<?, ?it/s]"
      ]
     },
     "metadata": {},
     "output_type": "display_data"
    },
    {
     "name": "stdout",
     "output_type": "stream",
     "text": [
      "{'eval_loss': 0.014588994905352592, 'eval_accuracy': 0.7750015500031, 'eval_f1': 0.8573467170447727, 'eval_precision_1': 0.898874494202455, 'eval_recall': 0.8194866389732779, 'eval_runtime': 40.29, 'eval_samples_per_second': 400.323, 'eval_steps_per_second': 25.043, 'epoch': 57.0}\n",
      "{'loss': 0.0029, 'grad_norm': 0.05476026237010956, 'learning_rate': 8.587432172238754e-06, 'epoch': 57.06}\n",
      "{'loss': 0.0029, 'grad_norm': 0.0715697854757309, 'learning_rate': 8.569928233852618e-06, 'epoch': 57.15}\n",
      "{'loss': 0.0028, 'grad_norm': 0.0477752648293972, 'learning_rate': 8.55242429546648e-06, 'epoch': 57.24}\n",
      "{'loss': 0.0031, 'grad_norm': 0.7181854248046875, 'learning_rate': 8.534920357080344e-06, 'epoch': 57.33}\n",
      "{'loss': 0.0032, 'grad_norm': 0.07633545994758606, 'learning_rate': 8.517416418694206e-06, 'epoch': 57.41}\n",
      "{'loss': 0.0031, 'grad_norm': 0.08010213822126389, 'learning_rate': 8.49991248030807e-06, 'epoch': 57.5}\n",
      "{'loss': 0.0029, 'grad_norm': 0.0634050965309143, 'learning_rate': 8.482408541921933e-06, 'epoch': 57.59}\n",
      "{'loss': 0.0031, 'grad_norm': 0.4659641683101654, 'learning_rate': 8.464904603535797e-06, 'epoch': 57.68}\n",
      "{'loss': 0.003, 'grad_norm': 0.15413504838943481, 'learning_rate': 8.44740066514966e-06, 'epoch': 57.76}\n",
      "{'loss': 0.003, 'grad_norm': 0.026411376893520355, 'learning_rate': 8.429896726763523e-06, 'epoch': 57.85}\n",
      "{'loss': 0.0031, 'grad_norm': 0.05479186028242111, 'learning_rate': 8.412392788377385e-06, 'epoch': 57.94}\n"
     ]
    },
    {
     "data": {
      "application/vnd.jupyter.widget-view+json": {
       "model_id": "3641ac2704bb4972af41f09126a06619",
       "version_major": 2,
       "version_minor": 0
      },
      "text/plain": [
       "  0%|          | 0/1009 [00:00<?, ?it/s]"
      ]
     },
     "metadata": {},
     "output_type": "display_data"
    },
    {
     "name": "stdout",
     "output_type": "stream",
     "text": [
      "{'eval_loss': 0.01489955186843872, 'eval_accuracy': 0.7777295554591109, 'eval_f1': 0.8560670943554772, 'eval_precision_1': 0.8941097046413502, 'eval_recall': 0.8211296422592845, 'eval_runtime': 40.0545, 'eval_samples_per_second': 402.676, 'eval_steps_per_second': 25.191, 'epoch': 58.0}\n",
      "{'loss': 0.0031, 'grad_norm': 0.026281848549842834, 'learning_rate': 8.39488884999125e-06, 'epoch': 58.03}\n",
      "{'loss': 0.0028, 'grad_norm': 0.0683426484465599, 'learning_rate': 8.377384911605111e-06, 'epoch': 58.11}\n",
      "{'loss': 0.0029, 'grad_norm': 0.050952304154634476, 'learning_rate': 8.359880973218974e-06, 'epoch': 58.2}\n",
      "{'loss': 0.0029, 'grad_norm': 0.10697763413190842, 'learning_rate': 8.342377034832838e-06, 'epoch': 58.29}\n",
      "{'loss': 0.003, 'grad_norm': 0.025868479162454605, 'learning_rate': 8.324873096446702e-06, 'epoch': 58.38}\n",
      "{'loss': 0.0031, 'grad_norm': 0.06494490057229996, 'learning_rate': 8.307369158060564e-06, 'epoch': 58.46}\n",
      "{'loss': 0.003, 'grad_norm': 0.1449962556362152, 'learning_rate': 8.289865219674428e-06, 'epoch': 58.55}\n",
      "{'loss': 0.003, 'grad_norm': 0.07821547985076904, 'learning_rate': 8.27236128128829e-06, 'epoch': 58.64}\n",
      "{'loss': 0.0031, 'grad_norm': 0.044998105615377426, 'learning_rate': 8.254857342902154e-06, 'epoch': 58.73}\n",
      "{'loss': 0.0032, 'grad_norm': 0.03869010508060455, 'learning_rate': 8.237353404516017e-06, 'epoch': 58.81}\n",
      "{'loss': 0.003, 'grad_norm': 0.17519281804561615, 'learning_rate': 8.21984946612988e-06, 'epoch': 58.9}\n",
      "{'loss': 0.003, 'grad_norm': 0.06013987585902214, 'learning_rate': 8.202345527743743e-06, 'epoch': 58.99}\n"
     ]
    },
    {
     "data": {
      "application/vnd.jupyter.widget-view+json": {
       "model_id": "313c6928efef4c3ea096d741017ff371",
       "version_major": 2,
       "version_minor": 0
      },
      "text/plain": [
       "  0%|          | 0/1009 [00:00<?, ?it/s]"
      ]
     },
     "metadata": {},
     "output_type": "display_data"
    },
    {
     "name": "stdout",
     "output_type": "stream",
     "text": [
      "{'eval_loss': 0.014937774278223515, 'eval_accuracy': 0.7802715605431211, 'eval_f1': 0.8570275809757436, 'eval_precision_1': 0.8938562531560343, 'eval_recall': 0.8231136462272924, 'eval_runtime': 40.2242, 'eval_samples_per_second': 400.978, 'eval_steps_per_second': 25.084, 'epoch': 59.0}\n",
      "{'loss': 0.003, 'grad_norm': 0.10409174859523773, 'learning_rate': 8.184841589357605e-06, 'epoch': 59.08}\n",
      "{'loss': 0.0028, 'grad_norm': 0.0876464694738388, 'learning_rate': 8.16733765097147e-06, 'epoch': 59.16}\n",
      "{'loss': 0.0029, 'grad_norm': 0.05672736093401909, 'learning_rate': 8.149833712585332e-06, 'epoch': 59.25}\n",
      "{'loss': 0.0029, 'grad_norm': 0.055726706981658936, 'learning_rate': 8.132329774199196e-06, 'epoch': 59.34}\n",
      "{'loss': 0.0027, 'grad_norm': 0.06469126790761948, 'learning_rate': 8.114825835813058e-06, 'epoch': 59.43}\n",
      "{'loss': 0.003, 'grad_norm': 0.04590517282485962, 'learning_rate': 8.097321897426922e-06, 'epoch': 59.51}\n",
      "{'loss': 0.0029, 'grad_norm': 0.03541639819741249, 'learning_rate': 8.079817959040784e-06, 'epoch': 59.6}\n",
      "{'loss': 0.003, 'grad_norm': 0.05729863792657852, 'learning_rate': 8.062314020654648e-06, 'epoch': 59.69}\n",
      "{'loss': 0.003, 'grad_norm': 0.181357279419899, 'learning_rate': 8.044810082268512e-06, 'epoch': 59.78}\n",
      "{'loss': 0.0033, 'grad_norm': 0.09526791423559189, 'learning_rate': 8.027306143882375e-06, 'epoch': 59.86}\n",
      "{'loss': 0.0029, 'grad_norm': 0.014294608496129513, 'learning_rate': 8.009802205496237e-06, 'epoch': 59.95}\n"
     ]
    },
    {
     "data": {
      "application/vnd.jupyter.widget-view+json": {
       "model_id": "11b88bbd268a46d6b5723ba4ee619c34",
       "version_major": 2,
       "version_minor": 0
      },
      "text/plain": [
       "  0%|          | 0/1009 [00:00<?, ?it/s]"
      ]
     },
     "metadata": {},
     "output_type": "display_data"
    },
    {
     "name": "stdout",
     "output_type": "stream",
     "text": [
      "{'eval_loss': 0.014835634268820286, 'eval_accuracy': 0.7756215512431025, 'eval_f1': 0.8572493839968875, 'eval_precision_1': 0.8984369690791709, 'eval_recall': 0.8196726393452787, 'eval_runtime': 40.0875, 'eval_samples_per_second': 402.344, 'eval_steps_per_second': 25.17, 'epoch': 60.0}\n",
      "{'loss': 0.0028, 'grad_norm': 0.07205217331647873, 'learning_rate': 7.9922982671101e-06, 'epoch': 60.04}\n",
      "{'loss': 0.0028, 'grad_norm': 0.0725032389163971, 'learning_rate': 7.974794328723963e-06, 'epoch': 60.13}\n",
      "{'loss': 0.003, 'grad_norm': 0.026917874813079834, 'learning_rate': 7.957290390337826e-06, 'epoch': 60.21}\n",
      "{'loss': 0.0028, 'grad_norm': 0.08156539499759674, 'learning_rate': 7.93978645195169e-06, 'epoch': 60.3}\n",
      "{'loss': 0.003, 'grad_norm': 0.10812270641326904, 'learning_rate': 7.922282513565554e-06, 'epoch': 60.39}\n",
      "{'loss': 0.0027, 'grad_norm': 0.0690542608499527, 'learning_rate': 7.904778575179416e-06, 'epoch': 60.48}\n",
      "{'loss': 0.003, 'grad_norm': 0.17710834741592407, 'learning_rate': 7.88727463679328e-06, 'epoch': 60.56}\n",
      "{'loss': 0.003, 'grad_norm': 0.08551008999347687, 'learning_rate': 7.869770698407142e-06, 'epoch': 60.65}\n",
      "{'loss': 0.0029, 'grad_norm': 0.15108071267604828, 'learning_rate': 7.852266760021006e-06, 'epoch': 60.74}\n",
      "{'loss': 0.0031, 'grad_norm': 0.08243989944458008, 'learning_rate': 7.834762821634869e-06, 'epoch': 60.83}\n",
      "{'loss': 0.003, 'grad_norm': 0.07134274393320084, 'learning_rate': 7.817258883248731e-06, 'epoch': 60.91}\n"
     ]
    },
    {
     "data": {
      "application/vnd.jupyter.widget-view+json": {
       "model_id": "983f4d99d0e8459e8a6937259caea81a",
       "version_major": 2,
       "version_minor": 0
      },
      "text/plain": [
       "  0%|          | 0/1009 [00:00<?, ?it/s]"
      ]
     },
     "metadata": {},
     "output_type": "display_data"
    },
    {
     "name": "stdout",
     "output_type": "stream",
     "text": [
      "{'eval_loss': 0.0148966358974576, 'eval_accuracy': 0.7777915555831112, 'eval_f1': 0.8579094538460296, 'eval_precision_1': 0.8962547701867549, 'eval_recall': 0.8227106454212908, 'eval_runtime': 40.0029, 'eval_samples_per_second': 403.195, 'eval_steps_per_second': 25.223, 'epoch': 61.0}\n",
      "{'loss': 0.0028, 'grad_norm': 0.07926646620035172, 'learning_rate': 7.799754944862595e-06, 'epoch': 61.0}\n",
      "{'loss': 0.0027, 'grad_norm': 0.7245857119560242, 'learning_rate': 7.782251006476457e-06, 'epoch': 61.09}\n",
      "{'loss': 0.0029, 'grad_norm': 0.07150136679410934, 'learning_rate': 7.764747068090321e-06, 'epoch': 61.18}\n",
      "{'loss': 0.0027, 'grad_norm': 0.06456363201141357, 'learning_rate': 7.747243129704184e-06, 'epoch': 61.26}\n",
      "{'loss': 0.0028, 'grad_norm': 0.026240836828947067, 'learning_rate': 7.729739191318048e-06, 'epoch': 61.35}\n",
      "{'loss': 0.003, 'grad_norm': 0.0442662313580513, 'learning_rate': 7.71223525293191e-06, 'epoch': 61.44}\n",
      "{'loss': 0.0029, 'grad_norm': 0.11813411116600037, 'learning_rate': 7.694731314545774e-06, 'epoch': 61.53}\n",
      "{'loss': 0.0029, 'grad_norm': 0.1652906835079193, 'learning_rate': 7.677227376159636e-06, 'epoch': 61.61}\n",
      "{'loss': 0.003, 'grad_norm': 0.03580104187130928, 'learning_rate': 7.6597234377735e-06, 'epoch': 61.7}\n",
      "{'loss': 0.0029, 'grad_norm': 0.048310644924640656, 'learning_rate': 7.642219499387363e-06, 'epoch': 61.79}\n",
      "{'loss': 0.0029, 'grad_norm': 0.04264464229345322, 'learning_rate': 7.624715561001226e-06, 'epoch': 61.88}\n",
      "{'loss': 0.0028, 'grad_norm': 0.5738715529441833, 'learning_rate': 7.60721162261509e-06, 'epoch': 61.96}\n"
     ]
    },
    {
     "data": {
      "application/vnd.jupyter.widget-view+json": {
       "model_id": "89671e109d52495496d8d9bfbb8033a3",
       "version_major": 2,
       "version_minor": 0
      },
      "text/plain": [
       "  0%|          | 0/1009 [00:00<?, ?it/s]"
      ]
     },
     "metadata": {},
     "output_type": "display_data"
    },
    {
     "name": "stdout",
     "output_type": "stream",
     "text": [
      "{'eval_loss': 0.01483156718313694, 'eval_accuracy': 0.7746915493830988, 'eval_f1': 0.8579020707087074, 'eval_precision_1': 0.8986422267481331, 'eval_recall': 0.8206956413912828, 'eval_runtime': 40.035, 'eval_samples_per_second': 402.872, 'eval_steps_per_second': 25.203, 'epoch': 62.0}\n",
      "{'train_runtime': 43526.8189, 'train_samples_per_second': 209.976, 'train_steps_per_second': 13.125, 'train_loss': 0.013663096298290512, 'epoch': 62.0}\n"
     ]
    },
    {
     "data": {
      "text/plain": [
       "TrainOutput(global_step=354206, training_loss=0.013663096298290512, metrics={'train_runtime': 43526.8189, 'train_samples_per_second': 209.976, 'train_steps_per_second': 13.125, 'total_flos': 3.732920048296366e+17, 'train_loss': 0.013663096298290512, 'epoch': 62.0})"
      ]
     },
     "execution_count": 11,
     "metadata": {},
     "output_type": "execute_result"
    }
   ],
   "source": [
    "from transformers import TrainingArguments, Trainer\n",
    "\n",
    "from transformers import EarlyStoppingCallback\n",
    "\n",
    "# Define training arguments\n",
    "training_args = TrainingArguments(\n",
    "    output_dir=\"bert-classifier\",\n",
    "    learning_rate=2e-5,\n",
    "    per_device_train_batch_size=16,\n",
    "    per_device_eval_batch_size=16,\n",
    "    num_train_epochs=100,  # Set a maximum number of epochs\n",
    "    weight_decay=0.01,\n",
    "    eval_strategy=\"epoch\",  # Evaluate at the end of every epoch\n",
    "    save_strategy=\"epoch\",  # Save the model at the end of every epoch\n",
    "    load_best_model_at_end=True,  # Load the best model after training\n",
    "    metric_for_best_model=\"accuracy\",  # Metric to monitor\n",
    "    greater_is_better=True,  # Higher accuracy is better\n",
    "    logging_dir=\"./logs\"\n",
    ")\n",
    "\n",
    "# Add the EarlyStoppingCallback\n",
    "early_stopping = EarlyStoppingCallback(\n",
    "    early_stopping_patience=3  # Stop training if the metric does not improve for 3 evaluation steps\n",
    ")\n",
    "\n",
    "# Initialize the Trainer\n",
    "trainer = Trainer(\n",
    "    model=model,\n",
    "    args=training_args,\n",
    "    train_dataset=encoded_dataset[\"train\"],\n",
    "    eval_dataset=encoded_dataset[\"test\"],\n",
    "    tokenizer=tokenizer,\n",
    "    compute_metrics=compute_metrics,\n",
    "    callbacks=[early_stopping]  # Add the early stopping callback\n",
    ")\n",
    "\n",
    "# Start training\n",
    "trainer.train()"
   ]
  },
  {
   "cell_type": "markdown",
   "metadata": {},
   "source": [
    "## Test Outputs"
   ]
  },
  {
   "cell_type": "code",
   "execution_count": null,
   "metadata": {},
   "outputs": [
    {
     "ename": "OSError",
     "evalue": "Incorrect path_or_model_id: '/home/j/Desktop/MLotsawa/Notebooks/Models/BertTag/bert-classifier/checkpoint-34275'. Please provide either the path to a local folder or the repo_id of a model on the Hub.",
     "output_type": "error",
     "traceback": [
      "\u001b[0;31m---------------------------------------------------------------------------\u001b[0m",
      "\u001b[0;31mHFValidationError\u001b[0m                         Traceback (most recent call last)",
      "File \u001b[0;32m~/Desktop/MLotsawa/.venv/lib/python3.12/site-packages/transformers/utils/hub.py:403\u001b[0m, in \u001b[0;36mcached_file\u001b[0;34m(path_or_repo_id, filename, cache_dir, force_download, resume_download, proxies, token, revision, local_files_only, subfolder, repo_type, user_agent, _raise_exceptions_for_gated_repo, _raise_exceptions_for_missing_entries, _raise_exceptions_for_connection_errors, _commit_hash, **deprecated_kwargs)\u001b[0m\n\u001b[1;32m    401\u001b[0m \u001b[38;5;28;01mtry\u001b[39;00m:\n\u001b[1;32m    402\u001b[0m     \u001b[38;5;66;03m# Load from URL or cache if already cached\u001b[39;00m\n\u001b[0;32m--> 403\u001b[0m     resolved_file \u001b[38;5;241m=\u001b[39m \u001b[43mhf_hub_download\u001b[49m\u001b[43m(\u001b[49m\n\u001b[1;32m    404\u001b[0m \u001b[43m        \u001b[49m\u001b[43mpath_or_repo_id\u001b[49m\u001b[43m,\u001b[49m\n\u001b[1;32m    405\u001b[0m \u001b[43m        \u001b[49m\u001b[43mfilename\u001b[49m\u001b[43m,\u001b[49m\n\u001b[1;32m    406\u001b[0m \u001b[43m        \u001b[49m\u001b[43msubfolder\u001b[49m\u001b[38;5;241;43m=\u001b[39;49m\u001b[38;5;28;43;01mNone\u001b[39;49;00m\u001b[43m \u001b[49m\u001b[38;5;28;43;01mif\u001b[39;49;00m\u001b[43m \u001b[49m\u001b[38;5;28;43mlen\u001b[39;49m\u001b[43m(\u001b[49m\u001b[43msubfolder\u001b[49m\u001b[43m)\u001b[49m\u001b[43m \u001b[49m\u001b[38;5;241;43m==\u001b[39;49m\u001b[43m \u001b[49m\u001b[38;5;241;43m0\u001b[39;49m\u001b[43m \u001b[49m\u001b[38;5;28;43;01melse\u001b[39;49;00m\u001b[43m \u001b[49m\u001b[43msubfolder\u001b[49m\u001b[43m,\u001b[49m\n\u001b[1;32m    407\u001b[0m \u001b[43m        \u001b[49m\u001b[43mrepo_type\u001b[49m\u001b[38;5;241;43m=\u001b[39;49m\u001b[43mrepo_type\u001b[49m\u001b[43m,\u001b[49m\n\u001b[1;32m    408\u001b[0m \u001b[43m        \u001b[49m\u001b[43mrevision\u001b[49m\u001b[38;5;241;43m=\u001b[39;49m\u001b[43mrevision\u001b[49m\u001b[43m,\u001b[49m\n\u001b[1;32m    409\u001b[0m \u001b[43m        \u001b[49m\u001b[43mcache_dir\u001b[49m\u001b[38;5;241;43m=\u001b[39;49m\u001b[43mcache_dir\u001b[49m\u001b[43m,\u001b[49m\n\u001b[1;32m    410\u001b[0m \u001b[43m        \u001b[49m\u001b[43muser_agent\u001b[49m\u001b[38;5;241;43m=\u001b[39;49m\u001b[43muser_agent\u001b[49m\u001b[43m,\u001b[49m\n\u001b[1;32m    411\u001b[0m \u001b[43m        \u001b[49m\u001b[43mforce_download\u001b[49m\u001b[38;5;241;43m=\u001b[39;49m\u001b[43mforce_download\u001b[49m\u001b[43m,\u001b[49m\n\u001b[1;32m    412\u001b[0m \u001b[43m        \u001b[49m\u001b[43mproxies\u001b[49m\u001b[38;5;241;43m=\u001b[39;49m\u001b[43mproxies\u001b[49m\u001b[43m,\u001b[49m\n\u001b[1;32m    413\u001b[0m \u001b[43m        \u001b[49m\u001b[43mresume_download\u001b[49m\u001b[38;5;241;43m=\u001b[39;49m\u001b[43mresume_download\u001b[49m\u001b[43m,\u001b[49m\n\u001b[1;32m    414\u001b[0m \u001b[43m        \u001b[49m\u001b[43mtoken\u001b[49m\u001b[38;5;241;43m=\u001b[39;49m\u001b[43mtoken\u001b[49m\u001b[43m,\u001b[49m\n\u001b[1;32m    415\u001b[0m \u001b[43m        \u001b[49m\u001b[43mlocal_files_only\u001b[49m\u001b[38;5;241;43m=\u001b[39;49m\u001b[43mlocal_files_only\u001b[49m\u001b[43m,\u001b[49m\n\u001b[1;32m    416\u001b[0m \u001b[43m    \u001b[49m\u001b[43m)\u001b[49m\n\u001b[1;32m    417\u001b[0m \u001b[38;5;28;01mexcept\u001b[39;00m GatedRepoError \u001b[38;5;28;01mas\u001b[39;00m e:\n",
      "File \u001b[0;32m~/Desktop/MLotsawa/.venv/lib/python3.12/site-packages/huggingface_hub/utils/_validators.py:106\u001b[0m, in \u001b[0;36mvalidate_hf_hub_args.<locals>._inner_fn\u001b[0;34m(*args, **kwargs)\u001b[0m\n\u001b[1;32m    105\u001b[0m \u001b[38;5;28;01mif\u001b[39;00m arg_name \u001b[38;5;129;01min\u001b[39;00m [\u001b[38;5;124m\"\u001b[39m\u001b[38;5;124mrepo_id\u001b[39m\u001b[38;5;124m\"\u001b[39m, \u001b[38;5;124m\"\u001b[39m\u001b[38;5;124mfrom_id\u001b[39m\u001b[38;5;124m\"\u001b[39m, \u001b[38;5;124m\"\u001b[39m\u001b[38;5;124mto_id\u001b[39m\u001b[38;5;124m\"\u001b[39m]:\n\u001b[0;32m--> 106\u001b[0m     \u001b[43mvalidate_repo_id\u001b[49m\u001b[43m(\u001b[49m\u001b[43marg_value\u001b[49m\u001b[43m)\u001b[49m\n\u001b[1;32m    108\u001b[0m \u001b[38;5;28;01melif\u001b[39;00m arg_name \u001b[38;5;241m==\u001b[39m \u001b[38;5;124m\"\u001b[39m\u001b[38;5;124mtoken\u001b[39m\u001b[38;5;124m\"\u001b[39m \u001b[38;5;129;01mand\u001b[39;00m arg_value \u001b[38;5;129;01mis\u001b[39;00m \u001b[38;5;129;01mnot\u001b[39;00m \u001b[38;5;28;01mNone\u001b[39;00m:\n",
      "File \u001b[0;32m~/Desktop/MLotsawa/.venv/lib/python3.12/site-packages/huggingface_hub/utils/_validators.py:154\u001b[0m, in \u001b[0;36mvalidate_repo_id\u001b[0;34m(repo_id)\u001b[0m\n\u001b[1;32m    153\u001b[0m \u001b[38;5;28;01mif\u001b[39;00m repo_id\u001b[38;5;241m.\u001b[39mcount(\u001b[38;5;124m\"\u001b[39m\u001b[38;5;124m/\u001b[39m\u001b[38;5;124m\"\u001b[39m) \u001b[38;5;241m>\u001b[39m \u001b[38;5;241m1\u001b[39m:\n\u001b[0;32m--> 154\u001b[0m     \u001b[38;5;28;01mraise\u001b[39;00m HFValidationError(\n\u001b[1;32m    155\u001b[0m         \u001b[38;5;124m\"\u001b[39m\u001b[38;5;124mRepo id must be in the form \u001b[39m\u001b[38;5;124m'\u001b[39m\u001b[38;5;124mrepo_name\u001b[39m\u001b[38;5;124m'\u001b[39m\u001b[38;5;124m or \u001b[39m\u001b[38;5;124m'\u001b[39m\u001b[38;5;124mnamespace/repo_name\u001b[39m\u001b[38;5;124m'\u001b[39m\u001b[38;5;124m:\u001b[39m\u001b[38;5;124m\"\u001b[39m\n\u001b[1;32m    156\u001b[0m         \u001b[38;5;124mf\u001b[39m\u001b[38;5;124m\"\u001b[39m\u001b[38;5;124m \u001b[39m\u001b[38;5;124m'\u001b[39m\u001b[38;5;132;01m{\u001b[39;00mrepo_id\u001b[38;5;132;01m}\u001b[39;00m\u001b[38;5;124m'\u001b[39m\u001b[38;5;124m. Use `repo_type` argument if needed.\u001b[39m\u001b[38;5;124m\"\u001b[39m\n\u001b[1;32m    157\u001b[0m     )\n\u001b[1;32m    159\u001b[0m \u001b[38;5;28;01mif\u001b[39;00m \u001b[38;5;129;01mnot\u001b[39;00m REPO_ID_REGEX\u001b[38;5;241m.\u001b[39mmatch(repo_id):\n",
      "\u001b[0;31mHFValidationError\u001b[0m: Repo id must be in the form 'repo_name' or 'namespace/repo_name': '/home/j/Desktop/MLotsawa/Notebooks/Models/BertTag/bert-classifier/checkpoint-34275'. Use `repo_type` argument if needed.",
      "\nThe above exception was the direct cause of the following exception:\n",
      "\u001b[0;31mOSError\u001b[0m                                   Traceback (most recent call last)",
      "Cell \u001b[0;32mIn[12], line 6\u001b[0m\n\u001b[1;32m      3\u001b[0m \u001b[38;5;28;01mimport\u001b[39;00m \u001b[38;5;21;01mjson\u001b[39;00m\n\u001b[1;32m      5\u001b[0m \u001b[38;5;66;03m# Load the trained model and tokenizer\u001b[39;00m\n\u001b[0;32m----> 6\u001b[0m model \u001b[38;5;241m=\u001b[39m \u001b[43mBertForSequenceClassification\u001b[49m\u001b[38;5;241;43m.\u001b[39;49m\u001b[43mfrom_pretrained\u001b[49m\u001b[43m(\u001b[49m\u001b[38;5;124;43m\"\u001b[39;49m\u001b[38;5;124;43m/home/j/Desktop/MLotsawa/Notebooks/Models/BertTag/bert-classifier/checkpoint-34275\u001b[39;49m\u001b[38;5;124;43m\"\u001b[39;49m\u001b[43m)\u001b[49m\n\u001b[1;32m      7\u001b[0m tokenizer \u001b[38;5;241m=\u001b[39m BertTokenizer\u001b[38;5;241m.\u001b[39mfrom_pretrained(\u001b[38;5;124m\"\u001b[39m\u001b[38;5;124m./tibetan_tokenizer\u001b[39m\u001b[38;5;124m\"\u001b[39m)\n\u001b[1;32m      8\u001b[0m device \u001b[38;5;241m=\u001b[39m torch\u001b[38;5;241m.\u001b[39mdevice(\u001b[38;5;124m\"\u001b[39m\u001b[38;5;124mcuda\u001b[39m\u001b[38;5;124m\"\u001b[39m \u001b[38;5;28;01mif\u001b[39;00m torch\u001b[38;5;241m.\u001b[39mcuda\u001b[38;5;241m.\u001b[39mis_available() \u001b[38;5;28;01melse\u001b[39;00m \u001b[38;5;124m\"\u001b[39m\u001b[38;5;124mcpu\u001b[39m\u001b[38;5;124m\"\u001b[39m)\n",
      "File \u001b[0;32m~/Desktop/MLotsawa/.venv/lib/python3.12/site-packages/transformers/modeling_utils.py:3518\u001b[0m, in \u001b[0;36mPreTrainedModel.from_pretrained\u001b[0;34m(cls, pretrained_model_name_or_path, config, cache_dir, ignore_mismatched_sizes, force_download, local_files_only, token, revision, use_safetensors, weights_only, *model_args, **kwargs)\u001b[0m\n\u001b[1;32m   3515\u001b[0m \u001b[38;5;28;01mif\u001b[39;00m commit_hash \u001b[38;5;129;01mis\u001b[39;00m \u001b[38;5;28;01mNone\u001b[39;00m:\n\u001b[1;32m   3516\u001b[0m     \u001b[38;5;28;01mif\u001b[39;00m \u001b[38;5;129;01mnot\u001b[39;00m \u001b[38;5;28misinstance\u001b[39m(config, PretrainedConfig):\n\u001b[1;32m   3517\u001b[0m         \u001b[38;5;66;03m# We make a call to the config file first (which may be absent) to get the commit hash as soon as possible\u001b[39;00m\n\u001b[0;32m-> 3518\u001b[0m         resolved_config_file \u001b[38;5;241m=\u001b[39m \u001b[43mcached_file\u001b[49m\u001b[43m(\u001b[49m\n\u001b[1;32m   3519\u001b[0m \u001b[43m            \u001b[49m\u001b[43mpretrained_model_name_or_path\u001b[49m\u001b[43m,\u001b[49m\n\u001b[1;32m   3520\u001b[0m \u001b[43m            \u001b[49m\u001b[43mCONFIG_NAME\u001b[49m\u001b[43m,\u001b[49m\n\u001b[1;32m   3521\u001b[0m \u001b[43m            \u001b[49m\u001b[43mcache_dir\u001b[49m\u001b[38;5;241;43m=\u001b[39;49m\u001b[43mcache_dir\u001b[49m\u001b[43m,\u001b[49m\n\u001b[1;32m   3522\u001b[0m \u001b[43m            \u001b[49m\u001b[43mforce_download\u001b[49m\u001b[38;5;241;43m=\u001b[39;49m\u001b[43mforce_download\u001b[49m\u001b[43m,\u001b[49m\n\u001b[1;32m   3523\u001b[0m \u001b[43m            \u001b[49m\u001b[43mresume_download\u001b[49m\u001b[38;5;241;43m=\u001b[39;49m\u001b[43mresume_download\u001b[49m\u001b[43m,\u001b[49m\n\u001b[1;32m   3524\u001b[0m \u001b[43m            \u001b[49m\u001b[43mproxies\u001b[49m\u001b[38;5;241;43m=\u001b[39;49m\u001b[43mproxies\u001b[49m\u001b[43m,\u001b[49m\n\u001b[1;32m   3525\u001b[0m \u001b[43m            \u001b[49m\u001b[43mlocal_files_only\u001b[49m\u001b[38;5;241;43m=\u001b[39;49m\u001b[43mlocal_files_only\u001b[49m\u001b[43m,\u001b[49m\n\u001b[1;32m   3526\u001b[0m \u001b[43m            \u001b[49m\u001b[43mtoken\u001b[49m\u001b[38;5;241;43m=\u001b[39;49m\u001b[43mtoken\u001b[49m\u001b[43m,\u001b[49m\n\u001b[1;32m   3527\u001b[0m \u001b[43m            \u001b[49m\u001b[43mrevision\u001b[49m\u001b[38;5;241;43m=\u001b[39;49m\u001b[43mrevision\u001b[49m\u001b[43m,\u001b[49m\n\u001b[1;32m   3528\u001b[0m \u001b[43m            \u001b[49m\u001b[43msubfolder\u001b[49m\u001b[38;5;241;43m=\u001b[39;49m\u001b[43msubfolder\u001b[49m\u001b[43m,\u001b[49m\n\u001b[1;32m   3529\u001b[0m \u001b[43m            \u001b[49m\u001b[43m_raise_exceptions_for_gated_repo\u001b[49m\u001b[38;5;241;43m=\u001b[39;49m\u001b[38;5;28;43;01mFalse\u001b[39;49;00m\u001b[43m,\u001b[49m\n\u001b[1;32m   3530\u001b[0m \u001b[43m            \u001b[49m\u001b[43m_raise_exceptions_for_missing_entries\u001b[49m\u001b[38;5;241;43m=\u001b[39;49m\u001b[38;5;28;43;01mFalse\u001b[39;49;00m\u001b[43m,\u001b[49m\n\u001b[1;32m   3531\u001b[0m \u001b[43m            \u001b[49m\u001b[43m_raise_exceptions_for_connection_errors\u001b[49m\u001b[38;5;241;43m=\u001b[39;49m\u001b[38;5;28;43;01mFalse\u001b[39;49;00m\u001b[43m,\u001b[49m\n\u001b[1;32m   3532\u001b[0m \u001b[43m        \u001b[49m\u001b[43m)\u001b[49m\n\u001b[1;32m   3533\u001b[0m         commit_hash \u001b[38;5;241m=\u001b[39m extract_commit_hash(resolved_config_file, commit_hash)\n\u001b[1;32m   3534\u001b[0m     \u001b[38;5;28;01melse\u001b[39;00m:\n",
      "File \u001b[0;32m~/Desktop/MLotsawa/.venv/lib/python3.12/site-packages/transformers/utils/hub.py:469\u001b[0m, in \u001b[0;36mcached_file\u001b[0;34m(path_or_repo_id, filename, cache_dir, force_download, resume_download, proxies, token, revision, local_files_only, subfolder, repo_type, user_agent, _raise_exceptions_for_gated_repo, _raise_exceptions_for_missing_entries, _raise_exceptions_for_connection_errors, _commit_hash, **deprecated_kwargs)\u001b[0m\n\u001b[1;32m    467\u001b[0m     \u001b[38;5;28;01mraise\u001b[39;00m \u001b[38;5;167;01mEnvironmentError\u001b[39;00m(\u001b[38;5;124mf\u001b[39m\u001b[38;5;124m\"\u001b[39m\u001b[38;5;124mThere was a specific connection error when trying to load \u001b[39m\u001b[38;5;132;01m{\u001b[39;00mpath_or_repo_id\u001b[38;5;132;01m}\u001b[39;00m\u001b[38;5;124m:\u001b[39m\u001b[38;5;130;01m\\n\u001b[39;00m\u001b[38;5;132;01m{\u001b[39;00merr\u001b[38;5;132;01m}\u001b[39;00m\u001b[38;5;124m\"\u001b[39m)\n\u001b[1;32m    468\u001b[0m \u001b[38;5;28;01mexcept\u001b[39;00m HFValidationError \u001b[38;5;28;01mas\u001b[39;00m e:\n\u001b[0;32m--> 469\u001b[0m     \u001b[38;5;28;01mraise\u001b[39;00m \u001b[38;5;167;01mEnvironmentError\u001b[39;00m(\n\u001b[1;32m    470\u001b[0m         \u001b[38;5;124mf\u001b[39m\u001b[38;5;124m\"\u001b[39m\u001b[38;5;124mIncorrect path_or_model_id: \u001b[39m\u001b[38;5;124m'\u001b[39m\u001b[38;5;132;01m{\u001b[39;00mpath_or_repo_id\u001b[38;5;132;01m}\u001b[39;00m\u001b[38;5;124m'\u001b[39m\u001b[38;5;124m. Please provide either the path to a local folder or the repo_id of a model on the Hub.\u001b[39m\u001b[38;5;124m\"\u001b[39m\n\u001b[1;32m    471\u001b[0m     ) \u001b[38;5;28;01mfrom\u001b[39;00m \u001b[38;5;21;01me\u001b[39;00m\n\u001b[1;32m    472\u001b[0m \u001b[38;5;28;01mreturn\u001b[39;00m resolved_file\n",
      "\u001b[0;31mOSError\u001b[0m: Incorrect path_or_model_id: '/home/j/Desktop/MLotsawa/Notebooks/Models/BertTag/bert-classifier/checkpoint-34275'. Please provide either the path to a local folder or the repo_id of a model on the Hub."
     ]
    }
   ],
   "source": [
    "from transformers import BertTokenizer, BertForSequenceClassification\n",
    "import torch\n",
    "import json\n",
    "\n",
    "# Load the trained model and tokenizer\n",
    "model = BertForSequenceClassification.from_pretrained(\"/home/j/Desktop/MLotsawa/Notebooks/Models/BertTag/bert-classifier/checkpoint-34275\")\n",
    "tokenizer = BertTokenizer.from_pretrained(\"./tibetan_tokenizer\")\n",
    "device = torch.device(\"cuda\" if torch.cuda.is_available() else \"cpu\")\n",
    "model.to(device)\n",
    "model.eval()\n",
    "\n",
    "# Load label mapping\n",
    "with open(\"label_mapping.json\", \"r\") as f:\n",
    "    label_mapping = json.load(f)\n",
    "\n",
    "# Example input text\n",
    "input_text = \"བླ་མ་དང་ལྷག་པའི་ལྷ་ལ་ཕྱག་འཚལ་ལོ།།\"\n",
    "\n",
    "# Tokenize input\n",
    "encoded_input = tokenizer(\n",
    "    input_text, \n",
    "    padding=\"max_length\", \n",
    "    truncation=True, \n",
    "    max_length=128, \n",
    "    return_tensors=\"pt\"\n",
    ")\n",
    "encoded_input = {key: val.to(device) for key, val in encoded_input.items()}\n",
    "\n",
    "# Get predictions\n",
    "with torch.no_grad():\n",
    "    outputs = model(**encoded_input)\n",
    "    logits = outputs.logits\n",
    "    probabilities = torch.sigmoid(logits).cpu().numpy()\n",
    "    predictions = (probabilities > 0.5).astype(int)\n",
    "\n",
    "# Decode predictions\n",
    "predicted_tags = [label_mapping[i] for i, val in enumerate(predictions[0]) if val == 1]\n",
    "\n",
    "print(\"Predicted Tags:\", predicted_tags)\n"
   ]
  },
  {
   "cell_type": "code",
   "execution_count": null,
   "metadata": {},
   "outputs": [],
   "source": []
  }
 ],
 "metadata": {
  "kernelspec": {
   "display_name": ".venv",
   "language": "python",
   "name": "python3"
  },
  "language_info": {
   "codemirror_mode": {
    "name": "ipython",
    "version": 3
   },
   "file_extension": ".py",
   "mimetype": "text/x-python",
   "name": "python",
   "nbconvert_exporter": "python",
   "pygments_lexer": "ipython3",
   "version": "3.10.12"
  }
 },
 "nbformat": 4,
 "nbformat_minor": 2
}
