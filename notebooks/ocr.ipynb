{
 "cells": [
  {
   "cell_type": "code",
   "execution_count": 6,
   "metadata": {},
   "outputs": [],
   "source": [
    "import pytesseract\n",
    "from PIL import Image"
   ]
  },
  {
   "cell_type": "code",
   "execution_count": 7,
   "metadata": {},
   "outputs": [
    {
     "name": "stderr",
     "output_type": "stream",
     "text": [
      "_TIFFVSetField: tempfile.tif: Null count for \"Tag 32934\" (type 4, writecount -3, passcount 1).\n",
      "_TIFFVSetField: tempfile.tif: Null count for \"Tag 32934\" (type 4, writecount -3, passcount 1).\n"
     ]
    },
    {
     "name": "stdout",
     "output_type": "stream",
     "text": [
      " \n",
      "\n",
      " \n",
      "\n",
      " \n",
      "\n",
      " \n",
      "\n",
      " \n",
      "\n",
      "༄༅།\n",
      "\n",
      "བམ་\n",
      "ས ་སྡེའི ་གླེགས་ ྣ\n",
      "སང་བའི་ཆོཿ\n",
      "་གླིང་པའི་ཟབ་གཏེར་ག\n",
      "པབ\n",
      "ར་ཆེན་བདུད འཇོམ ་བཞུགས་ སོ།།\n",
      "པའི་གཏེ\n",
      "།སྤྲལ་\n",
      "\n",
      " \n",
      "\n",
      " \n",
      "\n",
      " \n",
      "\n",
      " \n",
      "\n",
      " \n",
      "\n",
      " \n",
      "\n",
      " \n",
      "\f\n"
     ]
    }
   ],
   "source": [
    "img = Image.open('data/images/test-image.tif')\n",
    "\n",
    "text = pytesseract.image_to_string(img, lang='bod')\n",
    "\n",
    "print(text)"
   ]
  },
  {
   "cell_type": "code",
   "execution_count": null,
   "metadata": {},
   "outputs": [],
   "source": []
  }
 ],
 "metadata": {
  "kernelspec": {
   "display_name": "Python 3",
   "language": "python",
   "name": "python3"
  },
  "language_info": {
   "codemirror_mode": {
    "name": "ipython",
    "version": 3
   },
   "file_extension": ".py",
   "mimetype": "text/x-python",
   "name": "python",
   "nbconvert_exporter": "python",
   "pygments_lexer": "ipython3",
   "version": "3.10.12"
  }
 },
 "nbformat": 4,
 "nbformat_minor": 2
}
