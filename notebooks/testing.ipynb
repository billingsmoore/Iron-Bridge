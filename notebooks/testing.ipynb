{
 "cells": [
  {
   "cell_type": "code",
   "execution_count": 13,
   "metadata": {},
   "outputs": [
    {
     "name": "stderr",
     "output_type": "stream",
     "text": [
      "2024-08-17 12:25:53.145423: E tensorflow/compiler/xla/stream_executor/cuda/cuda_dnn.cc:9342] Unable to register cuDNN factory: Attempting to register factory for plugin cuDNN when one has already been registered\n",
      "2024-08-17 12:25:53.145466: E tensorflow/compiler/xla/stream_executor/cuda/cuda_fft.cc:609] Unable to register cuFFT factory: Attempting to register factory for plugin cuFFT when one has already been registered\n",
      "2024-08-17 12:25:53.145504: E tensorflow/compiler/xla/stream_executor/cuda/cuda_blas.cc:1518] Unable to register cuBLAS factory: Attempting to register factory for plugin cuBLAS when one has already been registered\n",
      "2024-08-17 12:25:53.154461: I tensorflow/core/platform/cpu_feature_guard.cc:182] This TensorFlow binary is optimized to use available CPU instructions in performance-critical operations.\n",
      "To enable the following instructions: AVX2 FMA, in other operations, rebuild TensorFlow with the appropriate compiler flags.\n",
      "/home/j/.local/lib/python3.10/site-packages/transformers/pipelines/__init__.py:1076: UserWarning: \"translation\" task was used, instead of \"translation_XX_to_YY\", defaulting to \"translation_en_to_de\"\n",
      "  warnings.warn(\n",
      "Hardware accelerator e.g. GPU is available in the environment, but no `device` argument is passed to the `Pipeline` object. Model will be on CPU.\n"
     ]
    }
   ],
   "source": [
    "from transformers import pipeline\n",
    "\n",
    "model = '/home/j/Documents/Projects/MLotsawa/models/final-model/checkpoint-375000'\n",
    "translator = pipeline('translation', model=model)"
   ]
  },
  {
   "cell_type": "code",
   "execution_count": 1,
   "metadata": {},
   "outputs": [],
   "source": [
    "input = \"\"\"sangye ch dang tsok kyi chok nam la,\n",
    "changchub bardu dak ni kyab su chi,\n",
    "dak gi jin sok gyip snam kyi,\n",
    "dro la pen chir sangye drubpar shok,\n",
    "mal semchen kun gyi gn gyur ching,\n",
    "d d pung ch miz jomdz lha,\n",
    "ngnam mal jizhin khyen gyurp,\n",
    "chomden khor ch n dir shek su sol,\n",
    "jiny su dak chok ch jikten na,\n",
    "d sum shekpa mi yi seng kn,\n",
    "dak gi mal dedak tamch la,\n",
    "l dang ngak yi dangw chak gyi o,\n",
    "zangpo chp mnlam tob dak gi,\n",
    "gyalwa tamch yi kyi ngnsum du,\n",
    "zhing gi dul ny l rab tpa yi,\n",
    "gyalwa kn la rabtu chaktsal lo,\n",
    "dul chik teng na dul ny sangye nam,\n",
    "sangye s kyi  na zhukpa dak,\n",
    "detar ch kyi ying nam malpa,\n",
    "tamch gyalwa dak gi gangwar m,\n",
    "dedak ngakpa miz gyatso nam,\n",
    "yang kyi yenlak gyats dra kn gyi,\n",
    "gyalwa kn gyi ynten rab j ching,\n",
    "dewar shekpa tamch dak gi t,\n",
    "metok dampa trengwa dampa dang,\n",
    "silnyen nam dang jukpa duk chok dang,\n",
    "marm chok dang dukp dampa yi,\n",
    "gyalwa dedak la ni chpar gyi,\n",
    "naza dampa nam dang dri chok dang,\n",
    "chema purma rirab nyampa dang,\n",
    "kpa khyepar pakp chok kn gyi,\n",
    "gyalwa dedak la ni chpar gyi,\n",
    "chpa gang nam lam gya chewa,\n",
    "dedak gyalwa tamch la yang m,\n",
    "zangpo ch la dep tob dak gi,\n",
    "gyalwa kn la chaktsal chpar gyi,\n",
    "dchak zhedang timuk wang gi ni,\n",
    "l dang ngak dang dezhin yi kyi kyang,\n",
    "dikpa dak gi gyipa chi chipa,\n",
    "dedak tamch dak gi sosor shak,\n",
    "chok ch gyalwa kn dang sangye s,\n",
    "ranggyal nam dang lob dang mi lob dang,\n",
    "drowa kn gyi snam gangla yang,\n",
    "dedak kn gyi jesu dak yi rang,\n",
    "gang nam chok ch jikten drnma nam,\n",
    "changchub rimpar sangye machak ny,\n",
    "gnpo dedak dak gi tamch la,\n",
    "khorlo lanamepar korwar kul,\n",
    "nya ngen da tn gang zh dedak la,\n",
    "drowa kn la pen zhing dew chir,\n",
    "kalpa zhing gi dul ny zhukpar yang,\n",
    "dak gi talmo rab jar solwar gyi,\n",
    "chaktsalwa dang ch ching shakpa dang,\n",
    "jesu yi rang kul zhing solwa yi,\n",
    "gewa chungz dak gi chi sakpa,\n",
    "tamch dak gi changchub chir ngoo,\n",
    "chomdend dezhin shekpa drachompa,\n",
    "yangdakpar dzokp sangye pakm la,\n",
    "chaktsal lo kyab su chi o,\n",
    "dn gyi nangwa tay kyi,\n",
    "tukk hrih l nyipa jung,\n",
    "shang buk y n rangnyi kyi,\n",
    "nabuk yn zhuk nyingg,\n",
    "zer nangwa rab trp,\n",
    "dikdrib bakchak chepa jang,\n",
    "lung chir song dang lhenchik tu,\n",
    "nabuk y n chomden gyi,\n",
    "shang buk yn zhuk hrih la tim,\n",
    "gyalw tuk dang rang gi sem,\n",
    "yerm lod ngang du zhak\"\"\""
   ]
  },
  {
   "cell_type": "code",
   "execution_count": 11,
   "metadata": {},
   "outputs": [],
   "source": [
    "inputs = input.split(',')\n",
    "inputs = [inputs[0]]+[input[1:] for input in inputs if input!=inputs[0]]"
   ]
  },
  {
   "cell_type": "code",
   "execution_count": 12,
   "metadata": {},
   "outputs": [
    {
     "data": {
      "text/plain": [
       "['sangye ch dang tsok kyi chok nam la',\n",
       " 'changchub bardu dak ni kyab su chi',\n",
       " 'dak gi jin sok gyip snam kyi',\n",
       " 'dro la pen chir sangye drubpar shok',\n",
       " 'mal semchen kun gyi gn gyur ching',\n",
       " 'd d pung ch miz jomdz lha',\n",
       " 'ngnam mal jizhin khyen gyurp',\n",
       " 'chomden khor ch n dir shek su sol',\n",
       " 'jiny su dak chok ch jikten na',\n",
       " 'd sum shekpa mi yi seng kn',\n",
       " 'dak gi mal dedak tamch la',\n",
       " 'l dang ngak yi dangw chak gyi o',\n",
       " 'zangpo chp mnlam tob dak gi',\n",
       " 'gyalwa tamch yi kyi ngnsum du',\n",
       " 'zhing gi dul ny l rab tpa yi',\n",
       " 'gyalwa kn la rabtu chaktsal lo',\n",
       " 'dul chik teng na dul ny sangye nam',\n",
       " 'sangye s kyi  na zhukpa dak',\n",
       " 'detar ch kyi ying nam malpa',\n",
       " 'tamch gyalwa dak gi gangwar m',\n",
       " 'dedak ngakpa miz gyatso nam',\n",
       " 'yang kyi yenlak gyats dra kn gyi',\n",
       " 'gyalwa kn gyi ynten rab j ching',\n",
       " 'dewar shekpa tamch dak gi t',\n",
       " 'metok dampa trengwa dampa dang',\n",
       " 'silnyen nam dang jukpa duk chok dang',\n",
       " 'marm chok dang dukp dampa yi',\n",
       " 'gyalwa dedak la ni chpar gyi',\n",
       " 'naza dampa nam dang dri chok dang',\n",
       " 'chema purma rirab nyampa dang',\n",
       " 'kpa khyepar pakp chok kn gyi',\n",
       " 'gyalwa dedak la ni chpar gyi',\n",
       " 'chpa gang nam lam gya chewa',\n",
       " 'dedak gyalwa tamch la yang m',\n",
       " 'zangpo ch la dep tob dak gi',\n",
       " 'gyalwa kn la chaktsal chpar gyi',\n",
       " 'dchak zhedang timuk wang gi ni',\n",
       " 'l dang ngak dang dezhin yi kyi kyang',\n",
       " 'dikpa dak gi gyipa chi chipa',\n",
       " 'dedak tamch dak gi sosor shak',\n",
       " 'chok ch gyalwa kn dang sangye s',\n",
       " 'ranggyal nam dang lob dang mi lob dang',\n",
       " 'drowa kn gyi snam gangla yang',\n",
       " 'dedak kn gyi jesu dak yi rang',\n",
       " 'gang nam chok ch jikten drnma nam',\n",
       " 'changchub rimpar sangye machak ny',\n",
       " 'gnpo dedak dak gi tamch la',\n",
       " 'khorlo lanamepar korwar kul',\n",
       " 'nya ngen da tn gang zh dedak la',\n",
       " 'drowa kn la pen zhing dew chir',\n",
       " 'kalpa zhing gi dul ny zhukpar yang',\n",
       " 'dak gi talmo rab jar solwar gyi',\n",
       " 'chaktsalwa dang ch ching shakpa dang',\n",
       " 'jesu yi rang kul zhing solwa yi',\n",
       " 'gewa chungz dak gi chi sakpa',\n",
       " 'tamch dak gi changchub chir ngoo',\n",
       " 'chomdend dezhin shekpa drachompa',\n",
       " 'yangdakpar dzokp sangye pakm la',\n",
       " 'chaktsal lo kyab su chi o',\n",
       " 'dn gyi nangwa tay kyi',\n",
       " 'tukk hrih l nyipa jung',\n",
       " 'shang buk y n rangnyi kyi',\n",
       " 'nabuk yn zhuk nyingg',\n",
       " 'zer nangwa rab trp',\n",
       " 'dikdrib bakchak chepa jang',\n",
       " 'lung chir song dang lhenchik tu',\n",
       " 'nabuk y n chomden gyi',\n",
       " 'shang buk yn zhuk hrih la tim',\n",
       " 'gyalw tuk dang rang gi sem',\n",
       " 'yerm lod ngang du zhak']"
      ]
     },
     "execution_count": 12,
     "metadata": {},
     "output_type": "execute_result"
    }
   ],
   "source": [
    "inputs"
   ]
  },
  {
   "cell_type": "code",
   "execution_count": 14,
   "metadata": {},
   "outputs": [],
   "source": [
    "translation = translator(inputs)"
   ]
  },
  {
   "cell_type": "code",
   "execution_count": 15,
   "metadata": {},
   "outputs": [
    {
     "name": "stdout",
     "output_type": "stream",
     "text": [
      "[{'translation_text': 'in the buddha the dharma and the supreme assembly'}, {'translation_text': 'i take refuge till enlightenment is realized'}, {'translation_text': 'through the merit of practising generosity and so on'}, {'translation_text': 'may i attain buddhahood for the benefit of all beings'}, {'translation_text': 'you are the protector of all beings without exception'}, {'translation_text': 'are the deities who remorselessly destroy the mras and their forces'}, {'translation_text': 'you who know all things just as they are in their true nature'}, {'translation_text': 'i pray that the buddhas with their retinues come now to this place'}, {'translation_text': 'to all the buddhas the lions of the human race'}, {'translation_text': 'in all directions of the universe through past and present and future'}, {'translation_text': 'in as many worlds as there are in the ten directions'}, {'translation_text': 'devotion fills my body speech and mind'}, {'translation_text': 'all triumphant buddhas rise vividly to mind'}, {'translation_text': 'all the victorious ones appear vivid here before my mind'}, {'translation_text': 'and i multiply my body as many times as atoms in the universe'}, {'translation_text': 'each one bowing in prostration to all the buddhas'}, {'translation_text': 'in every atom preside as many buddhas as there are atoms'}, {'translation_text': 'and around them all their bodhisattva heirs'}, {'translation_text': 'and so i imagine them filling'}, {'translation_text': 'of the infinite womb of all things'}, {'translation_text': 'saluting them with an endless ocean of praise'}, {'translation_text': 'with the sounds of an ocean of different melodies'}, {'translation_text': 'i sing of the buddhas noble qualities'}, {'translation_text': 'and praise all those who have gone to perfect bliss'}, {'translation_text': 'to every buddha i make offerings'}, {'translation_text': 'of the loveliest flowers of beautiful garlands'}, {'translation_text': 'the best lamps and sacred incense'}, {'translation_text': 'arranged in perfect symmetry'}, {'translation_text': 'to every buddha i make offerings'}, {'translation_text': 'exquisite garments and the most fragrant scents'}, {'translation_text': 'all these in special exquisite arrays'}, {'translation_text': 'arranged in perfect symmetry'}, {'translation_text': 'then the vast and unsurpassable offerings'}, {'translation_text': 'inspired by my devotion to all the buddhas and'}, {'translation_text': 'moved by the power of my faith in good actions'}, {'translation_text': 'i prostrate and offer to all you victorious ones'}, {'translation_text': 'whatever negative acts i have committed'}, {'translation_text': 'while driven by desire hatred and ignorance'}, {'translation_text': 'with my body my speech and also with my mind'}, {'translation_text': 'before you i confess and purify each and every one'}, {'translation_text': 'with a heart full of delight i rejoice at all the merits'}, {'translation_text': 'of buddhas and bodhisattvas'}, {'translation_text': 'the goodness of those on paths of training or the path of no further training'}, {'translation_text': 'and every living being throughout the entire universe'}, {'translation_text': 'you who are like beacons of light shining through the worlds'}, {'translation_text': 'then gradually gained enlightenment free from attachment'}, {'translation_text': 'i exhort you all of you protectors'}, {'translation_text': 'i ask you to set in motion the wheel of the highest doctrine'}, {'translation_text': 'joining my palms together i pray'}, {'translation_text': 'to you who intend to pass into nirva'}, {'translation_text': 'remain for aeons as many as the atoms in this world'}, {'translation_text': 'and bring wellbeing and happiness to all living beings'}, {'translation_text': 'what little virtue i have gathered through my homage'}, {'translation_text': 'through offering confession and rejoicing'}, {'translation_text': 'through exhortation and prayerall of it'}, {'translation_text': 'i dedicate towards all enlightenment'}, {'translation_text': 'transcendent accomplished victor thusgone one foe destroyer'}, {'translation_text': 'then beneath the bodhi tree you put the sages to flight'}, {'translation_text': 'bhagavn tathgata arhat complete and perfect buddha protector amithba buddha of'}, {'translation_text': 'before me is amitbha'}, {'translation_text': 'in his heart centre is'}, {'translation_text': 'it passes through his right nostril'}, {'translation_text': 'from where it descends to the centre of my heart'}, {'translation_text': 'it radiates boundless light rays'}, {'translation_text': 'which purify my misdeeds obscurations and habits'}, {'translation_text': 'then together with my exhalation of breath'}, {'translation_text': 'it emerges from my right nostril'}, {'translation_text': 'entering the blessed one through his left nostril dissolves back into'}, {'translation_text': 'the victors wisdom mind and my own mind are indivisible'}, {'translation_text': 'i let be within this thoughtfree state'}]\n"
     ]
    }
   ],
   "source": [
    "print(translation)"
   ]
  },
  {
   "cell_type": "code",
   "execution_count": 16,
   "metadata": {},
   "outputs": [
    {
     "name": "stdout",
     "output_type": "stream",
     "text": [
      "['in the buddha the dharma and the supreme assembly', 'i take refuge till enlightenment is realized', 'through the merit of practising generosity and so on', 'may i attain buddhahood for the benefit of all beings', 'you are the protector of all beings without exception', 'are the deities who remorselessly destroy the mras and their forces', 'you who know all things just as they are in their true nature', 'i pray that the buddhas with their retinues come now to this place', 'to all the buddhas the lions of the human race', 'in all directions of the universe through past and present and future', 'in as many worlds as there are in the ten directions', 'devotion fills my body speech and mind', 'all triumphant buddhas rise vividly to mind', 'all the victorious ones appear vivid here before my mind', 'and i multiply my body as many times as atoms in the universe', 'each one bowing in prostration to all the buddhas', 'in every atom preside as many buddhas as there are atoms', 'and around them all their bodhisattva heirs', 'and so i imagine them filling', 'of the infinite womb of all things', 'saluting them with an endless ocean of praise', 'with the sounds of an ocean of different melodies', 'i sing of the buddhas noble qualities', 'and praise all those who have gone to perfect bliss', 'to every buddha i make offerings', 'of the loveliest flowers of beautiful garlands', 'the best lamps and sacred incense', 'arranged in perfect symmetry', 'to every buddha i make offerings', 'exquisite garments and the most fragrant scents', 'all these in special exquisite arrays', 'arranged in perfect symmetry', 'then the vast and unsurpassable offerings', 'inspired by my devotion to all the buddhas and', 'moved by the power of my faith in good actions', 'i prostrate and offer to all you victorious ones', 'whatever negative acts i have committed', 'while driven by desire hatred and ignorance', 'with my body my speech and also with my mind', 'before you i confess and purify each and every one', 'with a heart full of delight i rejoice at all the merits', 'of buddhas and bodhisattvas', 'the goodness of those on paths of training or the path of no further training', 'and every living being throughout the entire universe', 'you who are like beacons of light shining through the worlds', 'then gradually gained enlightenment free from attachment', 'i exhort you all of you protectors', 'i ask you to set in motion the wheel of the highest doctrine', 'joining my palms together i pray', 'to you who intend to pass into nirva', 'remain for aeons as many as the atoms in this world', 'and bring wellbeing and happiness to all living beings', 'what little virtue i have gathered through my homage', 'through offering confession and rejoicing', 'through exhortation and prayerall of it', 'i dedicate towards all enlightenment', 'transcendent accomplished victor thusgone one foe destroyer', 'then beneath the bodhi tree you put the sages to flight', 'bhagavn tathgata arhat complete and perfect buddha protector amithba buddha of', 'before me is amitbha', 'in his heart centre is', 'it passes through his right nostril', 'from where it descends to the centre of my heart', 'it radiates boundless light rays', 'which purify my misdeeds obscurations and habits', 'then together with my exhalation of breath', 'it emerges from my right nostril', 'entering the blessed one through his left nostril dissolves back into', 'the victors wisdom mind and my own mind are indivisible', 'i let be within this thoughtfree state']\n"
     ]
    }
   ],
   "source": [
    "res = [elt['translation_text'] for elt in translation]\n",
    "print(res)"
   ]
  }
 ],
 "metadata": {
  "kernelspec": {
   "display_name": "Python 3",
   "language": "python",
   "name": "python3"
  },
  "language_info": {
   "codemirror_mode": {
    "name": "ipython",
    "version": 3
   },
   "file_extension": ".py",
   "mimetype": "text/x-python",
   "name": "python",
   "nbconvert_exporter": "python",
   "pygments_lexer": "ipython3",
   "version": "3.10.12"
  }
 },
 "nbformat": 4,
 "nbformat_minor": 2
}
