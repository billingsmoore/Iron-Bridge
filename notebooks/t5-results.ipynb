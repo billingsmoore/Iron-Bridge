{
 "cells": [
  {
   "cell_type": "markdown",
   "metadata": {},
   "source": [
    "# T5 Model Results"
   ]
  },
  {
   "cell_type": "markdown",
   "metadata": {},
   "source": [
    "## Sample Text"
   ]
  },
  {
   "cell_type": "markdown",
   "metadata": {},
   "source": [
    "sangye ch dang tsok kyi chok nam la\n",
    "\n",
    "changchub bardu dak ni kyab su chi\n",
    "\n",
    "dak gi jin sok gyip snam kyi\n",
    "\n",
    "dro la pen chir sangye drubpar shok\n",
    "\n",
    "***\n",
    "\n",
    "In the Buddha the Dharma and the Supreme Assembly\n",
    "\n",
    "I take refuge until I attain enlightenment\n",
    "\n",
    "Through the merit of practising generosity and so on\n",
    "\n",
    "May I attain buddhahood for the benefit of all beings\n"
   ]
  },
  {
   "cell_type": "code",
   "execution_count": 1,
   "metadata": {},
   "outputs": [],
   "source": [
    "bo = 'sangye ch dang tsok kyi chok nam la. changchub bardu dak ni kyab su chi. dak gi jin sok gyip snam kyi. dro la pen chir sangye drubpar shok.'\n",
    "split = bo.split('.')"
   ]
  },
  {
   "cell_type": "markdown",
   "metadata": {},
   "source": [
    "## Models"
   ]
  },
  {
   "cell_type": "code",
   "execution_count": 2,
   "metadata": {},
   "outputs": [
    {
     "name": "stderr",
     "output_type": "stream",
     "text": [
      "2024-08-17 12:06:29.716447: E tensorflow/compiler/xla/stream_executor/cuda/cuda_dnn.cc:9342] Unable to register cuDNN factory: Attempting to register factory for plugin cuDNN when one has already been registered\n",
      "2024-08-17 12:06:29.716518: E tensorflow/compiler/xla/stream_executor/cuda/cuda_fft.cc:609] Unable to register cuFFT factory: Attempting to register factory for plugin cuFFT when one has already been registered\n",
      "2024-08-17 12:06:29.721804: E tensorflow/compiler/xla/stream_executor/cuda/cuda_blas.cc:1518] Unable to register cuBLAS factory: Attempting to register factory for plugin cuBLAS when one has already been registered\n",
      "2024-08-17 12:06:30.442012: I tensorflow/core/platform/cpu_feature_guard.cc:182] This TensorFlow binary is optimized to use available CPU instructions in performance-critical operations.\n",
      "To enable the following instructions: AVX2 FMA, in other operations, rebuild TensorFlow with the appropriate compiler flags.\n"
     ]
    }
   ],
   "source": [
    "from transformers import AutoTokenizer, AutoModelForSeq2SeqLM, pipeline"
   ]
  },
  {
   "cell_type": "markdown",
   "metadata": {},
   "source": [
    "### 25000 training steps / 10 epochs"
   ]
  },
  {
   "cell_type": "code",
   "execution_count": 4,
   "metadata": {},
   "outputs": [
    {
     "data": {
      "text/plain": [
       "[{'translation_text': ' sangye ch and the supreme assembly of buddha dharma and sugata'},\n",
       " {'translation_text': 'i take refuge in the buddha the teachings and the sublime assembly'},\n",
       " {'translation_text': 'through the merit of practising generosity recitation and so forth'},\n",
       " {'translation_text': 'may i attain buddhahood for the benefit of all beings'},\n",
       " {'translation_text': ''}]"
      ]
     },
     "execution_count": 4,
     "metadata": {},
     "output_type": "execute_result"
    }
   ],
   "source": [
    "translator1 = pipeline(\"translation_bo_to_en\", model='/home/j/Documents/Projects/MLotsawa/models/final-model/checkpoint-125000', device=0, max_length=100)\n",
    "translator1(split)"
   ]
  },
  {
   "cell_type": "markdown",
   "metadata": {},
   "source": [
    "### 50000 training steps / 20 epochs"
   ]
  },
  {
   "cell_type": "code",
   "execution_count": 3,
   "metadata": {},
   "outputs": [
    {
     "data": {
      "text/plain": [
       "[{'translation_text': 'in the buddha the dharma and the supreme assembly assembly or precepturegone'},\n",
       " {'translation_text': 'i take refuge in the buddha the teachings and the sublime assembly'},\n",
       " {'translation_text': 'through the merit of practising generosity and other perfections'},\n",
       " {'translation_text': 'may i attain buddhahood for the benefit of all beings'},\n",
       " {'translation_text': ''}]"
      ]
     },
     "execution_count": 3,
     "metadata": {},
     "output_type": "execute_result"
    }
   ],
   "source": [
    "translator2 = pipeline(\"translation_bo_to_en\", model='/home/j/Documents/Projects/MLotsawa/models/final-model/checkpoint-250000', device=0, max_length=100)\n",
    "translator2(split)"
   ]
  },
  {
   "cell_type": "markdown",
   "metadata": {},
   "source": [
    "### 75000 training steps / 30 epochs"
   ]
  },
  {
   "cell_type": "code",
   "execution_count": 4,
   "metadata": {},
   "outputs": [
    {
     "data": {
      "text/plain": [
       "[{'translation_text': 'in the buddha the dharma and the supreme assembly'},\n",
       " {'translation_text': 'i take refuge in the buddha the teachings and the sublime samaya'},\n",
       " {'translation_text': 'through the merit of practising generosity bt through the blessings of ta through generosity'},\n",
       " {'translation_text': 'may i attain buddhahood for the benefit of all beings'},\n",
       " {'translation_text': 'a'}]"
      ]
     },
     "execution_count": 4,
     "metadata": {},
     "output_type": "execute_result"
    },
    {
     "ename": "",
     "evalue": "",
     "output_type": "error",
     "traceback": [
      "\u001b[1;31mThe Kernel crashed while executing code in the current cell or a previous cell. \n",
      "\u001b[1;31mPlease review the code in the cell(s) to identify a possible cause of the failure. \n",
      "\u001b[1;31mClick <a href='https://aka.ms/vscodeJupyterKernelCrash'>here</a> for more info. \n",
      "\u001b[1;31mView Jupyter <a href='command:jupyter.viewOutput'>log</a> for further details."
     ]
    }
   ],
   "source": [
    "translator3 = pipeline(\"translation_bo_to_en\", model='/home/j/Documents/Projects/MLotsawa/models/final-model/checkpoint-375000', device=0, max_length=100)\n",
    "translator3(split)"
   ]
  }
 ],
 "metadata": {
  "kernelspec": {
   "display_name": "Python 3",
   "language": "python",
   "name": "python3"
  },
  "language_info": {
   "codemirror_mode": {
    "name": "ipython",
    "version": 3
   },
   "file_extension": ".py",
   "mimetype": "text/x-python",
   "name": "python",
   "nbconvert_exporter": "python",
   "pygments_lexer": "ipython3",
   "version": "3.10.12"
  }
 },
 "nbformat": 4,
 "nbformat_minor": 2
}
