{
 "cells": [
  {
   "cell_type": "markdown",
   "metadata": {},
   "source": [
    "# Fine-Tuning NLLB\n",
    "\n",
    "The purpose of this notebook is document the process of fine-tuning an NLLB model for translating from Literary Tibetan to English. Some of the code is notebook is based on and adapted from the the tutorial ['How To Fine Tune a NLLB 200 Model for Translating A New Language'](https://cointegrated.medium.com/how-to-fine-tune-a-nllb-200-model-for-translating-a-new-language-a37fc706b865)\n",
    "\n",
    "I've also drawn on ['Neural Machine Translation With Keras NLP'](https://keras.io/examples/nlp/neural_machine_translation_with_keras_nlp/) for the preprocessing steps."
   ]
  },
  {
   "cell_type": "code",
   "execution_count": 10,
   "metadata": {},
   "outputs": [],
   "source": [
    "from transformers.optimization import Adafactor\n",
    "from transformers import get_constant_schedule_with_warmup\n",
    "from transformers.optimization import Adafactor\n",
    "from transformers import AutoModelForSeq2SeqLM, AutoTokenizer\n",
    "from tqdm.auto import trange\n",
    "import numpy as np\n",
    "import random\n",
    "import pathlib"
   ]
  },
  {
   "cell_type": "code",
   "execution_count": 2,
   "metadata": {},
   "outputs": [
    {
     "data": {
      "application/vnd.jupyter.widget-view+json": {
       "model_id": "bb2be09062574032ae94a3b2ad0ebb7c",
       "version_major": 2,
       "version_minor": 0
      },
      "text/plain": [
       "VBox(children=(HTML(value='<center> <img\\nsrc=https://huggingface.co/front/assets/huggingface_logo-noborder.sv…"
      ]
     },
     "metadata": {},
     "output_type": "display_data"
    }
   ],
   "source": [
    "from huggingface_hub import notebook_login\n",
    "notebook_login()"
   ]
  },
  {
   "cell_type": "markdown",
   "metadata": {},
   "source": [
    "## Preprocessing Text Pairs\n",
    "\n",
    "### Loading the Data\n",
    "\n",
    "The code below loads in the text pairs as a list, [Tibetan, English]."
   ]
  },
  {
   "cell_type": "code",
   "execution_count": null,
   "metadata": {},
   "outputs": [],
   "source": [
    "text_file = pathlib.Path('/data/training-batches/training-batch-1.txt')\n",
    "\n",
    "with open(text_file) as f:\n",
    "    lines = f.read().split(\"\\n\")[:-1]\n",
    "text_pairs = []\n",
    "for line in lines:\n",
    "    try:\n",
    "        tib, eng = line.split(\",\")[:2]\n",
    "        eng = eng.lower()\n",
    "        text_pairs.append([tib, eng])\n",
    "    except:\n",
    "        pass"
   ]
  },
  {
   "cell_type": "markdown",
   "metadata": {},
   "source": [
    "### Tokenize the Text Pairs\n",
    "\n",
    "Below, I've used NLLB's pretrained tokenizers to tokenize the data."
   ]
  },
  {
   "cell_type": "code",
   "execution_count": null,
   "metadata": {},
   "outputs": [],
   "source": [
    "max_length = 128  # token sequences will be truncated\n",
    "tokenizer = AutoTokenizer.from_pretrained(\"facebook/nllb-200-distilled-600M\")"
   ]
  },
  {
   "cell_type": "code",
   "execution_count": null,
   "metadata": {},
   "outputs": [],
   "source": [
    "tokenizer.src_lang = 'bo'\n",
    "x = [tokenizer(pair[0], return_tensors='pt', padding=True, truncation=True, max_length=max_length) for pair in text_pairs]"
   ]
  },
  {
   "cell_type": "code",
   "execution_count": null,
   "metadata": {},
   "outputs": [],
   "source": [
    "tokenizer.src_lang = 'eng_Latn'\n",
    "y = [tokenizer(pair[1], return_tensors='pt', padding=True, truncation=True, max_length=max_length) for pair in text_pairs]"
   ]
  },
  {
   "cell_type": "code",
   "execution_count": null,
   "metadata": {},
   "outputs": [],
   "source": [
    "def batch_data(x, y, batch_size):\n",
    "    num_batches = len(x) //batch_size\n",
    "    # Calculate the remainder for uneven division\n",
    "    remainder = len(x) % batch_size\n",
    "    # Initialize the starting index for slicing\n",
    "    start = 0\n",
    "    # Initialize the list to store sublists\n",
    "    batches = []\n",
    "    \n",
    "    # Iterate through each sublist\n",
    "    for i in range(num_batches):\n",
    "        # Calculate the end index for slicing\n",
    "        end = start + batch_size + (1 if i < remainder else 0)\n",
    "        # Append the sublist to the result\n",
    "        batches.append([x[start:end], y[start:end]])\n",
    "        # Update the starting index for the next sublist\n",
    "        start = end\n",
    "    \n",
    "    return batches"
   ]
  },
  {
   "cell_type": "markdown",
   "metadata": {},
   "source": [
    "## Training the Model\n",
    "\n",
    "### Pre-Trained Model\n",
    "Here, I've downloaded the pre-trained NLLB model."
   ]
  },
  {
   "cell_type": "code",
   "execution_count": 6,
   "metadata": {},
   "outputs": [
    {
     "name": "stderr",
     "output_type": "stream",
     "text": [
      "/home/j/Documents/Projects/MLotsawa/.venv/lib/python3.12/site-packages/huggingface_hub/file_download.py:1132: FutureWarning: `resume_download` is deprecated and will be removed in version 1.0.0. Downloads always resume when possible. If you want to force a new download, use `force_download=True`.\n",
      "  warnings.warn(\n",
      "/home/j/Documents/Projects/MLotsawa/.venv/lib/python3.12/site-packages/huggingface_hub/file_download.py:1132: FutureWarning: `resume_download` is deprecated and will be removed in version 1.0.0. Downloads always resume when possible. If you want to force a new download, use `force_download=True`.\n",
      "  warnings.warn(\n"
     ]
    }
   ],
   "source": [
    "model = AutoModelForSeq2SeqLM.from_pretrained(\"facebook/nllb-200-distilled-600M\")"
   ]
  },
  {
   "cell_type": "markdown",
   "metadata": {},
   "source": [
    "### Optimizer\n",
    "\n",
    "Below, I've selected the Adafactor optimizer for training. The values passed to the optimizer are taken from the tutorial mentioned above and are arbitrary."
   ]
  },
  {
   "cell_type": "code",
   "execution_count": 7,
   "metadata": {},
   "outputs": [],
   "source": [
    "optimizer = Adafactor(\n",
    "    [p for p in model.parameters() if p.requires_grad],\n",
    "    scale_parameter=False,\n",
    "    relative_step=False,\n",
    "    lr=1e-4,\n",
    "    clip_threshold=1.0,\n",
    "    weight_decay=1e-3,\n",
    ")\n",
    "scheduler = get_constant_schedule_with_warmup(optimizer, num_warmup_steps=1000)"
   ]
  },
  {
   "cell_type": "code",
   "execution_count": null,
   "metadata": {},
   "outputs": [],
   "source": [
    "batch_size = 16\n",
    "training_steps = 10000  # Set a large number of steps,\n",
    "# and then just interrupt the training manually\n",
    "losses = []  # with this list, I do very simple tracking of average loss\n",
    "MODEL_SAVE_PATH = 'nllb'"
   ]
  },
  {
   "cell_type": "code",
   "execution_count": 12,
   "metadata": {},
   "outputs": [],
   "source": [
    "def train(x, y, batch_size, optimizer):\n",
    "\n",
    "    loss = None\n",
    "\n",
    "    losses = []\n",
    "\n",
    "    tq = trange(len(losses), training_steps)\n",
    "\n",
    "    #batch the data\n",
    "    batches = batch_data(x, y, batch_size)\n",
    "\n",
    "    for i in tq:\n",
    "            \n",
    "        for batch in batches:\n",
    "            \n",
    "            x = batch[0]\n",
    "            y = batch[1]\n",
    "\n",
    "            # -100 is a magic value ignored in the loss function\n",
    "            # because we don't want the model to learn to predict padding ids\n",
    "            y.input_ids[y.input_ids == tokenizer.pad_token_id] = -100\n",
    "\n",
    "            loss = model(**x, labels=y.input_ids).loss\n",
    "            loss.backward()\n",
    "            losses.append(loss.item())\n",
    "\n",
    "            optimizer.step()\n",
    "            optimizer.zero_grad(set_to_none=True)\n",
    "            scheduler.step()\n",
    "\n",
    "        if i % 1000 == 0:\n",
    "            # each 1000 steps, I report average loss at these steps\n",
    "            print(i, np.mean(losses[-1000:]))\n",
    "\n",
    "        if i % 1000 == 0 and i > 0:\n",
    "            model.save_pretrained(MODEL_SAVE_PATH + str(i))\n",
    "\n",
    "    return losses\n"
   ]
  }
 ],
 "metadata": {
  "kernelspec": {
   "display_name": "Python 3",
   "language": "python",
   "name": "python3"
  },
  "language_info": {
   "codemirror_mode": {
    "name": "ipython",
    "version": 3
   },
   "file_extension": ".py",
   "mimetype": "text/x-python",
   "name": "python",
   "nbconvert_exporter": "python",
   "pygments_lexer": "ipython3",
   "version": "3.12.3"
  }
 },
 "nbformat": 4,
 "nbformat_minor": 2
}
