{
 "cells": [
  {
   "cell_type": "code",
   "execution_count": 20,
   "metadata": {},
   "outputs": [
    {
     "name": "stdout",
     "output_type": "stream",
     "text": [
      "Collecting thl-phonetic-transliteration==0.0.6\n",
      "  Downloading thl_phonetic_transliteration-0.0.6-py3-none-any.whl.metadata (2.0 kB)\n",
      "Requirement already satisfied: pyewts in /home/j/Documents/MLotsawa/.venv/lib/python3.12/site-packages (from thl-phonetic-transliteration==0.0.6) (0.2.0)\n",
      "Downloading thl_phonetic_transliteration-0.0.6-py3-none-any.whl (10 kB)\n",
      "Installing collected packages: thl-phonetic-transliteration\n",
      "  Attempting uninstall: thl-phonetic-transliteration\n",
      "    Found existing installation: thl_phonetic_transliteration 0.0.5\n",
      "    Uninstalling thl_phonetic_transliteration-0.0.5:\n",
      "      Successfully uninstalled thl_phonetic_transliteration-0.0.5\n",
      "Successfully installed thl-phonetic-transliteration-0.0.6\n"
     ]
    }
   ],
   "source": [
    "! pip install thl-phonetic-transliteration==0.0.6"
   ]
  },
  {
   "cell_type": "code",
   "execution_count": 4,
   "metadata": {},
   "outputs": [],
   "source": [
    "text = \"\"\"rang gi spyi bor chu skyes ge sar lter\n",
    " thabs shes nyi zla mdzes pai khri steng nas\n",
    " dus gsum rgyal kun ye shes dus pai gzugs\n",
    " dkon mchog kun dus bla ma karma pa\n",
    " zhi dzum bde chen rgyas pai nyams brgya bar\n",
    " phyag gnyis bde stong rdor dril thugs kar bsnol\n",
    " zhabs zung rdo rjei skyil mo krung gis bzhugs\n",
    " dbu la zhwa nag sku la chos gos gsol\"\"\"\n",
    "\n",
    "text = 'rang gi spyi bor chu skyes ge sar lter'"
   ]
  },
  {
   "cell_type": "code",
   "execution_count": 5,
   "metadata": {},
   "outputs": [],
   "source": [
    "from  thl_phonetic_transliteration.converter import convert\n",
    "\n",
    "\n",
    "res = convert(text)"
   ]
  },
  {
   "cell_type": "code",
   "execution_count": 6,
   "metadata": {},
   "outputs": [
    {
     "data": {
      "text/plain": [
       "'rang gi schi wor chhu kyes ge sar ter'"
      ]
     },
     "execution_count": 6,
     "metadata": {},
     "output_type": "execute_result"
    }
   ],
   "source": [
    "res"
   ]
  },
  {
   "cell_type": "code",
   "execution_count": 17,
   "metadata": {},
   "outputs": [],
   "source": [
    "breaks = '\\n'.join(res)"
   ]
  },
  {
   "cell_type": "code",
   "execution_count": 18,
   "metadata": {},
   "outputs": [
    {
     "data": {
      "text/plain": [
       "'rang gi spyi bor chu skyes ge sar lter'"
      ]
     },
     "execution_count": 18,
     "metadata": {},
     "output_type": "execute_result"
    }
   ],
   "source": [
    "text"
   ]
  },
  {
   "cell_type": "code",
   "execution_count": 11,
   "metadata": {},
   "outputs": [
    {
     "data": {
      "text/plain": [
       "'rang gi schi wor chhu kyes ge sar ter\\n tas shes nyi da dzes pai tri teng nas\\n dus sum gyal kun ye shes dus pai zus\\n kon chhog kun dus la ma kama pa\\n zhi dzum de chhen gyas pai nyams gya war\\n chag nyis de tong dor dril tus kar wnol\\n zhas zung do jei kyil mo trung gis wzhus\\n  u la zha nag ku la chhos gos sol'"
      ]
     },
     "execution_count": 11,
     "metadata": {},
     "output_type": "execute_result"
    }
   ],
   "source": [
    "breaks"
   ]
  },
  {
   "cell_type": "code",
   "execution_count": null,
   "metadata": {},
   "outputs": [],
   "source": [
    "res = convert(text)\n",
    "\n",
    "res"
   ]
  }
 ],
 "metadata": {
  "kernelspec": {
   "display_name": ".venv",
   "language": "python",
   "name": "python3"
  },
  "language_info": {
   "codemirror_mode": {
    "name": "ipython",
    "version": 3
   },
   "file_extension": ".py",
   "mimetype": "text/x-python",
   "name": "python",
   "nbconvert_exporter": "python",
   "pygments_lexer": "ipython3",
   "version": "3.12.3"
  }
 },
 "nbformat": 4,
 "nbformat_minor": 2
}
