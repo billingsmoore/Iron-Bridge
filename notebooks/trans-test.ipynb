{
 "cells": [
  {
   "cell_type": "code",
   "execution_count": 5,
   "metadata": {},
   "outputs": [
    {
     "name": "stdout",
     "output_type": "stream",
     "text": [
      "Requirement already satisfied: thl-phonetic-transliteration in /home/j/Documents/MLotsawa/.venv/lib/python3.12/site-packages (0.1.1)\n",
      "Collecting thl-phonetic-transliteration\n",
      "  Downloading thl_phonetic_transliteration-0.1.2-py3-none-any.whl.metadata (2.0 kB)\n",
      "Requirement already satisfied: pyewts in /home/j/Documents/MLotsawa/.venv/lib/python3.12/site-packages (from thl-phonetic-transliteration) (0.2.0)\n",
      "Downloading thl_phonetic_transliteration-0.1.2-py3-none-any.whl (10 kB)\n",
      "Installing collected packages: thl-phonetic-transliteration\n",
      "  Attempting uninstall: thl-phonetic-transliteration\n",
      "    Found existing installation: thl_phonetic_transliteration 0.1.1\n",
      "    Uninstalling thl_phonetic_transliteration-0.1.1:\n",
      "      Successfully uninstalled thl_phonetic_transliteration-0.1.1\n",
      "Successfully installed thl-phonetic-transliteration-0.1.2\n"
     ]
    }
   ],
   "source": [
    "! pip install thl-phonetic-transliteration --upgrade"
   ]
  },
  {
   "cell_type": "code",
   "execution_count": null,
   "metadata": {},
   "outputs": [],
   "source": [
    "text = \"\"\"rang gi spyi bor chu skyes ge sar lter\n",
    " thabs shes nyi zla mdzes pai khri steng nas\n",
    " dus gsum rgyal kun ye shes dus pai gzugs\n",
    " dkon mchog kun dus bla ma karma pa\n",
    " zhi dzum bde chen rgyas pai nyams brgya bar\n",
    " phyag gnyis bde stong rdor dril thugs kar bsnol\n",
    " zhabs zung rdo rjei skyil mo krung gis bzhugs\n",
    " dbu la zhwa nag sku la chos gos gsol\"\"\"\n",
    "\n",
    "text = 'rang gi spyi bor chu skyes ge sar lter'"
   ]
  },
  {
   "cell_type": "code",
   "execution_count": 6,
   "metadata": {},
   "outputs": [],
   "source": [
    "thl =\"\"\"sangye ch dang tsok kyi chok nam la, sans gyas chhos dang tsos kyi chhog nams la\n",
    "changchub bardu dak ni kyab su chi, jang chhuw war du dag ni kyas su chhi\n",
    "dak gi jin sok gyip snam kyi, dag gi jin sos gyis pai sod nams kyis\n",
    "dro la pen chir sangye drubpar shok, dro la pan chir sans gyas druw par shog\"\"\""
   ]
  },
  {
   "cell_type": "code",
   "execution_count": null,
   "metadata": {},
   "outputs": [],
   "source": [
    "import pyewts\n",
    "import re\n",
    "\n",
    "def convert(input_text):\n",
    "    \"\"\"\n",
    "    This function takes in a string and if it is in Tibetan unicode, the function converts it to \n",
    "    Wylie transliteration using pyewts. Otherwise, the function assumes that the inputted text is\n",
    "    already a Wylie transliteration and converts it to THL Simplified Phonetic Transliteration.\n",
    "\n",
    "    Args:\n",
    "        input_text: a string of either Tibetan unicode or a Wylie transliteration\n",
    "\n",
    "    Returns\n",
    "        phonetic: a string of text which is the THL phonetic version of the input\n",
    "    \"\"\"\n",
    "    # if input is Tibetan unicode, use pyewts to convert it to Wylie\n",
    "    if is_tibetan_unicode(input_text):\n",
    "        converter = pyewts.pyewts()\n",
    "        wylie = converter.toWylie(input_text).split('\\n')\n",
    "        # if input is already phonetic, return the input unchanged\n",
    "    elif is_phonetic(input_text):\n",
    "            return input_text\n",
    "    else:\n",
    "        wylie = input_text.split('\\n')\n",
    "\n",
    "    # convert text Wylie to THL Simplified Phonetic Transliteration\n",
    "    phonetic = wylie_to_phonetic(wylie)\n",
    "\n",
    "    phonetic = '\\n'.join(phonetic)\n",
    "\n",
    "    return phonetic\n",
    "\n",
    "# list of giveaway substrings to detect non-phonetic text\n",
    "giveaways = ['lth', 'cw', 'lpy', 'dpy', 'bsd', 'bzl', 'rgr', 'lgr', \n",
    "             'sgr', 'dgr', 'dbr', 'bsgr', 'rbr', 'lbr', 'sbr', 'mgr',\n",
    "             'grw', 'rdz', 'gdz', 'brdz', 'mdz', 'brg', 'bsg', 'khw', \n",
    "             'mkh','mkhy', 'dky', 'bky', 'brky', 'bsky', 'brl', 'bsl',\n",
    "             'smr', 'brn', 'bsn', 'rng', 'lng', 'sng', 'dng', 'brng', \n",
    "             'bsng', 'mng', 'rny', 'sny', 'gny', 'brny', 'bsny', 'mny', \n",
    "             'nyw', 'rmy', 'smy', 'bsr', 'shw', 'gsh', 'bsh', 'brt', \n",
    "             'blt', 'bst', 'bld', 'mth', 'rkr', 'lkr', 'skr', 'lpr', \n",
    "             'spr', 'dkr', 'dpr', 'bkr', 'bskr', 'bsr', 'khr', 'thr', \n",
    "             'phr', 'mkhr', 'rts', 'sts', 'rtsw', 'stsw', 'gts', 'bts', \n",
    "             'brts', 'bsts', 'tsh', 'tshw', 'mtsh', 'g.y', 'dby', 'zhw', \n",
    "             'gzh', 'bzh']\n",
    "\n",
    "\n",
    "def is_phonetic(text):\n",
    "    for elt in giveaways:\n",
    "        if elt in text:\n",
    "            return False\n",
    "    else:\n",
    "        return True\n",
    "\n",
    "\n",
    "def is_tibetan_unicode(text):\n",
    "    \"\"\"\n",
    "    This is a helper function for convert. This function checks if a string\n",
    "    is composed of Tibetan unicode text and returns True if it is and returns False otherwise.\n",
    "\n",
    "    Args:\n",
    "        text: A string of text to check \n",
    "\n",
    "    Returns:\n",
    "        Bool: True if the text is Tibetan unicode, False otherwise.\n",
    "    \"\"\"\n",
    "    # Define the Tibetan Unicode range\n",
    "    tibetan_range = range(0x0F00, 0x0FFF + 1)\n",
    "    \n",
    "    # Check each character in the string\n",
    "    for char in text:\n",
    "        if ord(char) in tibetan_range:\n",
    "            return True\n",
    "    return False\n",
    "\n",
    "# These are the character replacements to convert Wylie to THL phonetic\n",
    "replacements = [[['pan'], 'pen'],\n",
    "    [['w '], 'b'],\n",
    "    [['og '], 'ok '],\n",
    "    [['os'], 'ok'],\n",
    "    [['nams'], 'nam'],\n",
    "    [['jang'], 'chang'],\n",
    "    [['ns '], 'n'],\n",
    "    [['yas'], 'ye'],\n",
    "    # from wikipedia\n",
    "    [['lth', 'rh', 'db'] , ' '],\n",
    "    [['rb', 'sb', 'sbr', 'lb'] , 'b'],\n",
    "    [['cw', 'gc', 'bc', 'lc', 'py', 'lpy', 'spy', 'dpy', 'mch', 'phy'] , 'ch'],\n",
    "    [['rd', 'sd', 'gd', 'bd', 'brd', 'bsd', 'zl', 'bzl', 'ld', 'md', 'dw'] , 'd'],\n",
    "    [['rgr', 'lgr', 'sgr', 'dgr', 'dbr', 'bsgr', 'rbr', 'lbr', 'sbr', 'mgr', 'gr', 'br', 'grw'] , 'dr'],\n",
    "    [['rdz', 'gdz', 'brdz', 'mdz'] , 'dz'],\n",
    "    [['rg', 'lg', 'sg', 'dg', 'bg', 'brg', 'bsg', 'lg', 'mg', 'gw'] , 'g'],\n",
    "    [['rgy', 'lgy', 'sgy', 'dgy', 'bgy', 'brgy', 'bsgy', 'mgy'] , 'gy'],\n",
    "    [['hw'] , 'h'],\n",
    "    [['rby', 'lby', 'sby', 'rj', 'gj', 'brj', 'lj', 'mj', 'by'] , 'j'],\n",
    "    [['rk', 'lk', 'sk', 'kw', 'dk', 'bk', 'brk', 'bsk'] , 'k'],\n",
    "    [['khw', 'mkh'] , 'kh'],\n",
    "    [['mkhy'] , 'khy'],\n",
    "    [['rky', 'lky', 'sky', 'dky', 'bky', 'brky', 'bsky'] , 'ky'],\n",
    "    [['kl', 'gl', 'bl', 'rl', 'sl', 'brl', 'bsl', 'lw'] , 'l'],\n",
    "    [['rm', 'sm', 'dm', 'smr', 'mr'] , 'm'],\n",
    "    [['rn', 'sn', 'gn', 'brn', 'bsn', 'mn'] , 'n'],\n",
    "    [['rng', 'lng', 'sng', 'dng', 'brng', 'bsng', 'mng'] , 'ng'],\n",
    "    [['rny', 'sny', 'gny', 'brny', 'bsny', 'mny', 'nyw', 'rmy', 'smy', 'my'] , 'ny'],\n",
    "    [['sp', 'dp', 'lp', 'ph'] , 'p'],\n",
    "    [['rw'] , 'r'],\n",
    "    [['sr', 'sw', 'gs', 'bs', 'bsr'] , 's'],\n",
    "    [['shw', 'gsh', 'bsh'] , 'sh'],\n",
    "    [['rt', 'lt', 'st', 'tw', 'gt', 'bt', 'brt', 'blt', 'bst', 'bld', 'th', 'mth'] , 't'],\n",
    "    [['kr', 'rkr', 'lkr', 'skr', 'pr', 'lpr', 'spr', 'dkr', 'dpr', 'bkr', 'bskr', 'bsr', 'khr', 'thr', 'phr', 'mkhr'] , 'tr'],\n",
    "    [['rts', 'sts', 'rtsw', 'stsw', 'gts', 'bts', 'brts', 'bsts', 'tsh', 'tshw', 'mtsh'] , 'ts'],\n",
    "    [['db'] , 'w'],\n",
    "    [['g.y', 'dby'] , 'y'],\n",
    "    [['zw', 'gz', 'bz'] , 'z'],\n",
    "    [['zh', 'zhw', 'gzh', 'bzh'] , 'zh']]\n",
    "\n",
    "\n",
    "\n",
    "def wylie_to_phonetic(wylie):\n",
    "    \"\"\"\n",
    "    This is a helper function for thl_phonetic translation. This is a function to \n",
    "    convert Wylie transliteration to THL Simplified Tibetan Transliteration.\n",
    "\n",
    "    Args:\n",
    "        wylie: A string composed of text which the Wylie transliteration of Tibetan\n",
    "\n",
    "    Returns:\n",
    "        phonetic: A string composed of the THL phonetic version of 'wylie'\n",
    "    \"\"\"\n",
    "\n",
    "    phonetic = []\n",
    "    for line in wylie:\n",
    "        if line != '':\n",
    "            # perform replacements\n",
    "            result = line\n",
    "            for elt in replacements:\n",
    "                replace_list = elt[0]\n",
    "                for string in replace_list:\n",
    "                    result = result.replace(string, elt[1])\n",
    "\n",
    "            # remove non-alphabetical chars\n",
    "            result = re.sub(r'[^a-zA-Z\\s]', '', result)\n",
    "            phonetic.append(result)\n",
    "\n",
    "    return phonetic\n"
   ]
  },
  {
   "cell_type": "code",
   "execution_count": 10,
   "metadata": {},
   "outputs": [],
   "source": [
    "tib = \"\"\"སངས་རྒྱས་ཆོས་དང་ཚོགས་ཀྱི་མཆོག་རྣམས་ལ། །\n",
    "བྱང་ཆུབ་བར་དུ་བདག་ནི་སྐྱབས་སུ་མཆི། །\n",
    "བདག་གི་སྦྱིན་སོགས་བགྱིས་པའི་བསོད་ནམས་ཀྱིས། །\n",
    "འགྲོ་ལ་ཕན་ཕྱིར་སངས་རྒྱས་འགྲུབ་པར་ཤོག\"\"\""
   ]
  },
  {
   "cell_type": "code",
   "execution_count": 22,
   "metadata": {},
   "outputs": [
    {
     "data": {
      "text/plain": [
       "'sangye chok dang tsos kyi chok nam la\\njang chub bar du dag ni kyas su chi\\ndag gi jin sos gyis pai sod nam kyis\\ndro la pan chir sangye drub par shog'"
      ]
     },
     "execution_count": 22,
     "metadata": {},
     "output_type": "execute_result"
    }
   ],
   "source": [
    "convert(tib).replace('ns ', 'n')"
   ]
  },
  {
   "cell_type": "code",
   "execution_count": 11,
   "metadata": {},
   "outputs": [],
   "source": [
    "from  thl_phonetic_transliteration.converter import convert\n",
    "\n",
    "\n",
    "res = convert(tib)"
   ]
  },
  {
   "cell_type": "code",
   "execution_count": 12,
   "metadata": {},
   "outputs": [
    {
     "data": {
      "text/plain": [
       "'sans gye chok dang tsos kyi chok nam la\\njang chub bar du dag ni kyas su chi\\ndag gi jin sos gyis pai sod nam kyis\\ndro la pan chir sans gye drub par shog'"
      ]
     },
     "execution_count": 12,
     "metadata": {},
     "output_type": "execute_result"
    }
   ],
   "source": [
    "res"
   ]
  },
  {
   "cell_type": "code",
   "execution_count": null,
   "metadata": {},
   "outputs": [],
   "source": [
    "breaks = '\\n'.join(res)"
   ]
  },
  {
   "cell_type": "code",
   "execution_count": null,
   "metadata": {},
   "outputs": [],
   "source": [
    "text"
   ]
  },
  {
   "cell_type": "code",
   "execution_count": null,
   "metadata": {},
   "outputs": [],
   "source": [
    "breaks"
   ]
  },
  {
   "cell_type": "code",
   "execution_count": null,
   "metadata": {},
   "outputs": [],
   "source": [
    "res = convert(text)\n",
    "\n",
    "res"
   ]
  }
 ],
 "metadata": {
  "kernelspec": {
   "display_name": ".venv",
   "language": "python",
   "name": "python3"
  },
  "language_info": {
   "codemirror_mode": {
    "name": "ipython",
    "version": 3
   },
   "file_extension": ".py",
   "mimetype": "text/x-python",
   "name": "python",
   "nbconvert_exporter": "python",
   "pygments_lexer": "ipython3",
   "version": "3.12.3"
  }
 },
 "nbformat": 4,
 "nbformat_minor": 2
}
