{
 "cells": [
  {
   "cell_type": "code",
   "execution_count": 1,
   "metadata": {},
   "outputs": [],
   "source": [
    "from PyPDF2 import PdfReader\n",
    "\n",
    "path = '/home/j/Documents/Projects/Iron-Bridge/lotsawa/data/test-pages/amitabha.pdf'\n",
    "\n",
    "reader = PdfReader(path)\n",
    "\n",
    "num_pages = len(reader.pages)\n",
    "\n",
    "text = []\n",
    "\n",
    "for page in reader.pages:\n",
    "    text.append(page.extract_text())\n",
    "\n",
    "with open(path + 'phase1.txt', 'w') as f:\n",
    "    f.writelines('\\n'.join(text))"
   ]
  },
  {
   "cell_type": "code",
   "execution_count": 2,
   "metadata": {},
   "outputs": [],
   "source": [
    "import re\n",
    "\n",
    "text = []\n",
    "\n",
    "with open(path + 'phase1.txt', 'r') as f:\n",
    "    for line in f:\n",
    "        new_line = re.sub(r'[^a-zA-Z ]', '', line)\n",
    "        if new_line.replace(' ', '') != '':\n",
    "            text.append(new_line)\n",
    "\n",
    "with open(path + 'phase2.txt', 'w') as f:\n",
    "    f.writelines('\\n'.join(text))"
   ]
  }
 ],
 "metadata": {
  "kernelspec": {
   "display_name": "Python 3",
   "language": "python",
   "name": "python3"
  },
  "language_info": {
   "codemirror_mode": {
    "name": "ipython",
    "version": 3
   },
   "file_extension": ".py",
   "mimetype": "text/x-python",
   "name": "python",
   "nbconvert_exporter": "python",
   "pygments_lexer": "ipython3",
   "version": "3.10.12"
  }
 },
 "nbformat": 4,
 "nbformat_minor": 2
}
