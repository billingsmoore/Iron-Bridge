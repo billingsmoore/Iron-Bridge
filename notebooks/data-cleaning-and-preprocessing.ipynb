{
 "cells": [
  {
   "cell_type": "markdown",
   "metadata": {},
   "source": [
    "# Preprocessing the Data\n",
    "\n",
    "The purpose of this notebook is to document the preprocessing that was done to the PDF's scraped from [Lotsawa House](https://www.lotsawahouse.org/)"
   ]
  },
  {
   "cell_type": "markdown",
   "metadata": {},
   "source": [
    "## Converting PDFs to txt\n",
    "\n",
    "The translations come in bilingual pdfs which need to be converted to a usable .txt file format."
   ]
  },
  {
   "cell_type": "code",
   "execution_count": 1,
   "metadata": {},
   "outputs": [],
   "source": [
    "from PyPDF2 import PdfReader\n",
    "import os\n",
    "\n",
    "path = '/home/j/Documents/Projects/Iron-Bridge/lotsawa/data/lotsawahouse/topic-pdfs'\n",
    "\n",
    "def pdf_to_txt(file):\n",
    "    reader = PdfReader(file)\n",
    "\n",
    "    num_pages = len(reader.pages)\n",
    "\n",
    "    text = []\n",
    "\n",
    "    for page in reader.pages:\n",
    "        text.append(page.extract_text())\n",
    "\n",
    "\n",
    "    return text\n",
    "\n",
    "for file in os.listdir(path):\n",
    "    text = pdf_to_txt(path + '/' + file)\n",
    "    with open('/home/j/Documents/Projects/Iron-Bridge/lotsawa/data/lotsawahouse/topic-txts/' + file[:-4] + '.txt', 'w') as f:\n",
    "        f.writelines('\\n'.join(text))"
   ]
  },
  {
   "cell_type": "markdown",
   "metadata": {},
   "source": [
    "## Clean txt\n",
    "\n",
    "Now that a txt file has been created. We need to remove lines from the file that are not useful to us. This includes pages numbers, Tibetan script lines, etc."
   ]
  },
  {
   "cell_type": "code",
   "execution_count": 4,
   "metadata": {},
   "outputs": [],
   "source": [
    "import re\n",
    "\n",
    "def clean_txt(file):\n",
    "\n",
    "    text = []\n",
    "\n",
    "    with open(file, 'r') as f:\n",
    "        for line in f:\n",
    "            new_line = re.sub(r'[^a-zA-Z ]', '', line)\n",
    "            if new_line.replace(' ', '') != '':\n",
    "                text.append(new_line)\n",
    "\n",
    "    with open(file, 'w') as f:\n",
    "        f.writelines('\\n'.join(text))\n",
    "\n",
    "\n",
    "path = '/home/j/Documents/Projects/Iron-Bridge/lotsawa/data/lotsawahouse/topic-txts'\n",
    "\n",
    "for file in os.listdir(path):\n",
    "    clean_txt(path + '/' + file)"
   ]
  },
  {
   "cell_type": "markdown",
   "metadata": {},
   "source": [
    "## Split text into sentence pairs\n",
    "\n",
    "Now that we've wittled the text down we can set the text into Tibetan and English sentence pairs. Lotsawa House translations are conveniently provided in multiple lines. First Tibetan and then the English translation."
   ]
  },
  {
   "cell_type": "code",
   "execution_count": 1,
   "metadata": {},
   "outputs": [],
   "source": [
    "from spacy_language_detection import LanguageDetector\n",
    "import spacy\n",
    "import os\n",
    "\n",
    "def get_lang_detector(nlp, name):\n",
    "    return LanguageDetector()\n",
    "\n",
    "nlp_model = spacy.load(\"en_core_web_md\")\n",
    "spacy.language.Language.factory(\"language_detector\", func=get_lang_detector)\n",
    "nlp_model.add_pipe('language_detector', last=True)\n",
    "\n",
    "pairs = []\n",
    "\n",
    "def detect(text):\n",
    "    doc = nlp_model(text)\n",
    "    detect_language = doc._.language\n",
    "    lang = detect_language['language']\n",
    "    return lang\n",
    "\n",
    "def separate_pairs(file):\n",
    "    with open(file, 'r') as f:\n",
    "        text = f.readlines()\n",
    "        \n",
    "        for i in range(len(text) - 1):\n",
    "            lang = detect(text[i])\n",
    "            if lang != \"en\":\n",
    "                next_lang = detect(text[i+1])\n",
    "                if next_lang == \"en\":\n",
    "                    pair = (text[i].replace('\\n', '') + ',' + text[i+1])\n",
    "                    pairs.append(pair)\n",
    "\n",
    "    with open('/home/j/Documents/Projects/Iron-Bridge/lotsawa/data/lotsawahouse/all-lotsawahouse-pairs.txt', 'a') as f:\n",
    "        f.write('\\n')\n",
    "        f.writelines(pairs)\n",
    "\n",
    "path = '/home/j/Documents/Projects/Iron-Bridge/lotsawa/data/lotsawahouse/topic-txts/'\n",
    "\n",
    "for file in os.listdir('/home/j/Documents/Projects/Iron-Bridge/lotsawa/data/lotsawahouse/topic-txts'):\n",
    "    separate_pairs(path+file)"
   ]
  }
 ],
 "metadata": {
  "kernelspec": {
   "display_name": "tf",
   "language": "python",
   "name": "python3"
  },
  "language_info": {
   "codemirror_mode": {
    "name": "ipython",
    "version": 3
   },
   "file_extension": ".py",
   "mimetype": "text/x-python",
   "name": "python",
   "nbconvert_exporter": "python",
   "pygments_lexer": "ipython3",
   "version": "3.10.12"
  },
  "orig_nbformat": 4
 },
 "nbformat": 4,
 "nbformat_minor": 2
}
