{
 "cells": [
  {
   "cell_type": "code",
   "execution_count": 17,
   "metadata": {},
   "outputs": [],
   "source": [
    "import requests, uuid, json\n",
    "import pyewts\n",
    "import time"
   ]
  },
  {
   "cell_type": "markdown",
   "metadata": {},
   "source": [
    "## Translate English Sentences"
   ]
  },
  {
   "cell_type": "code",
   "execution_count": 18,
   "metadata": {},
   "outputs": [],
   "source": [
    "with open('/home/j/bing-key.txt', 'r') as f:\n",
    "    key = f.read()\n",
    "key=key.replace('\\n', '')"
   ]
  },
  {
   "cell_type": "code",
   "execution_count": 19,
   "metadata": {},
   "outputs": [],
   "source": [
    "def translate(key, num, batch_num):\n",
    "    # Add your key and endpoint\n",
    "\n",
    "    endpoint = \"https://api.cognitive.microsofttranslator.com\"\n",
    "\n",
    "\n",
    "    # location, also known as region.\n",
    "    # required if you're using a multi-service or regional (not global) resource. It can be found in the Azure portal on the Keys and Endpoint page.\n",
    "    location = \"eastus\"\n",
    "\n",
    "    path = '/translate'\n",
    "    constructed_url = endpoint + path\n",
    "\n",
    "    params = {\n",
    "        'api-version': '3.0',\n",
    "        'from': 'en',\n",
    "        'to': 'bo',\n",
    "    }\n",
    "\n",
    "    headers = {\n",
    "        'Ocp-Apim-Subscription-Key': key,\n",
    "        # location required if you're using a multi-service or regional (not global) resource.\n",
    "        'Ocp-Apim-Subscription-Region': location,\n",
    "        'Content-type': 'application/json',\n",
    "        'X-ClientTraceId': str(uuid.uuid4())\n",
    "    }\n",
    "\n",
    "    # You can pass more than one object in body.\n",
    "    body = []\n",
    "\n",
    "    with open('/home/j/Documents/Projects/Iron-Bridge/lotsawa/data/ankhi/bing-batches/mini-batches/'+str(num)+'/'+str(batch_num)+'.txt', 'r') as f:\n",
    "        for line in f:\n",
    "            body.append({'text': line})\n",
    "\n",
    "    request = requests.post(constructed_url, params=params, headers=headers, json=body)\n",
    "    response = request.json()\n",
    "    #print(json.dumps(response, sort_keys=True, ensure_ascii=False, indent=4, separators=(',', ': ')))\n",
    "    with open('/home/j/Documents/Projects/Iron-Bridge/lotsawa/data/ankhi/bing-translations/batch'+str(num)+'-'+str(batch_num)+'-response.json', 'w', encoding='utf-8') as f:\n",
    "        json.dump(response, f, ensure_ascii=False, indent=4)"
   ]
  },
  {
   "cell_type": "markdown",
   "metadata": {},
   "source": [
    "## Transliterate Tibetan to Latin Script"
   ]
  },
  {
   "cell_type": "code",
   "execution_count": 20,
   "metadata": {},
   "outputs": [],
   "source": [
    "def transliterate(num, batch_num):\n",
    "    converter=pyewts.pyewts()\n",
    "\n",
    "    with open('/home/j/Documents/Projects/Iron-Bridge/lotsawa/data/ankhi/bing-translations/batch'+str(num)+'-'+str(batch_num)+'-response.json') as f:\n",
    "        d = json.load(f)\n",
    "\n",
    "    tib = []\n",
    "\n",
    "    for entry in d:\n",
    "        tib.append(converter.toWylie(entry['translations'][0]['text']))\n",
    "\n",
    "    eng = []\n",
    "\n",
    "    with open('/home/j/Documents/Projects/Iron-Bridge/lotsawa/data/ankhi/bing-batches/mini-batches/'+str(num)+'/'+str(batch_num)+'.txt', 'r') as f:\n",
    "        for line in f:\n",
    "            eng.append(line)\n",
    "\n",
    "    pairs = []\n",
    "\n",
    "    for i in range(len(tib)):\n",
    "        pairs.append((tib[i], eng[i]))\n",
    "\n",
    "    with open('/home/j/Documents/Projects/Iron-Bridge/lotsawa/data/ankhi/pairs/batch1'+str(num)+'-'+str(batch_num)+'-pairs.txt', 'w') as f: # make sure to change to 'a'\n",
    "        f.writelines('\\n'.join(str(pair).replace('\\'', '')\n",
    "                                        .replace('\\\\n', '')\n",
    "                                        .replace('(', '')\n",
    "                                        .replace(')', '')\n",
    "                                        .replace('/', '')\n",
    "                                        .replace(' ,', ',')\n",
    "                                        .replace('\"', '')  for pair in pairs))"
   ]
  },
  {
   "cell_type": "code",
   "execution_count": 21,
   "metadata": {},
   "outputs": [],
   "source": [
    "for j in range(109,119):\n",
    "    for i in range(0,10):\n",
    "        batch_num = i\n",
    "        translate(key, j, batch_num)\n",
    "        transliterate(j, batch_num)"
   ]
  },
  {
   "cell_type": "markdown",
   "metadata": {},
   "source": [
    "## Concatenate Pairs"
   ]
  },
  {
   "cell_type": "code",
   "execution_count": 22,
   "metadata": {},
   "outputs": [],
   "source": [
    "import os\n",
    "\n",
    "for file in os.listdir('/home/j/Documents/Projects/Iron-Bridge/lotsawa/data/ankhi/pairs/'):\n",
    "    path = '/home/j/Documents/Projects/Iron-Bridge/lotsawa/data/ankhi/pairs/' + file\n",
    "    with open(path, 'r') as f:\n",
    "        text = f.readlines()\n",
    "        with open('/home/j/Documents/Projects/Iron-Bridge/lotsawa/data/ankhi/all-ankhi-pairs.txt', 'a') as g:\n",
    "            g.write('\\n')\n",
    "            g.writelines(text)"
   ]
  }
 ],
 "metadata": {
  "kernelspec": {
   "display_name": "Python 3",
   "language": "python",
   "name": "python3"
  },
  "language_info": {
   "codemirror_mode": {
    "name": "ipython",
    "version": 3
   },
   "file_extension": ".py",
   "mimetype": "text/x-python",
   "name": "python",
   "nbconvert_exporter": "python",
   "pygments_lexer": "ipython3",
   "version": "3.10.12"
  }
 },
 "nbformat": 4,
 "nbformat_minor": 2
}
