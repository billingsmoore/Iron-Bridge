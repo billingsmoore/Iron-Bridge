{
 "cells": [
  {
   "cell_type": "code",
   "execution_count": 9,
   "metadata": {},
   "outputs": [],
   "source": [
    "import requests, uuid, json\n",
    "import pyewts"
   ]
  },
  {
   "cell_type": "markdown",
   "metadata": {},
   "source": [
    "## Translate English Sentences"
   ]
  },
  {
   "cell_type": "code",
   "execution_count": 11,
   "metadata": {},
   "outputs": [],
   "source": [
    "with open('/home/j/bing-key.txt', 'r') as f:\n",
    "    key = f.read()\n",
    "key=key.replace('\\n', '')"
   ]
  },
  {
   "cell_type": "code",
   "execution_count": 41,
   "metadata": {},
   "outputs": [],
   "source": [
    "batch_num = 8"
   ]
  },
  {
   "cell_type": "code",
   "execution_count": 46,
   "metadata": {},
   "outputs": [],
   "source": [
    "def translate(key, batch_num):\n",
    "    # Add your key and endpoint\n",
    "\n",
    "    endpoint = \"https://api.cognitive.microsofttranslator.com\"\n",
    "\n",
    "\n",
    "    # location, also known as region.\n",
    "    # required if you're using a multi-service or regional (not global) resource. It can be found in the Azure portal on the Keys and Endpoint page.\n",
    "    location = \"eastus\"\n",
    "\n",
    "    path = '/translate'\n",
    "    constructed_url = endpoint + path\n",
    "\n",
    "    params = {\n",
    "        'api-version': '3.0',\n",
    "        'from': 'en',\n",
    "        'to': 'bo',\n",
    "    }\n",
    "\n",
    "    headers = {\n",
    "        'Ocp-Apim-Subscription-Key': key,\n",
    "        # location required if you're using a multi-service or regional (not global) resource.\n",
    "        'Ocp-Apim-Subscription-Region': location,\n",
    "        'Content-type': 'application/json',\n",
    "        'X-ClientTraceId': str(uuid.uuid4())\n",
    "    }\n",
    "\n",
    "    # You can pass more than one object in body.\n",
    "    body = []\n",
    "\n",
    "    with open('/home/j/Documents/Projects/Iron-Bridge/lotsawa/data/ankhi/bing-batches/batch'+str(batch_num)+'.txt', 'r') as f:\n",
    "        for line in f:\n",
    "            body.append({'text': line})\n",
    "\n",
    "    request = requests.post(constructed_url, params=params, headers=headers, json=body)\n",
    "    response = request.json()\n",
    "    #print(json.dumps(response, sort_keys=True, ensure_ascii=False, indent=4, separators=(',', ': ')))\n",
    "    with open('/home/j/Documents/Projects/Iron-Bridge/lotsawa/data/ankhi/bing-translations/batch'+str(batch_num)+'-response.json', 'w', encoding='utf-8') as f:\n",
    "        json.dump(response, f, ensure_ascii=False, indent=4)"
   ]
  },
  {
   "cell_type": "markdown",
   "metadata": {},
   "source": [
    "## Transliterate Tibetan to Latin Script"
   ]
  },
  {
   "cell_type": "code",
   "execution_count": 47,
   "metadata": {},
   "outputs": [],
   "source": [
    "def transliterate(batch_num):\n",
    "    converter=pyewts.pyewts()\n",
    "\n",
    "    with open('/home/j/Documents/Projects/Iron-Bridge/lotsawa/data/ankhi/bing-translations/batch'+str(batch_num)+'-response.json') as f:\n",
    "        d = json.load(f)\n",
    "\n",
    "    tib = []\n",
    "\n",
    "    for entry in d:\n",
    "        tib.append(converter.toWylie(entry['translations'][0]['text']))\n",
    "\n",
    "    eng = []\n",
    "\n",
    "    with open('/home/j/Documents/Projects/Iron-Bridge/lotsawa/data/ankhi/bing-batches/batch'+str(batch_num)+'.txt', 'r') as f:\n",
    "        for line in f:\n",
    "            eng.append(line)\n",
    "\n",
    "    pairs = []\n",
    "\n",
    "    for i in range(len(tib)):\n",
    "        pairs.append((tib[i], eng[i]))\n",
    "\n",
    "    with open('/home/j/Documents/Projects/Iron-Bridge/lotsawa/data/ankhi/pairs/batch'+str(batch_num)+'-pairs.txt', 'w') as f: # make sure to change to 'a'\n",
    "        f.writelines('\\n'.join(str(pair).replace('\\'', '')\n",
    "                                        .replace('\\\\n', '')\n",
    "                                        .replace('(', '')\n",
    "                                        .replace(')', '')\n",
    "                                        .replace('/', '')\n",
    "                                        .replace(' ,', ',')\n",
    "                                        .replace('\"', '')  for pair in pairs))"
   ]
  },
  {
   "cell_type": "code",
   "execution_count": 49,
   "metadata": {},
   "outputs": [
    {
     "ename": "TypeError",
     "evalue": "string indices must be integers",
     "output_type": "error",
     "traceback": [
      "\u001b[0;31m---------------------------------------------------------------------------\u001b[0m",
      "\u001b[0;31mTypeError\u001b[0m                                 Traceback (most recent call last)",
      "\u001b[1;32m/home/j/Documents/Projects/Iron-Bridge/lotsawa/notebooks/bing-process.ipynb Cell 8\u001b[0m line \u001b[0;36m4\n\u001b[1;32m      <a href='vscode-notebook-cell:/home/j/Documents/Projects/Iron-Bridge/lotsawa/notebooks/bing-process.ipynb#X12sZmlsZQ%3D%3D?line=1'>2</a>\u001b[0m batch_num \u001b[39m=\u001b[39m i\n\u001b[1;32m      <a href='vscode-notebook-cell:/home/j/Documents/Projects/Iron-Bridge/lotsawa/notebooks/bing-process.ipynb#X12sZmlsZQ%3D%3D?line=2'>3</a>\u001b[0m translate(key, batch_num)\n\u001b[0;32m----> <a href='vscode-notebook-cell:/home/j/Documents/Projects/Iron-Bridge/lotsawa/notebooks/bing-process.ipynb#X12sZmlsZQ%3D%3D?line=3'>4</a>\u001b[0m transliterate(batch_num)\n",
      "\u001b[1;32m/home/j/Documents/Projects/Iron-Bridge/lotsawa/notebooks/bing-process.ipynb Cell 8\u001b[0m line \u001b[0;36m1\n\u001b[1;32m      <a href='vscode-notebook-cell:/home/j/Documents/Projects/Iron-Bridge/lotsawa/notebooks/bing-process.ipynb#X12sZmlsZQ%3D%3D?line=6'>7</a>\u001b[0m tib \u001b[39m=\u001b[39m []\n\u001b[1;32m      <a href='vscode-notebook-cell:/home/j/Documents/Projects/Iron-Bridge/lotsawa/notebooks/bing-process.ipynb#X12sZmlsZQ%3D%3D?line=8'>9</a>\u001b[0m \u001b[39mfor\u001b[39;00m entry \u001b[39min\u001b[39;00m d:\n\u001b[0;32m---> <a href='vscode-notebook-cell:/home/j/Documents/Projects/Iron-Bridge/lotsawa/notebooks/bing-process.ipynb#X12sZmlsZQ%3D%3D?line=9'>10</a>\u001b[0m     tib\u001b[39m.\u001b[39mappend(converter\u001b[39m.\u001b[39mtoWylie(entry[\u001b[39m'\u001b[39;49m\u001b[39mtranslations\u001b[39;49m\u001b[39m'\u001b[39;49m][\u001b[39m0\u001b[39m][\u001b[39m'\u001b[39m\u001b[39mtext\u001b[39m\u001b[39m'\u001b[39m]))\n\u001b[1;32m     <a href='vscode-notebook-cell:/home/j/Documents/Projects/Iron-Bridge/lotsawa/notebooks/bing-process.ipynb#X12sZmlsZQ%3D%3D?line=11'>12</a>\u001b[0m eng \u001b[39m=\u001b[39m []\n\u001b[1;32m     <a href='vscode-notebook-cell:/home/j/Documents/Projects/Iron-Bridge/lotsawa/notebooks/bing-process.ipynb#X12sZmlsZQ%3D%3D?line=13'>14</a>\u001b[0m \u001b[39mwith\u001b[39;00m \u001b[39mopen\u001b[39m(\u001b[39m'\u001b[39m\u001b[39m/home/j/Documents/Projects/Iron-Bridge/lotsawa/data/ankhi/bing-batches/batch\u001b[39m\u001b[39m'\u001b[39m\u001b[39m+\u001b[39m\u001b[39mstr\u001b[39m(batch_num)\u001b[39m+\u001b[39m\u001b[39m'\u001b[39m\u001b[39m.txt\u001b[39m\u001b[39m'\u001b[39m, \u001b[39m'\u001b[39m\u001b[39mr\u001b[39m\u001b[39m'\u001b[39m) \u001b[39mas\u001b[39;00m f:\n",
      "\u001b[0;31mTypeError\u001b[0m: string indices must be integers"
     ]
    }
   ],
   "source": [
    "for i in range(45,120):\n",
    "    batch_num = i\n",
    "    translate(key, batch_num)\n",
    "    transliterate(batch_num)"
   ]
  },
  {
   "cell_type": "markdown",
   "metadata": {},
   "source": [
    "## Concatenate Pairs"
   ]
  },
  {
   "cell_type": "code",
   "execution_count": 44,
   "metadata": {},
   "outputs": [
    {
     "ename": "IsADirectoryError",
     "evalue": "[Errno 21] Is a directory: '/home/j/Documents/Projects/Iron-Bridge/lotsawa/data/ankhi/pairs/minibatch-pairs'",
     "output_type": "error",
     "traceback": [
      "\u001b[0;31m---------------------------------------------------------------------------\u001b[0m",
      "\u001b[0;31mIsADirectoryError\u001b[0m                         Traceback (most recent call last)",
      "\u001b[1;32m/home/j/Documents/Projects/Iron-Bridge/lotsawa/notebooks/bing-process.ipynb Cell 9\u001b[0m line \u001b[0;36m5\n\u001b[1;32m      <a href='vscode-notebook-cell:/home/j/Documents/Projects/Iron-Bridge/lotsawa/notebooks/bing-process.ipynb#X11sZmlsZQ%3D%3D?line=2'>3</a>\u001b[0m \u001b[39mfor\u001b[39;00m file \u001b[39min\u001b[39;00m os\u001b[39m.\u001b[39mlistdir(\u001b[39m'\u001b[39m\u001b[39m/home/j/Documents/Projects/Iron-Bridge/lotsawa/data/ankhi/pairs/\u001b[39m\u001b[39m'\u001b[39m):\n\u001b[1;32m      <a href='vscode-notebook-cell:/home/j/Documents/Projects/Iron-Bridge/lotsawa/notebooks/bing-process.ipynb#X11sZmlsZQ%3D%3D?line=3'>4</a>\u001b[0m     path \u001b[39m=\u001b[39m \u001b[39m'\u001b[39m\u001b[39m/home/j/Documents/Projects/Iron-Bridge/lotsawa/data/ankhi/pairs/\u001b[39m\u001b[39m'\u001b[39m \u001b[39m+\u001b[39m file\n\u001b[0;32m----> <a href='vscode-notebook-cell:/home/j/Documents/Projects/Iron-Bridge/lotsawa/notebooks/bing-process.ipynb#X11sZmlsZQ%3D%3D?line=4'>5</a>\u001b[0m     \u001b[39mwith\u001b[39;00m \u001b[39mopen\u001b[39;49m(path, \u001b[39m'\u001b[39;49m\u001b[39mr\u001b[39;49m\u001b[39m'\u001b[39;49m) \u001b[39mas\u001b[39;00m f:\n\u001b[1;32m      <a href='vscode-notebook-cell:/home/j/Documents/Projects/Iron-Bridge/lotsawa/notebooks/bing-process.ipynb#X11sZmlsZQ%3D%3D?line=5'>6</a>\u001b[0m         text \u001b[39m=\u001b[39m f\u001b[39m.\u001b[39mreadlines()\n\u001b[1;32m      <a href='vscode-notebook-cell:/home/j/Documents/Projects/Iron-Bridge/lotsawa/notebooks/bing-process.ipynb#X11sZmlsZQ%3D%3D?line=6'>7</a>\u001b[0m         \u001b[39mwith\u001b[39;00m \u001b[39mopen\u001b[39m(\u001b[39m'\u001b[39m\u001b[39m/home/j/Documents/Projects/Iron-Bridge/lotsawa/data/ankhi/pairs/batch0-pairs.txt\u001b[39m\u001b[39m'\u001b[39m, \u001b[39m'\u001b[39m\u001b[39ma\u001b[39m\u001b[39m'\u001b[39m) \u001b[39mas\u001b[39;00m g:\n",
      "File \u001b[0;32m~/.local/lib/python3.10/site-packages/IPython/core/interactiveshell.py:286\u001b[0m, in \u001b[0;36m_modified_open\u001b[0;34m(file, *args, **kwargs)\u001b[0m\n\u001b[1;32m    279\u001b[0m \u001b[39mif\u001b[39;00m file \u001b[39min\u001b[39;00m {\u001b[39m0\u001b[39m, \u001b[39m1\u001b[39m, \u001b[39m2\u001b[39m}:\n\u001b[1;32m    280\u001b[0m     \u001b[39mraise\u001b[39;00m \u001b[39mValueError\u001b[39;00m(\n\u001b[1;32m    281\u001b[0m         \u001b[39mf\u001b[39m\u001b[39m\"\u001b[39m\u001b[39mIPython won\u001b[39m\u001b[39m'\u001b[39m\u001b[39mt let you open fd=\u001b[39m\u001b[39m{\u001b[39;00mfile\u001b[39m}\u001b[39;00m\u001b[39m by default \u001b[39m\u001b[39m\"\u001b[39m\n\u001b[1;32m    282\u001b[0m         \u001b[39m\"\u001b[39m\u001b[39mas it is likely to crash IPython. If you know what you are doing, \u001b[39m\u001b[39m\"\u001b[39m\n\u001b[1;32m    283\u001b[0m         \u001b[39m\"\u001b[39m\u001b[39myou can use builtins\u001b[39m\u001b[39m'\u001b[39m\u001b[39m open.\u001b[39m\u001b[39m\"\u001b[39m\n\u001b[1;32m    284\u001b[0m     )\n\u001b[0;32m--> 286\u001b[0m \u001b[39mreturn\u001b[39;00m io_open(file, \u001b[39m*\u001b[39;49margs, \u001b[39m*\u001b[39;49m\u001b[39m*\u001b[39;49mkwargs)\n",
      "\u001b[0;31mIsADirectoryError\u001b[0m: [Errno 21] Is a directory: '/home/j/Documents/Projects/Iron-Bridge/lotsawa/data/ankhi/pairs/minibatch-pairs'"
     ]
    }
   ],
   "source": [
    "\"\"\" import os\n",
    "\n",
    "for file in os.listdir('/home/j/Documents/Projects/Iron-Bridge/lotsawa/data/ankhi/pairs/'):\n",
    "    path = '/home/j/Documents/Projects/Iron-Bridge/lotsawa/data/ankhi/pairs/' + file\n",
    "    with open(path, 'r') as f:\n",
    "        text = f.readlines()\n",
    "        with open('/home/j/Documents/Projects/Iron-Bridge/lotsawa/data/ankhi/pairs/batch0-pairs.txt', 'a') as g:\n",
    "            g.write('\\n')\n",
    "            g.writelines(text) \"\"\""
   ]
  }
 ],
 "metadata": {
  "kernelspec": {
   "display_name": "Python 3",
   "language": "python",
   "name": "python3"
  },
  "language_info": {
   "codemirror_mode": {
    "name": "ipython",
    "version": 3
   },
   "file_extension": ".py",
   "mimetype": "text/x-python",
   "name": "python",
   "nbconvert_exporter": "python",
   "pygments_lexer": "ipython3",
   "version": "3.10.12"
  }
 },
 "nbformat": 4,
 "nbformat_minor": 2
}
