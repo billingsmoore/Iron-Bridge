{
 "cells": [
  {
   "cell_type": "markdown",
   "metadata": {},
   "source": [
    "# Tibetan to English Translation\n",
    "## Setup\n",
    "\n",
    "In this notebook, I will create a model to translate Tibetan sentences into English sentences. To create this model, I drew on the Keras tutorial provided here:\n",
    "\n",
    "https://keras.io/examples/nlp/neural_machine_translation_with_keras_nlp/\n",
    "\n",
    "I've adapted the model from the tutorial to translate Tibetan into English, rather than English to Spanish, and streamlined the code for simplicity and to meet my need for computational efficiency. Additionally, I've substantially altered the model in order to more fully optimize for the much, much smaller dataset available for the Tibetan language.\n",
    "\n",
    "The first step of this process is to import the necessary libraries."
   ]
  },
  {
   "cell_type": "code",
   "execution_count": 1,
   "metadata": {},
   "outputs": [
    {
     "name": "stderr",
     "output_type": "stream",
     "text": [
      "2023-10-21 11:51:30.609515: E tensorflow/compiler/xla/stream_executor/cuda/cuda_dnn.cc:9342] Unable to register cuDNN factory: Attempting to register factory for plugin cuDNN when one has already been registered\n",
      "2023-10-21 11:51:30.609564: E tensorflow/compiler/xla/stream_executor/cuda/cuda_fft.cc:609] Unable to register cuFFT factory: Attempting to register factory for plugin cuFFT when one has already been registered\n",
      "2023-10-21 11:51:30.609616: E tensorflow/compiler/xla/stream_executor/cuda/cuda_blas.cc:1518] Unable to register cuBLAS factory: Attempting to register factory for plugin cuBLAS when one has already been registered\n",
      "2023-10-21 11:51:30.620446: I tensorflow/core/platform/cpu_feature_guard.cc:182] This TensorFlow binary is optimized to use available CPU instructions in performance-critical operations.\n",
      "To enable the following instructions: AVX2 FMA, in other operations, rebuild TensorFlow with the appropriate compiler flags.\n"
     ]
    },
    {
     "name": "stdout",
     "output_type": "stream",
     "text": [
      "Using TensorFlow backend\n"
     ]
    }
   ],
   "source": [
    "import pathlib\n",
    "import random\n",
    "import tensorflow as tf\n",
    "from tensorflow import keras\n",
    "import keras_nlp\n",
    "import matplotlib.pyplot as plt\n",
    "import pickle"
   ]
  },
  {
   "cell_type": "markdown",
   "metadata": {},
   "source": [
    "Next, I will establish the necessary constants for the model. \n",
    "\n",
    "I will use a batch size of 32 for my data.\n",
    "\n",
    "I will train the model for 100 epochs.\n",
    "\n",
    "I also establish a size for the vocabulary that the model will use and the dimensions for the model to expect from the data. \n",
    "\n",
    "An interesting addition here is AUTOTUNE. tf.data.AUTOTUNE will automate optimization for training the model. This is extremely useful both for effectively utilizing computing resources, and for avoiding too much time lost to optimization tinkering."
   ]
  },
  {
   "cell_type": "code",
   "execution_count": 61,
   "metadata": {},
   "outputs": [],
   "source": [
    "BATCH_SIZE = 64\n",
    "EPOCHS = 500\n",
    "MAX_SEQUENCE_LENGTH = 20\n",
    "VOCAB_SIZE = 15000\n",
    "\n",
    "EMBED_DIM = 256\n",
    "INTERMEDIATE_DIM = 2048\n",
    "NUM_HEADS = 8\n",
    "\n",
    "AUTOTUNE = tf.data.AUTOTUNE"
   ]
  },
  {
   "cell_type": "markdown",
   "metadata": {},
   "source": [
    "### Working With Sentence Pairs\n",
    "\n",
    "I've split the sentence pairs into two sets and set every English letter to be lowercase to avoid any confusion in the model. This is not necessary for Tibetan because the script does not use upper and lower cases."
   ]
  },
  {
   "cell_type": "code",
   "execution_count": 11,
   "metadata": {},
   "outputs": [],
   "source": [
    "text_file = pathlib.Path('/home/j/Documents/Projects/Iron-Bridge/lotsawa/data/all-pairs.txt')\n",
    "\n",
    "with open(text_file) as f:\n",
    "    lines = f.read().split(\"\\n\")[:-1]\n",
    "text_pairs = []\n",
    "for line in lines:\n",
    "    try:\n",
    "        tib, eng = line.split(\",\")[:2]\n",
    "        eng = eng.lower()\n",
    "        text_pairs.append((tib, eng))\n",
    "    except:\n",
    "        pass"
   ]
  },
  {
   "cell_type": "markdown",
   "metadata": {},
   "source": [
    "The data comes in the form of numerous sentence pairs. First the sentence is given in English, then in Tibetan. Each pair also has a source attribution, but that won't be necessary for the model. Below, I've printed some representative sentence pairs."
   ]
  },
  {
   "cell_type": "code",
   "execution_count": 12,
   "metadata": {},
   "outputs": [
    {
     "name": "stdout",
     "output_type": "stream",
     "text": [
      "('kho mos bshad par gnas lugs yod', ' shes got a point.')\n",
      "('khyod ma gtogs ngas mi su yang mthong ma myong', ' ive seen nobody except you.')\n",
      "('khos sgeu khung phyes pa red', ' he left the window open.')\n",
      "('khakhyab gyalwa gongp gypa la', 'to the conquerors who possess the minddirect transmission that pervades space')\n",
      "('khyod ni khrims rtsod pa ji dra zhig red', ' what kind of lawyer are you?')\n"
     ]
    }
   ],
   "source": [
    "for _ in range(5):\n",
    "    print(random.choice(text_pairs))"
   ]
  },
  {
   "cell_type": "markdown",
   "metadata": {},
   "source": [
    "Now, we can split the sentence pairs into training, validation, and test sets. Notice that this dataset is quite small. This is one of the challenges of creating models for global minority languages. There is substantially less data to work with than if we were working with, for example, Spanish or French. As a result, I've allocated just 5% of the pairs to validation and testing respectively."
   ]
  },
  {
   "cell_type": "code",
   "execution_count": 13,
   "metadata": {},
   "outputs": [
    {
     "name": "stdout",
     "output_type": "stream",
     "text": [
      "158148 total pairs\n",
      "142334 training pairs\n",
      "7907 validation pairs\n",
      "7907 test pairs\n"
     ]
    }
   ],
   "source": [
    "random.shuffle(text_pairs)\n",
    "num_val_samples = int(0.05 * len(text_pairs))\n",
    "num_train_samples = len(text_pairs) - 2 * num_val_samples\n",
    "train_pairs = text_pairs[:num_train_samples]\n",
    "val_pairs = text_pairs[num_train_samples : num_train_samples + num_val_samples]\n",
    "test_pairs = text_pairs[num_train_samples + num_val_samples:]\n",
    "\n",
    "print(f\"{len(text_pairs)} total pairs\")\n",
    "print(f\"{len(train_pairs)} training pairs\")\n",
    "print(f\"{len(val_pairs)} validation pairs\")\n",
    "print(f\"{len(test_pairs)} test pairs\")"
   ]
  },
  {
   "cell_type": "markdown",
   "metadata": {},
   "source": [
    "## Creating the Tokenizer\n",
    "\n",
    "The tokenizer will assign each unique word in the dataset a 'token' a unique number that allows the data to be treated numerically during model training. In order to do this, a \"vocabulary\" must first be created. This is a complete list of the unique English and Tibetan words in the dataset.\n",
    "\n",
    "### Vocabulary"
   ]
  },
  {
   "cell_type": "code",
   "execution_count": 14,
   "metadata": {},
   "outputs": [],
   "source": [
    "def train_word_piece(text_samples, vocab_size, reserved_tokens):\n",
    "    word_piece_ds = tf.data.Dataset.from_tensor_slices(text_samples)\n",
    "    vocab = keras_nlp.tokenizers.compute_word_piece_vocabulary(\n",
    "        word_piece_ds.batch(1000).prefetch(2),\n",
    "        vocabulary_size=vocab_size,\n",
    "        reserved_tokens=reserved_tokens,\n",
    "    )\n",
    "\n",
    "    return vocab"
   ]
  },
  {
   "cell_type": "markdown",
   "metadata": {},
   "source": [
    "### Tokenizing\n",
    "\n",
    "Note that I've set aside some peculiar tokens. These correspond to whitespace,unknown characters, the beginnings and endings of sentences. I don't want the tokenizer to treat these things as words that need to be tokenized."
   ]
  },
  {
   "cell_type": "code",
   "execution_count": 15,
   "metadata": {},
   "outputs": [],
   "source": [
    "reserved_tokens = [\"[PAD]\", \"[UNK]\", \"[START]\", \"[END]\"]\n",
    "\n",
    "tib_samples = [text_pair[0] for text_pair in train_pairs]\n",
    "tib_vocab = train_word_piece(tib_samples, VOCAB_SIZE, reserved_tokens)\n",
    "\n",
    "eng_samples = [text_pair[1] for text_pair in train_pairs]\n",
    "eng_vocab = train_word_piece(eng_samples, VOCAB_SIZE, reserved_tokens)"
   ]
  },
  {
   "cell_type": "markdown",
   "metadata": {},
   "source": [
    "Below we can see some example words from the dataset. Note that Tibetan uses a distinct writing system that may not render correctly."
   ]
  },
  {
   "cell_type": "code",
   "execution_count": 23,
   "metadata": {},
   "outputs": [
    {
     "name": "stdout",
     "output_type": "stream",
     "text": [
      "English Tokens:  ['may', 'know', 'by', 'has', 'who', 'its', 'can', 'they', 'him', 'will', 'time', 'one', 'there', 'go', 'were']\n",
      "Tibetan Tokens:  ['tshang', 'gnas', 'gnyis', 'min', 'chog', 'rlangs', 'bsam', 'lam', 'bzang', 'ches', 'steng', 'skyes', 'myong', 'mthong', 'tsam']\n"
     ]
    }
   ],
   "source": [
    "print(\"English Tokens: \", eng_vocab[100:115])\n",
    "print(\"Tibetan Tokens: \", tib_vocab[700:715])"
   ]
  },
  {
   "cell_type": "markdown",
   "metadata": {},
   "source": [
    "Finally, we can tokenize the vocabularies."
   ]
  },
  {
   "cell_type": "code",
   "execution_count": 24,
   "metadata": {},
   "outputs": [],
   "source": [
    "eng_tokenizer = keras_nlp.tokenizers.WordPieceTokenizer(\n",
    "    vocabulary=eng_vocab, lowercase=False\n",
    ")\n",
    "\n",
    "tib_tokenizer = keras_nlp.tokenizers.WordPieceTokenizer(\n",
    "    vocabulary=tib_vocab, lowercase=False\n",
    ")"
   ]
  },
  {
   "cell_type": "markdown",
   "metadata": {},
   "source": [
    "Below, I'll save the tokenizers."
   ]
  },
  {
   "cell_type": "code",
   "execution_count": 25,
   "metadata": {},
   "outputs": [],
   "source": [
    "with open('/home/j/Documents/Projects/Iron-Bridge/lotsawa/tokenizers/eng-tokenizer.pickle', 'wb') as handle:\n",
    "    pickle.dump(eng_tokenizer, handle, protocol=pickle.HIGHEST_PROTOCOL)\n",
    "\n",
    "with open('/home/j/Documents/Projects/Iron-Bridge/lotsawa/tokenizers/tib-tokenizer.pickle', 'wb') as handle:\n",
    "    pickle.dump(tib_tokenizer, handle, protocol=pickle.HIGHEST_PROTOCOL)"
   ]
  },
  {
   "cell_type": "markdown",
   "metadata": {},
   "source": [
    "### Data Preprocessing\n",
    "\n",
    "Next, I will preprocess each batch of data. This consists of re-assembling the English-Tibetan sentence pairs. Each sentence must be padded with the \"[PAD]\" whitespace token in order to make each sequence of tokens the same length. This is because the model expects inputs of a particular shape. Once the sentence has been padded to the appropriate length, a [START] token can be appended to the beginning and an [END] token appended to the end.\n",
    "\n",
    "Finally, this assembled dataset can be split into training and validation sets."
   ]
  },
  {
   "cell_type": "code",
   "execution_count": 62,
   "metadata": {},
   "outputs": [],
   "source": [
    "def tib_eng_preprocess_batch(tib, eng):\n",
    "\n",
    "    tib = tib_tokenizer(tib)\n",
    "    eng = eng_tokenizer(eng)\n",
    "    \n",
    "\n",
    "    # add special tokens [start] and [end] and pad tib\n",
    "    tib_start_end_packer = keras_nlp.layers.StartEndPacker(\n",
    "        sequence_length = MAX_SEQUENCE_LENGTH,\n",
    "        start_value = tib_tokenizer.token_to_id(\"[START]\"),\n",
    "        end_value = tib_tokenizer.token_to_id(\"[END]\"),\n",
    "        pad_value = tib_tokenizer.token_to_id(\"[PAD]\")\n",
    "    )\n",
    "\n",
    "    tib = tib_start_end_packer(tib)\n",
    "\n",
    "    # pad eng to max_sequence_length\n",
    "    eng_start_end_packer = keras_nlp.layers.StartEndPacker(\n",
    "        sequence_length=MAX_SEQUENCE_LENGTH+1,\n",
    "        pad_value = eng_tokenizer.token_to_id(\"[PAD]\"),\n",
    "    )\n",
    "\n",
    "    eng = eng_start_end_packer(eng)\n",
    "\n",
    "\n",
    "\n",
    "    return (\n",
    "        {\n",
    "        \"encoder_inputs\": tib,\n",
    "        \"decoder_inputs\": eng[:, :-1]\n",
    "        },\n",
    "        eng[:, 1:],\n",
    "    )\n",
    "\n",
    "def make_dataset(pairs):\n",
    "    tib_texts, eng_texts = zip(*pairs)\n",
    "    tib_texts = list(tib_texts)\n",
    "    eng_texts = list(eng_texts)\n",
    "    dataset = tf.data.Dataset.from_tensor_slices((tib_texts, eng_texts))\n",
    "    dataset=dataset.batch(BATCH_SIZE)\n",
    "    dataset = dataset.map(tib_eng_preprocess_batch, num_parallel_calls=AUTOTUNE)\n",
    "    return dataset.shuffle(2048).prefetch(16).cache()\n",
    "\n",
    "tib_eng_train_ds = make_dataset(train_pairs)\n",
    "tib_eng_val_ds = make_dataset(val_pairs)"
   ]
  },
  {
   "cell_type": "markdown",
   "metadata": {},
   "source": [
    "### Creating the Model\n",
    "\n",
    "Now it's time to build the model itself. This model is an Autoencoder, which consists of an encoder and a decoder. \n",
    "\n",
    "The encoder input layer takes in a set of tokenized inputs. These inputs are then passed to a layer that accounts for the number assigned to the token as well as the position of that token in the sentence. The next layer is a typical dense Encoder layer.\n",
    "\n",
    "The decoder takes in a set of tokenized inputs from the Tibetan dataset and passes them to a layer that will account for the token number and position of the token in those sentences. This is then passed to a typical dense Decoder layer.\n",
    "\n",
    "Both the Encoder and Decoder layers are helpfully provided out-of-the-box by Keras."
   ]
  },
  {
   "cell_type": "code",
   "execution_count": 27,
   "metadata": {},
   "outputs": [],
   "source": [
    "encoder_inputs = keras.Input(shape=(None,), dtype=\"int64\", name=\"encoder_inputs\")\n",
    "\n",
    "x = keras_nlp.layers.TokenAndPositionEmbedding(\n",
    "    vocabulary_size=VOCAB_SIZE,\n",
    "    sequence_length = MAX_SEQUENCE_LENGTH,\n",
    "    embedding_dim=EMBED_DIM,\n",
    "    mask_zero=True,\n",
    ")(encoder_inputs)\n",
    "\n",
    "encoder_outputs = keras_nlp.layers.TransformerEncoder(\n",
    "    intermediate_dim = INTERMEDIATE_DIM, num_heads=NUM_HEADS\n",
    ")(inputs=x)\n",
    "encoder = keras.Model(encoder_inputs, encoder_outputs)\n",
    "\n",
    "decoder_inputs = keras.Input(shape=(None,), dtype=\"int64\", name=\"decoder_inputs\")\n",
    "encoded_seq_inputs = keras.Input(shape=(None, EMBED_DIM), name=\"decoder_state_inputs\")\n",
    "\n",
    "x = keras_nlp.layers.TokenAndPositionEmbedding(\n",
    "    vocabulary_size=VOCAB_SIZE,\n",
    "    sequence_length=MAX_SEQUENCE_LENGTH,\n",
    "    embedding_dim=EMBED_DIM,\n",
    "    mask_zero=True,\n",
    ")(decoder_inputs)\n",
    "\n",
    "x = keras_nlp.layers.TransformerDecoder(\n",
    "    intermediate_dim=INTERMEDIATE_DIM, num_heads=NUM_HEADS\n",
    ")(decoder_sequence=x, encoder_sequence=encoded_seq_inputs)\n",
    "x = keras.layers.Dropout(0.5)(x)\n",
    "decoder_outputs = keras.layers.Dense(VOCAB_SIZE, activation=\"softmax\")(x)\n",
    "decoder = keras.Model(\n",
    "    [\n",
    "        decoder_inputs,\n",
    "        encoded_seq_inputs\n",
    "    ],\n",
    "    decoder_outputs,\n",
    ")\n",
    "decoder_outputs = decoder([decoder_inputs, encoder_outputs])\n",
    "\n",
    "tib_eng_translator = keras.Model(\n",
    "    [encoder_inputs, decoder_inputs],\n",
    "    decoder_outputs,\n",
    "    name=\"tib_eng_translator\",\n",
    ")"
   ]
  },
  {
   "cell_type": "markdown",
   "metadata": {},
   "source": [
    "### Model Summary"
   ]
  },
  {
   "cell_type": "code",
   "execution_count": 28,
   "metadata": {},
   "outputs": [
    {
     "name": "stdout",
     "output_type": "stream",
     "text": [
      "Model: \"tib_eng_translator\"\n",
      "__________________________________________________________________________________________________\n",
      " Layer (type)                Output Shape                 Param #   Connected to                  \n",
      "==================================================================================================\n",
      " encoder_inputs (InputLayer  [(None, None)]               0         []                            \n",
      " )                                                                                                \n",
      "                                                                                                  \n",
      " token_and_position_embeddi  (None, None, 256)            3845120   ['encoder_inputs[0][0]']      \n",
      " ng (TokenAndPositionEmbedd                                                                       \n",
      " ing)                                                                                             \n",
      "                                                                                                  \n",
      " decoder_inputs (InputLayer  [(None, None)]               0         []                            \n",
      " )                                                                                                \n",
      "                                                                                                  \n",
      " transformer_encoder (Trans  (None, None, 256)            1315072   ['token_and_position_embedding\n",
      " formerEncoder)                                                     [0][0]']                      \n",
      "                                                                                                  \n",
      " model_1 (Functional)        (None, None, 15000)          9278872   ['decoder_inputs[0][0]',      \n",
      "                                                                     'transformer_encoder[0][0]'] \n",
      "                                                                                                  \n",
      "==================================================================================================\n",
      "Total params: 14439064 (55.08 MB)\n",
      "Trainable params: 14439064 (55.08 MB)\n",
      "Non-trainable params: 0 (0.00 Byte)\n",
      "__________________________________________________________________________________________________\n"
     ]
    }
   ],
   "source": [
    "tib_eng_translator.summary()"
   ]
  },
  {
   "cell_type": "markdown",
   "metadata": {},
   "source": [
    "## Compilation\n",
    "\n",
    "Now, I've compiled the model.\n",
    "\n",
    "Of note here is the choice of optimization algorith. I have used RMSProp. RMSProp is similar to Adagrad, which we studied in class, and as a result it converges much more quickly than, say, SGD. However, it is less susceptible to vanishing gradients. This is perfect for our small dataset with small batch sizes.\n",
    "\n",
    "The loss function is Sparse Categorical Crossentropy. Not every word appears in every sentence so the data for most natural language related tasks is necessarily sparse."
   ]
  },
  {
   "cell_type": "code",
   "execution_count": 29,
   "metadata": {},
   "outputs": [],
   "source": [
    "tib_eng_translator.compile(\n",
    "    \"rmsprop\", \n",
    "    loss=\"sparse_categorical_crossentropy\", \n",
    "    metrics=[\"accuracy\"]\n",
    ")"
   ]
  },
  {
   "cell_type": "markdown",
   "metadata": {},
   "source": [
    "## Fitting the Model"
   ]
  },
  {
   "cell_type": "code",
   "execution_count": 30,
   "metadata": {},
   "outputs": [],
   "source": [
    "acc_callback = tf.keras.callbacks.EarlyStopping(monitor='val_accuracy', patience=5, restore_best_weights=True)"
   ]
  },
  {
   "cell_type": "code",
   "execution_count": 63,
   "metadata": {},
   "outputs": [
    {
     "name": "stdout",
     "output_type": "stream",
     "text": [
      "Epoch 1/500\n"
     ]
    },
    {
     "name": "stderr",
     "output_type": "stream",
     "text": [
      "2023-10-21 16:46:39.076926: W tensorflow/tsl/framework/bfc_allocator.cc:485] Allocator (GPU_0_bfc) ran out of memory trying to allocate 2.29GiB (rounded to 2457600000)requested by op tib_eng_translator/model_1/dense/Softmax\n",
      "If the cause is memory fragmentation maybe the environment variable 'TF_GPU_ALLOCATOR=cuda_malloc_async' will improve the situation. \n",
      "Current allocation summary follows.\n",
      "Current allocation summary follows.\n",
      "2023-10-21 16:46:39.076994: I tensorflow/tsl/framework/bfc_allocator.cc:1039] BFCAllocator dump for GPU_0_bfc\n",
      "2023-10-21 16:46:39.077029: I tensorflow/tsl/framework/bfc_allocator.cc:1046] Bin (256): \tTotal Chunks: 83, Chunks in use: 81. 20.8KiB allocated for chunks. 20.2KiB in use in bin. 369B client-requested in use in bin.\n",
      "2023-10-21 16:46:39.077055: I tensorflow/tsl/framework/bfc_allocator.cc:1046] Bin (512): \tTotal Chunks: 0, Chunks in use: 0. 0B allocated for chunks. 0B in use in bin. 0B client-requested in use in bin.\n",
      "2023-10-21 16:46:39.077084: I tensorflow/tsl/framework/bfc_allocator.cc:1046] Bin (1024): \tTotal Chunks: 49, Chunks in use: 49. 52.0KiB allocated for chunks. 52.0KiB in use in bin. 49.0KiB client-requested in use in bin.\n",
      "2023-10-21 16:46:39.077105: I tensorflow/tsl/framework/bfc_allocator.cc:1046] Bin (2048): \tTotal Chunks: 0, Chunks in use: 0. 0B allocated for chunks. 0B in use in bin. 0B client-requested in use in bin.\n",
      "2023-10-21 16:46:39.077128: I tensorflow/tsl/framework/bfc_allocator.cc:1046] Bin (4096): \tTotal Chunks: 1, Chunks in use: 0. 6.2KiB allocated for chunks. 0B in use in bin. 0B client-requested in use in bin.\n",
      "2023-10-21 16:46:39.077170: I tensorflow/tsl/framework/bfc_allocator.cc:1046] Bin (8192): \tTotal Chunks: 4, Chunks in use: 4. 34.5KiB allocated for chunks. 34.5KiB in use in bin. 32.0KiB client-requested in use in bin.\n",
      "2023-10-21 16:46:39.077198: I tensorflow/tsl/framework/bfc_allocator.cc:1046] Bin (16384): \tTotal Chunks: 6, Chunks in use: 6. 120.5KiB allocated for chunks. 120.5KiB in use in bin. 120.2KiB client-requested in use in bin.\n",
      "2023-10-21 16:46:39.077222: I tensorflow/tsl/framework/bfc_allocator.cc:1046] Bin (32768): \tTotal Chunks: 4, Chunks in use: 2. 206.0KiB allocated for chunks. 117.5KiB in use in bin. 117.2KiB client-requested in use in bin.\n",
      "2023-10-21 16:46:39.077247: I tensorflow/tsl/framework/bfc_allocator.cc:1046] Bin (65536): \tTotal Chunks: 0, Chunks in use: 0. 0B allocated for chunks. 0B in use in bin. 0B client-requested in use in bin.\n",
      "2023-10-21 16:46:39.077272: I tensorflow/tsl/framework/bfc_allocator.cc:1046] Bin (131072): \tTotal Chunks: 15, Chunks in use: 14. 2.41MiB allocated for chunks. 2.22MiB in use in bin. 2.19MiB client-requested in use in bin.\n",
      "2023-10-21 16:46:39.077297: I tensorflow/tsl/framework/bfc_allocator.cc:1046] Bin (262144): \tTotal Chunks: 27, Chunks in use: 27. 7.35MiB allocated for chunks. 7.35MiB in use in bin. 6.84MiB client-requested in use in bin.\n",
      "2023-10-21 16:46:39.077320: I tensorflow/tsl/framework/bfc_allocator.cc:1046] Bin (524288): \tTotal Chunks: 0, Chunks in use: 0. 0B allocated for chunks. 0B in use in bin. 0B client-requested in use in bin.\n",
      "2023-10-21 16:46:39.077343: I tensorflow/tsl/framework/bfc_allocator.cc:1046] Bin (1048576): \tTotal Chunks: 1, Chunks in use: 0. 1.27MiB allocated for chunks. 0B in use in bin. 0B client-requested in use in bin.\n",
      "2023-10-21 16:46:39.077370: I tensorflow/tsl/framework/bfc_allocator.cc:1046] Bin (2097152): \tTotal Chunks: 8, Chunks in use: 8. 18.13MiB allocated for chunks. 18.13MiB in use in bin. 16.00MiB client-requested in use in bin.\n",
      "2023-10-21 16:46:39.077393: I tensorflow/tsl/framework/bfc_allocator.cc:1046] Bin (4194304): \tTotal Chunks: 0, Chunks in use: 0. 0B allocated for chunks. 0B in use in bin. 0B client-requested in use in bin.\n",
      "2023-10-21 16:46:39.077421: I tensorflow/tsl/framework/bfc_allocator.cc:1046] Bin (8388608): \tTotal Chunks: 8, Chunks in use: 6. 110.99MiB allocated for chunks. 87.89MiB in use in bin. 83.24MiB client-requested in use in bin.\n",
      "2023-10-21 16:46:39.077448: I tensorflow/tsl/framework/bfc_allocator.cc:1046] Bin (16777216): \tTotal Chunks: 4, Chunks in use: 4. 96.24MiB allocated for chunks. 96.24MiB in use in bin. 89.65MiB client-requested in use in bin.\n",
      "2023-10-21 16:46:39.077474: I tensorflow/tsl/framework/bfc_allocator.cc:1046] Bin (33554432): \tTotal Chunks: 27, Chunks in use: 26. 1.05GiB allocated for chunks. 1.02GiB in use in bin. 1.02GiB client-requested in use in bin.\n",
      "2023-10-21 16:46:39.077505: I tensorflow/tsl/framework/bfc_allocator.cc:1046] Bin (67108864): \tTotal Chunks: 3, Chunks in use: 3. 195.00MiB allocated for chunks. 195.00MiB in use in bin. 120.00MiB client-requested in use in bin.\n",
      "2023-10-21 16:46:39.077531: I tensorflow/tsl/framework/bfc_allocator.cc:1046] Bin (134217728): \tTotal Chunks: 0, Chunks in use: 0. 0B allocated for chunks. 0B in use in bin. 0B client-requested in use in bin.\n",
      "2023-10-21 16:46:39.077559: I tensorflow/tsl/framework/bfc_allocator.cc:1046] Bin (268435456): \tTotal Chunks: 6, Chunks in use: 5. 8.33GiB allocated for chunks. 7.49GiB in use in bin. 7.49GiB client-requested in use in bin.\n",
      "2023-10-21 16:46:39.077586: I tensorflow/tsl/framework/bfc_allocator.cc:1062] Bin for 2.29GiB was 256.00MiB, Chunk State: \n",
      "2023-10-21 16:46:39.077619: I tensorflow/tsl/framework/bfc_allocator.cc:1068]   Size: 860.62MiB | Requested Size: 4B | in_use: 0 | bin_num: 20, prev:   Size: 2.29GiB | Requested Size: 2.29GiB | in_use: 1 | bin_num: -1\n",
      "2023-10-21 16:46:39.077643: I tensorflow/tsl/framework/bfc_allocator.cc:1075] Next region of size 10531569664\n",
      "2023-10-21 16:46:39.077666: I tensorflow/tsl/framework/bfc_allocator.cc:1095] InUse at 7f8aa0000000 of size 1280 next 1\n",
      "2023-10-21 16:46:39.077693: I tensorflow/tsl/framework/bfc_allocator.cc:1095] InUse at 7f8aa0000500 of size 256 next 2\n",
      "2023-10-21 16:46:39.077717: I tensorflow/tsl/framework/bfc_allocator.cc:1095] InUse at 7f8aa0000600 of size 256 next 3\n",
      "2023-10-21 16:46:39.077739: I tensorflow/tsl/framework/bfc_allocator.cc:1095] InUse at 7f8aa0000700 of size 256 next 4\n",
      "2023-10-21 16:46:39.077762: I tensorflow/tsl/framework/bfc_allocator.cc:1095] InUse at 7f8aa0000800 of size 256 next 5\n",
      "2023-10-21 16:46:39.077784: I tensorflow/tsl/framework/bfc_allocator.cc:1095] InUse at 7f8aa0000900 of size 449792 next 6\n",
      "2023-10-21 16:46:39.077809: I tensorflow/tsl/framework/bfc_allocator.cc:1095] InUse at 7f8aa006e600 of size 265984 next 7\n",
      "2023-10-21 16:46:39.077831: I tensorflow/tsl/framework/bfc_allocator.cc:1095] InUse at 7f8aa00af500 of size 256 next 8\n",
      "2023-10-21 16:46:39.077852: I tensorflow/tsl/framework/bfc_allocator.cc:1095] InUse at 7f8aa00af600 of size 256 next 9\n",
      "2023-10-21 16:46:39.077874: I tensorflow/tsl/framework/bfc_allocator.cc:1095] InUse at 7f8aa00af700 of size 256 next 10\n",
      "2023-10-21 16:46:39.077895: I tensorflow/tsl/framework/bfc_allocator.cc:1095] InUse at 7f8aa00af800 of size 256 next 11\n",
      "2023-10-21 16:46:39.077916: I tensorflow/tsl/framework/bfc_allocator.cc:1095] InUse at 7f8aa00af900 of size 256 next 12\n",
      "2023-10-21 16:46:39.077938: I tensorflow/tsl/framework/bfc_allocator.cc:1095] InUse at 7f8aa00afa00 of size 256 next 13\n",
      "2023-10-21 16:46:39.077961: I tensorflow/tsl/framework/bfc_allocator.cc:1095] InUse at 7f8aa00afb00 of size 256 next 16\n",
      "2023-10-21 16:46:39.077982: I tensorflow/tsl/framework/bfc_allocator.cc:1095] InUse at 7f8aa00afc00 of size 1024 next 14\n",
      "2023-10-21 16:46:39.078003: I tensorflow/tsl/framework/bfc_allocator.cc:1095] InUse at 7f8aa00b0000 of size 256 next 15\n",
      "2023-10-21 16:46:39.078024: I tensorflow/tsl/framework/bfc_allocator.cc:1095] InUse at 7f8aa00b0100 of size 1024 next 17\n",
      "2023-10-21 16:46:39.078047: I tensorflow/tsl/framework/bfc_allocator.cc:1095] InUse at 7f8aa00b0500 of size 1024 next 22\n",
      "2023-10-21 16:46:39.078068: I tensorflow/tsl/framework/bfc_allocator.cc:1095] InUse at 7f8aa00b0900 of size 1024 next 23\n",
      "2023-10-21 16:46:39.078088: I tensorflow/tsl/framework/bfc_allocator.cc:1095] InUse at 7f8aa00b0d00 of size 256 next 24\n",
      "2023-10-21 16:46:39.078110: I tensorflow/tsl/framework/bfc_allocator.cc:1095] InUse at 7f8aa00b0e00 of size 256 next 25\n",
      "2023-10-21 16:46:39.078132: I tensorflow/tsl/framework/bfc_allocator.cc:1095] InUse at 7f8aa00b0f00 of size 9216 next 31\n",
      "2023-10-21 16:46:39.078154: I tensorflow/tsl/framework/bfc_allocator.cc:1095] InUse at 7f8aa00b3300 of size 256 next 26\n",
      "2023-10-21 16:46:39.078175: I tensorflow/tsl/framework/bfc_allocator.cc:1095] InUse at 7f8aa00b3400 of size 256 next 27\n",
      "2023-10-21 16:46:39.078198: I tensorflow/tsl/framework/bfc_allocator.cc:1095] InUse at 7f8aa00b3500 of size 1024 next 35\n",
      "2023-10-21 16:46:39.078217: I tensorflow/tsl/framework/bfc_allocator.cc:1095] InUse at 7f8aa00b3900 of size 1024 next 38\n",
      "2023-10-21 16:46:39.078236: I tensorflow/tsl/framework/bfc_allocator.cc:1095] InUse at 7f8aa00b3d00 of size 1024 next 40\n",
      "2023-10-21 16:46:39.078257: I tensorflow/tsl/framework/bfc_allocator.cc:1095] InUse at 7f8aa00b4100 of size 1024 next 42\n",
      "2023-10-21 16:46:39.078278: I tensorflow/tsl/framework/bfc_allocator.cc:1095] InUse at 7f8aa00b4500 of size 1024 next 65\n",
      "2023-10-21 16:46:39.078300: I tensorflow/tsl/framework/bfc_allocator.cc:1095] InUse at 7f8aa00b4900 of size 1024 next 67\n",
      "2023-10-21 16:46:39.078321: I tensorflow/tsl/framework/bfc_allocator.cc:1095] InUse at 7f8aa00b4d00 of size 256 next 194\n",
      "2023-10-21 16:46:39.078342: I tensorflow/tsl/framework/bfc_allocator.cc:1095] Free  at 7f8aa00b4e00 of size 256 next 202\n",
      "2023-10-21 16:46:39.078364: I tensorflow/tsl/framework/bfc_allocator.cc:1095] InUse at 7f8aa00b4f00 of size 256 next 33\n",
      "2023-10-21 16:46:39.078385: I tensorflow/tsl/framework/bfc_allocator.cc:1095] InUse at 7f8aa00b5000 of size 256 next 70\n",
      "2023-10-21 16:46:39.078408: I tensorflow/tsl/framework/bfc_allocator.cc:1095] InUse at 7f8aa00b5100 of size 256 next 71\n",
      "2023-10-21 16:46:39.078431: I tensorflow/tsl/framework/bfc_allocator.cc:1095] InUse at 7f8aa00b5200 of size 256 next 73\n",
      "2023-10-21 16:46:39.078453: I tensorflow/tsl/framework/bfc_allocator.cc:1095] InUse at 7f8aa00b5300 of size 256 next 75\n",
      "2023-10-21 16:46:39.078478: I tensorflow/tsl/framework/bfc_allocator.cc:1095] Free  at 7f8aa00b5400 of size 256 next 239\n",
      "2023-10-21 16:46:39.078499: I tensorflow/tsl/framework/bfc_allocator.cc:1095] InUse at 7f8aa00b5500 of size 256 next 79\n",
      "2023-10-21 16:46:39.078520: I tensorflow/tsl/framework/bfc_allocator.cc:1095] InUse at 7f8aa00b5600 of size 256 next 80\n",
      "2023-10-21 16:46:39.078540: I tensorflow/tsl/framework/bfc_allocator.cc:1095] InUse at 7f8aa00b5700 of size 256 next 81\n",
      "2023-10-21 16:46:39.078570: I tensorflow/tsl/framework/bfc_allocator.cc:1095] InUse at 7f8aa00b5800 of size 1024 next 83\n",
      "2023-10-21 16:46:39.078593: I tensorflow/tsl/framework/bfc_allocator.cc:1095] InUse at 7f8aa00b5c00 of size 1024 next 85\n",
      "2023-10-21 16:46:39.078613: I tensorflow/tsl/framework/bfc_allocator.cc:1095] InUse at 7f8aa00b6000 of size 1024 next 87\n",
      "2023-10-21 16:46:39.078633: I tensorflow/tsl/framework/bfc_allocator.cc:1095] InUse at 7f8aa00b6400 of size 1024 next 89\n",
      "2023-10-21 16:46:39.078663: I tensorflow/tsl/framework/bfc_allocator.cc:1095] InUse at 7f8aa00b6800 of size 1024 next 90\n",
      "2023-10-21 16:46:39.078692: I tensorflow/tsl/framework/bfc_allocator.cc:1095] InUse at 7f8aa00b6c00 of size 1024 next 91\n",
      "2023-10-21 16:46:39.078717: I tensorflow/tsl/framework/bfc_allocator.cc:1095] InUse at 7f8aa00b7000 of size 1024 next 92\n",
      "2023-10-21 16:46:39.078743: I tensorflow/tsl/framework/bfc_allocator.cc:1095] InUse at 7f8aa00b7400 of size 1024 next 93\n",
      "2023-10-21 16:46:39.078770: I tensorflow/tsl/framework/bfc_allocator.cc:1095] InUse at 7f8aa00b7800 of size 9728 next 20\n",
      "2023-10-21 16:46:39.078798: I tensorflow/tsl/framework/bfc_allocator.cc:1095] InUse at 7f8aa00b9e00 of size 256 next 244\n",
      "2023-10-21 16:46:39.078824: I tensorflow/tsl/framework/bfc_allocator.cc:1095] InUse at 7f8aa00b9f00 of size 256 next 236\n",
      "2023-10-21 16:46:39.078845: I tensorflow/tsl/framework/bfc_allocator.cc:1095] InUse at 7f8aa00ba000 of size 256 next 179\n",
      "2023-10-21 16:46:39.078867: I tensorflow/tsl/framework/bfc_allocator.cc:1095] InUse at 7f8aa00ba100 of size 256 next 168\n",
      "2023-10-21 16:46:39.078887: I tensorflow/tsl/framework/bfc_allocator.cc:1095] InUse at 7f8aa00ba200 of size 256 next 190\n",
      "2023-10-21 16:46:39.078909: I tensorflow/tsl/framework/bfc_allocator.cc:1095] InUse at 7f8aa00ba300 of size 256 next 160\n",
      "2023-10-21 16:46:39.078930: I tensorflow/tsl/framework/bfc_allocator.cc:1095] InUse at 7f8aa00ba400 of size 256 next 243\n",
      "2023-10-21 16:46:39.078958: I tensorflow/tsl/framework/bfc_allocator.cc:1095] InUse at 7f8aa00ba500 of size 256 next 149\n",
      "2023-10-21 16:46:39.078980: I tensorflow/tsl/framework/bfc_allocator.cc:1095] InUse at 7f8aa00ba600 of size 256 next 226\n",
      "2023-10-21 16:46:39.079005: I tensorflow/tsl/framework/bfc_allocator.cc:1095] InUse at 7f8aa00ba700 of size 256 next 158\n",
      "2023-10-21 16:46:39.079027: I tensorflow/tsl/framework/bfc_allocator.cc:1095] Free  at 7f8aa00ba800 of size 6400 next 204\n",
      "2023-10-21 16:46:39.079048: I tensorflow/tsl/framework/bfc_allocator.cc:1095] InUse at 7f8aa00bc100 of size 256 next 246\n",
      "2023-10-21 16:46:39.079072: I tensorflow/tsl/framework/bfc_allocator.cc:1095] InUse at 7f8aa00bc200 of size 262144 next 63\n",
      "2023-10-21 16:46:39.079095: I tensorflow/tsl/framework/bfc_allocator.cc:1095] InUse at 7f8aa00fc200 of size 273408 next 37\n",
      "2023-10-21 16:46:39.079116: I tensorflow/tsl/framework/bfc_allocator.cc:1095] InUse at 7f8aa013ee00 of size 262144 next 36\n",
      "2023-10-21 16:46:39.079140: I tensorflow/tsl/framework/bfc_allocator.cc:1095] InUse at 7f8aa017ee00 of size 262144 next 39\n",
      "2023-10-21 16:46:39.079162: I tensorflow/tsl/framework/bfc_allocator.cc:1095] InUse at 7f8aa01bee00 of size 262144 next 41\n",
      "2023-10-21 16:46:39.079184: I tensorflow/tsl/framework/bfc_allocator.cc:1095] InUse at 7f8aa01fee00 of size 381952 next 224\n",
      "2023-10-21 16:46:39.079208: I tensorflow/tsl/framework/bfc_allocator.cc:1095] InUse at 7f8aa025c200 of size 1024 next 29\n",
      "2023-10-21 16:46:39.079231: I tensorflow/tsl/framework/bfc_allocator.cc:1095] InUse at 7f8aa025c600 of size 1024 next 227\n",
      "2023-10-21 16:46:39.079253: I tensorflow/tsl/framework/bfc_allocator.cc:1095] InUse at 7f8aa025ca00 of size 8192 next 51\n",
      "2023-10-21 16:46:39.079275: I tensorflow/tsl/framework/bfc_allocator.cc:1095] Free  at 7f8aa025ea00 of size 36096 next 78\n",
      "2023-10-21 16:46:39.079298: I tensorflow/tsl/framework/bfc_allocator.cc:1095] InUse at 7f8aa0267700 of size 24064 next 56\n",
      "2023-10-21 16:46:39.079319: I tensorflow/tsl/framework/bfc_allocator.cc:1095] InUse at 7f8aa026d500 of size 17408 next 49\n",
      "2023-10-21 16:46:39.079341: I tensorflow/tsl/framework/bfc_allocator.cc:1095] Free  at 7f8aa0271900 of size 54528 next 72\n",
      "2023-10-21 16:46:39.079361: I tensorflow/tsl/framework/bfc_allocator.cc:1095] InUse at 7f8aa027ee00 of size 262144 next 84\n",
      "2023-10-21 16:46:39.079382: I tensorflow/tsl/framework/bfc_allocator.cc:1095] InUse at 7f8aa02bee00 of size 262144 next 86\n",
      "2023-10-21 16:46:39.079403: I tensorflow/tsl/framework/bfc_allocator.cc:1095] InUse at 7f8aa02fee00 of size 262144 next 88\n",
      "2023-10-21 16:46:39.079423: I tensorflow/tsl/framework/bfc_allocator.cc:1095] InUse at 7f8aa033ee00 of size 262144 next 98\n",
      "2023-10-21 16:46:39.079465: I tensorflow/tsl/framework/bfc_allocator.cc:1095] InUse at 7f8aa037ee00 of size 262144 next 100\n",
      "2023-10-21 16:46:39.079494: I tensorflow/tsl/framework/bfc_allocator.cc:1095] InUse at 7f8aa03bee00 of size 262144 next 102\n",
      "2023-10-21 16:46:39.079521: I tensorflow/tsl/framework/bfc_allocator.cc:1095] InUse at 7f8aa03fee00 of size 262144 next 104\n",
      "2023-10-21 16:46:39.079549: I tensorflow/tsl/framework/bfc_allocator.cc:1095] InUse at 7f8aa043ee00 of size 262144 next 108\n",
      "2023-10-21 16:46:39.079577: I tensorflow/tsl/framework/bfc_allocator.cc:1095] InUse at 7f8aa047ee00 of size 262144 next 30\n",
      "2023-10-21 16:46:39.079605: I tensorflow/tsl/framework/bfc_allocator.cc:1095] InUse at 7f8aa04bee00 of size 2099200 next 221\n",
      "2023-10-21 16:46:39.079627: I tensorflow/tsl/framework/bfc_allocator.cc:1095] InUse at 7f8aa06bf600 of size 262144 next 184\n",
      "2023-10-21 16:46:39.079657: I tensorflow/tsl/framework/bfc_allocator.cc:1095] InUse at 7f8aa06ff600 of size 163840 next 164\n",
      "2023-10-21 16:46:39.079677: I tensorflow/tsl/framework/bfc_allocator.cc:1095] InUse at 7f8aa0727600 of size 163840 next 235\n",
      "2023-10-21 16:46:39.079697: I tensorflow/tsl/framework/bfc_allocator.cc:1095] InUse at 7f8aa074f600 of size 163840 next 48\n",
      "2023-10-21 16:46:39.079726: I tensorflow/tsl/framework/bfc_allocator.cc:1095] InUse at 7f8aa0777600 of size 163840 next 165\n",
      "2023-10-21 16:46:39.079753: I tensorflow/tsl/framework/bfc_allocator.cc:1095] InUse at 7f8aa079f600 of size 163840 next 200\n",
      "2023-10-21 16:46:39.079774: I tensorflow/tsl/framework/bfc_allocator.cc:1095] InUse at 7f8aa07c7600 of size 163840 next 240\n",
      "2023-10-21 16:46:39.079801: I tensorflow/tsl/framework/bfc_allocator.cc:1095] InUse at 7f8aa07ef600 of size 163840 next 19\n",
      "2023-10-21 16:46:39.079828: I tensorflow/tsl/framework/bfc_allocator.cc:1095] InUse at 7f8aa0817600 of size 163840 next 192\n",
      "2023-10-21 16:46:39.079855: I tensorflow/tsl/framework/bfc_allocator.cc:1095] InUse at 7f8aa083f600 of size 163840 next 169\n",
      "2023-10-21 16:46:39.079883: I tensorflow/tsl/framework/bfc_allocator.cc:1095] InUse at 7f8aa0867600 of size 163840 next 231\n",
      "2023-10-21 16:46:39.079913: I tensorflow/tsl/framework/bfc_allocator.cc:1095] Free  at 7f8aa088f600 of size 194560 next 32\n",
      "2023-10-21 16:46:39.079960: I tensorflow/tsl/framework/bfc_allocator.cc:1095] InUse at 7f8aa08bee00 of size 22269952 next 18\n",
      "2023-10-21 16:46:39.079984: I tensorflow/tsl/framework/bfc_allocator.cc:1095] InUse at 7f8aa1dfbe00 of size 262144 next 151\n",
      "2023-10-21 16:46:39.080007: I tensorflow/tsl/framework/bfc_allocator.cc:1095] InUse at 7f8aa1e3be00 of size 2097152 next 225\n",
      "2023-10-21 16:46:39.080028: I tensorflow/tsl/framework/bfc_allocator.cc:1095] InUse at 7f8aa203be00 of size 163840 next 248\n",
      "2023-10-21 16:46:39.080049: I tensorflow/tsl/framework/bfc_allocator.cc:1095] Free  at 7f8aa2063e00 of size 1330688 next 230\n",
      "2023-10-21 16:46:39.080071: I tensorflow/tsl/framework/bfc_allocator.cc:1095] InUse at 7f8aa21a8c00 of size 163840 next 66\n",
      "2023-10-21 16:46:39.080092: I tensorflow/tsl/framework/bfc_allocator.cc:1095] InUse at 7f8aa21d0c00 of size 163840 next 233\n",
      "2023-10-21 16:46:39.080114: I tensorflow/tsl/framework/bfc_allocator.cc:1095] InUse at 7f8aa21f8c00 of size 274944 next 213\n",
      "2023-10-21 16:46:39.080138: I tensorflow/tsl/framework/bfc_allocator.cc:1095] InUse at 7f8aa223be00 of size 2097152 next 34\n",
      "2023-10-21 16:46:39.080159: I tensorflow/tsl/framework/bfc_allocator.cc:1095] Free  at 7f8aa243be00 of size 8866560 next 74\n",
      "2023-10-21 16:46:39.080182: I tensorflow/tsl/framework/bfc_allocator.cc:1095] InUse at 7f8aa2cb0900 of size 20480 next 82\n",
      "2023-10-21 16:46:39.080204: I tensorflow/tsl/framework/bfc_allocator.cc:1095] InUse at 7f8aa2cb5900 of size 1024 next 96\n",
      "2023-10-21 16:46:39.080225: I tensorflow/tsl/framework/bfc_allocator.cc:1095] InUse at 7f8aa2cb5d00 of size 20480 next 97\n",
      "2023-10-21 16:46:39.080246: I tensorflow/tsl/framework/bfc_allocator.cc:1095] InUse at 7f8aa2cbad00 of size 1024 next 99\n",
      "2023-10-21 16:46:39.080267: I tensorflow/tsl/framework/bfc_allocator.cc:1095] InUse at 7f8aa2cbb100 of size 1024 next 101\n",
      "2023-10-21 16:46:39.080289: I tensorflow/tsl/framework/bfc_allocator.cc:1095] InUse at 7f8aa2cbb500 of size 1024 next 103\n",
      "2023-10-21 16:46:39.080311: I tensorflow/tsl/framework/bfc_allocator.cc:1095] InUse at 7f8aa2cbb900 of size 1024 next 105\n",
      "2023-10-21 16:46:39.080330: I tensorflow/tsl/framework/bfc_allocator.cc:1095] InUse at 7f8aa2cbbd00 of size 1024 next 106\n",
      "2023-10-21 16:46:39.080351: I tensorflow/tsl/framework/bfc_allocator.cc:1095] InUse at 7f8aa2cbc100 of size 1024 next 107\n",
      "2023-10-21 16:46:39.080375: I tensorflow/tsl/framework/bfc_allocator.cc:1095] InUse at 7f8aa2cbc500 of size 1024 next 109\n",
      "2023-10-21 16:46:39.080400: I tensorflow/tsl/framework/bfc_allocator.cc:1095] InUse at 7f8aa2cbc900 of size 1024 next 110\n",
      "2023-10-21 16:46:39.080425: I tensorflow/tsl/framework/bfc_allocator.cc:1095] InUse at 7f8aa2cbcd00 of size 1024 next 112\n",
      "2023-10-21 16:46:39.080447: I tensorflow/tsl/framework/bfc_allocator.cc:1095] InUse at 7f8aa2cbd100 of size 1024 next 114\n",
      "2023-10-21 16:46:39.080469: I tensorflow/tsl/framework/bfc_allocator.cc:1095] InUse at 7f8aa2cbd500 of size 1024 next 115\n",
      "2023-10-21 16:46:39.080491: I tensorflow/tsl/framework/bfc_allocator.cc:1095] InUse at 7f8aa2cbd900 of size 1024 next 116\n",
      "2023-10-21 16:46:39.080513: I tensorflow/tsl/framework/bfc_allocator.cc:1095] InUse at 7f8aa2cbdd00 of size 8192 next 118\n",
      "2023-10-21 16:46:39.080532: I tensorflow/tsl/framework/bfc_allocator.cc:1095] InUse at 7f8aa2cbfd00 of size 1024 next 119\n",
      "2023-10-21 16:46:39.080554: I tensorflow/tsl/framework/bfc_allocator.cc:1095] InUse at 7f8aa2cc0100 of size 1024 next 120\n",
      "2023-10-21 16:46:39.080577: I tensorflow/tsl/framework/bfc_allocator.cc:1095] InUse at 7f8aa2cc0500 of size 1024 next 121\n",
      "2023-10-21 16:46:39.080599: I tensorflow/tsl/framework/bfc_allocator.cc:1095] InUse at 7f8aa2cc0900 of size 60160 next 123\n",
      "2023-10-21 16:46:39.080621: I tensorflow/tsl/framework/bfc_allocator.cc:1095] InUse at 7f8aa2ccf400 of size 256 next 124\n",
      "2023-10-21 16:46:39.080644: I tensorflow/tsl/framework/bfc_allocator.cc:1095] InUse at 7f8aa2ccf500 of size 256 next 125\n",
      "2023-10-21 16:46:39.080665: I tensorflow/tsl/framework/bfc_allocator.cc:1095] InUse at 7f8aa2ccf600 of size 256 next 126\n",
      "2023-10-21 16:46:39.080687: I tensorflow/tsl/framework/bfc_allocator.cc:1095] InUse at 7f8aa2ccf700 of size 256 next 127\n",
      "2023-10-21 16:46:39.080709: I tensorflow/tsl/framework/bfc_allocator.cc:1095] InUse at 7f8aa2ccf800 of size 256 next 128\n",
      "2023-10-21 16:46:39.080731: I tensorflow/tsl/framework/bfc_allocator.cc:1095] InUse at 7f8aa2ccf900 of size 256 next 129\n",
      "2023-10-21 16:46:39.080753: I tensorflow/tsl/framework/bfc_allocator.cc:1095] InUse at 7f8aa2ccfa00 of size 256 next 130\n",
      "2023-10-21 16:46:39.080774: I tensorflow/tsl/framework/bfc_allocator.cc:1095] InUse at 7f8aa2ccfb00 of size 256 next 131\n",
      "2023-10-21 16:46:39.080796: I tensorflow/tsl/framework/bfc_allocator.cc:1095] InUse at 7f8aa2ccfc00 of size 256 next 132\n",
      "2023-10-21 16:46:39.080821: I tensorflow/tsl/framework/bfc_allocator.cc:1095] InUse at 7f8aa2ccfd00 of size 256 next 133\n",
      "2023-10-21 16:46:39.080844: I tensorflow/tsl/framework/bfc_allocator.cc:1095] InUse at 7f8aa2ccfe00 of size 256 next 134\n",
      "2023-10-21 16:46:39.080866: I tensorflow/tsl/framework/bfc_allocator.cc:1095] InUse at 7f8aa2ccff00 of size 256 next 135\n",
      "2023-10-21 16:46:39.080887: I tensorflow/tsl/framework/bfc_allocator.cc:1095] InUse at 7f8aa2cd0000 of size 256 next 136\n",
      "2023-10-21 16:46:39.080909: I tensorflow/tsl/framework/bfc_allocator.cc:1095] InUse at 7f8aa2cd0100 of size 256 next 137\n",
      "2023-10-21 16:46:39.080931: I tensorflow/tsl/framework/bfc_allocator.cc:1095] InUse at 7f8aa2cd0200 of size 256 next 138\n",
      "2023-10-21 16:46:39.080953: I tensorflow/tsl/framework/bfc_allocator.cc:1095] InUse at 7f8aa2cd0300 of size 256 next 139\n",
      "2023-10-21 16:46:39.080975: I tensorflow/tsl/framework/bfc_allocator.cc:1095] InUse at 7f8aa2cd0400 of size 256 next 140\n",
      "2023-10-21 16:46:39.080997: I tensorflow/tsl/framework/bfc_allocator.cc:1095] InUse at 7f8aa2cd0500 of size 256 next 141\n",
      "2023-10-21 16:46:39.081018: I tensorflow/tsl/framework/bfc_allocator.cc:1095] InUse at 7f8aa2cd0600 of size 256 next 142\n",
      "2023-10-21 16:46:39.081041: I tensorflow/tsl/framework/bfc_allocator.cc:1095] InUse at 7f8aa2cd0700 of size 256 next 143\n",
      "2023-10-21 16:46:39.081063: I tensorflow/tsl/framework/bfc_allocator.cc:1095] InUse at 7f8aa2cd0800 of size 256 next 144\n",
      "2023-10-21 16:46:39.081085: I tensorflow/tsl/framework/bfc_allocator.cc:1095] InUse at 7f8aa2cd0900 of size 256 next 145\n",
      "2023-10-21 16:46:39.081107: I tensorflow/tsl/framework/bfc_allocator.cc:1095] InUse at 7f8aa2cd0a00 of size 256 next 146\n",
      "2023-10-21 16:46:39.081129: I tensorflow/tsl/framework/bfc_allocator.cc:1095] InUse at 7f8aa2cd0b00 of size 256 next 147\n",
      "2023-10-21 16:46:39.081167: I tensorflow/tsl/framework/bfc_allocator.cc:1095] InUse at 7f8aa2cd0c00 of size 256 next 148\n",
      "2023-10-21 16:46:39.081189: I tensorflow/tsl/framework/bfc_allocator.cc:1095] InUse at 7f8aa2cd0d00 of size 256 next 218\n",
      "2023-10-21 16:46:39.081207: I tensorflow/tsl/framework/bfc_allocator.cc:1095] InUse at 7f8aa2cd0e00 of size 256 next 172\n",
      "2023-10-21 16:46:39.081222: I tensorflow/tsl/framework/bfc_allocator.cc:1095] InUse at 7f8aa2cd0f00 of size 256 next 212\n",
      "2023-10-21 16:46:39.081237: I tensorflow/tsl/framework/bfc_allocator.cc:1095] InUse at 7f8aa2cd1000 of size 256 next 174\n",
      "2023-10-21 16:46:39.081252: I tensorflow/tsl/framework/bfc_allocator.cc:1095] InUse at 7f8aa2cd1100 of size 256 next 171\n",
      "2023-10-21 16:46:39.081268: I tensorflow/tsl/framework/bfc_allocator.cc:1095] InUse at 7f8aa2cd1200 of size 256 next 177\n",
      "2023-10-21 16:46:39.081283: I tensorflow/tsl/framework/bfc_allocator.cc:1095] InUse at 7f8aa2cd1300 of size 256 next 166\n",
      "2023-10-21 16:46:39.081299: I tensorflow/tsl/framework/bfc_allocator.cc:1095] InUse at 7f8aa2cd1400 of size 256 next 153\n",
      "2023-10-21 16:46:39.081314: I tensorflow/tsl/framework/bfc_allocator.cc:1095] InUse at 7f8aa2cd1500 of size 256 next 209\n",
      "2023-10-21 16:46:39.081329: I tensorflow/tsl/framework/bfc_allocator.cc:1095] InUse at 7f8aa2cd1600 of size 256 next 223\n",
      "2023-10-21 16:46:39.081344: I tensorflow/tsl/framework/bfc_allocator.cc:1095] InUse at 7f8aa2cd1700 of size 256 next 155\n",
      "2023-10-21 16:46:39.081359: I tensorflow/tsl/framework/bfc_allocator.cc:1095] InUse at 7f8aa2cd1800 of size 256 next 183\n",
      "2023-10-21 16:46:39.081377: I tensorflow/tsl/framework/bfc_allocator.cc:1095] InUse at 7f8aa2cd1900 of size 256 next 241\n",
      "2023-10-21 16:46:39.081393: I tensorflow/tsl/framework/bfc_allocator.cc:1095] InUse at 7f8aa2cd1a00 of size 1024 next 21\n",
      "2023-10-21 16:46:39.081415: I tensorflow/tsl/framework/bfc_allocator.cc:1095] InUse at 7f8aa2cd1e00 of size 1792 next 181\n",
      "2023-10-21 16:46:39.081439: I tensorflow/tsl/framework/bfc_allocator.cc:1095] InUse at 7f8aa2cd2500 of size 256 next 28\n",
      "2023-10-21 16:46:39.081460: I tensorflow/tsl/framework/bfc_allocator.cc:1095] InUse at 7f8aa2cd2600 of size 256 next 238\n",
      "2023-10-21 16:46:39.081481: I tensorflow/tsl/framework/bfc_allocator.cc:1095] InUse at 7f8aa2cd2700 of size 1280 next 52\n",
      "2023-10-21 16:46:39.081502: I tensorflow/tsl/framework/bfc_allocator.cc:1095] InUse at 7f8aa2cd2c00 of size 1536 next 214\n",
      "2023-10-21 16:46:39.081525: I tensorflow/tsl/framework/bfc_allocator.cc:1095] InUse at 7f8aa2cd3200 of size 1024 next 211\n",
      "2023-10-21 16:46:39.081547: I tensorflow/tsl/framework/bfc_allocator.cc:1095] InUse at 7f8aa2cd3600 of size 1024 next 60\n",
      "2023-10-21 16:46:39.081568: I tensorflow/tsl/framework/bfc_allocator.cc:1095] InUse at 7f8aa2cd3a00 of size 256 next 242\n",
      "2023-10-21 16:46:39.081589: I tensorflow/tsl/framework/bfc_allocator.cc:1095] InUse at 7f8aa2cd3b00 of size 1024 next 57\n",
      "2023-10-21 16:46:39.081612: I tensorflow/tsl/framework/bfc_allocator.cc:1095] InUse at 7f8aa2cd3f00 of size 1024 next 58\n",
      "2023-10-21 16:46:39.081632: I tensorflow/tsl/framework/bfc_allocator.cc:1095] InUse at 7f8aa2cd4300 of size 1792 next 61\n",
      "2023-10-21 16:46:39.081654: I tensorflow/tsl/framework/bfc_allocator.cc:1095] InUse at 7f8aa2cd4a00 of size 1536 next 167\n",
      "2023-10-21 16:46:39.081676: I tensorflow/tsl/framework/bfc_allocator.cc:1095] InUse at 7f8aa2cd5000 of size 256 next 178\n",
      "2023-10-21 16:46:39.081697: I tensorflow/tsl/framework/bfc_allocator.cc:1095] InUse at 7f8aa2cd5100 of size 256 next 219\n",
      "2023-10-21 16:46:39.081719: I tensorflow/tsl/framework/bfc_allocator.cc:1095] InUse at 7f8aa2cd5200 of size 256 next 229\n",
      "2023-10-21 16:46:39.081741: I tensorflow/tsl/framework/bfc_allocator.cc:1095] InUse at 7f8aa2cd5300 of size 1024 next 197\n",
      "2023-10-21 16:46:39.081762: I tensorflow/tsl/framework/bfc_allocator.cc:1095] InUse at 7f8aa2cd5700 of size 1024 next 216\n",
      "2023-10-21 16:46:39.081793: I tensorflow/tsl/framework/bfc_allocator.cc:1095] InUse at 7f8aa2cd5b00 of size 256 next 187\n",
      "2023-10-21 16:46:39.081824: I tensorflow/tsl/framework/bfc_allocator.cc:1095] InUse at 7f8aa2cd5c00 of size 311808 next 59\n",
      "2023-10-21 16:46:39.081853: I tensorflow/tsl/framework/bfc_allocator.cc:1095] InUse at 7f8aa2d21e00 of size 262144 next 62\n",
      "2023-10-21 16:46:39.081883: I tensorflow/tsl/framework/bfc_allocator.cc:1095] InUse at 7f8aa2d61e00 of size 60160 next 46\n",
      "2023-10-21 16:46:39.081910: I tensorflow/tsl/framework/bfc_allocator.cc:1095] InUse at 7f8aa2d70900 of size 201984 next 64\n",
      "2023-10-21 16:46:39.081937: I tensorflow/tsl/framework/bfc_allocator.cc:1095] InUse at 7f8aa2da1e00 of size 20480 next 208\n",
      "2023-10-21 16:46:39.081966: I tensorflow/tsl/framework/bfc_allocator.cc:1095] InUse at 7f8aa2da6e00 of size 301824 next 50\n",
      "2023-10-21 16:46:39.081994: I tensorflow/tsl/framework/bfc_allocator.cc:1095] InUse at 7f8aa2df0900 of size 464128 next 69\n",
      "2023-10-21 16:46:39.082025: I tensorflow/tsl/framework/bfc_allocator.cc:1095] InUse at 7f8aa2e61e00 of size 262144 next 53\n",
      "2023-10-21 16:46:39.082052: I tensorflow/tsl/framework/bfc_allocator.cc:1095] InUse at 7f8aa2ea1e00 of size 20480 next 68\n",
      "2023-10-21 16:46:39.082080: I tensorflow/tsl/framework/bfc_allocator.cc:1095] InUse at 7f8aa2ea6e00 of size 4173824 next 55\n",
      "2023-10-21 16:46:39.082103: I tensorflow/tsl/framework/bfc_allocator.cc:1095] InUse at 7f8aa32a1e00 of size 2097152 next 94\n",
      "2023-10-21 16:46:39.082130: I tensorflow/tsl/framework/bfc_allocator.cc:1095] InUse at 7f8aa34a1e00 of size 2097152 next 95\n",
      "2023-10-21 16:46:39.082158: I tensorflow/tsl/framework/bfc_allocator.cc:1095] InUse at 7f8aa36a1e00 of size 262144 next 111\n",
      "2023-10-21 16:46:39.082185: I tensorflow/tsl/framework/bfc_allocator.cc:1095] InUse at 7f8aa36e1e00 of size 262144 next 113\n",
      "2023-10-21 16:46:39.082214: I tensorflow/tsl/framework/bfc_allocator.cc:1095] InUse at 7f8aa3721e00 of size 2097152 next 117\n",
      "2023-10-21 16:46:39.082241: I tensorflow/tsl/framework/bfc_allocator.cc:1095] InUse at 7f8aa3921e00 of size 2252800 next 45\n",
      "2023-10-21 16:46:39.082270: I tensorflow/tsl/framework/bfc_allocator.cc:1095] InUse at 7f8aa3b47e00 of size 15360000 next 44\n",
      "2023-10-21 16:46:39.082298: I tensorflow/tsl/framework/bfc_allocator.cc:1095] InUse at 7f8aa49ede00 of size 15360000 next 77\n",
      "2023-10-21 16:46:39.082327: I tensorflow/tsl/framework/bfc_allocator.cc:1095] InUse at 7f8aa5893e00 of size 15360000 next 76\n",
      "2023-10-21 16:46:39.082357: I tensorflow/tsl/framework/bfc_allocator.cc:1095] InUse at 7f8aa6739e00 of size 15360000 next 122\n",
      "2023-10-21 16:46:39.082384: I tensorflow/tsl/framework/bfc_allocator.cc:1095] InUse at 7f8aa75dfe00 of size 15360000 next 163\n",
      "2023-10-21 16:46:39.082412: I tensorflow/tsl/framework/bfc_allocator.cc:1095] Free  at 7f8aa8485e00 of size 15360000 next 245\n",
      "2023-10-21 16:46:39.082440: I tensorflow/tsl/framework/bfc_allocator.cc:1095] InUse at 7f8aa932be00 of size 15360000 next 154\n",
      "2023-10-21 16:46:39.082464: I tensorflow/tsl/framework/bfc_allocator.cc:1095] InUse at 7f8aaa1d1e00 of size 41943040 next 170\n",
      "2023-10-21 16:46:39.082485: I tensorflow/tsl/framework/bfc_allocator.cc:1095] InUse at 7f8aac9d1e00 of size 41943040 next 161\n",
      "2023-10-21 16:46:39.082506: I tensorflow/tsl/framework/bfc_allocator.cc:1095] InUse at 7f8aaf1d1e00 of size 41943040 next 162\n",
      "2023-10-21 16:46:39.082528: I tensorflow/tsl/framework/bfc_allocator.cc:1095] InUse at 7f8ab19d1e00 of size 41943040 next 173\n",
      "2023-10-21 16:46:39.082551: I tensorflow/tsl/framework/bfc_allocator.cc:1095] InUse at 7f8ab41d1e00 of size 41943040 next 250\n",
      "2023-10-21 16:46:39.082573: I tensorflow/tsl/framework/bfc_allocator.cc:1095] InUse at 7f8ab69d1e00 of size 41943040 next 185\n",
      "2023-10-21 16:46:39.082596: I tensorflow/tsl/framework/bfc_allocator.cc:1095] InUse at 7f8ab91d1e00 of size 68157440 next 222\n",
      "2023-10-21 16:46:39.082618: I tensorflow/tsl/framework/bfc_allocator.cc:1095] InUse at 7f8abd2d1e00 of size 41943040 next 228\n",
      "2023-10-21 16:46:39.082639: I tensorflow/tsl/framework/bfc_allocator.cc:1095] InUse at 7f8abfad1e00 of size 41943040 next 199\n",
      "2023-10-21 16:46:39.082662: I tensorflow/tsl/framework/bfc_allocator.cc:1095] InUse at 7f8ac22d1e00 of size 26214400 next 195\n",
      "2023-10-21 16:46:39.082685: I tensorflow/tsl/framework/bfc_allocator.cc:1095] InUse at 7f8ac3bd1e00 of size 68157440 next 193\n",
      "2023-10-21 16:46:39.082706: I tensorflow/tsl/framework/bfc_allocator.cc:1095] InUse at 7f8ac7cd1e00 of size 26214400 next 54\n",
      "2023-10-21 16:46:39.082729: I tensorflow/tsl/framework/bfc_allocator.cc:1095] InUse at 7f8ac95d1e00 of size 41943040 next 207\n",
      "2023-10-21 16:46:39.082750: I tensorflow/tsl/framework/bfc_allocator.cc:1095] InUse at 7f8acbdd1e00 of size 41943040 next 232\n",
      "2023-10-21 16:46:39.082773: I tensorflow/tsl/framework/bfc_allocator.cc:1095] InUse at 7f8ace5d1e00 of size 335544320 next 237\n",
      "2023-10-21 16:46:39.082795: I tensorflow/tsl/framework/bfc_allocator.cc:1095] InUse at 7f8ae25d1e00 of size 41943040 next 201\n",
      "2023-10-21 16:46:39.082816: I tensorflow/tsl/framework/bfc_allocator.cc:1095] InUse at 7f8ae4dd1e00 of size 41943040 next 247\n",
      "2023-10-21 16:46:39.082838: I tensorflow/tsl/framework/bfc_allocator.cc:1095] InUse at 7f8ae75d1e00 of size 41943040 next 47\n",
      "2023-10-21 16:46:39.082860: I tensorflow/tsl/framework/bfc_allocator.cc:1095] InUse at 7f8ae9dd1e00 of size 41943040 next 205\n",
      "2023-10-21 16:46:39.082882: I tensorflow/tsl/framework/bfc_allocator.cc:1095] InUse at 7f8aec5d1e00 of size 41943040 next 203\n",
      "2023-10-21 16:46:39.082906: I tensorflow/tsl/framework/bfc_allocator.cc:1095] InUse at 7f8aeedd1e00 of size 41943040 next 150\n",
      "2023-10-21 16:46:39.082928: I tensorflow/tsl/framework/bfc_allocator.cc:1095] InUse at 7f8af15d1e00 of size 41943040 next 159\n",
      "2023-10-21 16:46:39.082949: I tensorflow/tsl/framework/bfc_allocator.cc:1095] InUse at 7f8af3dd1e00 of size 41943040 next 156\n",
      "2023-10-21 16:46:39.082972: I tensorflow/tsl/framework/bfc_allocator.cc:1095] InUse at 7f8af65d1e00 of size 41943040 next 196\n",
      "2023-10-21 16:46:39.082994: I tensorflow/tsl/framework/bfc_allocator.cc:1095] InUse at 7f8af8dd1e00 of size 41943040 next 186\n",
      "2023-10-21 16:46:39.083017: I tensorflow/tsl/framework/bfc_allocator.cc:1095] InUse at 7f8afb5d1e00 of size 41943040 next 198\n",
      "2023-10-21 16:46:39.083039: I tensorflow/tsl/framework/bfc_allocator.cc:1095] InUse at 7f8afddd1e00 of size 68157440 next 251\n",
      "2023-10-21 16:46:39.083061: I tensorflow/tsl/framework/bfc_allocator.cc:1095] InUse at 7f8b01ed1e00 of size 26214400 next 180\n",
      "2023-10-21 16:46:39.083083: I tensorflow/tsl/framework/bfc_allocator.cc:1095] InUse at 7f8b037d1e00 of size 41943040 next 210\n",
      "2023-10-21 16:46:39.083106: I tensorflow/tsl/framework/bfc_allocator.cc:1095] InUse at 7f8b05fd1e00 of size 41943040 next 191\n",
      "2023-10-21 16:46:39.083126: I tensorflow/tsl/framework/bfc_allocator.cc:1095] InUse at 7f8b087d1e00 of size 41943040 next 182\n",
      "2023-10-21 16:46:39.083147: I tensorflow/tsl/framework/bfc_allocator.cc:1095] InUse at 7f8b0afd1e00 of size 335544320 next 249\n",
      "2023-10-21 16:46:39.083168: I tensorflow/tsl/framework/bfc_allocator.cc:1095] InUse at 7f8b1efd1e00 of size 41943040 next 217\n",
      "2023-10-21 16:46:39.083194: I tensorflow/tsl/framework/bfc_allocator.cc:1095] Free  at 7f8b217d1e00 of size 41943040 next 234\n",
      "2023-10-21 16:46:39.083219: I tensorflow/tsl/framework/bfc_allocator.cc:1095] InUse at 7f8b23fd1e00 of size 41943040 next 215\n",
      "2023-10-21 16:46:39.083243: I tensorflow/tsl/framework/bfc_allocator.cc:1095] InUse at 7f8b267d1e00 of size 2457600000 next 176\n",
      "2023-10-21 16:46:39.083267: I tensorflow/tsl/framework/bfc_allocator.cc:1095] InUse at 7f8bb8f91e00 of size 2457600000 next 188\n",
      "2023-10-21 16:46:39.083289: I tensorflow/tsl/framework/bfc_allocator.cc:1095] InUse at 7f8c4b751e00 of size 2457600000 next 175\n",
      "2023-10-21 16:46:39.083313: I tensorflow/tsl/framework/bfc_allocator.cc:1095] Free  at 7f8cddf11e00 of size 902423040 next 18446744073709551615\n",
      "2023-10-21 16:46:39.083335: I tensorflow/tsl/framework/bfc_allocator.cc:1100]      Summary of in-use Chunks by size: \n",
      "2023-10-21 16:46:39.083370: I tensorflow/tsl/framework/bfc_allocator.cc:1103] 81 Chunks of size 256 totalling 20.2KiB\n",
      "2023-10-21 16:46:39.083398: I tensorflow/tsl/framework/bfc_allocator.cc:1103] 43 Chunks of size 1024 totalling 43.0KiB\n",
      "2023-10-21 16:46:39.083424: I tensorflow/tsl/framework/bfc_allocator.cc:1103] 2 Chunks of size 1280 totalling 2.5KiB\n",
      "2023-10-21 16:46:39.083449: I tensorflow/tsl/framework/bfc_allocator.cc:1103] 2 Chunks of size 1536 totalling 3.0KiB\n",
      "2023-10-21 16:46:39.083473: I tensorflow/tsl/framework/bfc_allocator.cc:1103] 2 Chunks of size 1792 totalling 3.5KiB\n",
      "2023-10-21 16:46:39.083498: I tensorflow/tsl/framework/bfc_allocator.cc:1103] 2 Chunks of size 8192 totalling 16.0KiB\n",
      "2023-10-21 16:46:39.083532: I tensorflow/tsl/framework/bfc_allocator.cc:1103] 1 Chunks of size 9216 totalling 9.0KiB\n",
      "2023-10-21 16:46:39.083559: I tensorflow/tsl/framework/bfc_allocator.cc:1103] 1 Chunks of size 9728 totalling 9.5KiB\n",
      "2023-10-21 16:46:39.083584: I tensorflow/tsl/framework/bfc_allocator.cc:1103] 1 Chunks of size 17408 totalling 17.0KiB\n",
      "2023-10-21 16:46:39.083610: I tensorflow/tsl/framework/bfc_allocator.cc:1103] 4 Chunks of size 20480 totalling 80.0KiB\n",
      "2023-10-21 16:46:39.083637: I tensorflow/tsl/framework/bfc_allocator.cc:1103] 1 Chunks of size 24064 totalling 23.5KiB\n",
      "2023-10-21 16:46:39.083662: I tensorflow/tsl/framework/bfc_allocator.cc:1103] 2 Chunks of size 60160 totalling 117.5KiB\n",
      "2023-10-21 16:46:39.083687: I tensorflow/tsl/framework/bfc_allocator.cc:1103] 13 Chunks of size 163840 totalling 2.03MiB\n",
      "2023-10-21 16:46:39.083711: I tensorflow/tsl/framework/bfc_allocator.cc:1103] 1 Chunks of size 201984 totalling 197.2KiB\n",
      "2023-10-21 16:46:39.083734: I tensorflow/tsl/framework/bfc_allocator.cc:1103] 19 Chunks of size 262144 totalling 4.75MiB\n",
      "2023-10-21 16:46:39.083758: I tensorflow/tsl/framework/bfc_allocator.cc:1103] 1 Chunks of size 265984 totalling 259.8KiB\n",
      "2023-10-21 16:46:39.083784: I tensorflow/tsl/framework/bfc_allocator.cc:1103] 1 Chunks of size 273408 totalling 267.0KiB\n",
      "2023-10-21 16:46:39.083810: I tensorflow/tsl/framework/bfc_allocator.cc:1103] 1 Chunks of size 274944 totalling 268.5KiB\n",
      "2023-10-21 16:46:39.083837: I tensorflow/tsl/framework/bfc_allocator.cc:1103] 1 Chunks of size 301824 totalling 294.8KiB\n",
      "2023-10-21 16:46:39.083863: I tensorflow/tsl/framework/bfc_allocator.cc:1103] 1 Chunks of size 311808 totalling 304.5KiB\n",
      "2023-10-21 16:46:39.083889: I tensorflow/tsl/framework/bfc_allocator.cc:1103] 1 Chunks of size 381952 totalling 373.0KiB\n",
      "2023-10-21 16:46:39.083917: I tensorflow/tsl/framework/bfc_allocator.cc:1103] 1 Chunks of size 449792 totalling 439.2KiB\n",
      "2023-10-21 16:46:39.083943: I tensorflow/tsl/framework/bfc_allocator.cc:1103] 1 Chunks of size 464128 totalling 453.2KiB\n",
      "2023-10-21 16:46:39.083969: I tensorflow/tsl/framework/bfc_allocator.cc:1103] 5 Chunks of size 2097152 totalling 10.00MiB\n",
      "2023-10-21 16:46:39.083995: I tensorflow/tsl/framework/bfc_allocator.cc:1103] 1 Chunks of size 2099200 totalling 2.00MiB\n",
      "2023-10-21 16:46:39.084021: I tensorflow/tsl/framework/bfc_allocator.cc:1103] 1 Chunks of size 2252800 totalling 2.15MiB\n",
      "2023-10-21 16:46:39.084045: I tensorflow/tsl/framework/bfc_allocator.cc:1103] 1 Chunks of size 4173824 totalling 3.98MiB\n",
      "2023-10-21 16:46:39.084071: I tensorflow/tsl/framework/bfc_allocator.cc:1103] 6 Chunks of size 15360000 totalling 87.89MiB\n",
      "2023-10-21 16:46:39.084098: I tensorflow/tsl/framework/bfc_allocator.cc:1103] 1 Chunks of size 22269952 totalling 21.24MiB\n",
      "2023-10-21 16:46:39.084125: I tensorflow/tsl/framework/bfc_allocator.cc:1103] 3 Chunks of size 26214400 totalling 75.00MiB\n",
      "2023-10-21 16:46:39.084149: I tensorflow/tsl/framework/bfc_allocator.cc:1103] 26 Chunks of size 41943040 totalling 1.02GiB\n",
      "2023-10-21 16:46:39.084176: I tensorflow/tsl/framework/bfc_allocator.cc:1103] 3 Chunks of size 68157440 totalling 195.00MiB\n",
      "2023-10-21 16:46:39.084203: I tensorflow/tsl/framework/bfc_allocator.cc:1103] 2 Chunks of size 335544320 totalling 640.00MiB\n",
      "2023-10-21 16:46:39.084229: I tensorflow/tsl/framework/bfc_allocator.cc:1103] 3 Chunks of size 2457600000 totalling 6.87GiB\n",
      "2023-10-21 16:46:39.084254: I tensorflow/tsl/framework/bfc_allocator.cc:1107] Sum Total of in-use chunks: 8.90GiB\n",
      "2023-10-21 16:46:39.084280: I tensorflow/tsl/framework/bfc_allocator.cc:1109] Total bytes in pool: 10531569664 memory_limit_: 10531569664 available bytes: 0 curr_region_allocation_bytes_: 21063139328\n",
      "2023-10-21 16:46:39.084312: I tensorflow/tsl/framework/bfc_allocator.cc:1114] Stats: \n",
      "Limit:                     10531569664\n",
      "InUse:                      9561354240\n",
      "MaxInUse:                   9561354240\n",
      "NumAllocs:                   161940442\n",
      "MaxAllocSize:               2457600000\n",
      "Reserved:                            0\n",
      "PeakReserved:                        0\n",
      "LargestFreeBlock:                    0\n",
      "\n",
      "2023-10-21 16:46:39.084359: W tensorflow/tsl/framework/bfc_allocator.cc:497] ********************************************************************************************________\n",
      "2023-10-21 16:46:39.084409: W tensorflow/core/framework/op_kernel.cc:1839] OP_REQUIRES failed at softmax_op_gpu.cu.cc:205 : RESOURCE_EXHAUSTED: OOM when allocating tensor with shape[2048,20,15000] and type float on /job:localhost/replica:0/task:0/device:GPU:0 by allocator GPU_0_bfc\n",
      "2023-10-21 16:46:39.084483: I tensorflow/core/framework/local_rendezvous.cc:421] Local rendezvous recv item cancelled. Key hash: 15323159727563411921\n",
      "2023-10-21 16:46:39.084533: I tensorflow/core/framework/local_rendezvous.cc:421] Local rendezvous recv item cancelled. Key hash: 11004238597472417281\n",
      "2023-10-21 16:46:39.084571: I tensorflow/core/framework/local_rendezvous.cc:421] Local rendezvous recv item cancelled. Key hash: 4310065006805038825\n",
      "2023-10-21 16:46:39.084604: I tensorflow/core/framework/local_rendezvous.cc:421] Local rendezvous recv item cancelled. Key hash: 1604823724987771757\n",
      "2023-10-21 16:46:39.084638: I tensorflow/core/framework/local_rendezvous.cc:421] Local rendezvous recv item cancelled. Key hash: 13648192311989841465\n",
      "2023-10-21 16:46:39.084690: I tensorflow/core/framework/local_rendezvous.cc:421] Local rendezvous recv item cancelled. Key hash: 17137297959254652008\n",
      "2023-10-21 16:46:39.084725: I tensorflow/core/framework/local_rendezvous.cc:421] Local rendezvous recv item cancelled. Key hash: 16397219623908010602\n",
      "2023-10-21 16:46:39.084757: I tensorflow/core/framework/local_rendezvous.cc:421] Local rendezvous recv item cancelled. Key hash: 14465633293267516360\n",
      "2023-10-21 16:46:39.084791: I tensorflow/core/framework/local_rendezvous.cc:421] Local rendezvous recv item cancelled. Key hash: 2197775365887093770\n"
     ]
    },
    {
     "ename": "ResourceExhaustedError",
     "evalue": "Graph execution error:\n\nDetected at node tib_eng_translator/model_1/dense/Softmax defined at (most recent call last):\n  File \"/usr/lib/python3.10/runpy.py\", line 196, in _run_module_as_main\n\n  File \"/usr/lib/python3.10/runpy.py\", line 86, in _run_code\n\n  File \"/home/j/.local/lib/python3.10/site-packages/ipykernel_launcher.py\", line 17, in <module>\n\n  File \"/home/j/.local/lib/python3.10/site-packages/traitlets/config/application.py\", line 1053, in launch_instance\n\n  File \"/home/j/.local/lib/python3.10/site-packages/ipykernel/kernelapp.py\", line 736, in start\n\n  File \"/home/j/.local/lib/python3.10/site-packages/tornado/platform/asyncio.py\", line 195, in start\n\n  File \"/usr/lib/python3.10/asyncio/base_events.py\", line 603, in run_forever\n\n  File \"/usr/lib/python3.10/asyncio/base_events.py\", line 1909, in _run_once\n\n  File \"/usr/lib/python3.10/asyncio/events.py\", line 80, in _run\n\n  File \"/home/j/.local/lib/python3.10/site-packages/ipykernel/kernelbase.py\", line 516, in dispatch_queue\n\n  File \"/home/j/.local/lib/python3.10/site-packages/ipykernel/kernelbase.py\", line 505, in process_one\n\n  File \"/home/j/.local/lib/python3.10/site-packages/ipykernel/kernelbase.py\", line 412, in dispatch_shell\n\n  File \"/home/j/.local/lib/python3.10/site-packages/ipykernel/kernelbase.py\", line 740, in execute_request\n\n  File \"/home/j/.local/lib/python3.10/site-packages/ipykernel/ipkernel.py\", line 422, in do_execute\n\n  File \"/home/j/.local/lib/python3.10/site-packages/ipykernel/zmqshell.py\", line 546, in run_cell\n\n  File \"/home/j/.local/lib/python3.10/site-packages/IPython/core/interactiveshell.py\", line 3024, in run_cell\n\n  File \"/home/j/.local/lib/python3.10/site-packages/IPython/core/interactiveshell.py\", line 3079, in _run_cell\n\n  File \"/home/j/.local/lib/python3.10/site-packages/IPython/core/async_helpers.py\", line 129, in _pseudo_sync_runner\n\n  File \"/home/j/.local/lib/python3.10/site-packages/IPython/core/interactiveshell.py\", line 3284, in run_cell_async\n\n  File \"/home/j/.local/lib/python3.10/site-packages/IPython/core/interactiveshell.py\", line 3466, in run_ast_nodes\n\n  File \"/home/j/.local/lib/python3.10/site-packages/IPython/core/interactiveshell.py\", line 3526, in run_code\n\n  File \"/tmp/ipykernel_5079/524337845.py\", line 1, in <module>\n\n  File \"/home/j/.local/lib/python3.10/site-packages/keras/src/utils/traceback_utils.py\", line 65, in error_handler\n\n  File \"/home/j/.local/lib/python3.10/site-packages/keras/src/engine/training.py\", line 1783, in fit\n\n  File \"/home/j/.local/lib/python3.10/site-packages/keras/src/engine/training.py\", line 1377, in train_function\n\n  File \"/home/j/.local/lib/python3.10/site-packages/keras/src/engine/training.py\", line 1360, in step_function\n\n  File \"/home/j/.local/lib/python3.10/site-packages/keras/src/engine/training.py\", line 1349, in run_step\n\n  File \"/home/j/.local/lib/python3.10/site-packages/keras/src/engine/training.py\", line 1126, in train_step\n\n  File \"/home/j/.local/lib/python3.10/site-packages/keras/src/utils/traceback_utils.py\", line 65, in error_handler\n\n  File \"/home/j/.local/lib/python3.10/site-packages/keras/src/engine/training.py\", line 589, in __call__\n\n  File \"/home/j/.local/lib/python3.10/site-packages/keras/src/utils/traceback_utils.py\", line 65, in error_handler\n\n  File \"/home/j/.local/lib/python3.10/site-packages/keras/src/engine/base_layer.py\", line 1149, in __call__\n\n  File \"/home/j/.local/lib/python3.10/site-packages/keras/src/utils/traceback_utils.py\", line 96, in error_handler\n\n  File \"/home/j/.local/lib/python3.10/site-packages/keras/src/engine/functional.py\", line 515, in call\n\n  File \"/home/j/.local/lib/python3.10/site-packages/keras/src/engine/functional.py\", line 672, in _run_internal_graph\n\n  File \"/home/j/.local/lib/python3.10/site-packages/keras/src/utils/traceback_utils.py\", line 65, in error_handler\n\n  File \"/home/j/.local/lib/python3.10/site-packages/keras/src/engine/training.py\", line 589, in __call__\n\n  File \"/home/j/.local/lib/python3.10/site-packages/keras/src/utils/traceback_utils.py\", line 65, in error_handler\n\n  File \"/home/j/.local/lib/python3.10/site-packages/keras/src/engine/base_layer.py\", line 1149, in __call__\n\n  File \"/home/j/.local/lib/python3.10/site-packages/keras/src/utils/traceback_utils.py\", line 96, in error_handler\n\n  File \"/home/j/.local/lib/python3.10/site-packages/keras/src/engine/functional.py\", line 515, in call\n\n  File \"/home/j/.local/lib/python3.10/site-packages/keras/src/engine/functional.py\", line 672, in _run_internal_graph\n\n  File \"/home/j/.local/lib/python3.10/site-packages/keras/src/utils/traceback_utils.py\", line 65, in error_handler\n\n  File \"/home/j/.local/lib/python3.10/site-packages/keras/src/engine/base_layer.py\", line 1149, in __call__\n\n  File \"/home/j/.local/lib/python3.10/site-packages/keras/src/utils/traceback_utils.py\", line 96, in error_handler\n\n  File \"/home/j/.local/lib/python3.10/site-packages/keras/src/layers/core/dense.py\", line 255, in call\n\n  File \"/home/j/.local/lib/python3.10/site-packages/keras/src/activations.py\", line 87, in softmax\n\n  File \"/home/j/.local/lib/python3.10/site-packages/keras/src/backend.py\", line 5450, in softmax\n\nDetected at node tib_eng_translator/model_1/dense/Softmax defined at (most recent call last):\n  File \"/usr/lib/python3.10/runpy.py\", line 196, in _run_module_as_main\n\n  File \"/usr/lib/python3.10/runpy.py\", line 86, in _run_code\n\n  File \"/home/j/.local/lib/python3.10/site-packages/ipykernel_launcher.py\", line 17, in <module>\n\n  File \"/home/j/.local/lib/python3.10/site-packages/traitlets/config/application.py\", line 1053, in launch_instance\n\n  File \"/home/j/.local/lib/python3.10/site-packages/ipykernel/kernelapp.py\", line 736, in start\n\n  File \"/home/j/.local/lib/python3.10/site-packages/tornado/platform/asyncio.py\", line 195, in start\n\n  File \"/usr/lib/python3.10/asyncio/base_events.py\", line 603, in run_forever\n\n  File \"/usr/lib/python3.10/asyncio/base_events.py\", line 1909, in _run_once\n\n  File \"/usr/lib/python3.10/asyncio/events.py\", line 80, in _run\n\n  File \"/home/j/.local/lib/python3.10/site-packages/ipykernel/kernelbase.py\", line 516, in dispatch_queue\n\n  File \"/home/j/.local/lib/python3.10/site-packages/ipykernel/kernelbase.py\", line 505, in process_one\n\n  File \"/home/j/.local/lib/python3.10/site-packages/ipykernel/kernelbase.py\", line 412, in dispatch_shell\n\n  File \"/home/j/.local/lib/python3.10/site-packages/ipykernel/kernelbase.py\", line 740, in execute_request\n\n  File \"/home/j/.local/lib/python3.10/site-packages/ipykernel/ipkernel.py\", line 422, in do_execute\n\n  File \"/home/j/.local/lib/python3.10/site-packages/ipykernel/zmqshell.py\", line 546, in run_cell\n\n  File \"/home/j/.local/lib/python3.10/site-packages/IPython/core/interactiveshell.py\", line 3024, in run_cell\n\n  File \"/home/j/.local/lib/python3.10/site-packages/IPython/core/interactiveshell.py\", line 3079, in _run_cell\n\n  File \"/home/j/.local/lib/python3.10/site-packages/IPython/core/async_helpers.py\", line 129, in _pseudo_sync_runner\n\n  File \"/home/j/.local/lib/python3.10/site-packages/IPython/core/interactiveshell.py\", line 3284, in run_cell_async\n\n  File \"/home/j/.local/lib/python3.10/site-packages/IPython/core/interactiveshell.py\", line 3466, in run_ast_nodes\n\n  File \"/home/j/.local/lib/python3.10/site-packages/IPython/core/interactiveshell.py\", line 3526, in run_code\n\n  File \"/tmp/ipykernel_5079/524337845.py\", line 1, in <module>\n\n  File \"/home/j/.local/lib/python3.10/site-packages/keras/src/utils/traceback_utils.py\", line 65, in error_handler\n\n  File \"/home/j/.local/lib/python3.10/site-packages/keras/src/engine/training.py\", line 1783, in fit\n\n  File \"/home/j/.local/lib/python3.10/site-packages/keras/src/engine/training.py\", line 1377, in train_function\n\n  File \"/home/j/.local/lib/python3.10/site-packages/keras/src/engine/training.py\", line 1360, in step_function\n\n  File \"/home/j/.local/lib/python3.10/site-packages/keras/src/engine/training.py\", line 1349, in run_step\n\n  File \"/home/j/.local/lib/python3.10/site-packages/keras/src/engine/training.py\", line 1126, in train_step\n\n  File \"/home/j/.local/lib/python3.10/site-packages/keras/src/utils/traceback_utils.py\", line 65, in error_handler\n\n  File \"/home/j/.local/lib/python3.10/site-packages/keras/src/engine/training.py\", line 589, in __call__\n\n  File \"/home/j/.local/lib/python3.10/site-packages/keras/src/utils/traceback_utils.py\", line 65, in error_handler\n\n  File \"/home/j/.local/lib/python3.10/site-packages/keras/src/engine/base_layer.py\", line 1149, in __call__\n\n  File \"/home/j/.local/lib/python3.10/site-packages/keras/src/utils/traceback_utils.py\", line 96, in error_handler\n\n  File \"/home/j/.local/lib/python3.10/site-packages/keras/src/engine/functional.py\", line 515, in call\n\n  File \"/home/j/.local/lib/python3.10/site-packages/keras/src/engine/functional.py\", line 672, in _run_internal_graph\n\n  File \"/home/j/.local/lib/python3.10/site-packages/keras/src/utils/traceback_utils.py\", line 65, in error_handler\n\n  File \"/home/j/.local/lib/python3.10/site-packages/keras/src/engine/training.py\", line 589, in __call__\n\n  File \"/home/j/.local/lib/python3.10/site-packages/keras/src/utils/traceback_utils.py\", line 65, in error_handler\n\n  File \"/home/j/.local/lib/python3.10/site-packages/keras/src/engine/base_layer.py\", line 1149, in __call__\n\n  File \"/home/j/.local/lib/python3.10/site-packages/keras/src/utils/traceback_utils.py\", line 96, in error_handler\n\n  File \"/home/j/.local/lib/python3.10/site-packages/keras/src/engine/functional.py\", line 515, in call\n\n  File \"/home/j/.local/lib/python3.10/site-packages/keras/src/engine/functional.py\", line 672, in _run_internal_graph\n\n  File \"/home/j/.local/lib/python3.10/site-packages/keras/src/utils/traceback_utils.py\", line 65, in error_handler\n\n  File \"/home/j/.local/lib/python3.10/site-packages/keras/src/engine/base_layer.py\", line 1149, in __call__\n\n  File \"/home/j/.local/lib/python3.10/site-packages/keras/src/utils/traceback_utils.py\", line 96, in error_handler\n\n  File \"/home/j/.local/lib/python3.10/site-packages/keras/src/layers/core/dense.py\", line 255, in call\n\n  File \"/home/j/.local/lib/python3.10/site-packages/keras/src/activations.py\", line 87, in softmax\n\n  File \"/home/j/.local/lib/python3.10/site-packages/keras/src/backend.py\", line 5450, in softmax\n\n2 root error(s) found.\n  (0) RESOURCE_EXHAUSTED:  OOM when allocating tensor with shape[2048,20,15000] and type float on /job:localhost/replica:0/task:0/device:GPU:0 by allocator GPU_0_bfc\n\t [[{{node tib_eng_translator/model_1/dense/Softmax}}]]\nHint: If you want to see a list of allocated tensors when OOM happens, add report_tensor_allocations_upon_oom to RunOptions for current allocation info. This isn't available when running in Eager mode.\n\n\t [[broadcast_weights_1/assert_broadcastable/AssertGuard/pivot_f/_15/_115]]\nHint: If you want to see a list of allocated tensors when OOM happens, add report_tensor_allocations_upon_oom to RunOptions for current allocation info. This isn't available when running in Eager mode.\n\n  (1) RESOURCE_EXHAUSTED:  OOM when allocating tensor with shape[2048,20,15000] and type float on /job:localhost/replica:0/task:0/device:GPU:0 by allocator GPU_0_bfc\n\t [[{{node tib_eng_translator/model_1/dense/Softmax}}]]\nHint: If you want to see a list of allocated tensors when OOM happens, add report_tensor_allocations_upon_oom to RunOptions for current allocation info. This isn't available when running in Eager mode.\n\n0 successful operations.\n0 derived errors ignored. [Op:__inference_train_function_11735]",
     "output_type": "error",
     "traceback": [
      "\u001b[0;31m---------------------------------------------------------------------------\u001b[0m",
      "\u001b[0;31mResourceExhaustedError\u001b[0m                    Traceback (most recent call last)",
      "\u001b[1;32m/home/j/Documents/Projects/Iron-Bridge/lotsawa/notebooks/modeling.ipynb Cell 31\u001b[0m line \u001b[0;36m1\n\u001b[0;32m----> <a href='vscode-notebook-cell:/home/j/Documents/Projects/Iron-Bridge/lotsawa/notebooks/modeling.ipynb#X42sZmlsZQ%3D%3D?line=0'>1</a>\u001b[0m tib_eng_history \u001b[39m=\u001b[39m tib_eng_translator\u001b[39m.\u001b[39;49mfit(\n\u001b[1;32m      <a href='vscode-notebook-cell:/home/j/Documents/Projects/Iron-Bridge/lotsawa/notebooks/modeling.ipynb#X42sZmlsZQ%3D%3D?line=1'>2</a>\u001b[0m     tib_eng_train_ds, \n\u001b[1;32m      <a href='vscode-notebook-cell:/home/j/Documents/Projects/Iron-Bridge/lotsawa/notebooks/modeling.ipynb#X42sZmlsZQ%3D%3D?line=2'>3</a>\u001b[0m     epochs\u001b[39m=\u001b[39;49mEPOCHS, \n\u001b[1;32m      <a href='vscode-notebook-cell:/home/j/Documents/Projects/Iron-Bridge/lotsawa/notebooks/modeling.ipynb#X42sZmlsZQ%3D%3D?line=3'>4</a>\u001b[0m     validation_data\u001b[39m=\u001b[39;49mtib_eng_val_ds,\n\u001b[1;32m      <a href='vscode-notebook-cell:/home/j/Documents/Projects/Iron-Bridge/lotsawa/notebooks/modeling.ipynb#X42sZmlsZQ%3D%3D?line=4'>5</a>\u001b[0m     callbacks\u001b[39m=\u001b[39;49m[acc_callback]\n\u001b[1;32m      <a href='vscode-notebook-cell:/home/j/Documents/Projects/Iron-Bridge/lotsawa/notebooks/modeling.ipynb#X42sZmlsZQ%3D%3D?line=5'>6</a>\u001b[0m     )\n",
      "File \u001b[0;32m~/.local/lib/python3.10/site-packages/keras/src/utils/traceback_utils.py:70\u001b[0m, in \u001b[0;36mfilter_traceback.<locals>.error_handler\u001b[0;34m(*args, **kwargs)\u001b[0m\n\u001b[1;32m     67\u001b[0m     filtered_tb \u001b[39m=\u001b[39m _process_traceback_frames(e\u001b[39m.\u001b[39m__traceback__)\n\u001b[1;32m     68\u001b[0m     \u001b[39m# To get the full stack trace, call:\u001b[39;00m\n\u001b[1;32m     69\u001b[0m     \u001b[39m# `tf.debugging.disable_traceback_filtering()`\u001b[39;00m\n\u001b[0;32m---> 70\u001b[0m     \u001b[39mraise\u001b[39;00m e\u001b[39m.\u001b[39mwith_traceback(filtered_tb) \u001b[39mfrom\u001b[39;00m \u001b[39mNone\u001b[39;00m\n\u001b[1;32m     71\u001b[0m \u001b[39mfinally\u001b[39;00m:\n\u001b[1;32m     72\u001b[0m     \u001b[39mdel\u001b[39;00m filtered_tb\n",
      "File \u001b[0;32m~/.local/lib/python3.10/site-packages/tensorflow/python/eager/execute.py:60\u001b[0m, in \u001b[0;36mquick_execute\u001b[0;34m(op_name, num_outputs, inputs, attrs, ctx, name)\u001b[0m\n\u001b[1;32m     53\u001b[0m   \u001b[39m# Convert any objects of type core_types.Tensor to Tensor.\u001b[39;00m\n\u001b[1;32m     54\u001b[0m   inputs \u001b[39m=\u001b[39m [\n\u001b[1;32m     55\u001b[0m       tensor_conversion_registry\u001b[39m.\u001b[39mconvert(t)\n\u001b[1;32m     56\u001b[0m       \u001b[39mif\u001b[39;00m \u001b[39misinstance\u001b[39m(t, core_types\u001b[39m.\u001b[39mTensor)\n\u001b[1;32m     57\u001b[0m       \u001b[39melse\u001b[39;00m t\n\u001b[1;32m     58\u001b[0m       \u001b[39mfor\u001b[39;00m t \u001b[39min\u001b[39;00m inputs\n\u001b[1;32m     59\u001b[0m   ]\n\u001b[0;32m---> 60\u001b[0m   tensors \u001b[39m=\u001b[39m pywrap_tfe\u001b[39m.\u001b[39mTFE_Py_Execute(ctx\u001b[39m.\u001b[39m_handle, device_name, op_name,\n\u001b[1;32m     61\u001b[0m                                       inputs, attrs, num_outputs)\n\u001b[1;32m     62\u001b[0m \u001b[39mexcept\u001b[39;00m core\u001b[39m.\u001b[39m_NotOkStatusException \u001b[39mas\u001b[39;00m e:\n\u001b[1;32m     63\u001b[0m   \u001b[39mif\u001b[39;00m name \u001b[39mis\u001b[39;00m \u001b[39mnot\u001b[39;00m \u001b[39mNone\u001b[39;00m:\n",
      "\u001b[0;31mResourceExhaustedError\u001b[0m: Graph execution error:\n\nDetected at node tib_eng_translator/model_1/dense/Softmax defined at (most recent call last):\n  File \"/usr/lib/python3.10/runpy.py\", line 196, in _run_module_as_main\n\n  File \"/usr/lib/python3.10/runpy.py\", line 86, in _run_code\n\n  File \"/home/j/.local/lib/python3.10/site-packages/ipykernel_launcher.py\", line 17, in <module>\n\n  File \"/home/j/.local/lib/python3.10/site-packages/traitlets/config/application.py\", line 1053, in launch_instance\n\n  File \"/home/j/.local/lib/python3.10/site-packages/ipykernel/kernelapp.py\", line 736, in start\n\n  File \"/home/j/.local/lib/python3.10/site-packages/tornado/platform/asyncio.py\", line 195, in start\n\n  File \"/usr/lib/python3.10/asyncio/base_events.py\", line 603, in run_forever\n\n  File \"/usr/lib/python3.10/asyncio/base_events.py\", line 1909, in _run_once\n\n  File \"/usr/lib/python3.10/asyncio/events.py\", line 80, in _run\n\n  File \"/home/j/.local/lib/python3.10/site-packages/ipykernel/kernelbase.py\", line 516, in dispatch_queue\n\n  File \"/home/j/.local/lib/python3.10/site-packages/ipykernel/kernelbase.py\", line 505, in process_one\n\n  File \"/home/j/.local/lib/python3.10/site-packages/ipykernel/kernelbase.py\", line 412, in dispatch_shell\n\n  File \"/home/j/.local/lib/python3.10/site-packages/ipykernel/kernelbase.py\", line 740, in execute_request\n\n  File \"/home/j/.local/lib/python3.10/site-packages/ipykernel/ipkernel.py\", line 422, in do_execute\n\n  File \"/home/j/.local/lib/python3.10/site-packages/ipykernel/zmqshell.py\", line 546, in run_cell\n\n  File \"/home/j/.local/lib/python3.10/site-packages/IPython/core/interactiveshell.py\", line 3024, in run_cell\n\n  File \"/home/j/.local/lib/python3.10/site-packages/IPython/core/interactiveshell.py\", line 3079, in _run_cell\n\n  File \"/home/j/.local/lib/python3.10/site-packages/IPython/core/async_helpers.py\", line 129, in _pseudo_sync_runner\n\n  File \"/home/j/.local/lib/python3.10/site-packages/IPython/core/interactiveshell.py\", line 3284, in run_cell_async\n\n  File \"/home/j/.local/lib/python3.10/site-packages/IPython/core/interactiveshell.py\", line 3466, in run_ast_nodes\n\n  File \"/home/j/.local/lib/python3.10/site-packages/IPython/core/interactiveshell.py\", line 3526, in run_code\n\n  File \"/tmp/ipykernel_5079/524337845.py\", line 1, in <module>\n\n  File \"/home/j/.local/lib/python3.10/site-packages/keras/src/utils/traceback_utils.py\", line 65, in error_handler\n\n  File \"/home/j/.local/lib/python3.10/site-packages/keras/src/engine/training.py\", line 1783, in fit\n\n  File \"/home/j/.local/lib/python3.10/site-packages/keras/src/engine/training.py\", line 1377, in train_function\n\n  File \"/home/j/.local/lib/python3.10/site-packages/keras/src/engine/training.py\", line 1360, in step_function\n\n  File \"/home/j/.local/lib/python3.10/site-packages/keras/src/engine/training.py\", line 1349, in run_step\n\n  File \"/home/j/.local/lib/python3.10/site-packages/keras/src/engine/training.py\", line 1126, in train_step\n\n  File \"/home/j/.local/lib/python3.10/site-packages/keras/src/utils/traceback_utils.py\", line 65, in error_handler\n\n  File \"/home/j/.local/lib/python3.10/site-packages/keras/src/engine/training.py\", line 589, in __call__\n\n  File \"/home/j/.local/lib/python3.10/site-packages/keras/src/utils/traceback_utils.py\", line 65, in error_handler\n\n  File \"/home/j/.local/lib/python3.10/site-packages/keras/src/engine/base_layer.py\", line 1149, in __call__\n\n  File \"/home/j/.local/lib/python3.10/site-packages/keras/src/utils/traceback_utils.py\", line 96, in error_handler\n\n  File \"/home/j/.local/lib/python3.10/site-packages/keras/src/engine/functional.py\", line 515, in call\n\n  File \"/home/j/.local/lib/python3.10/site-packages/keras/src/engine/functional.py\", line 672, in _run_internal_graph\n\n  File \"/home/j/.local/lib/python3.10/site-packages/keras/src/utils/traceback_utils.py\", line 65, in error_handler\n\n  File \"/home/j/.local/lib/python3.10/site-packages/keras/src/engine/training.py\", line 589, in __call__\n\n  File \"/home/j/.local/lib/python3.10/site-packages/keras/src/utils/traceback_utils.py\", line 65, in error_handler\n\n  File \"/home/j/.local/lib/python3.10/site-packages/keras/src/engine/base_layer.py\", line 1149, in __call__\n\n  File \"/home/j/.local/lib/python3.10/site-packages/keras/src/utils/traceback_utils.py\", line 96, in error_handler\n\n  File \"/home/j/.local/lib/python3.10/site-packages/keras/src/engine/functional.py\", line 515, in call\n\n  File \"/home/j/.local/lib/python3.10/site-packages/keras/src/engine/functional.py\", line 672, in _run_internal_graph\n\n  File \"/home/j/.local/lib/python3.10/site-packages/keras/src/utils/traceback_utils.py\", line 65, in error_handler\n\n  File \"/home/j/.local/lib/python3.10/site-packages/keras/src/engine/base_layer.py\", line 1149, in __call__\n\n  File \"/home/j/.local/lib/python3.10/site-packages/keras/src/utils/traceback_utils.py\", line 96, in error_handler\n\n  File \"/home/j/.local/lib/python3.10/site-packages/keras/src/layers/core/dense.py\", line 255, in call\n\n  File \"/home/j/.local/lib/python3.10/site-packages/keras/src/activations.py\", line 87, in softmax\n\n  File \"/home/j/.local/lib/python3.10/site-packages/keras/src/backend.py\", line 5450, in softmax\n\nDetected at node tib_eng_translator/model_1/dense/Softmax defined at (most recent call last):\n  File \"/usr/lib/python3.10/runpy.py\", line 196, in _run_module_as_main\n\n  File \"/usr/lib/python3.10/runpy.py\", line 86, in _run_code\n\n  File \"/home/j/.local/lib/python3.10/site-packages/ipykernel_launcher.py\", line 17, in <module>\n\n  File \"/home/j/.local/lib/python3.10/site-packages/traitlets/config/application.py\", line 1053, in launch_instance\n\n  File \"/home/j/.local/lib/python3.10/site-packages/ipykernel/kernelapp.py\", line 736, in start\n\n  File \"/home/j/.local/lib/python3.10/site-packages/tornado/platform/asyncio.py\", line 195, in start\n\n  File \"/usr/lib/python3.10/asyncio/base_events.py\", line 603, in run_forever\n\n  File \"/usr/lib/python3.10/asyncio/base_events.py\", line 1909, in _run_once\n\n  File \"/usr/lib/python3.10/asyncio/events.py\", line 80, in _run\n\n  File \"/home/j/.local/lib/python3.10/site-packages/ipykernel/kernelbase.py\", line 516, in dispatch_queue\n\n  File \"/home/j/.local/lib/python3.10/site-packages/ipykernel/kernelbase.py\", line 505, in process_one\n\n  File \"/home/j/.local/lib/python3.10/site-packages/ipykernel/kernelbase.py\", line 412, in dispatch_shell\n\n  File \"/home/j/.local/lib/python3.10/site-packages/ipykernel/kernelbase.py\", line 740, in execute_request\n\n  File \"/home/j/.local/lib/python3.10/site-packages/ipykernel/ipkernel.py\", line 422, in do_execute\n\n  File \"/home/j/.local/lib/python3.10/site-packages/ipykernel/zmqshell.py\", line 546, in run_cell\n\n  File \"/home/j/.local/lib/python3.10/site-packages/IPython/core/interactiveshell.py\", line 3024, in run_cell\n\n  File \"/home/j/.local/lib/python3.10/site-packages/IPython/core/interactiveshell.py\", line 3079, in _run_cell\n\n  File \"/home/j/.local/lib/python3.10/site-packages/IPython/core/async_helpers.py\", line 129, in _pseudo_sync_runner\n\n  File \"/home/j/.local/lib/python3.10/site-packages/IPython/core/interactiveshell.py\", line 3284, in run_cell_async\n\n  File \"/home/j/.local/lib/python3.10/site-packages/IPython/core/interactiveshell.py\", line 3466, in run_ast_nodes\n\n  File \"/home/j/.local/lib/python3.10/site-packages/IPython/core/interactiveshell.py\", line 3526, in run_code\n\n  File \"/tmp/ipykernel_5079/524337845.py\", line 1, in <module>\n\n  File \"/home/j/.local/lib/python3.10/site-packages/keras/src/utils/traceback_utils.py\", line 65, in error_handler\n\n  File \"/home/j/.local/lib/python3.10/site-packages/keras/src/engine/training.py\", line 1783, in fit\n\n  File \"/home/j/.local/lib/python3.10/site-packages/keras/src/engine/training.py\", line 1377, in train_function\n\n  File \"/home/j/.local/lib/python3.10/site-packages/keras/src/engine/training.py\", line 1360, in step_function\n\n  File \"/home/j/.local/lib/python3.10/site-packages/keras/src/engine/training.py\", line 1349, in run_step\n\n  File \"/home/j/.local/lib/python3.10/site-packages/keras/src/engine/training.py\", line 1126, in train_step\n\n  File \"/home/j/.local/lib/python3.10/site-packages/keras/src/utils/traceback_utils.py\", line 65, in error_handler\n\n  File \"/home/j/.local/lib/python3.10/site-packages/keras/src/engine/training.py\", line 589, in __call__\n\n  File \"/home/j/.local/lib/python3.10/site-packages/keras/src/utils/traceback_utils.py\", line 65, in error_handler\n\n  File \"/home/j/.local/lib/python3.10/site-packages/keras/src/engine/base_layer.py\", line 1149, in __call__\n\n  File \"/home/j/.local/lib/python3.10/site-packages/keras/src/utils/traceback_utils.py\", line 96, in error_handler\n\n  File \"/home/j/.local/lib/python3.10/site-packages/keras/src/engine/functional.py\", line 515, in call\n\n  File \"/home/j/.local/lib/python3.10/site-packages/keras/src/engine/functional.py\", line 672, in _run_internal_graph\n\n  File \"/home/j/.local/lib/python3.10/site-packages/keras/src/utils/traceback_utils.py\", line 65, in error_handler\n\n  File \"/home/j/.local/lib/python3.10/site-packages/keras/src/engine/training.py\", line 589, in __call__\n\n  File \"/home/j/.local/lib/python3.10/site-packages/keras/src/utils/traceback_utils.py\", line 65, in error_handler\n\n  File \"/home/j/.local/lib/python3.10/site-packages/keras/src/engine/base_layer.py\", line 1149, in __call__\n\n  File \"/home/j/.local/lib/python3.10/site-packages/keras/src/utils/traceback_utils.py\", line 96, in error_handler\n\n  File \"/home/j/.local/lib/python3.10/site-packages/keras/src/engine/functional.py\", line 515, in call\n\n  File \"/home/j/.local/lib/python3.10/site-packages/keras/src/engine/functional.py\", line 672, in _run_internal_graph\n\n  File \"/home/j/.local/lib/python3.10/site-packages/keras/src/utils/traceback_utils.py\", line 65, in error_handler\n\n  File \"/home/j/.local/lib/python3.10/site-packages/keras/src/engine/base_layer.py\", line 1149, in __call__\n\n  File \"/home/j/.local/lib/python3.10/site-packages/keras/src/utils/traceback_utils.py\", line 96, in error_handler\n\n  File \"/home/j/.local/lib/python3.10/site-packages/keras/src/layers/core/dense.py\", line 255, in call\n\n  File \"/home/j/.local/lib/python3.10/site-packages/keras/src/activations.py\", line 87, in softmax\n\n  File \"/home/j/.local/lib/python3.10/site-packages/keras/src/backend.py\", line 5450, in softmax\n\n2 root error(s) found.\n  (0) RESOURCE_EXHAUSTED:  OOM when allocating tensor with shape[2048,20,15000] and type float on /job:localhost/replica:0/task:0/device:GPU:0 by allocator GPU_0_bfc\n\t [[{{node tib_eng_translator/model_1/dense/Softmax}}]]\nHint: If you want to see a list of allocated tensors when OOM happens, add report_tensor_allocations_upon_oom to RunOptions for current allocation info. This isn't available when running in Eager mode.\n\n\t [[broadcast_weights_1/assert_broadcastable/AssertGuard/pivot_f/_15/_115]]\nHint: If you want to see a list of allocated tensors when OOM happens, add report_tensor_allocations_upon_oom to RunOptions for current allocation info. This isn't available when running in Eager mode.\n\n  (1) RESOURCE_EXHAUSTED:  OOM when allocating tensor with shape[2048,20,15000] and type float on /job:localhost/replica:0/task:0/device:GPU:0 by allocator GPU_0_bfc\n\t [[{{node tib_eng_translator/model_1/dense/Softmax}}]]\nHint: If you want to see a list of allocated tensors when OOM happens, add report_tensor_allocations_upon_oom to RunOptions for current allocation info. This isn't available when running in Eager mode.\n\n0 successful operations.\n0 derived errors ignored. [Op:__inference_train_function_11735]"
     ]
    }
   ],
   "source": [
    "tib_eng_history = tib_eng_translator.fit(\n",
    "    tib_eng_train_ds, \n",
    "    epochs=EPOCHS, \n",
    "    validation_data=tib_eng_val_ds,\n",
    "    callbacks=[acc_callback]\n",
    "    )"
   ]
  },
  {
   "cell_type": "markdown",
   "metadata": {},
   "source": [
    "To avoid training and retraining the model, I'll now save this model with these results."
   ]
  },
  {
   "cell_type": "code",
   "execution_count": 59,
   "metadata": {},
   "outputs": [],
   "source": [
    "tib_eng_translator.save('/home/j/Documents/Projects/Iron-Bridge/lotsawa/models/tib-eng-translator-0.3.1.keras')"
   ]
  },
  {
   "cell_type": "markdown",
   "metadata": {},
   "source": [
    "### Visualizing the Training Results\n",
    "\n",
    "Below, we can see how the loss and accuracy evolved over the course of training. Here we can really see how difficult it is to make effective generative tools from small datasets. Even as the model's accuracy improves substantially on the training set, the accuracy on the validation data remains unacceptably low.\n",
    "\n",
    "The loss on the validation data also never decreases, instead getting worse as time goes on."
   ]
  },
  {
   "cell_type": "code",
   "execution_count": 60,
   "metadata": {},
   "outputs": [
    {
     "data": {
      "image/png": "[encoded data removed]",
      "text/plain": [
       "<Figure size 800x800 with 2 Axes>"
      ]
     },
     "metadata": {},
     "output_type": "display_data"
    }
   ],
   "source": [
    "acc = tib_eng_history.history['accuracy']\n",
    "val_acc = tib_eng_history.history['val_accuracy']\n",
    "\n",
    "loss = tib_eng_history.history['loss']\n",
    "val_loss = tib_eng_history.history['val_loss']\n",
    "\n",
    "epochs_range = range(len(tib_eng_history.history['loss']))\n",
    "\n",
    "plt.figure(figsize=(8, 8))\n",
    "plt.subplot(1, 2, 1)\n",
    "plt.plot(epochs_range, acc, label='Training Accuracy')\n",
    "plt.plot(epochs_range, val_acc, label='Validation Accuracy')\n",
    "plt.legend(loc='lower right')\n",
    "plt.title('Training and Validation Accuracy')\n",
    "\n",
    "plt.subplot(1, 2, 2)\n",
    "plt.plot(epochs_range, loss, label='Training Loss')\n",
    "plt.plot(epochs_range, val_loss, label='Validation Loss')\n",
    "plt.legend(loc='upper right')\n",
    "plt.title('Training and Validation Loss')\n",
    "plt.show()"
   ]
  }
 ],
 "metadata": {
  "kernelspec": {
   "display_name": "tf",
   "language": "python",
   "name": "python3"
  },
  "language_info": {
   "codemirror_mode": {
    "name": "ipython",
    "version": 3
   },
   "file_extension": ".py",
   "mimetype": "text/x-python",
   "name": "python",
   "nbconvert_exporter": "python",
   "pygments_lexer": "ipython3",
   "version": "3.10.12"
  },
  "orig_nbformat": 4
 },
 "nbformat": 4,
 "nbformat_minor": 2
}
