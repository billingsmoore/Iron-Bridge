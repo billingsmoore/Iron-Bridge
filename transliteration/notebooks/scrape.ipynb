{
 "cells": [
  {
   "cell_type": "code",
   "execution_count": 89,
   "metadata": {},
   "outputs": [],
   "source": [
    "import requests\n",
    "from bs4 import BeautifulSoup\n",
    "\n",
    "URL = \"https://www.lotsawahouse.org/topics/\"\n",
    "\n",
    "page = requests.get(URL)\n",
    "soup = BeautifulSoup(page.content, \"html.parser\")\n",
    "series = soup.findAll('a', {'class':'index-entry'})\n",
    "\n",
    "for serie in series:\n",
    "    URL = 'https://www.lotsawahouse.org/'+serie['href']\n",
    "    page = requests.get(URL)\n",
    "    soup = BeautifulSoup(page.content, \"html.parser\")\n",
    "\n",
    "    # get titles from html\n",
    "    titles = soup.findAll('a', {'class':'title'})\n",
    "\n",
    "    for title in titles:\n",
    "        try:\n",
    "            # get html for title\n",
    "            URL = 'https://www.lotsawahouse.org/' + title['href']\n",
    "            page = requests.get(URL)\n",
    "\n",
    "            soup = BeautifulSoup(page.content, \"html.parser\")\n",
    "\n",
    "            # extract text from html\n",
    "            maintext = soup.find('div', {'id': \"maintext\"})\n",
    "            tib = maintext.findAll('p', {'class': 'TibetanVerse'})\n",
    "            phon = maintext.findAll('p', {'class': 'EnglishPhonetics'})\n",
    "\n",
    "            if len(tib) == len(phon): # if pairs are valid, save them\n",
    "\n",
    "                # prep pairs from text\n",
    "                tib = [elt.contents[0].replace('\\xa0', '') for elt in tib]\n",
    "                phon = [elt.contents[0].replace(',', '') for elt in phon]\n",
    "                pairs = [(tib_elt + ',' + phon_elt + '\\n') for tib_elt, phon_elt in zip(tib, phon)]\n",
    "\n",
    "                # write pairs to csv\n",
    "                with open('pairs.csv', 'a') as f:\n",
    "                    for pair in pairs:\n",
    "                        f.write(pair)\n",
    "        except:\n",
    "            pass"
   ]
  }
 ],
 "metadata": {
  "kernelspec": {
   "display_name": ".venv",
   "language": "python",
   "name": "python3"
  },
  "language_info": {
   "codemirror_mode": {
    "name": "ipython",
    "version": 3
   },
   "file_extension": ".py",
   "mimetype": "text/x-python",
   "name": "python",
   "nbconvert_exporter": "python",
   "pygments_lexer": "ipython3",
   "version": "3.12.3"
  }
 },
 "nbformat": 4,
 "nbformat_minor": 2
}
